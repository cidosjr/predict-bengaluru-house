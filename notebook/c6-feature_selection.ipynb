{
 "cells": [
  {
   "cell_type": "markdown",
   "id": "genuine-groove",
   "metadata": {
    "heading_collapsed": true
   },
   "source": [
    "# <font color='Blue'> Planejamento da Solução </font>"
   ]
  },
  {
   "cell_type": "markdown",
   "id": "rational-fabric",
   "metadata": {
    "heading_collapsed": true,
    "hidden": true
   },
   "source": [
    "## Input - Entrada\n",
    "### Problema de Negócio\n",
    "1. Quais são as coisas que um potencial comprador de imóvel residencial considera antes de comprar uma casa?\n",
    "(A localização, o tamanho da propriedade, a proximidade de escritórios, escolas, parques, restaurantes, hospitais ou preço ) \n",
    "2. Conjunto de dados que descrevem imóveis em Bengaluru.\n",
    "\n",
    "## Output - Saída\n",
    "\n",
    "1. Grafico(s) demostrando as features mais importantes para comprar um imóveis\n",
    "2. Modelo para prever o preço das casas em Bengaluru.\n",
    "\n",
    "## Task - Processos\n",
    "\n",
    "1. Quais são as coisas que um potencial comprador de imóvel residencial considera antes de comprar uma casa?\n",
    "* Limpar os dados\n",
    "* Criar features\n",
    "* Criar hipoteses de negocio em relação as features\n",
    "* Fazer EDA validando / refutando as hipoteses de negocio.\n",
    "\n",
    "\n",
    "\n",
    "\n"
   ]
  },
  {
   "cell_type": "markdown",
   "id": "narrow-frank",
   "metadata": {
    "heading_collapsed": true
   },
   "source": [
    "# 0.0. Imports"
   ]
  },
  {
   "cell_type": "code",
   "execution_count": 1,
   "id": "enormous-failure",
   "metadata": {
    "ExecuteTime": {
     "end_time": "2021-08-05T17:27:06.701008Z",
     "start_time": "2021-08-05T17:27:04.718783Z"
    },
    "hidden": true
   },
   "outputs": [],
   "source": [
    "import re\n",
    "import pandas as pd\n",
    "import numpy as np\n",
    "import xgboost as xgb\n",
    "import seaborn as sns\n",
    "import matplotlib.pyplot as plt\n",
    "\n",
    "from boruta import BorutaPy\n",
    "from geopy.geocoders import Nominatim\n",
    "from pandas_profiling import ProfileReport\n",
    "\n",
    "from sklearn import model_selection as ms\n",
    "from sklearn import preprocessing as pp\n",
    "from sklearn import dummy\n",
    "from sklearn import metrics\n",
    "from sklearn import linear_model as lm\n",
    "from sklearn import ensemble as en\n",
    "from sklearn.model_selection import cross_val_score"
   ]
  },
  {
   "cell_type": "markdown",
   "id": "norman-darkness",
   "metadata": {
    "heading_collapsed": true,
    "hidden": true
   },
   "source": [
    "## 0.1. Helper Function"
   ]
  },
  {
   "cell_type": "code",
   "execution_count": 2,
   "id": "lesser-afghanistan",
   "metadata": {
    "ExecuteTime": {
     "end_time": "2021-08-05T17:27:06.718398Z",
     "start_time": "2021-08-05T17:27:06.703471Z"
    },
    "hidden": true
   },
   "outputs": [],
   "source": [
    "def metrics_cv(model, X, y, model_name='not defined', kfold=5):\n",
    "    mae = -cross_val_score( model, X, y, scoring='neg_mean_absolute_error' , cv=kfold )\n",
    "    mape = -cross_val_score( model, X, y, scoring='neg_mean_absolute_percentage_error' , cv=kfold )\n",
    "    mse = -cross_val_score( model, X, y, scoring='neg_root_mean_squared_error' , cv=kfold )\n",
    "    \n",
    "    dictionary = {\n",
    "        'Model': model_name,\n",
    "        'MAE': f'{round(np.mean(mae), 3)}  +/-  { round(np.std(mae), 3)}',\n",
    "        'MAPE': f'{round(np.mean(mape), 3)} +/- { round(np.std(mape), 3)}',\n",
    "        'MSE': f'{round(np.mean(mse), 3)} +/- { round(np.std(mse), 3)}'\n",
    "    }\n",
    "    \n",
    "    return pd.DataFrame(dictionary, index=[0])\n",
    "\n",
    "\n",
    "def descriptive_statistics(num_attr):\n",
    "    # Central Tendency: mean, median\n",
    "    c1 = pd.DataFrame(num_attr.apply(np.mean))\n",
    "    c2 = pd.DataFrame(num_attr.apply(np.median))\n",
    "\n",
    "    # Dispension: min, max, range, std, skew, kurtosis\n",
    "    d1 = pd.DataFrame(num_attr.apply(min))\n",
    "    d2 = pd.DataFrame(num_attr.apply(max))\n",
    "    d3 = pd.DataFrame(num_attr.apply(lambda x: x.max() - x.min()))\n",
    "    d4 = pd.DataFrame(num_attr.apply(lambda x: x.std()))\n",
    "    \n",
    "    # Measures of Shape\n",
    "    s1 = pd.DataFrame(num_attr.apply(lambda x: x.skew()))\n",
    "    s2 = pd.DataFrame(num_attr.apply(lambda x: x.kurtosis()))\n",
    "\n",
    "    # concat\n",
    "    m = pd.concat([d1,d2,d3,c1,c2,d4,s1,s2], axis=1).reset_index()\n",
    "    m.columns = ['attributes', 'min', 'max', 'range', 'mean', 'median', 'std', 'skew', 'kurtosis']\n",
    "    return m\n"
   ]
  },
  {
   "cell_type": "markdown",
   "id": "accurate-median",
   "metadata": {
    "heading_collapsed": true,
    "hidden": true
   },
   "source": [
    "## 0.2. Load Data"
   ]
  },
  {
   "cell_type": "code",
   "execution_count": 3,
   "id": "focal-independence",
   "metadata": {
    "ExecuteTime": {
     "end_time": "2021-08-05T17:27:06.746979Z",
     "start_time": "2021-08-05T17:27:06.721406Z"
    },
    "hidden": true
   },
   "outputs": [],
   "source": [
    "df_raw = pd.read_csv('../data/Bengaluru_House_Data.csv')"
   ]
  },
  {
   "cell_type": "markdown",
   "id": "together-introduction",
   "metadata": {
    "heading_collapsed": true
   },
   "source": [
    "# 1.0. Data Description"
   ]
  },
  {
   "cell_type": "code",
   "execution_count": 4,
   "id": "breeding-consistency",
   "metadata": {
    "ExecuteTime": {
     "end_time": "2021-08-05T17:27:06.753835Z",
     "start_time": "2021-08-05T17:27:06.749516Z"
    },
    "hidden": true
   },
   "outputs": [],
   "source": [
    "df1 = df_raw.copy()"
   ]
  },
  {
   "cell_type": "markdown",
   "id": "waiting-plastic",
   "metadata": {
    "ExecuteTime": {
     "end_time": "2021-08-05T06:19:15.080301Z",
     "start_time": "2021-08-05T06:19:15.066336Z"
    },
    "hidden": true
   },
   "source": [
    "*  **Area_type** - describes the area \n",
    "*  **Availability** - when it can be possessed or when it is ready(categorical and time-series) \n",
    "*  **Location** - where it is located in Bengaluru \n",
    "*  **Price** - Value of the property in lakhs(INR) M\n",
    "*  **Size** - in BHK or Bedroom (1-10 or more) \n",
    "*  **Society** - to which society it belongs \n",
    "*  **Total_sqft** - size of the property in sq.ft \n",
    "*  **Bath** - No. of bathrooms \n",
    "*  **Balcony** - No. of the balcony "
   ]
  },
  {
   "cell_type": "markdown",
   "id": "standing-comment",
   "metadata": {
    "heading_collapsed": true,
    "hidden": true
   },
   "source": [
    "## 1.1. Data dimensions"
   ]
  },
  {
   "cell_type": "code",
   "execution_count": 5,
   "id": "lovely-generation",
   "metadata": {
    "ExecuteTime": {
     "end_time": "2021-08-05T17:27:06.764408Z",
     "start_time": "2021-08-05T17:27:06.756836Z"
    },
    "hidden": true
   },
   "outputs": [
    {
     "name": "stdout",
     "output_type": "stream",
     "text": [
      "Number of Rows: 13320\n",
      "Number of Columns: 9\n"
     ]
    }
   ],
   "source": [
    "print('Number of Rows: {}'.format(df1.shape[0]))\n",
    "print('Number of Columns: {}'.format(df1.shape[1]))"
   ]
  },
  {
   "cell_type": "markdown",
   "id": "progressive-offense",
   "metadata": {
    "heading_collapsed": true,
    "hidden": true
   },
   "source": [
    "## 1.2. Data Types"
   ]
  },
  {
   "cell_type": "code",
   "execution_count": 6,
   "id": "informative-operation",
   "metadata": {
    "ExecuteTime": {
     "end_time": "2021-08-05T17:27:06.778825Z",
     "start_time": "2021-08-05T17:27:06.767906Z"
    },
    "hidden": true
   },
   "outputs": [
    {
     "data": {
      "text/plain": [
       "area_type        object\n",
       "availability     object\n",
       "location         object\n",
       "size             object\n",
       "society          object\n",
       "total_sqft       object\n",
       "bath            float64\n",
       "balcony         float64\n",
       "price           float64\n",
       "dtype: object"
      ]
     },
     "execution_count": 6,
     "metadata": {},
     "output_type": "execute_result"
    }
   ],
   "source": [
    "df1.dtypes"
   ]
  },
  {
   "cell_type": "markdown",
   "id": "applied-emphasis",
   "metadata": {
    "heading_collapsed": true,
    "hidden": true
   },
   "source": [
    "## 1.3. Check NA"
   ]
  },
  {
   "cell_type": "code",
   "execution_count": 7,
   "id": "british-robertson",
   "metadata": {
    "ExecuteTime": {
     "end_time": "2021-08-05T17:27:06.808167Z",
     "start_time": "2021-08-05T17:27:06.781869Z"
    },
    "hidden": true
   },
   "outputs": [
    {
     "data": {
      "text/plain": [
       "area_type        0.000000\n",
       "availability     0.000000\n",
       "location         0.007508\n",
       "size             0.120120\n",
       "society         41.306306\n",
       "total_sqft       0.000000\n",
       "bath             0.548048\n",
       "balcony          4.572072\n",
       "price            0.000000\n",
       "dtype: float64"
      ]
     },
     "execution_count": 7,
     "metadata": {},
     "output_type": "execute_result"
    }
   ],
   "source": [
    "df1.isna().mean() *100"
   ]
  },
  {
   "cell_type": "markdown",
   "id": "roman-inflation",
   "metadata": {
    "heading_collapsed": true,
    "hidden": true
   },
   "source": [
    "## 1.4. Replace NA"
   ]
  },
  {
   "cell_type": "code",
   "execution_count": 8,
   "id": "nervous-newsletter",
   "metadata": {
    "ExecuteTime": {
     "end_time": "2021-08-05T17:27:06.829142Z",
     "start_time": "2021-08-05T17:27:06.813747Z"
    },
    "hidden": true
   },
   "outputs": [],
   "source": [
    "# drop features\n",
    "# remove: balcony, 4% ?\n",
    "df1 = df1.dropna(subset=['size', 'location', 'bath', 'balcony'])"
   ]
  },
  {
   "cell_type": "markdown",
   "id": "informal-recognition",
   "metadata": {
    "heading_collapsed": true,
    "hidden": true
   },
   "source": [
    "## 1.5. Change Dtypes"
   ]
  },
  {
   "cell_type": "code",
   "execution_count": 9,
   "id": "explicit-wellington",
   "metadata": {
    "ExecuteTime": {
     "end_time": "2021-08-05T17:27:06.839831Z",
     "start_time": "2021-08-05T17:27:06.832177Z"
    },
    "hidden": true
   },
   "outputs": [
    {
     "data": {
      "text/plain": [
       "area_type        object\n",
       "availability     object\n",
       "location         object\n",
       "size             object\n",
       "society          object\n",
       "total_sqft       object\n",
       "bath            float64\n",
       "balcony         float64\n",
       "price           float64\n",
       "dtype: object"
      ]
     },
     "execution_count": 9,
     "metadata": {},
     "output_type": "execute_result"
    }
   ],
   "source": [
    "df1.dtypes"
   ]
  },
  {
   "cell_type": "markdown",
   "id": "mighty-princeton",
   "metadata": {
    "heading_collapsed": true,
    "hidden": true
   },
   "source": [
    "## 1.6. Descriptive Statistics"
   ]
  },
  {
   "cell_type": "code",
   "execution_count": 10,
   "id": "stainless-yacht",
   "metadata": {
    "ExecuteTime": {
     "end_time": "2021-08-05T17:27:06.855873Z",
     "start_time": "2021-08-05T17:27:06.844058Z"
    },
    "hidden": true
   },
   "outputs": [],
   "source": [
    "num_att = df1.select_dtypes(include=['int64', 'float64'])\n",
    "cat_att = df1.select_dtypes(exclude=['int64', 'float64'])"
   ]
  },
  {
   "cell_type": "markdown",
   "id": "homeless-chest",
   "metadata": {
    "heading_collapsed": true,
    "hidden": true
   },
   "source": [
    "### 1.6.1. Numerical Attributes"
   ]
  },
  {
   "cell_type": "code",
   "execution_count": 11,
   "id": "junior-arbor",
   "metadata": {
    "ExecuteTime": {
     "end_time": "2021-08-05T17:27:06.912125Z",
     "start_time": "2021-08-05T17:27:06.859429Z"
    },
    "hidden": true
   },
   "outputs": [
    {
     "data": {
      "text/html": [
       "<div>\n",
       "<style scoped>\n",
       "    .dataframe tbody tr th:only-of-type {\n",
       "        vertical-align: middle;\n",
       "    }\n",
       "\n",
       "    .dataframe tbody tr th {\n",
       "        vertical-align: top;\n",
       "    }\n",
       "\n",
       "    .dataframe thead th {\n",
       "        text-align: right;\n",
       "    }\n",
       "</style>\n",
       "<table border=\"1\" class=\"dataframe\">\n",
       "  <thead>\n",
       "    <tr style=\"text-align: right;\">\n",
       "      <th></th>\n",
       "      <th>attributes</th>\n",
       "      <th>min</th>\n",
       "      <th>max</th>\n",
       "      <th>range</th>\n",
       "      <th>mean</th>\n",
       "      <th>median</th>\n",
       "      <th>std</th>\n",
       "      <th>skew</th>\n",
       "      <th>kurtosis</th>\n",
       "    </tr>\n",
       "  </thead>\n",
       "  <tbody>\n",
       "    <tr>\n",
       "      <th>0</th>\n",
       "      <td>bath</td>\n",
       "      <td>1.0</td>\n",
       "      <td>40.0</td>\n",
       "      <td>39.0</td>\n",
       "      <td>2.617309</td>\n",
       "      <td>2.0</td>\n",
       "      <td>1.226000</td>\n",
       "      <td>4.590497</td>\n",
       "      <td>85.455663</td>\n",
       "    </tr>\n",
       "    <tr>\n",
       "      <th>1</th>\n",
       "      <td>balcony</td>\n",
       "      <td>0.0</td>\n",
       "      <td>3.0</td>\n",
       "      <td>3.0</td>\n",
       "      <td>1.584343</td>\n",
       "      <td>2.0</td>\n",
       "      <td>0.817287</td>\n",
       "      <td>0.005966</td>\n",
       "      <td>-0.544247</td>\n",
       "    </tr>\n",
       "    <tr>\n",
       "      <th>2</th>\n",
       "      <td>price</td>\n",
       "      <td>8.0</td>\n",
       "      <td>2912.0</td>\n",
       "      <td>2904.0</td>\n",
       "      <td>106.060778</td>\n",
       "      <td>70.0</td>\n",
       "      <td>131.766089</td>\n",
       "      <td>7.875011</td>\n",
       "      <td>107.376164</td>\n",
       "    </tr>\n",
       "  </tbody>\n",
       "</table>\n",
       "</div>"
      ],
      "text/plain": [
       "  attributes  min     max   range        mean  median         std      skew  \\\n",
       "0       bath  1.0    40.0    39.0    2.617309     2.0    1.226000  4.590497   \n",
       "1    balcony  0.0     3.0     3.0    1.584343     2.0    0.817287  0.005966   \n",
       "2      price  8.0  2912.0  2904.0  106.060778    70.0  131.766089  7.875011   \n",
       "\n",
       "     kurtosis  \n",
       "0   85.455663  \n",
       "1   -0.544247  \n",
       "2  107.376164  "
      ]
     },
     "execution_count": 11,
     "metadata": {},
     "output_type": "execute_result"
    }
   ],
   "source": [
    "descriptive_statistics(num_att)"
   ]
  },
  {
   "cell_type": "markdown",
   "id": "technical-enterprise",
   "metadata": {
    "hidden": true
   },
   "source": [
    "**Note:**\n",
    "1. bath: 40 banheiros? "
   ]
  },
  {
   "cell_type": "markdown",
   "id": "binding-pipeline",
   "metadata": {
    "heading_collapsed": true,
    "hidden": true
   },
   "source": [
    "### 1.6.2. Categorical Attributes"
   ]
  },
  {
   "cell_type": "code",
   "execution_count": 12,
   "id": "light-butter",
   "metadata": {
    "ExecuteTime": {
     "end_time": "2021-08-05T17:27:06.978288Z",
     "start_time": "2021-08-05T17:27:06.914911Z"
    },
    "hidden": true
   },
   "outputs": [
    {
     "data": {
      "text/html": [
       "<div>\n",
       "<style scoped>\n",
       "    .dataframe tbody tr th:only-of-type {\n",
       "        vertical-align: middle;\n",
       "    }\n",
       "\n",
       "    .dataframe tbody tr th {\n",
       "        vertical-align: top;\n",
       "    }\n",
       "\n",
       "    .dataframe thead th {\n",
       "        text-align: right;\n",
       "    }\n",
       "</style>\n",
       "<table border=\"1\" class=\"dataframe\">\n",
       "  <thead>\n",
       "    <tr style=\"text-align: right;\">\n",
       "      <th></th>\n",
       "      <th>area_type</th>\n",
       "      <th>availability</th>\n",
       "      <th>location</th>\n",
       "      <th>size</th>\n",
       "      <th>society</th>\n",
       "      <th>total_sqft</th>\n",
       "    </tr>\n",
       "  </thead>\n",
       "  <tbody>\n",
       "    <tr>\n",
       "      <th>count</th>\n",
       "      <td>12710</td>\n",
       "      <td>12710</td>\n",
       "      <td>12710</td>\n",
       "      <td>12710</td>\n",
       "      <td>7496</td>\n",
       "      <td>12710</td>\n",
       "    </tr>\n",
       "    <tr>\n",
       "      <th>unique</th>\n",
       "      <td>4</td>\n",
       "      <td>78</td>\n",
       "      <td>1265</td>\n",
       "      <td>27</td>\n",
       "      <td>2592</td>\n",
       "      <td>1976</td>\n",
       "    </tr>\n",
       "    <tr>\n",
       "      <th>top</th>\n",
       "      <td>Super built-up  Area</td>\n",
       "      <td>Ready To Move</td>\n",
       "      <td>Whitefield</td>\n",
       "      <td>2 BHK</td>\n",
       "      <td>GrrvaGr</td>\n",
       "      <td>1200</td>\n",
       "    </tr>\n",
       "    <tr>\n",
       "      <th>freq</th>\n",
       "      <td>8481</td>\n",
       "      <td>10077</td>\n",
       "      <td>514</td>\n",
       "      <td>5152</td>\n",
       "      <td>80</td>\n",
       "      <td>788</td>\n",
       "    </tr>\n",
       "  </tbody>\n",
       "</table>\n",
       "</div>"
      ],
      "text/plain": [
       "                   area_type   availability    location   size  society  \\\n",
       "count                  12710          12710       12710  12710     7496   \n",
       "unique                     4             78        1265     27     2592   \n",
       "top     Super built-up  Area  Ready To Move  Whitefield  2 BHK  GrrvaGr   \n",
       "freq                    8481          10077         514   5152       80   \n",
       "\n",
       "       total_sqft  \n",
       "count       12710  \n",
       "unique       1976  \n",
       "top          1200  \n",
       "freq          788  "
      ]
     },
     "execution_count": 12,
     "metadata": {},
     "output_type": "execute_result"
    }
   ],
   "source": [
    "cat_att.describe(include=['object'])"
   ]
  },
  {
   "cell_type": "code",
   "execution_count": 13,
   "id": "weekly-seating",
   "metadata": {
    "ExecuteTime": {
     "end_time": "2021-08-05T17:27:06.990494Z",
     "start_time": "2021-08-05T17:27:06.980184Z"
    },
    "hidden": true
   },
   "outputs": [
    {
     "data": {
      "text/plain": [
       "Super built-up  Area    0.667270\n",
       "Built-up  Area          0.181747\n",
       "Plot  Area              0.144532\n",
       "Carpet  Area            0.006452\n",
       "Name: area_type, dtype: float64"
      ]
     },
     "execution_count": 13,
     "metadata": {},
     "output_type": "execute_result"
    }
   ],
   "source": [
    "cat_att['area_type'].value_counts(normalize=True)"
   ]
  },
  {
   "cell_type": "code",
   "execution_count": 14,
   "id": "announced-howard",
   "metadata": {
    "ExecuteTime": {
     "end_time": "2021-08-05T17:27:07.006033Z",
     "start_time": "2021-08-05T17:27:06.993153Z"
    },
    "hidden": true
   },
   "outputs": [
    {
     "data": {
      "text/plain": [
       "Ready To Move    0.792840\n",
       "18-Dec           0.022895\n",
       "18-May           0.022187\n",
       "18-Apr           0.020535\n",
       "18-Aug           0.015736\n",
       "19-Dec           0.014319\n",
       "18-Jul           0.011015\n",
       "18-Mar           0.009284\n",
       "20-Dec           0.007710\n",
       "18-Jun           0.007553\n",
       "Name: availability, dtype: float64"
      ]
     },
     "execution_count": 14,
     "metadata": {},
     "output_type": "execute_result"
    }
   ],
   "source": [
    "cat_att['availability'].value_counts(normalize=True).head(10)"
   ]
  },
  {
   "cell_type": "code",
   "execution_count": 15,
   "id": "differential-element",
   "metadata": {
    "ExecuteTime": {
     "end_time": "2021-08-05T17:27:07.032943Z",
     "start_time": "2021-08-05T17:27:07.017446Z"
    },
    "hidden": true
   },
   "outputs": [
    {
     "data": {
      "text/plain": [
       "Whitefield               0.040441\n",
       "Sarjapur  Road           0.029268\n",
       "Electronic City          0.023603\n",
       "Kanakpura Road           0.020535\n",
       "Thanisandra              0.018175\n",
       "Yelahanka                0.016208\n",
       "Uttarahalli              0.014634\n",
       "Hebbal                   0.013611\n",
       "Raja Rajeshwari Nagar    0.013218\n",
       "Marathahalli             0.012903\n",
       "Name: location, dtype: float64"
      ]
     },
     "execution_count": 15,
     "metadata": {},
     "output_type": "execute_result"
    }
   ],
   "source": [
    "cat_att['location'].value_counts(normalize=True).head(10)"
   ]
  },
  {
   "cell_type": "code",
   "execution_count": 16,
   "id": "distinguished-planet",
   "metadata": {
    "ExecuteTime": {
     "end_time": "2021-08-05T17:27:07.046212Z",
     "start_time": "2021-08-05T17:27:07.035164Z"
    },
    "hidden": true
   },
   "outputs": [
    {
     "data": {
      "text/plain": [
       "2 BHK        0.405350\n",
       "3 BHK        0.324784\n",
       "4 Bedroom    0.058930\n",
       "1 BHK        0.041699\n",
       "3 Bedroom    0.041463\n",
       "4 BHK        0.038474\n",
       "2 Bedroom    0.025806\n",
       "5 Bedroom    0.020692\n",
       "6 Bedroom    0.013297\n",
       "1 Bedroom    0.008261\n",
       "Name: size, dtype: float64"
      ]
     },
     "execution_count": 16,
     "metadata": {},
     "output_type": "execute_result"
    }
   ],
   "source": [
    "cat_att['size'].value_counts(normalize=True).head(10)"
   ]
  },
  {
   "cell_type": "code",
   "execution_count": 17,
   "id": "active-basic",
   "metadata": {
    "ExecuteTime": {
     "end_time": "2021-08-05T17:27:07.085554Z",
     "start_time": "2021-08-05T17:27:07.048323Z"
    },
    "hidden": true
   },
   "outputs": [
    {
     "data": {
      "text/plain": [
       "272"
      ]
     },
     "execution_count": 17,
     "metadata": {},
     "output_type": "execute_result"
    }
   ],
   "source": [
    "dirt = df1.loc[~df1['total_sqft'].apply(lambda x: bool(re.search(   '^([0-9]+)$', x    ))), 'total_sqft']\n",
    "\n",
    "len(dirt)"
   ]
  },
  {
   "cell_type": "code",
   "execution_count": 18,
   "id": "fossil-novelty",
   "metadata": {
    "ExecuteTime": {
     "end_time": "2021-08-05T17:27:07.102653Z",
     "start_time": "2021-08-05T17:27:07.088016Z"
    },
    "hidden": true
   },
   "outputs": [
    {
     "data": {
      "text/plain": [
       "['2100 - 2850',\n",
       " '1330.74',\n",
       " '3067 - 8156',\n",
       " '1042 - 1105',\n",
       " '1563.05',\n",
       " '1145 - 1340',\n",
       " '1015 - 1540',\n",
       " '2023.71',\n",
       " '1113.27',\n",
       " '34.46Sq. Meter']"
      ]
     },
     "execution_count": 18,
     "metadata": {},
     "output_type": "execute_result"
    }
   ],
   "source": [
    "dirt.tolist()[:10]"
   ]
  },
  {
   "cell_type": "markdown",
   "id": "buried-landscape",
   "metadata": {
    "hidden": true
   },
   "source": [
    "**Note**:\n",
    "\n",
    "1. availability: coluna categoricas 78 variavéis categoricas (Ready To Move 79 %)\n",
    "2. location - capturar lat e long e deletar variavel.\n",
    "3. size: Limpar variavel e transformar em inteira.\n",
    "4. society: remover, pouca informação.\n",
    "5. total_sqft: 272 itens que não são somente números."
   ]
  },
  {
   "cell_type": "markdown",
   "id": "logical-retention",
   "metadata": {
    "heading_collapsed": true
   },
   "source": [
    "# 2.0. Feature Engineering"
   ]
  },
  {
   "cell_type": "code",
   "execution_count": 19,
   "id": "together-bermuda",
   "metadata": {
    "ExecuteTime": {
     "end_time": "2021-08-05T17:27:07.111048Z",
     "start_time": "2021-08-05T17:27:07.105171Z"
    },
    "hidden": true
   },
   "outputs": [],
   "source": [
    "# df2 = df1.copy()"
   ]
  },
  {
   "cell_type": "markdown",
   "id": "excited-helping",
   "metadata": {
    "heading_collapsed": true,
    "hidden": true
   },
   "source": [
    "## 2.1. Feature Creation"
   ]
  },
  {
   "cell_type": "code",
   "execution_count": 20,
   "id": "impressive-sculpture",
   "metadata": {
    "ExecuteTime": {
     "end_time": "2021-08-05T17:27:07.157131Z",
     "start_time": "2021-08-05T17:27:07.114569Z"
    },
    "hidden": true
   },
   "outputs": [],
   "source": [
    "# %%time \n",
    "\n",
    "# location -> lat and lon\n",
    "\n",
    "# geolocator = Nominatim(user_agent=\"geoapiExercises\")\n",
    "\n",
    "# def location_lat(x):\n",
    "#     if geolocator.geocode(x, timeout=None):\n",
    "#         return geolocator.geocode(x, timeout=None).raw['lat']\n",
    "#     else: \n",
    "#         return x\n",
    "\n",
    "# df2['lat'] = df2['location'].apply(location_lat)\n",
    "\n",
    "# def location_lon(x):\n",
    "#     if geolocator.geocode(x, timeout=None):\n",
    "#         return geolocator.geocode(x, timeout=None).raw['lon']\n",
    "#     else: \n",
    "#         return x\n",
    "\n",
    "# df2['lon'] = df2['location'].apply(location_lon)\n",
    "\n",
    "# df2.to_csv('bengaluru_house_data_lat_lon.csv', index=False)\n",
    "\n",
    "df2 = pd.read_csv('../data/bengaluru_house_data_lat_lon.csv')"
   ]
  },
  {
   "cell_type": "code",
   "execution_count": 21,
   "id": "related-kruger",
   "metadata": {
    "ExecuteTime": {
     "end_time": "2021-08-05T17:27:07.183530Z",
     "start_time": "2021-08-05T17:27:07.160297Z"
    },
    "hidden": true
   },
   "outputs": [],
   "source": [
    "# size -> qt_bedroom\n",
    "\n",
    "df2['qt_bedroom'] = df2['size'].apply(lambda x: str(x).split()[0]).astype(int)"
   ]
  },
  {
   "cell_type": "markdown",
   "id": "excess-council",
   "metadata": {
    "heading_collapsed": true
   },
   "source": [
    "# 3.0. Data Filtering"
   ]
  },
  {
   "cell_type": "code",
   "execution_count": 22,
   "id": "bored-reason",
   "metadata": {
    "ExecuteTime": {
     "end_time": "2021-08-05T17:27:07.192863Z",
     "start_time": "2021-08-05T17:27:07.186210Z"
    },
    "hidden": true
   },
   "outputs": [],
   "source": [
    "df3 = df2.copy()"
   ]
  },
  {
   "cell_type": "markdown",
   "id": "becoming-trade",
   "metadata": {
    "heading_collapsed": true,
    "hidden": true
   },
   "source": [
    "## 3.1. Filter Rows"
   ]
  },
  {
   "cell_type": "code",
   "execution_count": 23,
   "id": "spanish-conference",
   "metadata": {
    "ExecuteTime": {
     "end_time": "2021-08-05T17:27:07.345920Z",
     "start_time": "2021-08-05T17:27:07.203964Z"
    },
    "hidden": true
   },
   "outputs": [],
   "source": [
    "# lat and lon\n",
    "df3_lat_dirt = df3.loc[~df3['lat'].apply(lambda x: bool(re.search('^[0-9-][0-9][\\.]+', x))), :]\n",
    "df3_lon_dirt = df3.loc[~df3['lon'].apply(lambda x: bool(re.search('^[0-9-][0-9][\\.]+', x))), :]\n",
    "\n",
    "df3['lat'] = df3.loc[df3['lat'].apply(lambda x: bool(re.search('^[0-9-][0-9][\\.]+', x))), 'lat'].astype(float)\n",
    "df3['lon'] = df3.loc[df3['lon'].apply(lambda x: bool(re.search('^[0-9-][0-9][\\.]+', x))), 'lon'].astype(float)"
   ]
  },
  {
   "cell_type": "code",
   "execution_count": 24,
   "id": "advance-madagascar",
   "metadata": {
    "ExecuteTime": {
     "end_time": "2021-08-05T17:27:07.381007Z",
     "start_time": "2021-08-05T17:27:07.348883Z"
    },
    "hidden": true
   },
   "outputs": [],
   "source": [
    "# total_sqft_dirt = \n",
    "df3_total_sqft_dirt = df3.loc[~df3['total_sqft'].apply(lambda x: bool(re.search(r'^([\\s\\d]+)$', x))), :]"
   ]
  },
  {
   "cell_type": "code",
   "execution_count": 25,
   "id": "cardiac-victory",
   "metadata": {
    "ExecuteTime": {
     "end_time": "2021-08-05T17:27:07.460218Z",
     "start_time": "2021-08-05T17:27:07.382923Z"
    },
    "hidden": true
   },
   "outputs": [],
   "source": [
    "# total_sqft\n",
    "df3_total_sqft_dirt = df3.loc[~df3['total_sqft'].apply(lambda x: bool(re.search(r'^([\\s\\d]+)$', x)) ), :]\n",
    "\n",
    "df3['total_sqft'] = df3.loc[df3['total_sqft'].apply(lambda x: bool(re.search(r'^([\\s\\d]+)$', x))), 'total_sqft'].astype(int)"
   ]
  },
  {
   "cell_type": "markdown",
   "id": "automotive-facial",
   "metadata": {
    "heading_collapsed": true,
    "hidden": true
   },
   "source": [
    "## 3.2. Filter Columns"
   ]
  },
  {
   "cell_type": "code",
   "execution_count": 26,
   "id": "visible-freight",
   "metadata": {
    "ExecuteTime": {
     "end_time": "2021-08-05T17:27:07.491363Z",
     "start_time": "2021-08-05T17:27:07.463008Z"
    },
    "hidden": true
   },
   "outputs": [
    {
     "data": {
      "text/html": [
       "<div>\n",
       "<style scoped>\n",
       "    .dataframe tbody tr th:only-of-type {\n",
       "        vertical-align: middle;\n",
       "    }\n",
       "\n",
       "    .dataframe tbody tr th {\n",
       "        vertical-align: top;\n",
       "    }\n",
       "\n",
       "    .dataframe thead th {\n",
       "        text-align: right;\n",
       "    }\n",
       "</style>\n",
       "<table border=\"1\" class=\"dataframe\">\n",
       "  <thead>\n",
       "    <tr style=\"text-align: right;\">\n",
       "      <th></th>\n",
       "      <th>area_type</th>\n",
       "      <th>availability</th>\n",
       "      <th>location</th>\n",
       "      <th>size</th>\n",
       "      <th>society</th>\n",
       "      <th>total_sqft</th>\n",
       "      <th>bath</th>\n",
       "      <th>balcony</th>\n",
       "      <th>price</th>\n",
       "      <th>lat</th>\n",
       "      <th>lon</th>\n",
       "      <th>qt_bedroom</th>\n",
       "    </tr>\n",
       "  </thead>\n",
       "  <tbody>\n",
       "    <tr>\n",
       "      <th>0</th>\n",
       "      <td>Super built-up  Area</td>\n",
       "      <td>19-Dec</td>\n",
       "      <td>Electronic City Phase II</td>\n",
       "      <td>2 BHK</td>\n",
       "      <td>Coomee</td>\n",
       "      <td>1056.0</td>\n",
       "      <td>2.0</td>\n",
       "      <td>1.0</td>\n",
       "      <td>39.07</td>\n",
       "      <td>12.846854</td>\n",
       "      <td>77.676927</td>\n",
       "      <td>2</td>\n",
       "    </tr>\n",
       "    <tr>\n",
       "      <th>1</th>\n",
       "      <td>Plot  Area</td>\n",
       "      <td>Ready To Move</td>\n",
       "      <td>Chikka Tirupathi</td>\n",
       "      <td>4 Bedroom</td>\n",
       "      <td>Theanmp</td>\n",
       "      <td>2600.0</td>\n",
       "      <td>5.0</td>\n",
       "      <td>3.0</td>\n",
       "      <td>120.00</td>\n",
       "      <td>12.895768</td>\n",
       "      <td>77.867101</td>\n",
       "      <td>4</td>\n",
       "    </tr>\n",
       "    <tr>\n",
       "      <th>2</th>\n",
       "      <td>Built-up  Area</td>\n",
       "      <td>Ready To Move</td>\n",
       "      <td>Uttarahalli</td>\n",
       "      <td>3 BHK</td>\n",
       "      <td>NaN</td>\n",
       "      <td>1440.0</td>\n",
       "      <td>2.0</td>\n",
       "      <td>3.0</td>\n",
       "      <td>62.00</td>\n",
       "      <td>12.905568</td>\n",
       "      <td>77.545544</td>\n",
       "      <td>3</td>\n",
       "    </tr>\n",
       "    <tr>\n",
       "      <th>3</th>\n",
       "      <td>Super built-up  Area</td>\n",
       "      <td>Ready To Move</td>\n",
       "      <td>Lingadheeranahalli</td>\n",
       "      <td>3 BHK</td>\n",
       "      <td>Soiewre</td>\n",
       "      <td>1521.0</td>\n",
       "      <td>3.0</td>\n",
       "      <td>1.0</td>\n",
       "      <td>95.00</td>\n",
       "      <td>NaN</td>\n",
       "      <td>NaN</td>\n",
       "      <td>3</td>\n",
       "    </tr>\n",
       "    <tr>\n",
       "      <th>4</th>\n",
       "      <td>Super built-up  Area</td>\n",
       "      <td>Ready To Move</td>\n",
       "      <td>Kothanur</td>\n",
       "      <td>2 BHK</td>\n",
       "      <td>NaN</td>\n",
       "      <td>1200.0</td>\n",
       "      <td>2.0</td>\n",
       "      <td>1.0</td>\n",
       "      <td>51.00</td>\n",
       "      <td>12.580537</td>\n",
       "      <td>77.333067</td>\n",
       "      <td>2</td>\n",
       "    </tr>\n",
       "  </tbody>\n",
       "</table>\n",
       "</div>"
      ],
      "text/plain": [
       "              area_type   availability                  location       size  \\\n",
       "0  Super built-up  Area         19-Dec  Electronic City Phase II      2 BHK   \n",
       "1            Plot  Area  Ready To Move          Chikka Tirupathi  4 Bedroom   \n",
       "2        Built-up  Area  Ready To Move               Uttarahalli      3 BHK   \n",
       "3  Super built-up  Area  Ready To Move        Lingadheeranahalli      3 BHK   \n",
       "4  Super built-up  Area  Ready To Move                  Kothanur      2 BHK   \n",
       "\n",
       "   society  total_sqft  bath  balcony   price        lat        lon  \\\n",
       "0  Coomee       1056.0   2.0      1.0   39.07  12.846854  77.676927   \n",
       "1  Theanmp      2600.0   5.0      3.0  120.00  12.895768  77.867101   \n",
       "2      NaN      1440.0   2.0      3.0   62.00  12.905568  77.545544   \n",
       "3  Soiewre      1521.0   3.0      1.0   95.00        NaN        NaN   \n",
       "4      NaN      1200.0   2.0      1.0   51.00  12.580537  77.333067   \n",
       "\n",
       "   qt_bedroom  \n",
       "0           2  \n",
       "1           4  \n",
       "2           3  \n",
       "3           3  \n",
       "4           2  "
      ]
     },
     "execution_count": 26,
     "metadata": {},
     "output_type": "execute_result"
    }
   ],
   "source": [
    "df3.head()"
   ]
  },
  {
   "cell_type": "code",
   "execution_count": 27,
   "id": "higher-lewis",
   "metadata": {
    "ExecuteTime": {
     "end_time": "2021-08-05T17:27:07.509798Z",
     "start_time": "2021-08-05T17:27:07.494197Z"
    },
    "hidden": true
   },
   "outputs": [
    {
     "data": {
      "text/plain": [
       "area_type       0.000000\n",
       "availability    0.000000\n",
       "total_sqft      0.021400\n",
       "bath            0.000000\n",
       "balcony         0.000000\n",
       "price           0.000000\n",
       "lat             0.112274\n",
       "lon             0.189142\n",
       "qt_bedroom      0.000000\n",
       "dtype: float64"
      ]
     },
     "execution_count": 27,
     "metadata": {},
     "output_type": "execute_result"
    }
   ],
   "source": [
    "drop_cols = ['location', 'society', 'size']\n",
    "df3 = df3.drop(drop_cols, axis=1)\n",
    "df3.isna().mean()"
   ]
  },
  {
   "cell_type": "code",
   "execution_count": 28,
   "id": "tamil-escape",
   "metadata": {
    "ExecuteTime": {
     "end_time": "2021-08-05T17:27:07.523748Z",
     "start_time": "2021-08-05T17:27:07.512669Z"
    },
    "hidden": true
   },
   "outputs": [
    {
     "data": {
      "text/plain": [
       "area_type       0.000000\n",
       "availability    0.000000\n",
       "total_sqft      0.021400\n",
       "bath            0.000000\n",
       "balcony         0.000000\n",
       "price           0.000000\n",
       "lat             0.112274\n",
       "lon             0.189142\n",
       "qt_bedroom      0.000000\n",
       "dtype: float64"
      ]
     },
     "execution_count": 28,
     "metadata": {},
     "output_type": "execute_result"
    }
   ],
   "source": [
    "df3.isna().mean()"
   ]
  },
  {
   "cell_type": "code",
   "execution_count": 29,
   "id": "copyrighted-southwest",
   "metadata": {
    "ExecuteTime": {
     "end_time": "2021-08-05T17:27:07.553418Z",
     "start_time": "2021-08-05T17:27:07.526096Z"
    },
    "hidden": true
   },
   "outputs": [
    {
     "data": {
      "text/plain": [
       "area_type       0.0\n",
       "availability    0.0\n",
       "total_sqft      0.0\n",
       "bath            0.0\n",
       "balcony         0.0\n",
       "price           0.0\n",
       "lat             0.0\n",
       "lon             0.0\n",
       "qt_bedroom      0.0\n",
       "dtype: float64"
      ]
     },
     "execution_count": 29,
     "metadata": {},
     "output_type": "execute_result"
    }
   ],
   "source": [
    "df3 = df3.dropna()\n",
    "df3.isna().mean()"
   ]
  },
  {
   "cell_type": "code",
   "execution_count": 30,
   "id": "elegant-granny",
   "metadata": {
    "ExecuteTime": {
     "end_time": "2021-08-05T17:27:07.563505Z",
     "start_time": "2021-08-05T17:27:07.556727Z"
    },
    "hidden": true
   },
   "outputs": [
    {
     "data": {
      "text/plain": [
       "24.53"
      ]
     },
     "execution_count": 30,
     "metadata": {},
     "output_type": "execute_result"
    }
   ],
   "source": [
    "round((1 - (df3.shape[0] / df_raw.shape[0])) * 100, 2)"
   ]
  },
  {
   "cell_type": "markdown",
   "id": "atlantic-encyclopedia",
   "metadata": {
    "heading_collapsed": true
   },
   "source": [
    "# 4.0. EDA"
   ]
  },
  {
   "cell_type": "code",
   "execution_count": 31,
   "id": "respiratory-madagascar",
   "metadata": {
    "ExecuteTime": {
     "end_time": "2021-08-05T17:27:07.570374Z",
     "start_time": "2021-08-05T17:27:07.565423Z"
    },
    "hidden": true
   },
   "outputs": [],
   "source": [
    "df4 = df3.copy()"
   ]
  },
  {
   "cell_type": "markdown",
   "id": "precious-calibration",
   "metadata": {
    "heading_collapsed": true,
    "hidden": true
   },
   "source": [
    "## 4.1. Univariate Analysis"
   ]
  },
  {
   "cell_type": "code",
   "execution_count": 32,
   "id": "handmade-likelihood",
   "metadata": {
    "ExecuteTime": {
     "end_time": "2021-08-05T17:27:07.577588Z",
     "start_time": "2021-08-05T17:27:07.574329Z"
    },
    "hidden": true
   },
   "outputs": [],
   "source": [
    "# profile = ProfileReport(df4, title='Analysis - Bengaluru House')\n",
    "# profile.to_file('../reports/figures/output_v1.html')"
   ]
  },
  {
   "cell_type": "markdown",
   "id": "concerned-recipe",
   "metadata": {
    "heading_collapsed": true,
    "hidden": true
   },
   "source": [
    "### total_sqft"
   ]
  },
  {
   "cell_type": "code",
   "execution_count": 33,
   "id": "bronze-fifth",
   "metadata": {
    "ExecuteTime": {
     "end_time": "2021-08-05T17:27:07.611201Z",
     "start_time": "2021-08-05T17:27:07.579817Z"
    },
    "hidden": true
   },
   "outputs": [
    {
     "data": {
      "text/html": [
       "<div>\n",
       "<style scoped>\n",
       "    .dataframe tbody tr th:only-of-type {\n",
       "        vertical-align: middle;\n",
       "    }\n",
       "\n",
       "    .dataframe tbody tr th {\n",
       "        vertical-align: top;\n",
       "    }\n",
       "\n",
       "    .dataframe thead th {\n",
       "        text-align: right;\n",
       "    }\n",
       "</style>\n",
       "<table border=\"1\" class=\"dataframe\">\n",
       "  <thead>\n",
       "    <tr style=\"text-align: right;\">\n",
       "      <th></th>\n",
       "      <th>area_type</th>\n",
       "      <th>availability</th>\n",
       "      <th>total_sqft</th>\n",
       "      <th>bath</th>\n",
       "      <th>balcony</th>\n",
       "      <th>price</th>\n",
       "      <th>lat</th>\n",
       "      <th>lon</th>\n",
       "      <th>qt_bedroom</th>\n",
       "    </tr>\n",
       "  </thead>\n",
       "  <tbody>\n",
       "    <tr>\n",
       "      <th>4723</th>\n",
       "      <td>Built-up  Area</td>\n",
       "      <td>Ready To Move</td>\n",
       "      <td>5.0</td>\n",
       "      <td>7.0</td>\n",
       "      <td>3.0</td>\n",
       "      <td>115.0</td>\n",
       "      <td>17.434580</td>\n",
       "      <td>82.715203</td>\n",
       "      <td>7</td>\n",
       "    </tr>\n",
       "    <tr>\n",
       "      <th>333</th>\n",
       "      <td>Plot  Area</td>\n",
       "      <td>18-Dec</td>\n",
       "      <td>11.0</td>\n",
       "      <td>3.0</td>\n",
       "      <td>2.0</td>\n",
       "      <td>74.0</td>\n",
       "      <td>12.739777</td>\n",
       "      <td>77.668954</td>\n",
       "      <td>3</td>\n",
       "    </tr>\n",
       "    <tr>\n",
       "      <th>968</th>\n",
       "      <td>Carpet  Area</td>\n",
       "      <td>Ready To Move</td>\n",
       "      <td>15.0</td>\n",
       "      <td>1.0</td>\n",
       "      <td>0.0</td>\n",
       "      <td>30.0</td>\n",
       "      <td>12.845495</td>\n",
       "      <td>77.583129</td>\n",
       "      <td>1</td>\n",
       "    </tr>\n",
       "    <tr>\n",
       "      <th>5671</th>\n",
       "      <td>Plot  Area</td>\n",
       "      <td>Ready To Move</td>\n",
       "      <td>45.0</td>\n",
       "      <td>1.0</td>\n",
       "      <td>0.0</td>\n",
       "      <td>23.0</td>\n",
       "      <td>12.387214</td>\n",
       "      <td>76.666963</td>\n",
       "      <td>1</td>\n",
       "    </tr>\n",
       "    <tr>\n",
       "      <th>12615</th>\n",
       "      <td>Super built-up  Area</td>\n",
       "      <td>Ready To Move</td>\n",
       "      <td>250.0</td>\n",
       "      <td>2.0</td>\n",
       "      <td>2.0</td>\n",
       "      <td>40.0</td>\n",
       "      <td>28.636548</td>\n",
       "      <td>77.096496</td>\n",
       "      <td>1</td>\n",
       "    </tr>\n",
       "    <tr>\n",
       "      <th>111</th>\n",
       "      <td>Plot  Area</td>\n",
       "      <td>Ready To Move</td>\n",
       "      <td>276.0</td>\n",
       "      <td>3.0</td>\n",
       "      <td>3.0</td>\n",
       "      <td>23.0</td>\n",
       "      <td>13.025809</td>\n",
       "      <td>77.630507</td>\n",
       "      <td>2</td>\n",
       "    </tr>\n",
       "    <tr>\n",
       "      <th>10029</th>\n",
       "      <td>Super built-up  Area</td>\n",
       "      <td>Ready To Move</td>\n",
       "      <td>284.0</td>\n",
       "      <td>1.0</td>\n",
       "      <td>1.0</td>\n",
       "      <td>8.0</td>\n",
       "      <td>13.097804</td>\n",
       "      <td>77.581189</td>\n",
       "      <td>1</td>\n",
       "    </tr>\n",
       "    <tr>\n",
       "      <th>4607</th>\n",
       "      <td>Carpet  Area</td>\n",
       "      <td>Ready To Move</td>\n",
       "      <td>300.0</td>\n",
       "      <td>1.0</td>\n",
       "      <td>1.0</td>\n",
       "      <td>20.0</td>\n",
       "      <td>12.954674</td>\n",
       "      <td>77.512172</td>\n",
       "      <td>1</td>\n",
       "    </tr>\n",
       "    <tr>\n",
       "      <th>10955</th>\n",
       "      <td>Super built-up  Area</td>\n",
       "      <td>Ready To Move</td>\n",
       "      <td>302.0</td>\n",
       "      <td>2.0</td>\n",
       "      <td>1.0</td>\n",
       "      <td>25.0</td>\n",
       "      <td>13.002735</td>\n",
       "      <td>77.570325</td>\n",
       "      <td>2</td>\n",
       "    </tr>\n",
       "    <tr>\n",
       "      <th>942</th>\n",
       "      <td>Plot  Area</td>\n",
       "      <td>Ready To Move</td>\n",
       "      <td>315.0</td>\n",
       "      <td>4.0</td>\n",
       "      <td>2.0</td>\n",
       "      <td>90.0</td>\n",
       "      <td>18.014228</td>\n",
       "      <td>79.552624</td>\n",
       "      <td>4</td>\n",
       "    </tr>\n",
       "  </tbody>\n",
       "</table>\n",
       "</div>"
      ],
      "text/plain": [
       "                  area_type   availability  total_sqft  bath  balcony  price  \\\n",
       "4723         Built-up  Area  Ready To Move         5.0   7.0      3.0  115.0   \n",
       "333              Plot  Area         18-Dec        11.0   3.0      2.0   74.0   \n",
       "968            Carpet  Area  Ready To Move        15.0   1.0      0.0   30.0   \n",
       "5671             Plot  Area  Ready To Move        45.0   1.0      0.0   23.0   \n",
       "12615  Super built-up  Area  Ready To Move       250.0   2.0      2.0   40.0   \n",
       "111              Plot  Area  Ready To Move       276.0   3.0      3.0   23.0   \n",
       "10029  Super built-up  Area  Ready To Move       284.0   1.0      1.0    8.0   \n",
       "4607           Carpet  Area  Ready To Move       300.0   1.0      1.0   20.0   \n",
       "10955  Super built-up  Area  Ready To Move       302.0   2.0      1.0   25.0   \n",
       "942              Plot  Area  Ready To Move       315.0   4.0      2.0   90.0   \n",
       "\n",
       "             lat        lon  qt_bedroom  \n",
       "4723   17.434580  82.715203           7  \n",
       "333    12.739777  77.668954           3  \n",
       "968    12.845495  77.583129           1  \n",
       "5671   12.387214  76.666963           1  \n",
       "12615  28.636548  77.096496           1  \n",
       "111    13.025809  77.630507           2  \n",
       "10029  13.097804  77.581189           1  \n",
       "4607   12.954674  77.512172           1  \n",
       "10955  13.002735  77.570325           2  \n",
       "942    18.014228  79.552624           4  "
      ]
     },
     "execution_count": 33,
     "metadata": {},
     "output_type": "execute_result"
    }
   ],
   "source": [
    "df4.sort_values('total_sqft').head(10)"
   ]
  },
  {
   "cell_type": "code",
   "execution_count": 34,
   "id": "threatened-somerset",
   "metadata": {
    "ExecuteTime": {
     "end_time": "2021-08-05T17:27:07.644953Z",
     "start_time": "2021-08-05T17:27:07.613801Z"
    },
    "hidden": true
   },
   "outputs": [
    {
     "data": {
      "text/html": [
       "<div>\n",
       "<style scoped>\n",
       "    .dataframe tbody tr th:only-of-type {\n",
       "        vertical-align: middle;\n",
       "    }\n",
       "\n",
       "    .dataframe tbody tr th {\n",
       "        vertical-align: top;\n",
       "    }\n",
       "\n",
       "    .dataframe thead th {\n",
       "        text-align: right;\n",
       "    }\n",
       "</style>\n",
       "<table border=\"1\" class=\"dataframe\">\n",
       "  <thead>\n",
       "    <tr style=\"text-align: right;\">\n",
       "      <th></th>\n",
       "      <th>area_type</th>\n",
       "      <th>availability</th>\n",
       "      <th>total_sqft</th>\n",
       "      <th>bath</th>\n",
       "      <th>balcony</th>\n",
       "      <th>price</th>\n",
       "      <th>lat</th>\n",
       "      <th>lon</th>\n",
       "      <th>qt_bedroom</th>\n",
       "    </tr>\n",
       "  </thead>\n",
       "  <tbody>\n",
       "    <tr>\n",
       "      <th>1794</th>\n",
       "      <td>Plot  Area</td>\n",
       "      <td>Ready To Move</td>\n",
       "      <td>52272.0</td>\n",
       "      <td>2.0</td>\n",
       "      <td>1.0</td>\n",
       "      <td>140.0</td>\n",
       "      <td>13.095302</td>\n",
       "      <td>77.396359</td>\n",
       "      <td>3</td>\n",
       "    </tr>\n",
       "    <tr>\n",
       "      <th>5121</th>\n",
       "      <td>Super built-up  Area</td>\n",
       "      <td>Ready To Move</td>\n",
       "      <td>42000.0</td>\n",
       "      <td>8.0</td>\n",
       "      <td>3.0</td>\n",
       "      <td>175.0</td>\n",
       "      <td>13.064967</td>\n",
       "      <td>77.562966</td>\n",
       "      <td>9</td>\n",
       "    </tr>\n",
       "    <tr>\n",
       "      <th>5194</th>\n",
       "      <td>Super built-up  Area</td>\n",
       "      <td>Ready To Move</td>\n",
       "      <td>36000.0</td>\n",
       "      <td>4.0</td>\n",
       "      <td>2.0</td>\n",
       "      <td>450.0</td>\n",
       "      <td>12.977879</td>\n",
       "      <td>77.624670</td>\n",
       "      <td>4</td>\n",
       "    </tr>\n",
       "    <tr>\n",
       "      <th>641</th>\n",
       "      <td>Built-up  Area</td>\n",
       "      <td>Ready To Move</td>\n",
       "      <td>35000.0</td>\n",
       "      <td>3.0</td>\n",
       "      <td>3.0</td>\n",
       "      <td>130.0</td>\n",
       "      <td>13.100698</td>\n",
       "      <td>77.596345</td>\n",
       "      <td>3</td>\n",
       "    </tr>\n",
       "    <tr>\n",
       "      <th>12396</th>\n",
       "      <td>Plot  Area</td>\n",
       "      <td>Ready To Move</td>\n",
       "      <td>30400.0</td>\n",
       "      <td>4.0</td>\n",
       "      <td>2.0</td>\n",
       "      <td>1824.0</td>\n",
       "      <td>12.970770</td>\n",
       "      <td>77.744557</td>\n",
       "      <td>6</td>\n",
       "    </tr>\n",
       "    <tr>\n",
       "      <th>6884</th>\n",
       "      <td>Plot  Area</td>\n",
       "      <td>Ready To Move</td>\n",
       "      <td>26136.0</td>\n",
       "      <td>1.0</td>\n",
       "      <td>0.0</td>\n",
       "      <td>150.0</td>\n",
       "      <td>13.100698</td>\n",
       "      <td>77.596345</td>\n",
       "      <td>1</td>\n",
       "    </tr>\n",
       "    <tr>\n",
       "      <th>1173</th>\n",
       "      <td>Plot  Area</td>\n",
       "      <td>Ready To Move</td>\n",
       "      <td>14000.0</td>\n",
       "      <td>3.0</td>\n",
       "      <td>2.0</td>\n",
       "      <td>800.0</td>\n",
       "      <td>14.340956</td>\n",
       "      <td>74.892425</td>\n",
       "      <td>4</td>\n",
       "    </tr>\n",
       "    <tr>\n",
       "      <th>577</th>\n",
       "      <td>Super built-up  Area</td>\n",
       "      <td>19-Jan</td>\n",
       "      <td>12000.0</td>\n",
       "      <td>7.0</td>\n",
       "      <td>3.0</td>\n",
       "      <td>2200.0</td>\n",
       "      <td>13.002735</td>\n",
       "      <td>77.570325</td>\n",
       "      <td>7</td>\n",
       "    </tr>\n",
       "    <tr>\n",
       "      <th>390</th>\n",
       "      <td>Super built-up  Area</td>\n",
       "      <td>19-Jan</td>\n",
       "      <td>12000.0</td>\n",
       "      <td>6.0</td>\n",
       "      <td>3.0</td>\n",
       "      <td>2200.0</td>\n",
       "      <td>18.014228</td>\n",
       "      <td>79.552624</td>\n",
       "      <td>7</td>\n",
       "    </tr>\n",
       "    <tr>\n",
       "      <th>2489</th>\n",
       "      <td>Super built-up  Area</td>\n",
       "      <td>Ready To Move</td>\n",
       "      <td>11338.0</td>\n",
       "      <td>9.0</td>\n",
       "      <td>1.0</td>\n",
       "      <td>1000.0</td>\n",
       "      <td>12.973461</td>\n",
       "      <td>77.751115</td>\n",
       "      <td>6</td>\n",
       "    </tr>\n",
       "  </tbody>\n",
       "</table>\n",
       "</div>"
      ],
      "text/plain": [
       "                  area_type   availability  total_sqft  bath  balcony   price  \\\n",
       "1794             Plot  Area  Ready To Move     52272.0   2.0      1.0   140.0   \n",
       "5121   Super built-up  Area  Ready To Move     42000.0   8.0      3.0   175.0   \n",
       "5194   Super built-up  Area  Ready To Move     36000.0   4.0      2.0   450.0   \n",
       "641          Built-up  Area  Ready To Move     35000.0   3.0      3.0   130.0   \n",
       "12396            Plot  Area  Ready To Move     30400.0   4.0      2.0  1824.0   \n",
       "6884             Plot  Area  Ready To Move     26136.0   1.0      0.0   150.0   \n",
       "1173             Plot  Area  Ready To Move     14000.0   3.0      2.0   800.0   \n",
       "577    Super built-up  Area         19-Jan     12000.0   7.0      3.0  2200.0   \n",
       "390    Super built-up  Area         19-Jan     12000.0   6.0      3.0  2200.0   \n",
       "2489   Super built-up  Area  Ready To Move     11338.0   9.0      1.0  1000.0   \n",
       "\n",
       "             lat        lon  qt_bedroom  \n",
       "1794   13.095302  77.396359           3  \n",
       "5121   13.064967  77.562966           9  \n",
       "5194   12.977879  77.624670           4  \n",
       "641    13.100698  77.596345           3  \n",
       "12396  12.970770  77.744557           6  \n",
       "6884   13.100698  77.596345           1  \n",
       "1173   14.340956  74.892425           4  \n",
       "577    13.002735  77.570325           7  \n",
       "390    18.014228  79.552624           7  \n",
       "2489   12.973461  77.751115           6  "
      ]
     },
     "execution_count": 34,
     "metadata": {},
     "output_type": "execute_result"
    }
   ],
   "source": [
    "df4.sort_values('total_sqft', ascending=False).head(10)"
   ]
  },
  {
   "cell_type": "markdown",
   "id": "lyric-creator",
   "metadata": {
    "hidden": true
   },
   "source": [
    "**Notes:**\n",
    "1. **total_sqft**: apartamentos com 5, 11, 15, 45 total_sqft ?"
   ]
  },
  {
   "cell_type": "markdown",
   "id": "fleet-linux",
   "metadata": {
    "heading_collapsed": true,
    "hidden": true
   },
   "source": [
    "### bath"
   ]
  },
  {
   "cell_type": "code",
   "execution_count": 35,
   "id": "disabled-answer",
   "metadata": {
    "ExecuteTime": {
     "end_time": "2021-08-05T17:27:07.679932Z",
     "start_time": "2021-08-05T17:27:07.647555Z"
    },
    "hidden": true
   },
   "outputs": [
    {
     "data": {
      "text/html": [
       "<div>\n",
       "<style scoped>\n",
       "    .dataframe tbody tr th:only-of-type {\n",
       "        vertical-align: middle;\n",
       "    }\n",
       "\n",
       "    .dataframe tbody tr th {\n",
       "        vertical-align: top;\n",
       "    }\n",
       "\n",
       "    .dataframe thead th {\n",
       "        text-align: right;\n",
       "    }\n",
       "</style>\n",
       "<table border=\"1\" class=\"dataframe\">\n",
       "  <thead>\n",
       "    <tr style=\"text-align: right;\">\n",
       "      <th></th>\n",
       "      <th>area_type</th>\n",
       "      <th>availability</th>\n",
       "      <th>total_sqft</th>\n",
       "      <th>bath</th>\n",
       "      <th>balcony</th>\n",
       "      <th>price</th>\n",
       "      <th>lat</th>\n",
       "      <th>lon</th>\n",
       "      <th>qt_bedroom</th>\n",
       "    </tr>\n",
       "  </thead>\n",
       "  <tbody>\n",
       "    <tr>\n",
       "      <th>1877</th>\n",
       "      <td>Plot  Area</td>\n",
       "      <td>Ready To Move</td>\n",
       "      <td>990.0</td>\n",
       "      <td>12.0</td>\n",
       "      <td>0.0</td>\n",
       "      <td>120.0</td>\n",
       "      <td>12.901368</td>\n",
       "      <td>77.632057</td>\n",
       "      <td>8</td>\n",
       "    </tr>\n",
       "    <tr>\n",
       "      <th>1681</th>\n",
       "      <td>Plot  Area</td>\n",
       "      <td>Ready To Move</td>\n",
       "      <td>1200.0</td>\n",
       "      <td>11.0</td>\n",
       "      <td>0.0</td>\n",
       "      <td>170.0</td>\n",
       "      <td>13.012022</td>\n",
       "      <td>77.677782</td>\n",
       "      <td>11</td>\n",
       "    </tr>\n",
       "    <tr>\n",
       "      <th>2072</th>\n",
       "      <td>Plot  Area</td>\n",
       "      <td>Ready To Move</td>\n",
       "      <td>1500.0</td>\n",
       "      <td>10.0</td>\n",
       "      <td>3.0</td>\n",
       "      <td>165.0</td>\n",
       "      <td>12.908793</td>\n",
       "      <td>77.604554</td>\n",
       "      <td>8</td>\n",
       "    </tr>\n",
       "    <tr>\n",
       "      <th>6211</th>\n",
       "      <td>Plot  Area</td>\n",
       "      <td>Ready To Move</td>\n",
       "      <td>1800.0</td>\n",
       "      <td>10.0</td>\n",
       "      <td>3.0</td>\n",
       "      <td>185.0</td>\n",
       "      <td>13.073014</td>\n",
       "      <td>77.792138</td>\n",
       "      <td>9</td>\n",
       "    </tr>\n",
       "    <tr>\n",
       "      <th>11500</th>\n",
       "      <td>Plot  Area</td>\n",
       "      <td>Ready To Move</td>\n",
       "      <td>1200.0</td>\n",
       "      <td>10.0</td>\n",
       "      <td>2.0</td>\n",
       "      <td>180.0</td>\n",
       "      <td>18.014228</td>\n",
       "      <td>79.552624</td>\n",
       "      <td>8</td>\n",
       "    </tr>\n",
       "    <tr>\n",
       "      <th>5555</th>\n",
       "      <td>Super built-up  Area</td>\n",
       "      <td>Ready To Move</td>\n",
       "      <td>4700.0</td>\n",
       "      <td>10.0</td>\n",
       "      <td>3.0</td>\n",
       "      <td>130.0</td>\n",
       "      <td>13.406193</td>\n",
       "      <td>75.249867</td>\n",
       "      <td>9</td>\n",
       "    </tr>\n",
       "    <tr>\n",
       "      <th>6373</th>\n",
       "      <td>Plot  Area</td>\n",
       "      <td>Ready To Move</td>\n",
       "      <td>1020.0</td>\n",
       "      <td>10.0</td>\n",
       "      <td>0.0</td>\n",
       "      <td>155.0</td>\n",
       "      <td>12.580537</td>\n",
       "      <td>77.333067</td>\n",
       "      <td>8</td>\n",
       "    </tr>\n",
       "    <tr>\n",
       "      <th>9982</th>\n",
       "      <td>Plot  Area</td>\n",
       "      <td>Ready To Move</td>\n",
       "      <td>1200.0</td>\n",
       "      <td>9.0</td>\n",
       "      <td>3.0</td>\n",
       "      <td>230.0</td>\n",
       "      <td>17.246530</td>\n",
       "      <td>80.143697</td>\n",
       "      <td>9</td>\n",
       "    </tr>\n",
       "    <tr>\n",
       "      <th>4329</th>\n",
       "      <td>Plot  Area</td>\n",
       "      <td>Ready To Move</td>\n",
       "      <td>1800.0</td>\n",
       "      <td>9.0</td>\n",
       "      <td>1.0</td>\n",
       "      <td>180.0</td>\n",
       "      <td>12.982362</td>\n",
       "      <td>77.522638</td>\n",
       "      <td>9</td>\n",
       "    </tr>\n",
       "    <tr>\n",
       "      <th>10795</th>\n",
       "      <td>Plot  Area</td>\n",
       "      <td>Ready To Move</td>\n",
       "      <td>3280.0</td>\n",
       "      <td>9.0</td>\n",
       "      <td>3.0</td>\n",
       "      <td>450.0</td>\n",
       "      <td>13.104198</td>\n",
       "      <td>77.617085</td>\n",
       "      <td>10</td>\n",
       "    </tr>\n",
       "  </tbody>\n",
       "</table>\n",
       "</div>"
      ],
      "text/plain": [
       "                  area_type   availability  total_sqft  bath  balcony  price  \\\n",
       "1877             Plot  Area  Ready To Move       990.0  12.0      0.0  120.0   \n",
       "1681             Plot  Area  Ready To Move      1200.0  11.0      0.0  170.0   \n",
       "2072             Plot  Area  Ready To Move      1500.0  10.0      3.0  165.0   \n",
       "6211             Plot  Area  Ready To Move      1800.0  10.0      3.0  185.0   \n",
       "11500            Plot  Area  Ready To Move      1200.0  10.0      2.0  180.0   \n",
       "5555   Super built-up  Area  Ready To Move      4700.0  10.0      3.0  130.0   \n",
       "6373             Plot  Area  Ready To Move      1020.0  10.0      0.0  155.0   \n",
       "9982             Plot  Area  Ready To Move      1200.0   9.0      3.0  230.0   \n",
       "4329             Plot  Area  Ready To Move      1800.0   9.0      1.0  180.0   \n",
       "10795            Plot  Area  Ready To Move      3280.0   9.0      3.0  450.0   \n",
       "\n",
       "             lat        lon  qt_bedroom  \n",
       "1877   12.901368  77.632057           8  \n",
       "1681   13.012022  77.677782          11  \n",
       "2072   12.908793  77.604554           8  \n",
       "6211   13.073014  77.792138           9  \n",
       "11500  18.014228  79.552624           8  \n",
       "5555   13.406193  75.249867           9  \n",
       "6373   12.580537  77.333067           8  \n",
       "9982   17.246530  80.143697           9  \n",
       "4329   12.982362  77.522638           9  \n",
       "10795  13.104198  77.617085          10  "
      ]
     },
     "execution_count": 35,
     "metadata": {},
     "output_type": "execute_result"
    }
   ],
   "source": [
    "df4.sort_values('bath', ascending=False).head(10)"
   ]
  },
  {
   "cell_type": "markdown",
   "id": "necessary-calgary",
   "metadata": {
    "heading_collapsed": true,
    "hidden": true
   },
   "source": [
    "### balcony"
   ]
  },
  {
   "cell_type": "code",
   "execution_count": 36,
   "id": "novel-think",
   "metadata": {
    "ExecuteTime": {
     "end_time": "2021-08-05T17:27:07.694476Z",
     "start_time": "2021-08-05T17:27:07.683796Z"
    },
    "hidden": true
   },
   "outputs": [
    {
     "data": {
      "text/plain": [
       "2.0    4142\n",
       "1.0    3874\n",
       "3.0    1326\n",
       "0.0     710\n",
       "Name: balcony, dtype: int64"
      ]
     },
     "execution_count": 36,
     "metadata": {},
     "output_type": "execute_result"
    }
   ],
   "source": [
    "df4['balcony'].value_counts()"
   ]
  },
  {
   "cell_type": "markdown",
   "id": "pacific-albania",
   "metadata": {
    "heading_collapsed": true,
    "hidden": true
   },
   "source": [
    "### price"
   ]
  },
  {
   "cell_type": "code",
   "execution_count": 37,
   "id": "certified-handle",
   "metadata": {
    "ExecuteTime": {
     "end_time": "2021-08-05T17:27:07.726412Z",
     "start_time": "2021-08-05T17:27:07.697093Z"
    },
    "hidden": true
   },
   "outputs": [
    {
     "data": {
      "text/html": [
       "<div>\n",
       "<style scoped>\n",
       "    .dataframe tbody tr th:only-of-type {\n",
       "        vertical-align: middle;\n",
       "    }\n",
       "\n",
       "    .dataframe tbody tr th {\n",
       "        vertical-align: top;\n",
       "    }\n",
       "\n",
       "    .dataframe thead th {\n",
       "        text-align: right;\n",
       "    }\n",
       "</style>\n",
       "<table border=\"1\" class=\"dataframe\">\n",
       "  <thead>\n",
       "    <tr style=\"text-align: right;\">\n",
       "      <th></th>\n",
       "      <th>area_type</th>\n",
       "      <th>availability</th>\n",
       "      <th>total_sqft</th>\n",
       "      <th>bath</th>\n",
       "      <th>balcony</th>\n",
       "      <th>price</th>\n",
       "      <th>lat</th>\n",
       "      <th>lon</th>\n",
       "      <th>qt_bedroom</th>\n",
       "    </tr>\n",
       "  </thead>\n",
       "  <tbody>\n",
       "    <tr>\n",
       "      <th>10558</th>\n",
       "      <td>Super built-up  Area</td>\n",
       "      <td>18-Jan</td>\n",
       "      <td>8321.0</td>\n",
       "      <td>5.0</td>\n",
       "      <td>2.0</td>\n",
       "      <td>2912.0</td>\n",
       "      <td>13.040073</td>\n",
       "      <td>80.215925</td>\n",
       "      <td>4</td>\n",
       "    </tr>\n",
       "    <tr>\n",
       "      <th>12600</th>\n",
       "      <td>Plot  Area</td>\n",
       "      <td>Ready To Move</td>\n",
       "      <td>8000.0</td>\n",
       "      <td>6.0</td>\n",
       "      <td>3.0</td>\n",
       "      <td>2800.0</td>\n",
       "      <td>34.011250</td>\n",
       "      <td>71.536452</td>\n",
       "      <td>6</td>\n",
       "    </tr>\n",
       "    <tr>\n",
       "      <th>11214</th>\n",
       "      <td>Plot  Area</td>\n",
       "      <td>Ready To Move</td>\n",
       "      <td>9600.0</td>\n",
       "      <td>7.0</td>\n",
       "      <td>2.0</td>\n",
       "      <td>2736.0</td>\n",
       "      <td>15.331903</td>\n",
       "      <td>75.126470</td>\n",
       "      <td>5</td>\n",
       "    </tr>\n",
       "    <tr>\n",
       "      <th>9816</th>\n",
       "      <td>Plot  Area</td>\n",
       "      <td>Ready To Move</td>\n",
       "      <td>10624.0</td>\n",
       "      <td>4.0</td>\n",
       "      <td>2.0</td>\n",
       "      <td>2340.0</td>\n",
       "      <td>12.929507</td>\n",
       "      <td>77.580165</td>\n",
       "      <td>4</td>\n",
       "    </tr>\n",
       "    <tr>\n",
       "      <th>6103</th>\n",
       "      <td>Plot  Area</td>\n",
       "      <td>18-Sep</td>\n",
       "      <td>2940.0</td>\n",
       "      <td>3.0</td>\n",
       "      <td>2.0</td>\n",
       "      <td>2250.0</td>\n",
       "      <td>13.268710</td>\n",
       "      <td>76.641051</td>\n",
       "      <td>4</td>\n",
       "    </tr>\n",
       "    <tr>\n",
       "      <th>577</th>\n",
       "      <td>Super built-up  Area</td>\n",
       "      <td>19-Jan</td>\n",
       "      <td>12000.0</td>\n",
       "      <td>7.0</td>\n",
       "      <td>3.0</td>\n",
       "      <td>2200.0</td>\n",
       "      <td>13.002735</td>\n",
       "      <td>77.570325</td>\n",
       "      <td>7</td>\n",
       "    </tr>\n",
       "    <tr>\n",
       "      <th>390</th>\n",
       "      <td>Super built-up  Area</td>\n",
       "      <td>19-Jan</td>\n",
       "      <td>12000.0</td>\n",
       "      <td>6.0</td>\n",
       "      <td>3.0</td>\n",
       "      <td>2200.0</td>\n",
       "      <td>18.014228</td>\n",
       "      <td>79.552624</td>\n",
       "      <td>7</td>\n",
       "    </tr>\n",
       "    <tr>\n",
       "      <th>8119</th>\n",
       "      <td>Plot  Area</td>\n",
       "      <td>Ready To Move</td>\n",
       "      <td>7800.0</td>\n",
       "      <td>3.0</td>\n",
       "      <td>2.0</td>\n",
       "      <td>2000.0</td>\n",
       "      <td>15.346072</td>\n",
       "      <td>75.116714</td>\n",
       "      <td>3</td>\n",
       "    </tr>\n",
       "    <tr>\n",
       "      <th>6954</th>\n",
       "      <td>Plot  Area</td>\n",
       "      <td>18-Apr</td>\n",
       "      <td>11000.0</td>\n",
       "      <td>5.0</td>\n",
       "      <td>3.0</td>\n",
       "      <td>2000.0</td>\n",
       "      <td>12.946651</td>\n",
       "      <td>77.676065</td>\n",
       "      <td>4</td>\n",
       "    </tr>\n",
       "    <tr>\n",
       "      <th>12396</th>\n",
       "      <td>Plot  Area</td>\n",
       "      <td>Ready To Move</td>\n",
       "      <td>30400.0</td>\n",
       "      <td>4.0</td>\n",
       "      <td>2.0</td>\n",
       "      <td>1824.0</td>\n",
       "      <td>12.970770</td>\n",
       "      <td>77.744557</td>\n",
       "      <td>6</td>\n",
       "    </tr>\n",
       "  </tbody>\n",
       "</table>\n",
       "</div>"
      ],
      "text/plain": [
       "                  area_type   availability  total_sqft  bath  balcony   price  \\\n",
       "10558  Super built-up  Area         18-Jan      8321.0   5.0      2.0  2912.0   \n",
       "12600            Plot  Area  Ready To Move      8000.0   6.0      3.0  2800.0   \n",
       "11214            Plot  Area  Ready To Move      9600.0   7.0      2.0  2736.0   \n",
       "9816             Plot  Area  Ready To Move     10624.0   4.0      2.0  2340.0   \n",
       "6103             Plot  Area         18-Sep      2940.0   3.0      2.0  2250.0   \n",
       "577    Super built-up  Area         19-Jan     12000.0   7.0      3.0  2200.0   \n",
       "390    Super built-up  Area         19-Jan     12000.0   6.0      3.0  2200.0   \n",
       "8119             Plot  Area  Ready To Move      7800.0   3.0      2.0  2000.0   \n",
       "6954             Plot  Area         18-Apr     11000.0   5.0      3.0  2000.0   \n",
       "12396            Plot  Area  Ready To Move     30400.0   4.0      2.0  1824.0   \n",
       "\n",
       "             lat        lon  qt_bedroom  \n",
       "10558  13.040073  80.215925           4  \n",
       "12600  34.011250  71.536452           6  \n",
       "11214  15.331903  75.126470           5  \n",
       "9816   12.929507  77.580165           4  \n",
       "6103   13.268710  76.641051           4  \n",
       "577    13.002735  77.570325           7  \n",
       "390    18.014228  79.552624           7  \n",
       "8119   15.346072  75.116714           3  \n",
       "6954   12.946651  77.676065           4  \n",
       "12396  12.970770  77.744557           6  "
      ]
     },
     "execution_count": 37,
     "metadata": {},
     "output_type": "execute_result"
    }
   ],
   "source": [
    "df4.sort_values('price', ascending=False).head(10)"
   ]
  },
  {
   "cell_type": "code",
   "execution_count": 38,
   "id": "weird-denial",
   "metadata": {
    "ExecuteTime": {
     "end_time": "2021-08-05T17:27:07.761038Z",
     "start_time": "2021-08-05T17:27:07.729166Z"
    },
    "hidden": true
   },
   "outputs": [
    {
     "data": {
      "text/html": [
       "<div>\n",
       "<style scoped>\n",
       "    .dataframe tbody tr th:only-of-type {\n",
       "        vertical-align: middle;\n",
       "    }\n",
       "\n",
       "    .dataframe tbody tr th {\n",
       "        vertical-align: top;\n",
       "    }\n",
       "\n",
       "    .dataframe thead th {\n",
       "        text-align: right;\n",
       "    }\n",
       "</style>\n",
       "<table border=\"1\" class=\"dataframe\">\n",
       "  <thead>\n",
       "    <tr style=\"text-align: right;\">\n",
       "      <th></th>\n",
       "      <th>area_type</th>\n",
       "      <th>availability</th>\n",
       "      <th>total_sqft</th>\n",
       "      <th>bath</th>\n",
       "      <th>balcony</th>\n",
       "      <th>price</th>\n",
       "      <th>lat</th>\n",
       "      <th>lon</th>\n",
       "      <th>qt_bedroom</th>\n",
       "    </tr>\n",
       "  </thead>\n",
       "  <tbody>\n",
       "    <tr>\n",
       "      <th>10029</th>\n",
       "      <td>Super built-up  Area</td>\n",
       "      <td>Ready To Move</td>\n",
       "      <td>284.0</td>\n",
       "      <td>1.0</td>\n",
       "      <td>1.0</td>\n",
       "      <td>8.00</td>\n",
       "      <td>13.097804</td>\n",
       "      <td>77.581189</td>\n",
       "      <td>1</td>\n",
       "    </tr>\n",
       "    <tr>\n",
       "      <th>8163</th>\n",
       "      <td>Built-up  Area</td>\n",
       "      <td>Ready To Move</td>\n",
       "      <td>450.0</td>\n",
       "      <td>1.0</td>\n",
       "      <td>1.0</td>\n",
       "      <td>9.00</td>\n",
       "      <td>17.443639</td>\n",
       "      <td>77.433391</td>\n",
       "      <td>1</td>\n",
       "    </tr>\n",
       "    <tr>\n",
       "      <th>5138</th>\n",
       "      <td>Super built-up  Area</td>\n",
       "      <td>Ready To Move</td>\n",
       "      <td>400.0</td>\n",
       "      <td>1.0</td>\n",
       "      <td>1.0</td>\n",
       "      <td>10.00</td>\n",
       "      <td>12.778259</td>\n",
       "      <td>77.771283</td>\n",
       "      <td>1</td>\n",
       "    </tr>\n",
       "    <tr>\n",
       "      <th>10569</th>\n",
       "      <td>Built-up  Area</td>\n",
       "      <td>Ready To Move</td>\n",
       "      <td>410.0</td>\n",
       "      <td>1.0</td>\n",
       "      <td>1.0</td>\n",
       "      <td>10.00</td>\n",
       "      <td>12.778259</td>\n",
       "      <td>77.771283</td>\n",
       "      <td>1</td>\n",
       "    </tr>\n",
       "    <tr>\n",
       "      <th>1396</th>\n",
       "      <td>Built-up  Area</td>\n",
       "      <td>18-Mar</td>\n",
       "      <td>340.0</td>\n",
       "      <td>1.0</td>\n",
       "      <td>1.0</td>\n",
       "      <td>10.00</td>\n",
       "      <td>12.917657</td>\n",
       "      <td>77.483757</td>\n",
       "      <td>1</td>\n",
       "    </tr>\n",
       "    <tr>\n",
       "      <th>12007</th>\n",
       "      <td>Super built-up  Area</td>\n",
       "      <td>Ready To Move</td>\n",
       "      <td>410.0</td>\n",
       "      <td>1.0</td>\n",
       "      <td>1.0</td>\n",
       "      <td>10.00</td>\n",
       "      <td>17.443639</td>\n",
       "      <td>77.433391</td>\n",
       "      <td>1</td>\n",
       "    </tr>\n",
       "    <tr>\n",
       "      <th>7111</th>\n",
       "      <td>Super built-up  Area</td>\n",
       "      <td>Ready To Move</td>\n",
       "      <td>470.0</td>\n",
       "      <td>2.0</td>\n",
       "      <td>1.0</td>\n",
       "      <td>10.00</td>\n",
       "      <td>15.428596</td>\n",
       "      <td>77.261334</td>\n",
       "      <td>1</td>\n",
       "    </tr>\n",
       "    <tr>\n",
       "      <th>11395</th>\n",
       "      <td>Super built-up  Area</td>\n",
       "      <td>Ready To Move</td>\n",
       "      <td>400.0</td>\n",
       "      <td>1.0</td>\n",
       "      <td>1.0</td>\n",
       "      <td>10.25</td>\n",
       "      <td>12.778259</td>\n",
       "      <td>77.771283</td>\n",
       "      <td>1</td>\n",
       "    </tr>\n",
       "    <tr>\n",
       "      <th>2313</th>\n",
       "      <td>Built-up  Area</td>\n",
       "      <td>Ready To Move</td>\n",
       "      <td>395.0</td>\n",
       "      <td>1.0</td>\n",
       "      <td>1.0</td>\n",
       "      <td>10.25</td>\n",
       "      <td>12.778259</td>\n",
       "      <td>77.771283</td>\n",
       "      <td>1</td>\n",
       "    </tr>\n",
       "    <tr>\n",
       "      <th>8217</th>\n",
       "      <td>Plot  Area</td>\n",
       "      <td>Ready To Move</td>\n",
       "      <td>640.0</td>\n",
       "      <td>1.0</td>\n",
       "      <td>0.0</td>\n",
       "      <td>10.50</td>\n",
       "      <td>13.292958</td>\n",
       "      <td>77.543146</td>\n",
       "      <td>2</td>\n",
       "    </tr>\n",
       "  </tbody>\n",
       "</table>\n",
       "</div>"
      ],
      "text/plain": [
       "                  area_type   availability  total_sqft  bath  balcony  price  \\\n",
       "10029  Super built-up  Area  Ready To Move       284.0   1.0      1.0   8.00   \n",
       "8163         Built-up  Area  Ready To Move       450.0   1.0      1.0   9.00   \n",
       "5138   Super built-up  Area  Ready To Move       400.0   1.0      1.0  10.00   \n",
       "10569        Built-up  Area  Ready To Move       410.0   1.0      1.0  10.00   \n",
       "1396         Built-up  Area         18-Mar       340.0   1.0      1.0  10.00   \n",
       "12007  Super built-up  Area  Ready To Move       410.0   1.0      1.0  10.00   \n",
       "7111   Super built-up  Area  Ready To Move       470.0   2.0      1.0  10.00   \n",
       "11395  Super built-up  Area  Ready To Move       400.0   1.0      1.0  10.25   \n",
       "2313         Built-up  Area  Ready To Move       395.0   1.0      1.0  10.25   \n",
       "8217             Plot  Area  Ready To Move       640.0   1.0      0.0  10.50   \n",
       "\n",
       "             lat        lon  qt_bedroom  \n",
       "10029  13.097804  77.581189           1  \n",
       "8163   17.443639  77.433391           1  \n",
       "5138   12.778259  77.771283           1  \n",
       "10569  12.778259  77.771283           1  \n",
       "1396   12.917657  77.483757           1  \n",
       "12007  17.443639  77.433391           1  \n",
       "7111   15.428596  77.261334           1  \n",
       "11395  12.778259  77.771283           1  \n",
       "2313   12.778259  77.771283           1  \n",
       "8217   13.292958  77.543146           2  "
      ]
     },
     "execution_count": 38,
     "metadata": {},
     "output_type": "execute_result"
    }
   ],
   "source": [
    "df4.sort_values('price', ascending=True).head(10)"
   ]
  },
  {
   "cell_type": "markdown",
   "id": "turkish-distribution",
   "metadata": {
    "heading_collapsed": true
   },
   "source": [
    "# 5.0. Data Preparation"
   ]
  },
  {
   "cell_type": "code",
   "execution_count": 39,
   "id": "fluid-grant",
   "metadata": {
    "ExecuteTime": {
     "end_time": "2021-08-05T17:27:07.768428Z",
     "start_time": "2021-08-05T17:27:07.763664Z"
    },
    "hidden": true
   },
   "outputs": [],
   "source": [
    "df5 = df4.copy()"
   ]
  },
  {
   "cell_type": "markdown",
   "id": "heavy-leadership",
   "metadata": {
    "heading_collapsed": true,
    "hidden": true
   },
   "source": [
    "## 5.1. Standardization"
   ]
  },
  {
   "cell_type": "markdown",
   "id": "bored-spokesman",
   "metadata": {
    "heading_collapsed": true,
    "hidden": true
   },
   "source": [
    "## 5.2. Rescaling"
   ]
  },
  {
   "cell_type": "code",
   "execution_count": 40,
   "id": "local-antarctica",
   "metadata": {
    "ExecuteTime": {
     "end_time": "2021-08-05T17:27:07.775480Z",
     "start_time": "2021-08-05T17:27:07.772010Z"
    },
    "hidden": true
   },
   "outputs": [],
   "source": [
    "mms = pp.MinMaxScaler()"
   ]
  },
  {
   "cell_type": "code",
   "execution_count": 41,
   "id": "pleasant-clock",
   "metadata": {
    "ExecuteTime": {
     "end_time": "2021-08-05T17:27:07.839012Z",
     "start_time": "2021-08-05T17:27:07.779115Z"
    },
    "hidden": true
   },
   "outputs": [],
   "source": [
    "df5['total_sqft'] = mms.fit_transform(df5[['total_sqft']])\n",
    "df5['bath'] = mms.fit_transform(df5[['bath']])\n",
    "df5['balcony'] = mms.fit_transform(df5[['balcony']])\n",
    "df5['lat'] = mms.fit_transform(df5[['lat']])\n",
    "df5['lon'] = mms.fit_transform(df5[['lon']])\n",
    "df5['qt_bedroom'] = mms.fit_transform(df5[['qt_bedroom']])"
   ]
  },
  {
   "cell_type": "markdown",
   "id": "mineral-dublin",
   "metadata": {
    "heading_collapsed": true,
    "hidden": true
   },
   "source": [
    "## 5.3. Encoding\n",
    "\n"
   ]
  },
  {
   "cell_type": "code",
   "execution_count": 42,
   "id": "respiratory-passage",
   "metadata": {
    "ExecuteTime": {
     "end_time": "2021-08-05T17:27:07.859565Z",
     "start_time": "2021-08-05T17:27:07.842532Z"
    },
    "hidden": true
   },
   "outputs": [],
   "source": [
    "# # Mean Encoder\n",
    "me_area_type = dict(df5['area_type'].value_counts(normalize=True))\n",
    "df5['area_type'] = df5['area_type'].map(me_area_type)\n",
    "\n",
    "me_availability = dict(df5['availability'].value_counts(normalize=True))\n",
    "df5['availability'] = df5['availability'].map(me_availability)"
   ]
  },
  {
   "cell_type": "code",
   "execution_count": 43,
   "id": "analyzed-approval",
   "metadata": {
    "ExecuteTime": {
     "end_time": "2021-08-05T17:27:07.882484Z",
     "start_time": "2021-08-05T17:27:07.862297Z"
    },
    "hidden": true
   },
   "outputs": [
    {
     "data": {
      "text/html": [
       "<div>\n",
       "<style scoped>\n",
       "    .dataframe tbody tr th:only-of-type {\n",
       "        vertical-align: middle;\n",
       "    }\n",
       "\n",
       "    .dataframe tbody tr th {\n",
       "        vertical-align: top;\n",
       "    }\n",
       "\n",
       "    .dataframe thead th {\n",
       "        text-align: right;\n",
       "    }\n",
       "</style>\n",
       "<table border=\"1\" class=\"dataframe\">\n",
       "  <thead>\n",
       "    <tr style=\"text-align: right;\">\n",
       "      <th></th>\n",
       "      <th>area_type</th>\n",
       "      <th>availability</th>\n",
       "      <th>total_sqft</th>\n",
       "      <th>bath</th>\n",
       "      <th>balcony</th>\n",
       "      <th>price</th>\n",
       "      <th>lat</th>\n",
       "      <th>lon</th>\n",
       "      <th>qt_bedroom</th>\n",
       "    </tr>\n",
       "  </thead>\n",
       "  <tbody>\n",
       "    <tr>\n",
       "      <th>0</th>\n",
       "      <td>0.674294</td>\n",
       "      <td>0.013331</td>\n",
       "      <td>0.020108</td>\n",
       "      <td>0.090909</td>\n",
       "      <td>0.333333</td>\n",
       "      <td>39.07</td>\n",
       "      <td>0.254096</td>\n",
       "      <td>0.790671</td>\n",
       "      <td>0.090909</td>\n",
       "    </tr>\n",
       "    <tr>\n",
       "      <th>1</th>\n",
       "      <td>0.142260</td>\n",
       "      <td>0.807600</td>\n",
       "      <td>0.049649</td>\n",
       "      <td>0.363636</td>\n",
       "      <td>1.000000</td>\n",
       "      <td>120.00</td>\n",
       "      <td>0.254755</td>\n",
       "      <td>0.792458</td>\n",
       "      <td>0.272727</td>\n",
       "    </tr>\n",
       "    <tr>\n",
       "      <th>2</th>\n",
       "      <td>0.178273</td>\n",
       "      <td>0.807600</td>\n",
       "      <td>0.027455</td>\n",
       "      <td>0.090909</td>\n",
       "      <td>1.000000</td>\n",
       "      <td>62.00</td>\n",
       "      <td>0.254887</td>\n",
       "      <td>0.789437</td>\n",
       "      <td>0.181818</td>\n",
       "    </tr>\n",
       "    <tr>\n",
       "      <th>4</th>\n",
       "      <td>0.674294</td>\n",
       "      <td>0.807600</td>\n",
       "      <td>0.022863</td>\n",
       "      <td>0.090909</td>\n",
       "      <td>0.333333</td>\n",
       "      <td>51.00</td>\n",
       "      <td>0.250510</td>\n",
       "      <td>0.787440</td>\n",
       "      <td>0.090909</td>\n",
       "    </tr>\n",
       "    <tr>\n",
       "      <th>6</th>\n",
       "      <td>0.674294</td>\n",
       "      <td>0.807600</td>\n",
       "      <td>0.024968</td>\n",
       "      <td>0.181818</td>\n",
       "      <td>0.333333</td>\n",
       "      <td>63.25</td>\n",
       "      <td>0.255556</td>\n",
       "      <td>0.790873</td>\n",
       "      <td>0.181818</td>\n",
       "    </tr>\n",
       "  </tbody>\n",
       "</table>\n",
       "</div>"
      ],
      "text/plain": [
       "   area_type  availability  total_sqft      bath   balcony   price       lat  \\\n",
       "0   0.674294      0.013331    0.020108  0.090909  0.333333   39.07  0.254096   \n",
       "1   0.142260      0.807600    0.049649  0.363636  1.000000  120.00  0.254755   \n",
       "2   0.178273      0.807600    0.027455  0.090909  1.000000   62.00  0.254887   \n",
       "4   0.674294      0.807600    0.022863  0.090909  0.333333   51.00  0.250510   \n",
       "6   0.674294      0.807600    0.024968  0.181818  0.333333   63.25  0.255556   \n",
       "\n",
       "        lon  qt_bedroom  \n",
       "0  0.790671    0.090909  \n",
       "1  0.792458    0.272727  \n",
       "2  0.789437    0.181818  \n",
       "4  0.787440    0.090909  \n",
       "6  0.790873    0.181818  "
      ]
     },
     "execution_count": 43,
     "metadata": {},
     "output_type": "execute_result"
    }
   ],
   "source": [
    "df5.head()"
   ]
  },
  {
   "cell_type": "markdown",
   "id": "pacific-argentina",
   "metadata": {
    "heading_collapsed": true
   },
   "source": [
    "# 6.0. Feature Selection"
   ]
  },
  {
   "cell_type": "code",
   "execution_count": 44,
   "id": "fabulous-semester",
   "metadata": {
    "ExecuteTime": {
     "end_time": "2021-08-05T17:27:07.887401Z",
     "start_time": "2021-08-05T17:27:07.884091Z"
    },
    "hidden": true
   },
   "outputs": [],
   "source": [
    "df6 = df5.copy()"
   ]
  },
  {
   "cell_type": "code",
   "execution_count": 45,
   "id": "overall-initial",
   "metadata": {
    "ExecuteTime": {
     "end_time": "2021-08-05T17:27:07.903723Z",
     "start_time": "2021-08-05T17:27:07.890392Z"
    },
    "hidden": true
   },
   "outputs": [],
   "source": [
    "X = df5.drop(['price',], axis=1)\n",
    "y = df5['price'].copy()\n",
    "\n",
    "x_train, x_val, y_train, y_val = ms.train_test_split(X, y, test_size=0.2, random_state=42)"
   ]
  },
  {
   "cell_type": "markdown",
   "id": "stretch-zambia",
   "metadata": {
    "heading_collapsed": true,
    "hidden": true
   },
   "source": [
    "## 6.1. Boruta as Feature Selection"
   ]
  },
  {
   "cell_type": "code",
   "execution_count": 46,
   "id": "signal-postage",
   "metadata": {
    "ExecuteTime": {
     "end_time": "2021-08-05T17:27:26.392313Z",
     "start_time": "2021-08-05T17:27:07.906373Z"
    },
    "hidden": true
   },
   "outputs": [
    {
     "name": "stdout",
     "output_type": "stream",
     "text": [
      "Iteration: \t1 / 100\n",
      "Confirmed: \t0\n",
      "Tentative: \t8\n",
      "Rejected: \t0\n",
      "Iteration: \t2 / 100\n",
      "Confirmed: \t0\n",
      "Tentative: \t8\n",
      "Rejected: \t0\n",
      "Iteration: \t3 / 100\n",
      "Confirmed: \t0\n",
      "Tentative: \t8\n",
      "Rejected: \t0\n",
      "Iteration: \t4 / 100\n",
      "Confirmed: \t0\n",
      "Tentative: \t8\n",
      "Rejected: \t0\n",
      "Iteration: \t5 / 100\n",
      "Confirmed: \t0\n",
      "Tentative: \t8\n",
      "Rejected: \t0\n",
      "Iteration: \t6 / 100\n",
      "Confirmed: \t0\n",
      "Tentative: \t8\n",
      "Rejected: \t0\n",
      "Iteration: \t7 / 100\n",
      "Confirmed: \t0\n",
      "Tentative: \t8\n",
      "Rejected: \t0\n",
      "Iteration: \t8 / 100\n",
      "Confirmed: \t4\n",
      "Tentative: \t0\n",
      "Rejected: \t4\n",
      "\n",
      "\n",
      "BorutaPy finished running.\n",
      "\n",
      "Iteration: \t9 / 100\n",
      "Confirmed: \t4\n",
      "Tentative: \t0\n",
      "Rejected: \t4\n"
     ]
    }
   ],
   "source": [
    "x_boruta = X.copy().values\n",
    "y_boruta = y.ravel()\n",
    "\n",
    "rf = en.RandomForestRegressor(n_estimators=300)\n",
    "\n",
    "feat_selector_boruta = BorutaPy(rf, n_estimators='auto', verbose=2, random_state=42).fit(x_boruta, y_boruta)"
   ]
  },
  {
   "cell_type": "code",
   "execution_count": 47,
   "id": "august-exemption",
   "metadata": {
    "ExecuteTime": {
     "end_time": "2021-08-05T17:27:26.397259Z",
     "start_time": "2021-08-05T17:27:26.394173Z"
    },
    "hidden": true
   },
   "outputs": [],
   "source": [
    "feat_ranking = feat_selector_boruta.ranking_\n",
    "feat_selector = feat_selector_boruta.support_\n",
    "columns_name = X.columns"
   ]
  },
  {
   "cell_type": "code",
   "execution_count": 48,
   "id": "valid-clerk",
   "metadata": {
    "ExecuteTime": {
     "end_time": "2021-08-05T17:27:26.416674Z",
     "start_time": "2021-08-05T17:27:26.399203Z"
    },
    "hidden": true
   },
   "outputs": [
    {
     "data": {
      "text/html": [
       "<div>\n",
       "<style scoped>\n",
       "    .dataframe tbody tr th:only-of-type {\n",
       "        vertical-align: middle;\n",
       "    }\n",
       "\n",
       "    .dataframe tbody tr th {\n",
       "        vertical-align: top;\n",
       "    }\n",
       "\n",
       "    .dataframe thead th {\n",
       "        text-align: right;\n",
       "    }\n",
       "</style>\n",
       "<table border=\"1\" class=\"dataframe\">\n",
       "  <thead>\n",
       "    <tr style=\"text-align: right;\">\n",
       "      <th></th>\n",
       "      <th>ranking</th>\n",
       "      <th>selected_boruta</th>\n",
       "    </tr>\n",
       "  </thead>\n",
       "  <tbody>\n",
       "    <tr>\n",
       "      <th>total_sqft</th>\n",
       "      <td>1</td>\n",
       "      <td>True</td>\n",
       "    </tr>\n",
       "    <tr>\n",
       "      <th>bath</th>\n",
       "      <td>1</td>\n",
       "      <td>True</td>\n",
       "    </tr>\n",
       "    <tr>\n",
       "      <th>lat</th>\n",
       "      <td>1</td>\n",
       "      <td>True</td>\n",
       "    </tr>\n",
       "    <tr>\n",
       "      <th>lon</th>\n",
       "      <td>1</td>\n",
       "      <td>True</td>\n",
       "    </tr>\n",
       "    <tr>\n",
       "      <th>availability</th>\n",
       "      <td>2</td>\n",
       "      <td>False</td>\n",
       "    </tr>\n",
       "    <tr>\n",
       "      <th>area_type</th>\n",
       "      <td>3</td>\n",
       "      <td>False</td>\n",
       "    </tr>\n",
       "    <tr>\n",
       "      <th>qt_bedroom</th>\n",
       "      <td>3</td>\n",
       "      <td>False</td>\n",
       "    </tr>\n",
       "    <tr>\n",
       "      <th>balcony</th>\n",
       "      <td>5</td>\n",
       "      <td>False</td>\n",
       "    </tr>\n",
       "  </tbody>\n",
       "</table>\n",
       "</div>"
      ],
      "text/plain": [
       "              ranking  selected_boruta\n",
       "total_sqft          1             True\n",
       "bath                1             True\n",
       "lat                 1             True\n",
       "lon                 1             True\n",
       "availability        2            False\n",
       "area_type           3            False\n",
       "qt_bedroom          3            False\n",
       "balcony             5            False"
      ]
     },
     "execution_count": 48,
     "metadata": {},
     "output_type": "execute_result"
    }
   ],
   "source": [
    "df_boruta_ranking = pd.DataFrame({'ranking': feat_ranking, \n",
    "                                   'selected_boruta':feat_selector}, \n",
    "                                    index=columns_name).sort_values('ranking')\n",
    "\n",
    "df_boruta_ranking"
   ]
  },
  {
   "cell_type": "markdown",
   "id": "undefined-matthew",
   "metadata": {
    "heading_collapsed": true,
    "hidden": true
   },
   "source": [
    "## 6.2. Feature Importance"
   ]
  },
  {
   "cell_type": "code",
   "execution_count": 49,
   "id": "saving-karaoke",
   "metadata": {
    "ExecuteTime": {
     "end_time": "2021-08-05T17:27:29.156235Z",
     "start_time": "2021-08-05T17:27:26.419475Z"
    },
    "hidden": true
   },
   "outputs": [],
   "source": [
    "x_fi = X.copy().values\n",
    "y_fi = y.ravel()\n",
    "\n",
    "forest = en.RandomForestRegressor().fit(x_fi, y_fi)"
   ]
  },
  {
   "cell_type": "code",
   "execution_count": 50,
   "id": "accredited-citizenship",
   "metadata": {
    "ExecuteTime": {
     "end_time": "2021-08-05T17:27:29.191068Z",
     "start_time": "2021-08-05T17:27:29.158558Z"
    },
    "hidden": true
   },
   "outputs": [],
   "source": [
    "feature_importances = forest.feature_importances_\n",
    "columns_names = X.columns"
   ]
  },
  {
   "cell_type": "code",
   "execution_count": 51,
   "id": "injured-track",
   "metadata": {
    "ExecuteTime": {
     "end_time": "2021-08-05T17:27:29.210209Z",
     "start_time": "2021-08-05T17:27:29.193688Z"
    },
    "hidden": true
   },
   "outputs": [
    {
     "data": {
      "text/html": [
       "<div>\n",
       "<style scoped>\n",
       "    .dataframe tbody tr th:only-of-type {\n",
       "        vertical-align: middle;\n",
       "    }\n",
       "\n",
       "    .dataframe tbody tr th {\n",
       "        vertical-align: top;\n",
       "    }\n",
       "\n",
       "    .dataframe thead th {\n",
       "        text-align: right;\n",
       "    }\n",
       "</style>\n",
       "<table border=\"1\" class=\"dataframe\">\n",
       "  <thead>\n",
       "    <tr style=\"text-align: right;\">\n",
       "      <th></th>\n",
       "      <th>Feature Importance</th>\n",
       "    </tr>\n",
       "  </thead>\n",
       "  <tbody>\n",
       "    <tr>\n",
       "      <th>total_sqft</th>\n",
       "      <td>0.604893</td>\n",
       "    </tr>\n",
       "    <tr>\n",
       "      <th>lat</th>\n",
       "      <td>0.112347</td>\n",
       "    </tr>\n",
       "    <tr>\n",
       "      <th>lon</th>\n",
       "      <td>0.089319</td>\n",
       "    </tr>\n",
       "    <tr>\n",
       "      <th>bath</th>\n",
       "      <td>0.068094</td>\n",
       "    </tr>\n",
       "    <tr>\n",
       "      <th>availability</th>\n",
       "      <td>0.048662</td>\n",
       "    </tr>\n",
       "    <tr>\n",
       "      <th>qt_bedroom</th>\n",
       "      <td>0.030494</td>\n",
       "    </tr>\n",
       "    <tr>\n",
       "      <th>area_type</th>\n",
       "      <td>0.026467</td>\n",
       "    </tr>\n",
       "    <tr>\n",
       "      <th>balcony</th>\n",
       "      <td>0.019723</td>\n",
       "    </tr>\n",
       "  </tbody>\n",
       "</table>\n",
       "</div>"
      ],
      "text/plain": [
       "              Feature Importance\n",
       "total_sqft              0.604893\n",
       "lat                     0.112347\n",
       "lon                     0.089319\n",
       "bath                    0.068094\n",
       "availability            0.048662\n",
       "qt_bedroom              0.030494\n",
       "area_type               0.026467\n",
       "balcony                 0.019723"
      ]
     },
     "execution_count": 51,
     "metadata": {},
     "output_type": "execute_result"
    }
   ],
   "source": [
    "df_fi_ranking = pd.DataFrame({'Feature Importance': feature_importances}, \n",
    "                             index=columns_names).sort_values('Feature Importance', ascending=False)\n",
    "df_fi_ranking"
   ]
  },
  {
   "cell_type": "markdown",
   "id": "meaningful-soccer",
   "metadata": {
    "heading_collapsed": true,
    "hidden": true
   },
   "source": [
    "## 6.3. Manual Selection"
   ]
  },
  {
   "cell_type": "code",
   "execution_count": 52,
   "id": "young-wrist",
   "metadata": {
    "ExecuteTime": {
     "end_time": "2021-08-05T17:27:29.218172Z",
     "start_time": "2021-08-05T17:27:29.213613Z"
    },
    "hidden": true
   },
   "outputs": [],
   "source": [
    "cols_selected = ['total_sqft', 'lat', 'lon', 'bath', 'availability', 'qt_bedroom']"
   ]
  },
  {
   "cell_type": "markdown",
   "id": "alien-sender",
   "metadata": {
    "heading_collapsed": true
   },
   "source": [
    "# 7.0. Model Training"
   ]
  },
  {
   "cell_type": "code",
   "execution_count": 53,
   "id": "fossil-syndicate",
   "metadata": {
    "ExecuteTime": {
     "end_time": "2021-08-05T17:27:29.237220Z",
     "start_time": "2021-08-05T17:27:29.221177Z"
    },
    "hidden": true
   },
   "outputs": [],
   "source": [
    "x_val = x_val[cols_selected].copy()\n",
    "x_train = x_train[cols_selected].copy()\n",
    "\n",
    "X = X[cols_selected].copy()"
   ]
  },
  {
   "cell_type": "markdown",
   "id": "satisfactory-consideration",
   "metadata": {
    "heading_collapsed": true,
    "hidden": true
   },
   "source": [
    "## 7.1. Average Model"
   ]
  },
  {
   "cell_type": "code",
   "execution_count": 54,
   "id": "fantastic-mathematics",
   "metadata": {
    "ExecuteTime": {
     "end_time": "2021-08-05T17:27:29.254747Z",
     "start_time": "2021-08-05T17:27:29.242049Z"
    },
    "hidden": true
   },
   "outputs": [
    {
     "name": "stdout",
     "output_type": "stream",
     "text": [
      "MAE: 58.43193933366484 | MAPE: 0.49402897534467827 | RMSE: 140.02660227277417\n"
     ]
    }
   ],
   "source": [
    "# model definition and fit\n",
    "model_baseline = dummy.DummyRegressor(strategy='median').fit(x_train, y_train)\n",
    "\n",
    "# model predict\n",
    "yhat_baseline = model_baseline.predict(x_val)\n",
    "\n",
    "# model perfomance\n",
    "mae = metrics.mean_absolute_error(y_val, yhat_baseline)\n",
    "mape = metrics.mean_absolute_percentage_error(y_val, yhat_baseline)\n",
    "rmse = np.sqrt(metrics.mean_squared_error(y_val, yhat_baseline))\n",
    "\n",
    "print('MAE: {} | MAPE: {} | RMSE: {}'.format(mae, mape, rmse))"
   ]
  },
  {
   "cell_type": "code",
   "execution_count": 55,
   "id": "changed-melissa",
   "metadata": {
    "ExecuteTime": {
     "end_time": "2021-08-05T17:27:29.261299Z",
     "start_time": "2021-08-05T17:27:29.257598Z"
    },
    "hidden": true
   },
   "outputs": [],
   "source": [
    "#1 MAE: 69.18655009838794 | MAPE: 0.9189057519989557 | RMSE: 130.53405853555498\n",
    "#2 MAE: 66.74150511881209 | MAPE: 0.8464271363888621 | RMSE: 134.87690120642173"
   ]
  },
  {
   "cell_type": "code",
   "execution_count": 56,
   "id": "demographic-amsterdam",
   "metadata": {
    "ExecuteTime": {
     "end_time": "2021-08-05T17:27:29.368101Z",
     "start_time": "2021-08-05T17:27:29.264727Z"
    },
    "hidden": true
   },
   "outputs": [
    {
     "data": {
      "text/html": [
       "<div>\n",
       "<style scoped>\n",
       "    .dataframe tbody tr th:only-of-type {\n",
       "        vertical-align: middle;\n",
       "    }\n",
       "\n",
       "    .dataframe tbody tr th {\n",
       "        vertical-align: top;\n",
       "    }\n",
       "\n",
       "    .dataframe thead th {\n",
       "        text-align: right;\n",
       "    }\n",
       "</style>\n",
       "<table border=\"1\" class=\"dataframe\">\n",
       "  <thead>\n",
       "    <tr style=\"text-align: right;\">\n",
       "      <th></th>\n",
       "      <th>Model</th>\n",
       "      <th>MAE</th>\n",
       "      <th>MAPE</th>\n",
       "      <th>MSE</th>\n",
       "    </tr>\n",
       "  </thead>\n",
       "  <tbody>\n",
       "    <tr>\n",
       "      <th>0</th>\n",
       "      <td>Average Model</td>\n",
       "      <td>57.276  +/-  3.067</td>\n",
       "      <td>0.496 +/- 0.018</td>\n",
       "      <td>135.868 +/- 15.607</td>\n",
       "    </tr>\n",
       "  </tbody>\n",
       "</table>\n",
       "</div>"
      ],
      "text/plain": [
       "           Model                 MAE             MAPE                 MSE\n",
       "0  Average Model  57.276  +/-  3.067  0.496 +/- 0.018  135.868 +/- 15.607"
      ]
     },
     "execution_count": 56,
     "metadata": {},
     "output_type": "execute_result"
    }
   ],
   "source": [
    "result_baseline = metrics_cv(model_baseline, X, y, 'Average Model')\n",
    "result_baseline"
   ]
  },
  {
   "cell_type": "markdown",
   "id": "worse-exercise",
   "metadata": {
    "heading_collapsed": true,
    "hidden": true
   },
   "source": [
    "## 7.2. Linear Regression Model"
   ]
  },
  {
   "cell_type": "code",
   "execution_count": 57,
   "id": "parental-brave",
   "metadata": {
    "ExecuteTime": {
     "end_time": "2021-08-05T17:27:29.410055Z",
     "start_time": "2021-08-05T17:27:29.371044Z"
    },
    "hidden": true
   },
   "outputs": [
    {
     "name": "stdout",
     "output_type": "stream",
     "text": [
      "MAE: 43.60025400131541 | MAPE: 0.4321635307115498 | RMSE: 121.23072615127244\n"
     ]
    }
   ],
   "source": [
    "# model definition and fit\n",
    "model_lr = lm.LinearRegression().fit(x_train, y_train)\n",
    "\n",
    "# model predict\n",
    "yhat_lr = model_lr.predict(x_val)\n",
    "\n",
    "# model perfomance\n",
    "mae = metrics.mean_absolute_error(y_val, yhat_lr)\n",
    "mape = metrics.mean_absolute_percentage_error(y_val, yhat_lr)\n",
    "rmse = np.sqrt(metrics.mean_squared_error(y_val, yhat_lr))\n",
    "\n",
    "print('MAE: {} | MAPE: {} | RMSE: {}'.format(mae, mape, rmse))"
   ]
  },
  {
   "cell_type": "code",
   "execution_count": 58,
   "id": "metric-buffer",
   "metadata": {
    "ExecuteTime": {
     "end_time": "2021-08-05T17:27:29.421306Z",
     "start_time": "2021-08-05T17:27:29.416199Z"
    },
    "hidden": true
   },
   "outputs": [],
   "source": [
    "#1 MAE: 51.39237039425772 | MAPE: 0.5167872441161455 | RMSE: 113.84866787174654\n",
    "#2 MAE: 43.14026377555565 | MAPE: 0.4230519670345765 | RMSE: 121.40008663415217"
   ]
  },
  {
   "cell_type": "code",
   "execution_count": 59,
   "id": "downtown-pathology",
   "metadata": {
    "ExecuteTime": {
     "end_time": "2021-08-05T17:27:29.831961Z",
     "start_time": "2021-08-05T17:27:29.424881Z"
    },
    "hidden": true
   },
   "outputs": [
    {
     "data": {
      "text/html": [
       "<div>\n",
       "<style scoped>\n",
       "    .dataframe tbody tr th:only-of-type {\n",
       "        vertical-align: middle;\n",
       "    }\n",
       "\n",
       "    .dataframe tbody tr th {\n",
       "        vertical-align: top;\n",
       "    }\n",
       "\n",
       "    .dataframe thead th {\n",
       "        text-align: right;\n",
       "    }\n",
       "</style>\n",
       "<table border=\"1\" class=\"dataframe\">\n",
       "  <thead>\n",
       "    <tr style=\"text-align: right;\">\n",
       "      <th></th>\n",
       "      <th>Model</th>\n",
       "      <th>MAE</th>\n",
       "      <th>MAPE</th>\n",
       "      <th>MSE</th>\n",
       "    </tr>\n",
       "  </thead>\n",
       "  <tbody>\n",
       "    <tr>\n",
       "      <th>0</th>\n",
       "      <td>LinearRegression</td>\n",
       "      <td>43.298  +/-  1.967</td>\n",
       "      <td>0.439 +/- 0.01</td>\n",
       "      <td>108.275 +/- 14.817</td>\n",
       "    </tr>\n",
       "  </tbody>\n",
       "</table>\n",
       "</div>"
      ],
      "text/plain": [
       "              Model                 MAE            MAPE                 MSE\n",
       "0  LinearRegression  43.298  +/-  1.967  0.439 +/- 0.01  108.275 +/- 14.817"
      ]
     },
     "execution_count": 59,
     "metadata": {},
     "output_type": "execute_result"
    }
   ],
   "source": [
    "result_lr = metrics_cv(model_lr, X, y, 'LinearRegression')\n",
    "result_lr"
   ]
  },
  {
   "cell_type": "markdown",
   "id": "binding-export",
   "metadata": {
    "heading_collapsed": true,
    "hidden": true
   },
   "source": [
    "## 7.3. Random Forest Model"
   ]
  },
  {
   "cell_type": "code",
   "execution_count": 60,
   "id": "aging-cursor",
   "metadata": {
    "ExecuteTime": {
     "end_time": "2021-08-05T17:27:31.891212Z",
     "start_time": "2021-08-05T17:27:29.849832Z"
    },
    "hidden": true
   },
   "outputs": [
    {
     "name": "stdout",
     "output_type": "stream",
     "text": [
      "MAE: 30.18761857885216 | MAPE: 0.27098841516021255 | RMSE: 81.70818692549372\n"
     ]
    }
   ],
   "source": [
    "# model definition and fit\n",
    "model_rf = en.RandomForestRegressor().fit(x_train, y_train)\n",
    "\n",
    "# model predict\n",
    "yhat_rf = model_rf.predict(x_val)\n",
    "\n",
    "# model perfomance\n",
    "mae = metrics.mean_absolute_error(y_val, yhat_rf)\n",
    "mape = metrics.mean_absolute_percentage_error(y_val, yhat_rf) \n",
    "rmse = np.sqrt(metrics.mean_squared_error(y_val, yhat_rf))\n",
    "\n",
    "print('MAE: {} | MAPE: {} | RMSE: {}'.format(mae, mape, rmse))"
   ]
  },
  {
   "cell_type": "code",
   "execution_count": 61,
   "id": "tamil-offer",
   "metadata": {
    "ExecuteTime": {
     "end_time": "2021-08-05T17:27:31.897025Z",
     "start_time": "2021-08-05T17:27:31.893852Z"
    },
    "hidden": true
   },
   "outputs": [],
   "source": [
    "#1 MAE: 39.84512783025325 | MAPE: 0.357494658863791 | RMSE: 103.6417705071636\n",
    "#2 MAE: 29.032647859198246 | MAPE: 0.2633721578886517 | RMSE: 80.29353829948478"
   ]
  },
  {
   "cell_type": "code",
   "execution_count": 62,
   "id": "ecological-dylan",
   "metadata": {
    "ExecuteTime": {
     "end_time": "2021-08-05T17:28:01.418720Z",
     "start_time": "2021-08-05T17:27:31.900002Z"
    },
    "hidden": true
   },
   "outputs": [
    {
     "data": {
      "text/html": [
       "<div>\n",
       "<style scoped>\n",
       "    .dataframe tbody tr th:only-of-type {\n",
       "        vertical-align: middle;\n",
       "    }\n",
       "\n",
       "    .dataframe tbody tr th {\n",
       "        vertical-align: top;\n",
       "    }\n",
       "\n",
       "    .dataframe thead th {\n",
       "        text-align: right;\n",
       "    }\n",
       "</style>\n",
       "<table border=\"1\" class=\"dataframe\">\n",
       "  <thead>\n",
       "    <tr style=\"text-align: right;\">\n",
       "      <th></th>\n",
       "      <th>Model</th>\n",
       "      <th>MAE</th>\n",
       "      <th>MAPE</th>\n",
       "      <th>MSE</th>\n",
       "    </tr>\n",
       "  </thead>\n",
       "  <tbody>\n",
       "    <tr>\n",
       "      <th>0</th>\n",
       "      <td>RandomForestRegressor</td>\n",
       "      <td>28.455  +/-  0.877</td>\n",
       "      <td>0.253 +/- 0.008</td>\n",
       "      <td>75.008 +/- 8.023</td>\n",
       "    </tr>\n",
       "  </tbody>\n",
       "</table>\n",
       "</div>"
      ],
      "text/plain": [
       "                   Model                 MAE             MAPE  \\\n",
       "0  RandomForestRegressor  28.455  +/-  0.877  0.253 +/- 0.008   \n",
       "\n",
       "                MSE  \n",
       "0  75.008 +/- 8.023  "
      ]
     },
     "execution_count": 62,
     "metadata": {},
     "output_type": "execute_result"
    }
   ],
   "source": [
    "result_rf = metrics_cv(model_rf, X, y, 'RandomForestRegressor')\n",
    "result_rf"
   ]
  },
  {
   "cell_type": "markdown",
   "id": "diverse-japanese",
   "metadata": {
    "heading_collapsed": true,
    "hidden": true
   },
   "source": [
    "## 7.4. XGB Regression Model"
   ]
  },
  {
   "cell_type": "code",
   "execution_count": 63,
   "id": "engaging-pattern",
   "metadata": {
    "ExecuteTime": {
     "end_time": "2021-08-05T17:28:01.726134Z",
     "start_time": "2021-08-05T17:28:01.422090Z"
    },
    "hidden": true
   },
   "outputs": [
    {
     "name": "stdout",
     "output_type": "stream",
     "text": [
      "MAE: 33.29181167697386 | MAPE: 0.319053723643867 | RMSE: 83.08787778156639\n"
     ]
    }
   ],
   "source": [
    "# model definition and fit\n",
    "model_xgb = xgb.XGBRegressor(objective='reg:squarederror').fit(x_train, y_train)\n",
    "\n",
    "# model predict\n",
    "yhat_xgb = model_xgb.predict(x_val)\n",
    "\n",
    "# model perfomance\n",
    "mae = metrics.mean_absolute_error(y_val, yhat_xgb)\n",
    "mape = metrics.mean_absolute_percentage_error(y_val, yhat_xgb) \n",
    "rmse = np.sqrt(metrics.mean_squared_error(y_val, yhat_xgb))\n",
    "\n",
    "print('MAE: {} | MAPE: {} | RMSE: {}'.format(mae, mape, rmse))"
   ]
  },
  {
   "cell_type": "code",
   "execution_count": 64,
   "id": "comprehensive-commission",
   "metadata": {
    "ExecuteTime": {
     "end_time": "2021-08-05T17:28:06.025007Z",
     "start_time": "2021-08-05T17:28:01.728322Z"
    },
    "hidden": true
   },
   "outputs": [
    {
     "data": {
      "text/html": [
       "<div>\n",
       "<style scoped>\n",
       "    .dataframe tbody tr th:only-of-type {\n",
       "        vertical-align: middle;\n",
       "    }\n",
       "\n",
       "    .dataframe tbody tr th {\n",
       "        vertical-align: top;\n",
       "    }\n",
       "\n",
       "    .dataframe thead th {\n",
       "        text-align: right;\n",
       "    }\n",
       "</style>\n",
       "<table border=\"1\" class=\"dataframe\">\n",
       "  <thead>\n",
       "    <tr style=\"text-align: right;\">\n",
       "      <th></th>\n",
       "      <th>Model</th>\n",
       "      <th>MAE</th>\n",
       "      <th>MAPE</th>\n",
       "      <th>MSE</th>\n",
       "    </tr>\n",
       "  </thead>\n",
       "  <tbody>\n",
       "    <tr>\n",
       "      <th>0</th>\n",
       "      <td>XGB Regressor</td>\n",
       "      <td>32.204  +/-  0.904</td>\n",
       "      <td>0.306 +/- 0.01</td>\n",
       "      <td>76.782 +/- 7.5</td>\n",
       "    </tr>\n",
       "  </tbody>\n",
       "</table>\n",
       "</div>"
      ],
      "text/plain": [
       "           Model                 MAE            MAPE             MSE\n",
       "0  XGB Regressor  32.204  +/-  0.904  0.306 +/- 0.01  76.782 +/- 7.5"
      ]
     },
     "execution_count": 64,
     "metadata": {},
     "output_type": "execute_result"
    }
   ],
   "source": [
    "result_xgb = metrics_cv(model_xgb, X, y, 'XGB Regressor')\n",
    "result_xgb"
   ]
  },
  {
   "cell_type": "markdown",
   "id": "vocal-precipitation",
   "metadata": {
    "heading_collapsed": true,
    "hidden": true
   },
   "source": [
    "## 7.5. Results"
   ]
  },
  {
   "cell_type": "code",
   "execution_count": 65,
   "id": "ordinary-reference",
   "metadata": {
    "ExecuteTime": {
     "end_time": "2021-08-05T17:28:06.042745Z",
     "start_time": "2021-08-05T17:28:06.027738Z"
    },
    "hidden": true
   },
   "outputs": [
    {
     "data": {
      "text/html": [
       "<div>\n",
       "<style scoped>\n",
       "    .dataframe tbody tr th:only-of-type {\n",
       "        vertical-align: middle;\n",
       "    }\n",
       "\n",
       "    .dataframe tbody tr th {\n",
       "        vertical-align: top;\n",
       "    }\n",
       "\n",
       "    .dataframe thead th {\n",
       "        text-align: right;\n",
       "    }\n",
       "</style>\n",
       "<table border=\"1\" class=\"dataframe\">\n",
       "  <thead>\n",
       "    <tr style=\"text-align: right;\">\n",
       "      <th></th>\n",
       "      <th>Model</th>\n",
       "      <th>MAE</th>\n",
       "      <th>MAPE</th>\n",
       "      <th>MSE</th>\n",
       "    </tr>\n",
       "  </thead>\n",
       "  <tbody>\n",
       "    <tr>\n",
       "      <th>0</th>\n",
       "      <td>Average Model</td>\n",
       "      <td>57.276  +/-  3.067</td>\n",
       "      <td>0.496 +/- 0.018</td>\n",
       "      <td>135.868 +/- 15.607</td>\n",
       "    </tr>\n",
       "    <tr>\n",
       "      <th>0</th>\n",
       "      <td>LinearRegression</td>\n",
       "      <td>43.298  +/-  1.967</td>\n",
       "      <td>0.439 +/- 0.01</td>\n",
       "      <td>108.275 +/- 14.817</td>\n",
       "    </tr>\n",
       "    <tr>\n",
       "      <th>0</th>\n",
       "      <td>RandomForestRegressor</td>\n",
       "      <td>28.455  +/-  0.877</td>\n",
       "      <td>0.253 +/- 0.008</td>\n",
       "      <td>75.008 +/- 8.023</td>\n",
       "    </tr>\n",
       "    <tr>\n",
       "      <th>0</th>\n",
       "      <td>XGB Regressor</td>\n",
       "      <td>32.204  +/-  0.904</td>\n",
       "      <td>0.306 +/- 0.01</td>\n",
       "      <td>76.782 +/- 7.5</td>\n",
       "    </tr>\n",
       "  </tbody>\n",
       "</table>\n",
       "</div>"
      ],
      "text/plain": [
       "                   Model                 MAE             MAPE  \\\n",
       "0          Average Model  57.276  +/-  3.067  0.496 +/- 0.018   \n",
       "0       LinearRegression  43.298  +/-  1.967   0.439 +/- 0.01   \n",
       "0  RandomForestRegressor  28.455  +/-  0.877  0.253 +/- 0.008   \n",
       "0          XGB Regressor  32.204  +/-  0.904   0.306 +/- 0.01   \n",
       "\n",
       "                  MSE  \n",
       "0  135.868 +/- 15.607  \n",
       "0  108.275 +/- 14.817  \n",
       "0    75.008 +/- 8.023  \n",
       "0      76.782 +/- 7.5  "
      ]
     },
     "execution_count": 65,
     "metadata": {},
     "output_type": "execute_result"
    }
   ],
   "source": [
    "result = pd.concat([result_baseline, result_lr, result_rf, result_xgb])\n",
    "result"
   ]
  },
  {
   "cell_type": "markdown",
   "id": "nearby-talent",
   "metadata": {
    "heading_collapsed": true
   },
   "source": [
    "# 8.0. Hyperparameter Fine Tuning"
   ]
  },
  {
   "cell_type": "markdown",
   "id": "consecutive-neutral",
   "metadata": {
    "heading_collapsed": true
   },
   "source": [
    "# 9.0. Model Perfomance"
   ]
  },
  {
   "cell_type": "markdown",
   "id": "transparent-disco",
   "metadata": {
    "heading_collapsed": true
   },
   "source": [
    "# 10.0. Deploy to Product"
   ]
  }
 ],
 "metadata": {
  "kernelspec": {
   "display_name": "Python 3",
   "language": "python",
   "name": "python3"
  },
  "language_info": {
   "codemirror_mode": {
    "name": "ipython",
    "version": 3
   },
   "file_extension": ".py",
   "mimetype": "text/x-python",
   "name": "python",
   "nbconvert_exporter": "python",
   "pygments_lexer": "ipython3",
   "version": "3.8.0"
  }
 },
 "nbformat": 4,
 "nbformat_minor": 5
}
