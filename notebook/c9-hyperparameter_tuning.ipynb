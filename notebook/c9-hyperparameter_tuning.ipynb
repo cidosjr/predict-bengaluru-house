{
 "cells": [
  {
   "cell_type": "markdown",
   "id": "genuine-groove",
   "metadata": {
    "heading_collapsed": true
   },
   "source": [
    "# <font color='Blue'> Planejamento da Solução </font>"
   ]
  },
  {
   "cell_type": "markdown",
   "id": "finite-creation",
   "metadata": {
    "heading_collapsed": true,
    "hidden": true
   },
   "source": [
    "## Input - Entrada"
   ]
  },
  {
   "cell_type": "markdown",
   "id": "rational-fabric",
   "metadata": {
    "heading_collapsed": true,
    "hidden": true
   },
   "source": [
    "### Problema de Negócio\n",
    "1. Quais são as coisas que um potencial comprador de imóvel residencial considera antes de comprar uma casa?\n",
    "(A localização, o tamanho da propriedade, a proximidade de escritórios, escolas, parques, restaurantes, hospitais ou preço ) \n",
    "2. Conjunto de dados que descrevem imóveis em Bengaluru."
   ]
  },
  {
   "cell_type": "markdown",
   "id": "potential-motivation",
   "metadata": {
    "heading_collapsed": true,
    "hidden": true
   },
   "source": [
    "## Output - Saída\n"
   ]
  },
  {
   "cell_type": "markdown",
   "id": "registered-roller",
   "metadata": {
    "hidden": true
   },
   "source": [
    "1. Grafico(s) demostrando as features mais importantes para comprar um imóveis\n",
    "2. Modelo para prever o preço das casas em Bengaluru."
   ]
  },
  {
   "cell_type": "markdown",
   "id": "fancy-benefit",
   "metadata": {
    "heading_collapsed": true,
    "hidden": true
   },
   "source": [
    "## Task - Processos"
   ]
  },
  {
   "cell_type": "markdown",
   "id": "adopted-porter",
   "metadata": {
    "hidden": true
   },
   "source": [
    "1. Quais são as coisas que um potencial comprador de imóvel residencial considera antes de comprar uma casa?\n",
    "* Limpar os dados\n",
    "* Criar features\n",
    "* Criar hipoteses de negocio em relação as features\n",
    "* Fazer EDA validando / refutando as hipoteses de negocio."
   ]
  },
  {
   "cell_type": "markdown",
   "id": "narrow-frank",
   "metadata": {
    "heading_collapsed": true
   },
   "source": [
    "# 0.0. Imports"
   ]
  },
  {
   "cell_type": "code",
   "execution_count": 112,
   "id": "enormous-failure",
   "metadata": {
    "ExecuteTime": {
     "end_time": "2021-08-07T22:07:43.640007Z",
     "start_time": "2021-08-07T22:07:43.634926Z"
    },
    "hidden": true
   },
   "outputs": [],
   "source": [
    "import re\n",
    "import optuna\n",
    "import pandas as pd\n",
    "import numpy as np\n",
    "import xgboost as xgb\n",
    "import seaborn as sns\n",
    "import haversine as hs\n",
    "import matplotlib.pyplot as plt\n",
    "\n",
    "from boruta import BorutaPy\n",
    "from geopy.geocoders import Nominatim\n",
    "from pandas_profiling import ProfileReport\n",
    "from optuna.visualization import plot_param_importances\n",
    "\n",
    "from sklearn import model_selection as ms\n",
    "from sklearn import preprocessing as pp\n",
    "from sklearn import dummy\n",
    "from sklearn import metrics\n",
    "from sklearn import linear_model as lm\n",
    "from sklearn import ensemble as en\n",
    "from sklearn.model_selection import cross_val_score, KFold, cross_validate"
   ]
  },
  {
   "cell_type": "markdown",
   "id": "norman-darkness",
   "metadata": {
    "heading_collapsed": true,
    "hidden": true
   },
   "source": [
    "## 0.1. Helper Function"
   ]
  },
  {
   "cell_type": "code",
   "execution_count": 4,
   "id": "lesser-afghanistan",
   "metadata": {
    "ExecuteTime": {
     "end_time": "2021-08-07T19:03:07.930309Z",
     "start_time": "2021-08-07T19:03:07.913681Z"
    },
    "hidden": true
   },
   "outputs": [],
   "source": [
    "def metrics_cv(model, X, y, model_name='not defined', kfold=5):\n",
    "    mae = -cross_val_score( model, X, y, scoring='neg_mean_absolute_error' , cv=kfold )\n",
    "    mape = -cross_val_score( model, X, y, scoring='neg_mean_absolute_percentage_error' , cv=kfold )\n",
    "    mse = -cross_val_score( model, X, y, scoring='neg_root_mean_squared_error' , cv=kfold )\n",
    "    \n",
    "    dictionary = {\n",
    "        'Model': model_name,\n",
    "        'MAE': f'{round(np.mean(mae), 3)}  +/-  { round(np.std(mae), 3)}',\n",
    "        'MAPE': f'{round(np.mean(mape), 3)} +/- { round(np.std(mape), 3)}',\n",
    "        'RMSE': f'{round(np.mean(mse), 3)} +/- { round(np.std(mse), 3)}'\n",
    "    }\n",
    "    \n",
    "    return pd.DataFrame(dictionary, index=[0])\n",
    "\n",
    "\n",
    "def descriptive_statistics(num_attr):\n",
    "    # Central Tendency: mean, median\n",
    "    c1 = pd.DataFrame(num_attr.apply(np.mean))\n",
    "    c2 = pd.DataFrame(num_attr.apply(np.median))\n",
    "\n",
    "    # Dispension: min, max, range, std, skew, kurtosis\n",
    "    d1 = pd.DataFrame(num_attr.apply(min))\n",
    "    d2 = pd.DataFrame(num_attr.apply(max))\n",
    "    d3 = pd.DataFrame(num_attr.apply(lambda x: x.max() - x.min()))\n",
    "    d4 = pd.DataFrame(num_attr.apply(lambda x: x.std()))\n",
    "    \n",
    "    # Measures of Shape\n",
    "    s1 = pd.DataFrame(num_attr.apply(lambda x: x.skew()))\n",
    "    s2 = pd.DataFrame(num_attr.apply(lambda x: x.kurtosis()))\n",
    "\n",
    "    # concat\n",
    "    m = pd.concat([d1,d2,d3,c1,c2,d4,s1,s2], axis=1).reset_index()\n",
    "    m.columns = ['attributes', 'min', 'max', 'range', 'mean', 'median', 'std', 'skew', 'kurtosis']\n",
    "    return m\n"
   ]
  },
  {
   "cell_type": "markdown",
   "id": "accurate-median",
   "metadata": {
    "heading_collapsed": true,
    "hidden": true
   },
   "source": [
    "## 0.2. Load Data"
   ]
  },
  {
   "cell_type": "code",
   "execution_count": 5,
   "id": "focal-independence",
   "metadata": {
    "ExecuteTime": {
     "end_time": "2021-08-07T19:03:07.962870Z",
     "start_time": "2021-08-07T19:03:07.933890Z"
    },
    "hidden": true
   },
   "outputs": [],
   "source": [
    "df_raw = pd.read_csv('../data/Bengaluru_House_Data.csv')"
   ]
  },
  {
   "cell_type": "markdown",
   "id": "together-introduction",
   "metadata": {
    "heading_collapsed": true
   },
   "source": [
    "# 1.0. Data Description"
   ]
  },
  {
   "cell_type": "code",
   "execution_count": 6,
   "id": "breeding-consistency",
   "metadata": {
    "ExecuteTime": {
     "end_time": "2021-08-07T19:03:07.971158Z",
     "start_time": "2021-08-07T19:03:07.966520Z"
    },
    "hidden": true
   },
   "outputs": [],
   "source": [
    "df1 = df_raw.copy()"
   ]
  },
  {
   "cell_type": "markdown",
   "id": "waiting-plastic",
   "metadata": {
    "ExecuteTime": {
     "end_time": "2021-08-05T06:19:15.080301Z",
     "start_time": "2021-08-05T06:19:15.066336Z"
    },
    "hidden": true
   },
   "source": [
    "*  **Area_type** - describes the area \n",
    "*  **Availability** - when it can be possessed or when it is ready(categorical and time-series) \n",
    "*  **Location** - where it is located in Bengaluru \n",
    "*  **Price** - Value of the property in lakhs(INR) M\n",
    "*  **Size** - in BHK or Bedroom (1-10 or more) \n",
    "*  **Society** - to which society it belongs \n",
    "*  **Total_sqft** - size of the property in sq.ft \n",
    "*  **Bath** - No. of bathrooms \n",
    "*  **Balcony** - No. of the balcony "
   ]
  },
  {
   "cell_type": "markdown",
   "id": "standing-comment",
   "metadata": {
    "heading_collapsed": true,
    "hidden": true
   },
   "source": [
    "## 1.1. Data dimensions"
   ]
  },
  {
   "cell_type": "code",
   "execution_count": 7,
   "id": "lovely-generation",
   "metadata": {
    "ExecuteTime": {
     "end_time": "2021-08-07T19:03:07.982097Z",
     "start_time": "2021-08-07T19:03:07.974710Z"
    },
    "hidden": true
   },
   "outputs": [
    {
     "name": "stdout",
     "output_type": "stream",
     "text": [
      "Number of Rows: 13320\n",
      "Number of Columns: 9\n"
     ]
    }
   ],
   "source": [
    "print('Number of Rows: {}'.format(df1.shape[0]))\n",
    "print('Number of Columns: {}'.format(df1.shape[1]))"
   ]
  },
  {
   "cell_type": "markdown",
   "id": "progressive-offense",
   "metadata": {
    "heading_collapsed": true,
    "hidden": true
   },
   "source": [
    "## 1.2. Data Types"
   ]
  },
  {
   "cell_type": "code",
   "execution_count": 8,
   "id": "informative-operation",
   "metadata": {
    "ExecuteTime": {
     "end_time": "2021-08-07T19:03:08.000553Z",
     "start_time": "2021-08-07T19:03:07.985595Z"
    },
    "hidden": true
   },
   "outputs": [
    {
     "data": {
      "text/plain": [
       "area_type        object\n",
       "availability     object\n",
       "location         object\n",
       "size             object\n",
       "society          object\n",
       "total_sqft       object\n",
       "bath            float64\n",
       "balcony         float64\n",
       "price           float64\n",
       "dtype: object"
      ]
     },
     "execution_count": 8,
     "metadata": {},
     "output_type": "execute_result"
    }
   ],
   "source": [
    "df1.dtypes"
   ]
  },
  {
   "cell_type": "markdown",
   "id": "applied-emphasis",
   "metadata": {
    "heading_collapsed": true,
    "hidden": true
   },
   "source": [
    "## 1.3. Check NA"
   ]
  },
  {
   "cell_type": "code",
   "execution_count": 9,
   "id": "british-robertson",
   "metadata": {
    "ExecuteTime": {
     "end_time": "2021-08-07T19:03:08.031663Z",
     "start_time": "2021-08-07T19:03:08.008344Z"
    },
    "hidden": true
   },
   "outputs": [
    {
     "data": {
      "text/plain": [
       "area_type        0.000000\n",
       "availability     0.000000\n",
       "location         0.007508\n",
       "size             0.120120\n",
       "society         41.306306\n",
       "total_sqft       0.000000\n",
       "bath             0.548048\n",
       "balcony          4.572072\n",
       "price            0.000000\n",
       "dtype: float64"
      ]
     },
     "execution_count": 9,
     "metadata": {},
     "output_type": "execute_result"
    }
   ],
   "source": [
    "df1.isna().mean() *100"
   ]
  },
  {
   "cell_type": "markdown",
   "id": "roman-inflation",
   "metadata": {
    "heading_collapsed": true,
    "hidden": true
   },
   "source": [
    "## 1.4. Replace NA"
   ]
  },
  {
   "cell_type": "code",
   "execution_count": 10,
   "id": "nervous-newsletter",
   "metadata": {
    "ExecuteTime": {
     "end_time": "2021-08-07T19:03:08.053557Z",
     "start_time": "2021-08-07T19:03:08.037306Z"
    },
    "hidden": true
   },
   "outputs": [],
   "source": [
    "# drop features\n",
    "# remove: balcony, 4% ?\n",
    "df1 = df1.dropna(subset=['size', 'location', 'bath', 'balcony'])"
   ]
  },
  {
   "cell_type": "markdown",
   "id": "informal-recognition",
   "metadata": {
    "heading_collapsed": true,
    "hidden": true
   },
   "source": [
    "## 1.5. Change Dtypes"
   ]
  },
  {
   "cell_type": "code",
   "execution_count": 11,
   "id": "explicit-wellington",
   "metadata": {
    "ExecuteTime": {
     "end_time": "2021-08-07T19:03:08.067296Z",
     "start_time": "2021-08-07T19:03:08.057752Z"
    },
    "hidden": true
   },
   "outputs": [
    {
     "data": {
      "text/plain": [
       "area_type        object\n",
       "availability     object\n",
       "location         object\n",
       "size             object\n",
       "society          object\n",
       "total_sqft       object\n",
       "bath            float64\n",
       "balcony         float64\n",
       "price           float64\n",
       "dtype: object"
      ]
     },
     "execution_count": 11,
     "metadata": {},
     "output_type": "execute_result"
    }
   ],
   "source": [
    "df1.dtypes"
   ]
  },
  {
   "cell_type": "markdown",
   "id": "mighty-princeton",
   "metadata": {
    "heading_collapsed": true,
    "hidden": true
   },
   "source": [
    "## 1.6. Descriptive Statistics"
   ]
  },
  {
   "cell_type": "code",
   "execution_count": 12,
   "id": "stainless-yacht",
   "metadata": {
    "ExecuteTime": {
     "end_time": "2021-08-07T19:03:08.085222Z",
     "start_time": "2021-08-07T19:03:08.070764Z"
    },
    "hidden": true
   },
   "outputs": [],
   "source": [
    "num_att = df1.select_dtypes(include=['int64', 'float64'])\n",
    "cat_att = df1.select_dtypes(exclude=['int64', 'float64'])"
   ]
  },
  {
   "cell_type": "markdown",
   "id": "homeless-chest",
   "metadata": {
    "heading_collapsed": true,
    "hidden": true
   },
   "source": [
    "### 1.6.1. Numerical Attributes"
   ]
  },
  {
   "cell_type": "code",
   "execution_count": 13,
   "id": "junior-arbor",
   "metadata": {
    "ExecuteTime": {
     "end_time": "2021-08-07T19:03:08.175090Z",
     "start_time": "2021-08-07T19:03:08.088261Z"
    },
    "hidden": true
   },
   "outputs": [
    {
     "data": {
      "text/html": [
       "<div>\n",
       "<style scoped>\n",
       "    .dataframe tbody tr th:only-of-type {\n",
       "        vertical-align: middle;\n",
       "    }\n",
       "\n",
       "    .dataframe tbody tr th {\n",
       "        vertical-align: top;\n",
       "    }\n",
       "\n",
       "    .dataframe thead th {\n",
       "        text-align: right;\n",
       "    }\n",
       "</style>\n",
       "<table border=\"1\" class=\"dataframe\">\n",
       "  <thead>\n",
       "    <tr style=\"text-align: right;\">\n",
       "      <th></th>\n",
       "      <th>attributes</th>\n",
       "      <th>min</th>\n",
       "      <th>max</th>\n",
       "      <th>range</th>\n",
       "      <th>mean</th>\n",
       "      <th>median</th>\n",
       "      <th>std</th>\n",
       "      <th>skew</th>\n",
       "      <th>kurtosis</th>\n",
       "    </tr>\n",
       "  </thead>\n",
       "  <tbody>\n",
       "    <tr>\n",
       "      <th>0</th>\n",
       "      <td>bath</td>\n",
       "      <td>1.0</td>\n",
       "      <td>40.0</td>\n",
       "      <td>39.0</td>\n",
       "      <td>2.617309</td>\n",
       "      <td>2.0</td>\n",
       "      <td>1.226000</td>\n",
       "      <td>4.590497</td>\n",
       "      <td>85.455663</td>\n",
       "    </tr>\n",
       "    <tr>\n",
       "      <th>1</th>\n",
       "      <td>balcony</td>\n",
       "      <td>0.0</td>\n",
       "      <td>3.0</td>\n",
       "      <td>3.0</td>\n",
       "      <td>1.584343</td>\n",
       "      <td>2.0</td>\n",
       "      <td>0.817287</td>\n",
       "      <td>0.005966</td>\n",
       "      <td>-0.544247</td>\n",
       "    </tr>\n",
       "    <tr>\n",
       "      <th>2</th>\n",
       "      <td>price</td>\n",
       "      <td>8.0</td>\n",
       "      <td>2912.0</td>\n",
       "      <td>2904.0</td>\n",
       "      <td>106.060778</td>\n",
       "      <td>70.0</td>\n",
       "      <td>131.766089</td>\n",
       "      <td>7.875011</td>\n",
       "      <td>107.376164</td>\n",
       "    </tr>\n",
       "  </tbody>\n",
       "</table>\n",
       "</div>"
      ],
      "text/plain": [
       "  attributes  min     max   range        mean  median         std      skew  \\\n",
       "0       bath  1.0    40.0    39.0    2.617309     2.0    1.226000  4.590497   \n",
       "1    balcony  0.0     3.0     3.0    1.584343     2.0    0.817287  0.005966   \n",
       "2      price  8.0  2912.0  2904.0  106.060778    70.0  131.766089  7.875011   \n",
       "\n",
       "     kurtosis  \n",
       "0   85.455663  \n",
       "1   -0.544247  \n",
       "2  107.376164  "
      ]
     },
     "execution_count": 13,
     "metadata": {},
     "output_type": "execute_result"
    }
   ],
   "source": [
    "descriptive_statistics(num_att)"
   ]
  },
  {
   "cell_type": "markdown",
   "id": "technical-enterprise",
   "metadata": {
    "hidden": true
   },
   "source": [
    "**Note:**\n",
    "1. bath: 40 banheiros? "
   ]
  },
  {
   "cell_type": "markdown",
   "id": "binding-pipeline",
   "metadata": {
    "heading_collapsed": true,
    "hidden": true
   },
   "source": [
    "### 1.6.2. Categorical Attributes"
   ]
  },
  {
   "cell_type": "code",
   "execution_count": 14,
   "id": "light-butter",
   "metadata": {
    "ExecuteTime": {
     "end_time": "2021-08-07T19:03:08.235818Z",
     "start_time": "2021-08-07T19:03:08.178182Z"
    },
    "hidden": true
   },
   "outputs": [
    {
     "data": {
      "text/html": [
       "<div>\n",
       "<style scoped>\n",
       "    .dataframe tbody tr th:only-of-type {\n",
       "        vertical-align: middle;\n",
       "    }\n",
       "\n",
       "    .dataframe tbody tr th {\n",
       "        vertical-align: top;\n",
       "    }\n",
       "\n",
       "    .dataframe thead th {\n",
       "        text-align: right;\n",
       "    }\n",
       "</style>\n",
       "<table border=\"1\" class=\"dataframe\">\n",
       "  <thead>\n",
       "    <tr style=\"text-align: right;\">\n",
       "      <th></th>\n",
       "      <th>area_type</th>\n",
       "      <th>availability</th>\n",
       "      <th>location</th>\n",
       "      <th>size</th>\n",
       "      <th>society</th>\n",
       "      <th>total_sqft</th>\n",
       "    </tr>\n",
       "  </thead>\n",
       "  <tbody>\n",
       "    <tr>\n",
       "      <th>count</th>\n",
       "      <td>12710</td>\n",
       "      <td>12710</td>\n",
       "      <td>12710</td>\n",
       "      <td>12710</td>\n",
       "      <td>7496</td>\n",
       "      <td>12710</td>\n",
       "    </tr>\n",
       "    <tr>\n",
       "      <th>unique</th>\n",
       "      <td>4</td>\n",
       "      <td>78</td>\n",
       "      <td>1265</td>\n",
       "      <td>27</td>\n",
       "      <td>2592</td>\n",
       "      <td>1976</td>\n",
       "    </tr>\n",
       "    <tr>\n",
       "      <th>top</th>\n",
       "      <td>Super built-up  Area</td>\n",
       "      <td>Ready To Move</td>\n",
       "      <td>Whitefield</td>\n",
       "      <td>2 BHK</td>\n",
       "      <td>GrrvaGr</td>\n",
       "      <td>1200</td>\n",
       "    </tr>\n",
       "    <tr>\n",
       "      <th>freq</th>\n",
       "      <td>8481</td>\n",
       "      <td>10077</td>\n",
       "      <td>514</td>\n",
       "      <td>5152</td>\n",
       "      <td>80</td>\n",
       "      <td>788</td>\n",
       "    </tr>\n",
       "  </tbody>\n",
       "</table>\n",
       "</div>"
      ],
      "text/plain": [
       "                   area_type   availability    location   size  society  \\\n",
       "count                  12710          12710       12710  12710     7496   \n",
       "unique                     4             78        1265     27     2592   \n",
       "top     Super built-up  Area  Ready To Move  Whitefield  2 BHK  GrrvaGr   \n",
       "freq                    8481          10077         514   5152       80   \n",
       "\n",
       "       total_sqft  \n",
       "count       12710  \n",
       "unique       1976  \n",
       "top          1200  \n",
       "freq          788  "
      ]
     },
     "execution_count": 14,
     "metadata": {},
     "output_type": "execute_result"
    }
   ],
   "source": [
    "cat_att.describe(include=['object'])"
   ]
  },
  {
   "cell_type": "code",
   "execution_count": 15,
   "id": "weekly-seating",
   "metadata": {
    "ExecuteTime": {
     "end_time": "2021-08-07T19:03:08.248113Z",
     "start_time": "2021-08-07T19:03:08.237826Z"
    },
    "hidden": true
   },
   "outputs": [
    {
     "data": {
      "text/plain": [
       "Super built-up  Area    0.667270\n",
       "Built-up  Area          0.181747\n",
       "Plot  Area              0.144532\n",
       "Carpet  Area            0.006452\n",
       "Name: area_type, dtype: float64"
      ]
     },
     "execution_count": 15,
     "metadata": {},
     "output_type": "execute_result"
    }
   ],
   "source": [
    "cat_att['area_type'].value_counts(normalize=True)"
   ]
  },
  {
   "cell_type": "code",
   "execution_count": 16,
   "id": "announced-howard",
   "metadata": {
    "ExecuteTime": {
     "end_time": "2021-08-07T19:03:08.261907Z",
     "start_time": "2021-08-07T19:03:08.250237Z"
    },
    "hidden": true
   },
   "outputs": [
    {
     "data": {
      "text/plain": [
       "Ready To Move    0.792840\n",
       "18-Dec           0.022895\n",
       "18-May           0.022187\n",
       "18-Apr           0.020535\n",
       "18-Aug           0.015736\n",
       "19-Dec           0.014319\n",
       "18-Jul           0.011015\n",
       "18-Mar           0.009284\n",
       "20-Dec           0.007710\n",
       "18-Jun           0.007553\n",
       "Name: availability, dtype: float64"
      ]
     },
     "execution_count": 16,
     "metadata": {},
     "output_type": "execute_result"
    }
   ],
   "source": [
    "cat_att['availability'].value_counts(normalize=True).head(10)"
   ]
  },
  {
   "cell_type": "code",
   "execution_count": 17,
   "id": "differential-element",
   "metadata": {
    "ExecuteTime": {
     "end_time": "2021-08-07T19:03:08.280178Z",
     "start_time": "2021-08-07T19:03:08.264472Z"
    },
    "hidden": true
   },
   "outputs": [
    {
     "data": {
      "text/plain": [
       "Whitefield               0.040441\n",
       "Sarjapur  Road           0.029268\n",
       "Electronic City          0.023603\n",
       "Kanakpura Road           0.020535\n",
       "Thanisandra              0.018175\n",
       "Yelahanka                0.016208\n",
       "Uttarahalli              0.014634\n",
       "Hebbal                   0.013611\n",
       "Raja Rajeshwari Nagar    0.013218\n",
       "Marathahalli             0.012903\n",
       "Name: location, dtype: float64"
      ]
     },
     "execution_count": 17,
     "metadata": {},
     "output_type": "execute_result"
    }
   ],
   "source": [
    "cat_att['location'].value_counts(normalize=True).head(10)"
   ]
  },
  {
   "cell_type": "code",
   "execution_count": 18,
   "id": "distinguished-planet",
   "metadata": {
    "ExecuteTime": {
     "end_time": "2021-08-07T19:03:08.300318Z",
     "start_time": "2021-08-07T19:03:08.284394Z"
    },
    "hidden": true
   },
   "outputs": [
    {
     "data": {
      "text/plain": [
       "2 BHK        0.405350\n",
       "3 BHK        0.324784\n",
       "4 Bedroom    0.058930\n",
       "1 BHK        0.041699\n",
       "3 Bedroom    0.041463\n",
       "4 BHK        0.038474\n",
       "2 Bedroom    0.025806\n",
       "5 Bedroom    0.020692\n",
       "6 Bedroom    0.013297\n",
       "1 Bedroom    0.008261\n",
       "Name: size, dtype: float64"
      ]
     },
     "execution_count": 18,
     "metadata": {},
     "output_type": "execute_result"
    }
   ],
   "source": [
    "cat_att['size'].value_counts(normalize=True).head(10)"
   ]
  },
  {
   "cell_type": "code",
   "execution_count": 19,
   "id": "active-basic",
   "metadata": {
    "ExecuteTime": {
     "end_time": "2021-08-07T19:03:08.366155Z",
     "start_time": "2021-08-07T19:03:08.302977Z"
    },
    "hidden": true
   },
   "outputs": [
    {
     "data": {
      "text/plain": [
       "272"
      ]
     },
     "execution_count": 19,
     "metadata": {},
     "output_type": "execute_result"
    }
   ],
   "source": [
    "dirt = df1.loc[~df1['total_sqft'].apply(lambda x: bool(re.search(   '^([0-9]+)$', x    ))), 'total_sqft']\n",
    "\n",
    "len(dirt)"
   ]
  },
  {
   "cell_type": "code",
   "execution_count": 20,
   "id": "fossil-novelty",
   "metadata": {
    "ExecuteTime": {
     "end_time": "2021-08-07T19:03:08.377714Z",
     "start_time": "2021-08-07T19:03:08.369072Z"
    },
    "hidden": true
   },
   "outputs": [
    {
     "data": {
      "text/plain": [
       "['2100 - 2850',\n",
       " '1330.74',\n",
       " '3067 - 8156',\n",
       " '1042 - 1105',\n",
       " '1563.05',\n",
       " '1145 - 1340',\n",
       " '1015 - 1540',\n",
       " '2023.71',\n",
       " '1113.27',\n",
       " '34.46Sq. Meter']"
      ]
     },
     "execution_count": 20,
     "metadata": {},
     "output_type": "execute_result"
    }
   ],
   "source": [
    "dirt.tolist()[:10]"
   ]
  },
  {
   "cell_type": "markdown",
   "id": "buried-landscape",
   "metadata": {
    "hidden": true
   },
   "source": [
    "**Note**:\n",
    "\n",
    "1. availability: coluna categoricas 78 variavéis categoricas (Ready To Move 79 %)\n",
    "2. location - capturar lat e long e deletar variavel.\n",
    "3. size: Limpar variavel e transformar em inteira.\n",
    "4. society: remover, pouca informação.\n",
    "5. total_sqft: 272 itens que não são somente números."
   ]
  },
  {
   "cell_type": "markdown",
   "id": "logical-retention",
   "metadata": {
    "heading_collapsed": true
   },
   "source": [
    "# 2.0. Feature Engineering"
   ]
  },
  {
   "cell_type": "code",
   "execution_count": 21,
   "id": "together-bermuda",
   "metadata": {
    "ExecuteTime": {
     "end_time": "2021-08-07T19:03:08.427537Z",
     "start_time": "2021-08-07T19:03:08.380835Z"
    },
    "hidden": true
   },
   "outputs": [],
   "source": [
    "# df2 = df1.copy()\n",
    "df2 = pd.read_csv('../data/bengaluru_house_data_lat_lon.csv')"
   ]
  },
  {
   "cell_type": "markdown",
   "id": "excited-helping",
   "metadata": {
    "hidden": true
   },
   "source": [
    "## 2.1. Feature Creation"
   ]
  },
  {
   "cell_type": "markdown",
   "id": "veterinary-subcommittee",
   "metadata": {
    "heading_collapsed": true,
    "hidden": true
   },
   "source": [
    "### 2.1.1.  Lat and Lon"
   ]
  },
  {
   "cell_type": "code",
   "execution_count": 22,
   "id": "impressive-sculpture",
   "metadata": {
    "ExecuteTime": {
     "end_time": "2021-08-07T19:03:08.435508Z",
     "start_time": "2021-08-07T19:03:08.432218Z"
    },
    "hidden": true
   },
   "outputs": [],
   "source": [
    "# %%time \n",
    "\n",
    "# location -> lat and lon\n",
    "\n",
    "# geolocator = Nominatim(user_agent=\"geoapiExercises\")\n",
    "\n",
    "# def location_lat(x):\n",
    "#     if geolocator.geocode(x, timeout=None):\n",
    "#         return geolocator.geocode(x, timeout=None).raw['lat']\n",
    "#     else: \n",
    "#         return x\n",
    "\n",
    "# df2['lat'] = df2['location'].apply(location_lat)\n",
    "\n",
    "# def location_lon(x):\n",
    "#     if geolocator.geocode(x, timeout=None):\n",
    "#         return geolocator.geocode(x, timeout=None).raw['lon']\n",
    "#     else: \n",
    "#         return x\n",
    "\n",
    "# df2['lon'] = df2['location'].apply(location_lon)\n",
    "\n",
    "# df2.to_csv('bengaluru_house_data_lat_lon.csv', index=False)"
   ]
  },
  {
   "cell_type": "markdown",
   "id": "gross-interference",
   "metadata": {
    "heading_collapsed": true,
    "hidden": true
   },
   "source": [
    "### 2.1.2. Number of Bedroom"
   ]
  },
  {
   "cell_type": "code",
   "execution_count": 23,
   "id": "related-kruger",
   "metadata": {
    "ExecuteTime": {
     "end_time": "2021-08-07T19:03:08.469008Z",
     "start_time": "2021-08-07T19:03:08.437995Z"
    },
    "hidden": true
   },
   "outputs": [],
   "source": [
    "df2['qt_bedroom'] = df2['size'].apply(lambda x: str(x).split()[0]).astype(int)"
   ]
  },
  {
   "cell_type": "code",
   "execution_count": 24,
   "id": "practical-syndication",
   "metadata": {
    "ExecuteTime": {
     "end_time": "2021-08-07T19:03:08.489316Z",
     "start_time": "2021-08-07T19:03:08.471899Z"
    },
    "hidden": true
   },
   "outputs": [],
   "source": [
    "df2['size_bedroom_or_bhk'] = df2['size'].apply(lambda x: str(x).split()[1])"
   ]
  },
  {
   "cell_type": "markdown",
   "id": "external-trance",
   "metadata": {
    "hidden": true
   },
   "source": [
    "## 2.2. New Features Creation location\n",
    "\n"
   ]
  },
  {
   "cell_type": "markdown",
   "id": "finished-oregon",
   "metadata": {
    "ExecuteTime": {
     "end_time": "2021-08-05T21:31:06.489902Z",
     "start_time": "2021-08-05T21:31:06.264519Z"
    },
    "heading_collapsed": true,
    "hidden": true
   },
   "source": [
    "### 2.2.0. Lat and Lon Manual"
   ]
  },
  {
   "cell_type": "code",
   "execution_count": 25,
   "id": "commercial-height",
   "metadata": {
    "ExecuteTime": {
     "end_time": "2021-08-07T19:03:08.564724Z",
     "start_time": "2021-08-07T19:03:08.495663Z"
    },
    "hidden": true
   },
   "outputs": [],
   "source": [
    "Kasavanhalli = ['13.953548', '76.700462']\n",
    "Bisuvanahalli = ['13.2292777', '77.5461785']\n",
    "Bhoganhalli = ['12.925617', '77.700203']\n",
    "Talaghattapura = ['12.86849', '77.536557']\n",
    "Lakshminarayana_Pura = ['12.869087', '77.534158']\n",
    "Kumaraswami_Layout = ['12.9037594', '77.56184389999999']\n",
    "Margondanahalli = ['12.957805', '77.713036']\n",
    "Kothannur = ['13.0551956', '77.64222059999997']\n",
    "Babusapalaya = ['13.022823', '77.652092']\n",
    "Somasundara_Palya = ['12.89859', '77.651465']\n",
    "\n",
    "df2.loc[df2['location'] == 'Kasavanhalli', 'lat'] = Kasavanhalli[0]\n",
    "df2.loc[df2['location'] == 'Bisuvanahalli', 'lat'] = Bisuvanahalli[0]\n",
    "df2.loc[df2['location'] == 'Bhoganhalli', 'lat'] = Bhoganhalli[0]\n",
    "df2.loc[df2['location'] == 'Talaghattapura', 'lat'] = Talaghattapura[0]\n",
    "df2.loc[df2['location'] == 'Lakshminarayana Pura', 'lat'] = Lakshminarayana_Pura[0]\n",
    "df2.loc[df2['location'] == 'Kumaraswami Layout', 'lat'] = Kumaraswami_Layout[0]\n",
    "df2.loc[df2['location'] == 'Margondanahalli', 'lat'] = Margondanahalli[0]\n",
    "df2.loc[df2['location'] == 'Kothannur', 'lat'] = Kothannur[0]\n",
    "df2.loc[df2['location'] == 'Babusapalaya', 'lat'] = Babusapalaya[0]\n",
    "df2.loc[df2['location'] == 'Somasundara Palya', 'lat'] = Somasundara_Palya[0]\n",
    "\n",
    "df2.loc[df2['location'] == 'Kasavanhalli', 'lon'] = Kasavanhalli[1]\n",
    "df2.loc[df2['location'] == 'Bisuvanahalli', 'lon'] = Bisuvanahalli[1]\n",
    "df2.loc[df2['location'] == 'Bhoganhalli', 'lon'] = Bhoganhalli[1]\n",
    "df2.loc[df2['location'] == 'Talaghattapura', 'lon'] = Talaghattapura[1]\n",
    "df2.loc[df2['location'] == 'Lakshminarayana Pura', 'lon'] = Lakshminarayana_Pura[1]\n",
    "df2.loc[df2['location'] == 'Kumaraswami Layout', 'lon'] = Kumaraswami_Layout[1]\n",
    "df2.loc[df2['location'] == 'Margondanahalli', 'lon'] = Margondanahalli[1]\n",
    "df2.loc[df2['location'] == 'Kothannur', 'lon'] = Kothannur[1]\n",
    "df2.loc[df2['location'] == 'Babusapalaya', 'lon'] = Babusapalaya[1]\n",
    "df2.loc[df2['location'] == 'Somasundara Palya', 'lon'] = Somasundara_Palya[1]"
   ]
  },
  {
   "cell_type": "markdown",
   "id": "japanese-ecology",
   "metadata": {
    "heading_collapsed": true,
    "hidden": true
   },
   "source": [
    "### 2.2.1. Technology Center"
   ]
  },
  {
   "cell_type": "markdown",
   "id": "developmental-twins",
   "metadata": {
    "hidden": true
   },
   "source": [
    "* Em 2014, Bangalore contribuiu com US $ 45 bilhões, ou 38 por cento do total das exportações de TI da Índia.\n",
    "\n",
    "* Grande número de funcionários que trabalham nas áreas dos corredores de TI de polo de ti:\n",
    "\n",
    "1. Whitefield\n",
    "3. Outer Ring Road \n",
    "2. Electronics City"
   ]
  },
  {
   "cell_type": "code",
   "execution_count": 26,
   "id": "chief-parker",
   "metadata": {
    "ExecuteTime": {
     "end_time": "2021-08-07T19:03:08.654287Z",
     "start_time": "2021-08-07T19:03:08.569381Z"
    },
    "hidden": true
   },
   "outputs": [],
   "source": [
    "def regex_technology_center(x):\n",
    "    if bool(re.search('^Electro', x)) | bool(re.search('^[Oo]uter+', x)) | bool(re.search('^[Ww]hitefield+', x)):\n",
    "        return 1\n",
    "    else:\n",
    "        return 0\n",
    "\n",
    "df2['is_technology_center'] = df2['location'].apply(regex_technology_center)"
   ]
  },
  {
   "cell_type": "markdown",
   "id": "recognized-internship",
   "metadata": {
    "heading_collapsed": true,
    "hidden": true
   },
   "source": [
    "###  2.2.2. Near the airport"
   ]
  },
  {
   "cell_type": "markdown",
   "id": "breeding-performance",
   "metadata": {
    "hidden": true
   },
   "source": [
    "Bangalore é servida pelo Aeroporto Internacional de Kempegowda ( IATA : BLR , ICAO : VOBL ), localizado em Devanahalli , a cerca de 40 km (25 milhas) do centro da cidade. "
   ]
  },
  {
   "cell_type": "code",
   "execution_count": 27,
   "id": "timely-plaintiff",
   "metadata": {
    "ExecuteTime": {
     "end_time": "2021-08-07T19:03:08.696623Z",
     "start_time": "2021-08-07T19:03:08.656232Z"
    },
    "hidden": true
   },
   "outputs": [],
   "source": [
    "df2['near_the_airport'] = df2['location'].apply(lambda x: 1 if bool((re.search('^[dD]evanahall', x))) else 0  )"
   ]
  },
  {
   "cell_type": "markdown",
   "id": "emerging-wages",
   "metadata": {
    "heading_collapsed": true,
    "hidden": true
   },
   "source": [
    "###  2.2.3. Road"
   ]
  },
  {
   "cell_type": "code",
   "execution_count": 28,
   "id": "nonprofit-banks",
   "metadata": {
    "ExecuteTime": {
     "end_time": "2021-08-07T19:03:08.744931Z",
     "start_time": "2021-08-07T19:03:08.699261Z"
    },
    "hidden": true
   },
   "outputs": [],
   "source": [
    "df2['is_road'] = df2['location'].apply(lambda x:1 if bool((re.search('[Rr]oad', x))) else 0 )"
   ]
  },
  {
   "cell_type": "markdown",
   "id": "sitting-liberal",
   "metadata": {
    "heading_collapsed": true,
    "hidden": true
   },
   "source": [
    "### 2.2.4. Distance of Bangalore University"
   ]
  },
  {
   "cell_type": "code",
   "execution_count": 29,
   "id": "affecting-mills",
   "metadata": {
    "ExecuteTime": {
     "end_time": "2021-08-07T19:03:08.750797Z",
     "start_time": "2021-08-07T19:03:08.747047Z"
    },
    "hidden": true
   },
   "outputs": [],
   "source": [
    "## Distance Between 2 Geolocations in Python\n",
    "# https://towardsdatascience.com/calculating-distance-between-two-geolocations-in-python-26ad3afe287b"
   ]
  },
  {
   "cell_type": "code",
   "execution_count": 30,
   "id": "progressive-processing",
   "metadata": {
    "ExecuteTime": {
     "end_time": "2021-08-07T19:03:09.245589Z",
     "start_time": "2021-08-07T19:03:08.754645Z"
    },
    "hidden": true
   },
   "outputs": [],
   "source": [
    "def distance_bangalore_university(x):\n",
    "    dist_bang_un = (12.9365945869, 77.5019063257)\n",
    "    \n",
    "    if re.search('^[0-9-][0-9][\\.]+', x['lat']):\n",
    "        \n",
    "        loc = float(x['lat']), float(x['lon'])\n",
    "        return hs.haversine(dist_bang_un, loc)\n",
    "    else:\n",
    "        return np.NAN\n",
    "    \n",
    "    \n",
    "df2['distance_bangalore_university'] = df2.apply(distance_bangalore_university, axis=1)"
   ]
  },
  {
   "cell_type": "markdown",
   "id": "bigger-plaintiff",
   "metadata": {
    "heading_collapsed": true,
    "hidden": true
   },
   "source": [
    "### 2.2.5. Distance of Airport "
   ]
  },
  {
   "cell_type": "code",
   "execution_count": 31,
   "id": "dried-andrews",
   "metadata": {
    "ExecuteTime": {
     "end_time": "2021-08-07T19:03:09.746116Z",
     "start_time": "2021-08-07T19:03:09.247689Z"
    },
    "hidden": true
   },
   "outputs": [],
   "source": [
    "def distance_airport(x):\n",
    "    distance = (13.199379, 77.710136)\n",
    "    \n",
    "    if re.search('^[0-9-][0-9][\\.]+', x['lat']):\n",
    "        \n",
    "        loc = float(x['lat']), float(x['lon'])\n",
    "        return hs.haversine(distance, loc)\n",
    "    else:\n",
    "        return np.NAN\n",
    "    \n",
    "    \n",
    "df2['distance_airport'] = df2.apply(distance_airport, axis=1)"
   ]
  },
  {
   "cell_type": "markdown",
   "id": "expected-light",
   "metadata": {
    "heading_collapsed": true,
    "hidden": true
   },
   "source": [
    "### 2.2.6. Distance Hesaraghatta Lake"
   ]
  },
  {
   "cell_type": "code",
   "execution_count": 32,
   "id": "theoretical-location",
   "metadata": {
    "ExecuteTime": {
     "end_time": "2021-08-07T19:03:10.213464Z",
     "start_time": "2021-08-07T19:03:09.748902Z"
    },
    "hidden": true
   },
   "outputs": [],
   "source": [
    "def distance_hesaraghatta_lake(x):\n",
    "    distance = (13.15, 77.49)\n",
    "    \n",
    "    if re.search('^[0-9-][0-9][\\.]+', x['lat']):\n",
    "        \n",
    "        loc = float(x['lat']), float(x['lon'])\n",
    "        return hs.haversine(distance, loc)\n",
    "    else:\n",
    "        return np.NAN\n",
    "\n",
    "df2['distance_hesaraghatta_lake'] = df2.apply(distance_hesaraghatta_lake, axis=1)"
   ]
  },
  {
   "cell_type": "markdown",
   "id": "beautiful-assignment",
   "metadata": {
    "heading_collapsed": true,
    "hidden": true
   },
   "source": [
    "### 2.2.7. Distance Center"
   ]
  },
  {
   "cell_type": "code",
   "execution_count": 33,
   "id": "widespread-nebraska",
   "metadata": {
    "ExecuteTime": {
     "end_time": "2021-08-07T19:03:10.680793Z",
     "start_time": "2021-08-07T19:03:10.215513Z"
    },
    "hidden": true
   },
   "outputs": [],
   "source": [
    "def distance_center(x):\n",
    "    distance = (12.9701977859, 77.5902776389)\n",
    "    \n",
    "    if re.search('^[0-9-][0-9][\\.]+', x['lat']):\n",
    "        \n",
    "        loc = float(x['lat']), float(x['lon'])\n",
    "        return hs.haversine(distance, loc)\n",
    "    else:\n",
    "        return np.NAN\n",
    "    \n",
    "df2['distance_center'] = df2.apply(distance_center, axis=1)"
   ]
  },
  {
   "cell_type": "markdown",
   "id": "adverse-stock",
   "metadata": {
    "heading_collapsed": true
   },
   "source": [
    "# 3.0. Data Filtering"
   ]
  },
  {
   "cell_type": "code",
   "execution_count": 34,
   "id": "bored-reason",
   "metadata": {
    "ExecuteTime": {
     "end_time": "2021-08-07T19:03:10.686775Z",
     "start_time": "2021-08-07T19:03:10.682697Z"
    },
    "hidden": true
   },
   "outputs": [],
   "source": [
    "df3 = df2.copy()"
   ]
  },
  {
   "cell_type": "markdown",
   "id": "becoming-trade",
   "metadata": {
    "heading_collapsed": true,
    "hidden": true
   },
   "source": [
    "## 3.1. Filter Rows"
   ]
  },
  {
   "cell_type": "code",
   "execution_count": 35,
   "id": "spanish-conference",
   "metadata": {
    "ExecuteTime": {
     "end_time": "2021-08-07T19:03:10.832816Z",
     "start_time": "2021-08-07T19:03:10.690806Z"
    },
    "hidden": true
   },
   "outputs": [],
   "source": [
    "# lat and lon\n",
    "df3_lat_dirt = df3.loc[~df3['lat'].apply(lambda x: bool(re.search('^[0-9-][0-9][\\.]+', x))), :]\n",
    "df3_lon_dirt = df3.loc[~df3['lon'].apply(lambda x: bool(re.search('^[0-9-][0-9][\\.]+', x))), :]\n",
    "\n",
    "df3['lat'] = df3.loc[df3['lat'].apply(lambda x: bool(re.search('^[0-9-][0-9][\\.]+', x))), 'lat'].astype(float)\n",
    "df3['lon'] = df3.loc[df3['lon'].apply(lambda x: bool(re.search('^[0-9-][0-9][\\.]+', x))), 'lon'].astype(float)"
   ]
  },
  {
   "cell_type": "code",
   "execution_count": 36,
   "id": "advance-madagascar",
   "metadata": {
    "ExecuteTime": {
     "end_time": "2021-08-07T19:03:10.868203Z",
     "start_time": "2021-08-07T19:03:10.834941Z"
    },
    "hidden": true
   },
   "outputs": [],
   "source": [
    "# total_sqft_dirt = \n",
    "df3_total_sqft_dirt = df3.loc[~df3['total_sqft'].apply(lambda x: bool(re.search(r'^([\\s\\d]+)$', x))), :]"
   ]
  },
  {
   "cell_type": "code",
   "execution_count": 37,
   "id": "cardiac-victory",
   "metadata": {
    "ExecuteTime": {
     "end_time": "2021-08-07T19:03:10.943458Z",
     "start_time": "2021-08-07T19:03:10.870857Z"
    },
    "hidden": true
   },
   "outputs": [],
   "source": [
    "# total_sqft\n",
    "df3_total_sqft_dirt = df3.loc[~df3['total_sqft'].apply(lambda x: bool(re.search(r'^([\\s\\d]+)$', x)) ), :]\n",
    "\n",
    "df3['total_sqft'] = df3.loc[df3['total_sqft'].apply(lambda x: bool(re.search(r'^([\\s\\d]+)$', x))), 'total_sqft'].astype(int)"
   ]
  },
  {
   "cell_type": "markdown",
   "id": "automotive-facial",
   "metadata": {
    "heading_collapsed": true,
    "hidden": true
   },
   "source": [
    "## 3.2. Filter Columns"
   ]
  },
  {
   "cell_type": "code",
   "execution_count": 38,
   "id": "visible-freight",
   "metadata": {
    "ExecuteTime": {
     "end_time": "2021-08-07T19:03:10.975579Z",
     "start_time": "2021-08-07T19:03:10.945977Z"
    },
    "hidden": true
   },
   "outputs": [
    {
     "data": {
      "text/html": [
       "<div>\n",
       "<style scoped>\n",
       "    .dataframe tbody tr th:only-of-type {\n",
       "        vertical-align: middle;\n",
       "    }\n",
       "\n",
       "    .dataframe tbody tr th {\n",
       "        vertical-align: top;\n",
       "    }\n",
       "\n",
       "    .dataframe thead th {\n",
       "        text-align: right;\n",
       "    }\n",
       "</style>\n",
       "<table border=\"1\" class=\"dataframe\">\n",
       "  <thead>\n",
       "    <tr style=\"text-align: right;\">\n",
       "      <th></th>\n",
       "      <th>area_type</th>\n",
       "      <th>availability</th>\n",
       "      <th>location</th>\n",
       "      <th>size</th>\n",
       "      <th>society</th>\n",
       "      <th>total_sqft</th>\n",
       "      <th>bath</th>\n",
       "      <th>balcony</th>\n",
       "      <th>price</th>\n",
       "      <th>lat</th>\n",
       "      <th>lon</th>\n",
       "      <th>qt_bedroom</th>\n",
       "      <th>size_bedroom_or_bhk</th>\n",
       "      <th>is_technology_center</th>\n",
       "      <th>near_the_airport</th>\n",
       "      <th>is_road</th>\n",
       "      <th>distance_bangalore_university</th>\n",
       "      <th>distance_airport</th>\n",
       "      <th>distance_hesaraghatta_lake</th>\n",
       "      <th>distance_center</th>\n",
       "    </tr>\n",
       "  </thead>\n",
       "  <tbody>\n",
       "    <tr>\n",
       "      <th>0</th>\n",
       "      <td>Super built-up  Area</td>\n",
       "      <td>19-Dec</td>\n",
       "      <td>Electronic City Phase II</td>\n",
       "      <td>2 BHK</td>\n",
       "      <td>Coomee</td>\n",
       "      <td>1056.0</td>\n",
       "      <td>2.0</td>\n",
       "      <td>1.0</td>\n",
       "      <td>39.07</td>\n",
       "      <td>12.846854</td>\n",
       "      <td>77.676927</td>\n",
       "      <td>2</td>\n",
       "      <td>BHK</td>\n",
       "      <td>1</td>\n",
       "      <td>0</td>\n",
       "      <td>0</td>\n",
       "      <td>21.435172</td>\n",
       "      <td>39.363745</td>\n",
       "      <td>39.324556</td>\n",
       "      <td>16.622430</td>\n",
       "    </tr>\n",
       "    <tr>\n",
       "      <th>1</th>\n",
       "      <td>Plot  Area</td>\n",
       "      <td>Ready To Move</td>\n",
       "      <td>Chikka Tirupathi</td>\n",
       "      <td>4 Bedroom</td>\n",
       "      <td>Theanmp</td>\n",
       "      <td>2600.0</td>\n",
       "      <td>5.0</td>\n",
       "      <td>3.0</td>\n",
       "      <td>120.00</td>\n",
       "      <td>12.895768</td>\n",
       "      <td>77.867101</td>\n",
       "      <td>4</td>\n",
       "      <td>Bedroom</td>\n",
       "      <td>0</td>\n",
       "      <td>0</td>\n",
       "      <td>0</td>\n",
       "      <td>39.839926</td>\n",
       "      <td>37.800097</td>\n",
       "      <td>49.680452</td>\n",
       "      <td>31.121232</td>\n",
       "    </tr>\n",
       "    <tr>\n",
       "      <th>2</th>\n",
       "      <td>Built-up  Area</td>\n",
       "      <td>Ready To Move</td>\n",
       "      <td>Uttarahalli</td>\n",
       "      <td>3 BHK</td>\n",
       "      <td>NaN</td>\n",
       "      <td>1440.0</td>\n",
       "      <td>2.0</td>\n",
       "      <td>3.0</td>\n",
       "      <td>62.00</td>\n",
       "      <td>12.905568</td>\n",
       "      <td>77.545544</td>\n",
       "      <td>3</td>\n",
       "      <td>BHK</td>\n",
       "      <td>0</td>\n",
       "      <td>0</td>\n",
       "      <td>0</td>\n",
       "      <td>5.854030</td>\n",
       "      <td>37.218565</td>\n",
       "      <td>27.837715</td>\n",
       "      <td>8.668786</td>\n",
       "    </tr>\n",
       "    <tr>\n",
       "      <th>3</th>\n",
       "      <td>Super built-up  Area</td>\n",
       "      <td>Ready To Move</td>\n",
       "      <td>Lingadheeranahalli</td>\n",
       "      <td>3 BHK</td>\n",
       "      <td>Soiewre</td>\n",
       "      <td>1521.0</td>\n",
       "      <td>3.0</td>\n",
       "      <td>1.0</td>\n",
       "      <td>95.00</td>\n",
       "      <td>NaN</td>\n",
       "      <td>NaN</td>\n",
       "      <td>3</td>\n",
       "      <td>BHK</td>\n",
       "      <td>0</td>\n",
       "      <td>0</td>\n",
       "      <td>0</td>\n",
       "      <td>NaN</td>\n",
       "      <td>NaN</td>\n",
       "      <td>NaN</td>\n",
       "      <td>NaN</td>\n",
       "    </tr>\n",
       "    <tr>\n",
       "      <th>4</th>\n",
       "      <td>Super built-up  Area</td>\n",
       "      <td>Ready To Move</td>\n",
       "      <td>Kothanur</td>\n",
       "      <td>2 BHK</td>\n",
       "      <td>NaN</td>\n",
       "      <td>1200.0</td>\n",
       "      <td>2.0</td>\n",
       "      <td>1.0</td>\n",
       "      <td>51.00</td>\n",
       "      <td>12.580537</td>\n",
       "      <td>77.333067</td>\n",
       "      <td>2</td>\n",
       "      <td>BHK</td>\n",
       "      <td>0</td>\n",
       "      <td>0</td>\n",
       "      <td>0</td>\n",
       "      <td>43.620978</td>\n",
       "      <td>80.034913</td>\n",
       "      <td>65.566917</td>\n",
       "      <td>51.529952</td>\n",
       "    </tr>\n",
       "  </tbody>\n",
       "</table>\n",
       "</div>"
      ],
      "text/plain": [
       "              area_type   availability                  location       size  \\\n",
       "0  Super built-up  Area         19-Dec  Electronic City Phase II      2 BHK   \n",
       "1            Plot  Area  Ready To Move          Chikka Tirupathi  4 Bedroom   \n",
       "2        Built-up  Area  Ready To Move               Uttarahalli      3 BHK   \n",
       "3  Super built-up  Area  Ready To Move        Lingadheeranahalli      3 BHK   \n",
       "4  Super built-up  Area  Ready To Move                  Kothanur      2 BHK   \n",
       "\n",
       "   society  total_sqft  bath  balcony   price        lat        lon  \\\n",
       "0  Coomee       1056.0   2.0      1.0   39.07  12.846854  77.676927   \n",
       "1  Theanmp      2600.0   5.0      3.0  120.00  12.895768  77.867101   \n",
       "2      NaN      1440.0   2.0      3.0   62.00  12.905568  77.545544   \n",
       "3  Soiewre      1521.0   3.0      1.0   95.00        NaN        NaN   \n",
       "4      NaN      1200.0   2.0      1.0   51.00  12.580537  77.333067   \n",
       "\n",
       "   qt_bedroom size_bedroom_or_bhk  is_technology_center  near_the_airport  \\\n",
       "0           2                 BHK                     1                 0   \n",
       "1           4             Bedroom                     0                 0   \n",
       "2           3                 BHK                     0                 0   \n",
       "3           3                 BHK                     0                 0   \n",
       "4           2                 BHK                     0                 0   \n",
       "\n",
       "   is_road  distance_bangalore_university  distance_airport  \\\n",
       "0        0                      21.435172         39.363745   \n",
       "1        0                      39.839926         37.800097   \n",
       "2        0                       5.854030         37.218565   \n",
       "3        0                            NaN               NaN   \n",
       "4        0                      43.620978         80.034913   \n",
       "\n",
       "   distance_hesaraghatta_lake  distance_center  \n",
       "0                   39.324556        16.622430  \n",
       "1                   49.680452        31.121232  \n",
       "2                   27.837715         8.668786  \n",
       "3                         NaN              NaN  \n",
       "4                   65.566917        51.529952  "
      ]
     },
     "execution_count": 38,
     "metadata": {},
     "output_type": "execute_result"
    }
   ],
   "source": [
    "df3.head()"
   ]
  },
  {
   "cell_type": "code",
   "execution_count": 39,
   "id": "higher-lewis",
   "metadata": {
    "ExecuteTime": {
     "end_time": "2021-08-07T19:03:10.995923Z",
     "start_time": "2021-08-07T19:03:10.978380Z"
    },
    "hidden": true
   },
   "outputs": [
    {
     "data": {
      "text/plain": [
       "area_type                        0.000000\n",
       "availability                     0.000000\n",
       "location                         0.000000\n",
       "total_sqft                       0.021400\n",
       "bath                             0.000000\n",
       "balcony                          0.000000\n",
       "price                            0.000000\n",
       "lat                              0.082297\n",
       "lon                              0.159166\n",
       "qt_bedroom                       0.000000\n",
       "size_bedroom_or_bhk              0.000000\n",
       "is_technology_center             0.000000\n",
       "near_the_airport                 0.000000\n",
       "is_road                          0.000000\n",
       "distance_bangalore_university    0.082297\n",
       "distance_airport                 0.082297\n",
       "distance_hesaraghatta_lake       0.082297\n",
       "distance_center                  0.082297\n",
       "dtype: float64"
      ]
     },
     "execution_count": 39,
     "metadata": {},
     "output_type": "execute_result"
    }
   ],
   "source": [
    "drop_cols = ['society', 'size']\n",
    "df3 = df3.drop(drop_cols, axis=1)\n",
    "df3.isna().mean()"
   ]
  },
  {
   "cell_type": "code",
   "execution_count": 40,
   "id": "tamil-escape",
   "metadata": {
    "ExecuteTime": {
     "end_time": "2021-08-07T19:03:11.013703Z",
     "start_time": "2021-08-07T19:03:10.999302Z"
    },
    "hidden": true
   },
   "outputs": [
    {
     "data": {
      "text/plain": [
       "area_type                        0.000000\n",
       "availability                     0.000000\n",
       "location                         0.000000\n",
       "total_sqft                       0.021400\n",
       "bath                             0.000000\n",
       "balcony                          0.000000\n",
       "price                            0.000000\n",
       "lat                              0.082297\n",
       "lon                              0.159166\n",
       "qt_bedroom                       0.000000\n",
       "size_bedroom_or_bhk              0.000000\n",
       "is_technology_center             0.000000\n",
       "near_the_airport                 0.000000\n",
       "is_road                          0.000000\n",
       "distance_bangalore_university    0.082297\n",
       "distance_airport                 0.082297\n",
       "distance_hesaraghatta_lake       0.082297\n",
       "distance_center                  0.082297\n",
       "dtype: float64"
      ]
     },
     "execution_count": 40,
     "metadata": {},
     "output_type": "execute_result"
    }
   ],
   "source": [
    "df3.isna().mean()"
   ]
  },
  {
   "cell_type": "code",
   "execution_count": 41,
   "id": "copyrighted-southwest",
   "metadata": {
    "ExecuteTime": {
     "end_time": "2021-08-07T19:03:11.042731Z",
     "start_time": "2021-08-07T19:03:11.015844Z"
    },
    "hidden": true
   },
   "outputs": [
    {
     "data": {
      "text/plain": [
       "area_type                        0.0\n",
       "availability                     0.0\n",
       "location                         0.0\n",
       "total_sqft                       0.0\n",
       "bath                             0.0\n",
       "balcony                          0.0\n",
       "price                            0.0\n",
       "lat                              0.0\n",
       "lon                              0.0\n",
       "qt_bedroom                       0.0\n",
       "size_bedroom_or_bhk              0.0\n",
       "is_technology_center             0.0\n",
       "near_the_airport                 0.0\n",
       "is_road                          0.0\n",
       "distance_bangalore_university    0.0\n",
       "distance_airport                 0.0\n",
       "distance_hesaraghatta_lake       0.0\n",
       "distance_center                  0.0\n",
       "dtype: float64"
      ]
     },
     "execution_count": 41,
     "metadata": {},
     "output_type": "execute_result"
    }
   ],
   "source": [
    "df3 = df3.dropna()\n",
    "df3.isna().mean()"
   ]
  },
  {
   "cell_type": "code",
   "execution_count": 42,
   "id": "elegant-granny",
   "metadata": {
    "ExecuteTime": {
     "end_time": "2021-08-07T19:03:11.052340Z",
     "start_time": "2021-08-07T19:03:11.045739Z"
    },
    "hidden": true
   },
   "outputs": [
    {
     "data": {
      "text/plain": [
       "21.76"
      ]
     },
     "execution_count": 42,
     "metadata": {},
     "output_type": "execute_result"
    }
   ],
   "source": [
    "round((1 - (df3.shape[0] / df_raw.shape[0])) * 100, 2)"
   ]
  },
  {
   "cell_type": "markdown",
   "id": "atlantic-encyclopedia",
   "metadata": {
    "heading_collapsed": true
   },
   "source": [
    "# 4.0. EDA"
   ]
  },
  {
   "cell_type": "code",
   "execution_count": 43,
   "id": "respiratory-madagascar",
   "metadata": {
    "ExecuteTime": {
     "end_time": "2021-08-07T19:03:11.061108Z",
     "start_time": "2021-08-07T19:03:11.056661Z"
    },
    "hidden": true
   },
   "outputs": [],
   "source": [
    "df4 = df3.copy()"
   ]
  },
  {
   "cell_type": "code",
   "execution_count": null,
   "id": "geological-temperature",
   "metadata": {
    "hidden": true
   },
   "outputs": [],
   "source": []
  },
  {
   "cell_type": "code",
   "execution_count": 44,
   "id": "synthetic-bread",
   "metadata": {
    "ExecuteTime": {
     "end_time": "2021-08-07T19:03:11.072117Z",
     "start_time": "2021-08-07T19:03:11.064631Z"
    },
    "hidden": true
   },
   "outputs": [],
   "source": [
    "df4['sqft_per_bed'] = df4['total_sqft'] / df4['qt_bedroom']"
   ]
  },
  {
   "cell_type": "markdown",
   "id": "precious-calibration",
   "metadata": {
    "hidden": true
   },
   "source": [
    "## 4.1. Univariate Analysis"
   ]
  },
  {
   "cell_type": "code",
   "execution_count": 46,
   "id": "handmade-likelihood",
   "metadata": {
    "ExecuteTime": {
     "end_time": "2021-08-07T19:03:11.117070Z",
     "start_time": "2021-08-07T19:03:11.112207Z"
    },
    "hidden": true
   },
   "outputs": [],
   "source": [
    "# profile = ProfileReport(df4, title='Analysis - Bengaluru House')\n",
    "# profile.to_file('../reports/figures/output_v1.html')"
   ]
  },
  {
   "cell_type": "markdown",
   "id": "concerned-recipe",
   "metadata": {
    "heading_collapsed": true,
    "hidden": true
   },
   "source": [
    "### total_sqft"
   ]
  },
  {
   "cell_type": "code",
   "execution_count": 47,
   "id": "bronze-fifth",
   "metadata": {
    "ExecuteTime": {
     "end_time": "2021-08-07T19:03:11.162787Z",
     "start_time": "2021-08-07T19:03:11.120578Z"
    },
    "hidden": true
   },
   "outputs": [
    {
     "data": {
      "text/html": [
       "<div>\n",
       "<style scoped>\n",
       "    .dataframe tbody tr th:only-of-type {\n",
       "        vertical-align: middle;\n",
       "    }\n",
       "\n",
       "    .dataframe tbody tr th {\n",
       "        vertical-align: top;\n",
       "    }\n",
       "\n",
       "    .dataframe thead th {\n",
       "        text-align: right;\n",
       "    }\n",
       "</style>\n",
       "<table border=\"1\" class=\"dataframe\">\n",
       "  <thead>\n",
       "    <tr style=\"text-align: right;\">\n",
       "      <th></th>\n",
       "      <th>area_type</th>\n",
       "      <th>availability</th>\n",
       "      <th>location</th>\n",
       "      <th>total_sqft</th>\n",
       "      <th>bath</th>\n",
       "      <th>balcony</th>\n",
       "      <th>price</th>\n",
       "      <th>lat</th>\n",
       "      <th>lon</th>\n",
       "      <th>qt_bedroom</th>\n",
       "      <th>size_bedroom_or_bhk</th>\n",
       "      <th>is_technology_center</th>\n",
       "      <th>near_the_airport</th>\n",
       "      <th>is_road</th>\n",
       "      <th>distance_bangalore_university</th>\n",
       "      <th>distance_airport</th>\n",
       "      <th>distance_hesaraghatta_lake</th>\n",
       "      <th>distance_center</th>\n",
       "      <th>sqft_per_bed</th>\n",
       "    </tr>\n",
       "  </thead>\n",
       "  <tbody>\n",
       "    <tr>\n",
       "      <th>4723</th>\n",
       "      <td>Built-up  Area</td>\n",
       "      <td>Ready To Move</td>\n",
       "      <td>Srirampuram</td>\n",
       "      <td>5.0</td>\n",
       "      <td>7.0</td>\n",
       "      <td>3.0</td>\n",
       "      <td>115.0</td>\n",
       "      <td>17.434580</td>\n",
       "      <td>82.715203</td>\n",
       "      <td>7</td>\n",
       "      <td>BHK</td>\n",
       "      <td>0</td>\n",
       "      <td>0</td>\n",
       "      <td>0</td>\n",
       "      <td>750.285720</td>\n",
       "      <td>713.951666</td>\n",
       "      <td>735.448133</td>\n",
       "      <td>740.706499</td>\n",
       "      <td>0.714286</td>\n",
       "    </tr>\n",
       "    <tr>\n",
       "      <th>333</th>\n",
       "      <td>Plot  Area</td>\n",
       "      <td>18-Dec</td>\n",
       "      <td>Suragajakkanahalli</td>\n",
       "      <td>11.0</td>\n",
       "      <td>3.0</td>\n",
       "      <td>2.0</td>\n",
       "      <td>74.0</td>\n",
       "      <td>12.739777</td>\n",
       "      <td>77.668954</td>\n",
       "      <td>3</td>\n",
       "      <td>Bedroom</td>\n",
       "      <td>0</td>\n",
       "      <td>0</td>\n",
       "      <td>0</td>\n",
       "      <td>28.406925</td>\n",
       "      <td>51.299965</td>\n",
       "      <td>49.566145</td>\n",
       "      <td>27.004037</td>\n",
       "      <td>3.666667</td>\n",
       "    </tr>\n",
       "    <tr>\n",
       "      <th>968</th>\n",
       "      <td>Carpet  Area</td>\n",
       "      <td>Ready To Move</td>\n",
       "      <td>Weavers Colony</td>\n",
       "      <td>15.0</td>\n",
       "      <td>1.0</td>\n",
       "      <td>0.0</td>\n",
       "      <td>30.0</td>\n",
       "      <td>12.845495</td>\n",
       "      <td>77.583129</td>\n",
       "      <td>1</td>\n",
       "      <td>BHK</td>\n",
       "      <td>0</td>\n",
       "      <td>0</td>\n",
       "      <td>0</td>\n",
       "      <td>13.421027</td>\n",
       "      <td>41.686380</td>\n",
       "      <td>35.330959</td>\n",
       "      <td>13.887985</td>\n",
       "      <td>15.000000</td>\n",
       "    </tr>\n",
       "    <tr>\n",
       "      <th>5671</th>\n",
       "      <td>Plot  Area</td>\n",
       "      <td>Ready To Move</td>\n",
       "      <td>Mysore Road</td>\n",
       "      <td>45.0</td>\n",
       "      <td>1.0</td>\n",
       "      <td>0.0</td>\n",
       "      <td>23.0</td>\n",
       "      <td>12.387214</td>\n",
       "      <td>76.666963</td>\n",
       "      <td>1</td>\n",
       "      <td>Bedroom</td>\n",
       "      <td>0</td>\n",
       "      <td>0</td>\n",
       "      <td>1</td>\n",
       "      <td>109.257192</td>\n",
       "      <td>144.743482</td>\n",
       "      <td>123.127287</td>\n",
       "      <td>119.311009</td>\n",
       "      <td>45.000000</td>\n",
       "    </tr>\n",
       "    <tr>\n",
       "      <th>12615</th>\n",
       "      <td>Super built-up  Area</td>\n",
       "      <td>Ready To Move</td>\n",
       "      <td>Tilak Nagar</td>\n",
       "      <td>250.0</td>\n",
       "      <td>2.0</td>\n",
       "      <td>2.0</td>\n",
       "      <td>40.0</td>\n",
       "      <td>28.636548</td>\n",
       "      <td>77.096496</td>\n",
       "      <td>1</td>\n",
       "      <td>BHK</td>\n",
       "      <td>0</td>\n",
       "      <td>0</td>\n",
       "      <td>0</td>\n",
       "      <td>1746.261684</td>\n",
       "      <td>1717.709843</td>\n",
       "      <td>1722.508847</td>\n",
       "      <td>1742.770295</td>\n",
       "      <td>250.000000</td>\n",
       "    </tr>\n",
       "    <tr>\n",
       "      <th>111</th>\n",
       "      <td>Plot  Area</td>\n",
       "      <td>Ready To Move</td>\n",
       "      <td>Hennur Road</td>\n",
       "      <td>276.0</td>\n",
       "      <td>3.0</td>\n",
       "      <td>3.0</td>\n",
       "      <td>23.0</td>\n",
       "      <td>13.025809</td>\n",
       "      <td>77.630507</td>\n",
       "      <td>2</td>\n",
       "      <td>Bedroom</td>\n",
       "      <td>0</td>\n",
       "      <td>0</td>\n",
       "      <td>1</td>\n",
       "      <td>17.104793</td>\n",
       "      <td>21.139094</td>\n",
       "      <td>20.549522</td>\n",
       "      <td>7.565419</td>\n",
       "      <td>138.000000</td>\n",
       "    </tr>\n",
       "    <tr>\n",
       "      <th>10029</th>\n",
       "      <td>Super built-up  Area</td>\n",
       "      <td>Ready To Move</td>\n",
       "      <td>Yelahanka New Town</td>\n",
       "      <td>284.0</td>\n",
       "      <td>1.0</td>\n",
       "      <td>1.0</td>\n",
       "      <td>8.0</td>\n",
       "      <td>13.097804</td>\n",
       "      <td>77.581189</td>\n",
       "      <td>1</td>\n",
       "      <td>BHK</td>\n",
       "      <td>0</td>\n",
       "      <td>0</td>\n",
       "      <td>0</td>\n",
       "      <td>19.877271</td>\n",
       "      <td>17.958764</td>\n",
       "      <td>11.454251</td>\n",
       "      <td>14.223291</td>\n",
       "      <td>284.000000</td>\n",
       "    </tr>\n",
       "    <tr>\n",
       "      <th>4607</th>\n",
       "      <td>Carpet  Area</td>\n",
       "      <td>Ready To Move</td>\n",
       "      <td>Nagarbhavi</td>\n",
       "      <td>300.0</td>\n",
       "      <td>1.0</td>\n",
       "      <td>1.0</td>\n",
       "      <td>20.0</td>\n",
       "      <td>12.954674</td>\n",
       "      <td>77.512172</td>\n",
       "      <td>1</td>\n",
       "      <td>BHK</td>\n",
       "      <td>0</td>\n",
       "      <td>0</td>\n",
       "      <td>0</td>\n",
       "      <td>2.297656</td>\n",
       "      <td>34.642887</td>\n",
       "      <td>21.851672</td>\n",
       "      <td>8.637836</td>\n",
       "      <td>300.000000</td>\n",
       "    </tr>\n",
       "    <tr>\n",
       "      <th>10955</th>\n",
       "      <td>Super built-up  Area</td>\n",
       "      <td>Ready To Move</td>\n",
       "      <td>Malleshwaram</td>\n",
       "      <td>302.0</td>\n",
       "      <td>2.0</td>\n",
       "      <td>1.0</td>\n",
       "      <td>25.0</td>\n",
       "      <td>13.002735</td>\n",
       "      <td>77.570325</td>\n",
       "      <td>2</td>\n",
       "      <td>BHK</td>\n",
       "      <td>0</td>\n",
       "      <td>0</td>\n",
       "      <td>0</td>\n",
       "      <td>10.442843</td>\n",
       "      <td>26.596657</td>\n",
       "      <td>18.542847</td>\n",
       "      <td>4.214693</td>\n",
       "      <td>151.000000</td>\n",
       "    </tr>\n",
       "    <tr>\n",
       "      <th>942</th>\n",
       "      <td>Plot  Area</td>\n",
       "      <td>Ready To Move</td>\n",
       "      <td>Rajaji Nagar</td>\n",
       "      <td>315.0</td>\n",
       "      <td>4.0</td>\n",
       "      <td>2.0</td>\n",
       "      <td>90.0</td>\n",
       "      <td>18.014228</td>\n",
       "      <td>79.552624</td>\n",
       "      <td>4</td>\n",
       "      <td>Bedroom</td>\n",
       "      <td>0</td>\n",
       "      <td>0</td>\n",
       "      <td>0</td>\n",
       "      <td>605.836888</td>\n",
       "      <td>570.567460</td>\n",
       "      <td>584.226120</td>\n",
       "      <td>598.963170</td>\n",
       "      <td>78.750000</td>\n",
       "    </tr>\n",
       "  </tbody>\n",
       "</table>\n",
       "</div>"
      ],
      "text/plain": [
       "                  area_type   availability            location  total_sqft  \\\n",
       "4723         Built-up  Area  Ready To Move         Srirampuram         5.0   \n",
       "333              Plot  Area         18-Dec  Suragajakkanahalli        11.0   \n",
       "968            Carpet  Area  Ready To Move      Weavers Colony        15.0   \n",
       "5671             Plot  Area  Ready To Move         Mysore Road        45.0   \n",
       "12615  Super built-up  Area  Ready To Move         Tilak Nagar       250.0   \n",
       "111              Plot  Area  Ready To Move         Hennur Road       276.0   \n",
       "10029  Super built-up  Area  Ready To Move  Yelahanka New Town       284.0   \n",
       "4607           Carpet  Area  Ready To Move          Nagarbhavi       300.0   \n",
       "10955  Super built-up  Area  Ready To Move        Malleshwaram       302.0   \n",
       "942              Plot  Area  Ready To Move        Rajaji Nagar       315.0   \n",
       "\n",
       "       bath  balcony  price        lat        lon  qt_bedroom  \\\n",
       "4723    7.0      3.0  115.0  17.434580  82.715203           7   \n",
       "333     3.0      2.0   74.0  12.739777  77.668954           3   \n",
       "968     1.0      0.0   30.0  12.845495  77.583129           1   \n",
       "5671    1.0      0.0   23.0  12.387214  76.666963           1   \n",
       "12615   2.0      2.0   40.0  28.636548  77.096496           1   \n",
       "111     3.0      3.0   23.0  13.025809  77.630507           2   \n",
       "10029   1.0      1.0    8.0  13.097804  77.581189           1   \n",
       "4607    1.0      1.0   20.0  12.954674  77.512172           1   \n",
       "10955   2.0      1.0   25.0  13.002735  77.570325           2   \n",
       "942     4.0      2.0   90.0  18.014228  79.552624           4   \n",
       "\n",
       "      size_bedroom_or_bhk  is_technology_center  near_the_airport  is_road  \\\n",
       "4723                  BHK                     0                 0        0   \n",
       "333               Bedroom                     0                 0        0   \n",
       "968                   BHK                     0                 0        0   \n",
       "5671              Bedroom                     0                 0        1   \n",
       "12615                 BHK                     0                 0        0   \n",
       "111               Bedroom                     0                 0        1   \n",
       "10029                 BHK                     0                 0        0   \n",
       "4607                  BHK                     0                 0        0   \n",
       "10955                 BHK                     0                 0        0   \n",
       "942               Bedroom                     0                 0        0   \n",
       "\n",
       "       distance_bangalore_university  distance_airport  \\\n",
       "4723                      750.285720        713.951666   \n",
       "333                        28.406925         51.299965   \n",
       "968                        13.421027         41.686380   \n",
       "5671                      109.257192        144.743482   \n",
       "12615                    1746.261684       1717.709843   \n",
       "111                        17.104793         21.139094   \n",
       "10029                      19.877271         17.958764   \n",
       "4607                        2.297656         34.642887   \n",
       "10955                      10.442843         26.596657   \n",
       "942                       605.836888        570.567460   \n",
       "\n",
       "       distance_hesaraghatta_lake  distance_center  sqft_per_bed  \n",
       "4723                   735.448133       740.706499      0.714286  \n",
       "333                     49.566145        27.004037      3.666667  \n",
       "968                     35.330959        13.887985     15.000000  \n",
       "5671                   123.127287       119.311009     45.000000  \n",
       "12615                 1722.508847      1742.770295    250.000000  \n",
       "111                     20.549522         7.565419    138.000000  \n",
       "10029                   11.454251        14.223291    284.000000  \n",
       "4607                    21.851672         8.637836    300.000000  \n",
       "10955                   18.542847         4.214693    151.000000  \n",
       "942                    584.226120       598.963170     78.750000  "
      ]
     },
     "execution_count": 47,
     "metadata": {},
     "output_type": "execute_result"
    }
   ],
   "source": [
    "df4.sort_values('total_sqft').head(10)"
   ]
  },
  {
   "cell_type": "code",
   "execution_count": 48,
   "id": "threatened-somerset",
   "metadata": {
    "ExecuteTime": {
     "end_time": "2021-08-07T19:03:11.207622Z",
     "start_time": "2021-08-07T19:03:11.165324Z"
    },
    "hidden": true
   },
   "outputs": [
    {
     "data": {
      "text/html": [
       "<div>\n",
       "<style scoped>\n",
       "    .dataframe tbody tr th:only-of-type {\n",
       "        vertical-align: middle;\n",
       "    }\n",
       "\n",
       "    .dataframe tbody tr th {\n",
       "        vertical-align: top;\n",
       "    }\n",
       "\n",
       "    .dataframe thead th {\n",
       "        text-align: right;\n",
       "    }\n",
       "</style>\n",
       "<table border=\"1\" class=\"dataframe\">\n",
       "  <thead>\n",
       "    <tr style=\"text-align: right;\">\n",
       "      <th></th>\n",
       "      <th>area_type</th>\n",
       "      <th>availability</th>\n",
       "      <th>location</th>\n",
       "      <th>total_sqft</th>\n",
       "      <th>bath</th>\n",
       "      <th>balcony</th>\n",
       "      <th>price</th>\n",
       "      <th>lat</th>\n",
       "      <th>lon</th>\n",
       "      <th>qt_bedroom</th>\n",
       "      <th>size_bedroom_or_bhk</th>\n",
       "      <th>is_technology_center</th>\n",
       "      <th>near_the_airport</th>\n",
       "      <th>is_road</th>\n",
       "      <th>distance_bangalore_university</th>\n",
       "      <th>distance_airport</th>\n",
       "      <th>distance_hesaraghatta_lake</th>\n",
       "      <th>distance_center</th>\n",
       "      <th>sqft_per_bed</th>\n",
       "    </tr>\n",
       "  </thead>\n",
       "  <tbody>\n",
       "    <tr>\n",
       "      <th>1794</th>\n",
       "      <td>Plot  Area</td>\n",
       "      <td>Ready To Move</td>\n",
       "      <td>Nelamangala</td>\n",
       "      <td>52272.0</td>\n",
       "      <td>2.0</td>\n",
       "      <td>1.0</td>\n",
       "      <td>140.0</td>\n",
       "      <td>13.095302</td>\n",
       "      <td>77.396359</td>\n",
       "      <td>3</td>\n",
       "      <td>Bedroom</td>\n",
       "      <td>0</td>\n",
       "      <td>0</td>\n",
       "      <td>0</td>\n",
       "      <td>21.028336</td>\n",
       "      <td>35.892835</td>\n",
       "      <td>11.824671</td>\n",
       "      <td>25.195785</td>\n",
       "      <td>17424.000000</td>\n",
       "    </tr>\n",
       "    <tr>\n",
       "      <th>5121</th>\n",
       "      <td>Super built-up  Area</td>\n",
       "      <td>Ready To Move</td>\n",
       "      <td>Doddabommasandra</td>\n",
       "      <td>42000.0</td>\n",
       "      <td>8.0</td>\n",
       "      <td>3.0</td>\n",
       "      <td>175.0</td>\n",
       "      <td>13.064967</td>\n",
       "      <td>77.562966</td>\n",
       "      <td>9</td>\n",
       "      <td>BHK</td>\n",
       "      <td>0</td>\n",
       "      <td>0</td>\n",
       "      <td>0</td>\n",
       "      <td>15.732873</td>\n",
       "      <td>21.848508</td>\n",
       "      <td>12.322476</td>\n",
       "      <td>10.945435</td>\n",
       "      <td>4666.666667</td>\n",
       "    </tr>\n",
       "    <tr>\n",
       "      <th>5194</th>\n",
       "      <td>Super built-up  Area</td>\n",
       "      <td>Ready To Move</td>\n",
       "      <td>Ulsoor</td>\n",
       "      <td>36000.0</td>\n",
       "      <td>4.0</td>\n",
       "      <td>2.0</td>\n",
       "      <td>450.0</td>\n",
       "      <td>12.977879</td>\n",
       "      <td>77.624670</td>\n",
       "      <td>4</td>\n",
       "      <td>BHK</td>\n",
       "      <td>0</td>\n",
       "      <td>0</td>\n",
       "      <td>0</td>\n",
       "      <td>14.072908</td>\n",
       "      <td>26.311678</td>\n",
       "      <td>24.064122</td>\n",
       "      <td>3.823236</td>\n",
       "      <td>9000.000000</td>\n",
       "    </tr>\n",
       "    <tr>\n",
       "      <th>641</th>\n",
       "      <td>Built-up  Area</td>\n",
       "      <td>Ready To Move</td>\n",
       "      <td>Yelahanka</td>\n",
       "      <td>35000.0</td>\n",
       "      <td>3.0</td>\n",
       "      <td>3.0</td>\n",
       "      <td>130.0</td>\n",
       "      <td>13.100698</td>\n",
       "      <td>77.596345</td>\n",
       "      <td>3</td>\n",
       "      <td>BHK</td>\n",
       "      <td>0</td>\n",
       "      <td>0</td>\n",
       "      <td>0</td>\n",
       "      <td>20.920089</td>\n",
       "      <td>16.498904</td>\n",
       "      <td>12.754434</td>\n",
       "      <td>14.525884</td>\n",
       "      <td>11666.666667</td>\n",
       "    </tr>\n",
       "    <tr>\n",
       "      <th>12396</th>\n",
       "      <td>Plot  Area</td>\n",
       "      <td>Ready To Move</td>\n",
       "      <td>Dodsworth Layout</td>\n",
       "      <td>30400.0</td>\n",
       "      <td>4.0</td>\n",
       "      <td>2.0</td>\n",
       "      <td>1824.0</td>\n",
       "      <td>12.970770</td>\n",
       "      <td>77.744557</td>\n",
       "      <td>6</td>\n",
       "      <td>Bedroom</td>\n",
       "      <td>0</td>\n",
       "      <td>0</td>\n",
       "      <td>0</td>\n",
       "      <td>26.568094</td>\n",
       "      <td>25.692160</td>\n",
       "      <td>34.021643</td>\n",
       "      <td>16.717528</td>\n",
       "      <td>5066.666667</td>\n",
       "    </tr>\n",
       "    <tr>\n",
       "      <th>6884</th>\n",
       "      <td>Plot  Area</td>\n",
       "      <td>Ready To Move</td>\n",
       "      <td>Yelahanka</td>\n",
       "      <td>26136.0</td>\n",
       "      <td>1.0</td>\n",
       "      <td>0.0</td>\n",
       "      <td>150.0</td>\n",
       "      <td>13.100698</td>\n",
       "      <td>77.596345</td>\n",
       "      <td>1</td>\n",
       "      <td>Bedroom</td>\n",
       "      <td>0</td>\n",
       "      <td>0</td>\n",
       "      <td>0</td>\n",
       "      <td>20.920089</td>\n",
       "      <td>16.498904</td>\n",
       "      <td>12.754434</td>\n",
       "      <td>14.525884</td>\n",
       "      <td>26136.000000</td>\n",
       "    </tr>\n",
       "    <tr>\n",
       "      <th>1173</th>\n",
       "      <td>Plot  Area</td>\n",
       "      <td>Ready To Move</td>\n",
       "      <td>Siddapura</td>\n",
       "      <td>14000.0</td>\n",
       "      <td>3.0</td>\n",
       "      <td>2.0</td>\n",
       "      <td>800.0</td>\n",
       "      <td>14.340956</td>\n",
       "      <td>74.892425</td>\n",
       "      <td>4</td>\n",
       "      <td>Bedroom</td>\n",
       "      <td>0</td>\n",
       "      <td>0</td>\n",
       "      <td>0</td>\n",
       "      <td>322.323243</td>\n",
       "      <td>329.717028</td>\n",
       "      <td>310.242118</td>\n",
       "      <td>328.943158</td>\n",
       "      <td>3500.000000</td>\n",
       "    </tr>\n",
       "    <tr>\n",
       "      <th>577</th>\n",
       "      <td>Super built-up  Area</td>\n",
       "      <td>19-Jan</td>\n",
       "      <td>Malleshwaram</td>\n",
       "      <td>12000.0</td>\n",
       "      <td>7.0</td>\n",
       "      <td>3.0</td>\n",
       "      <td>2200.0</td>\n",
       "      <td>13.002735</td>\n",
       "      <td>77.570325</td>\n",
       "      <td>7</td>\n",
       "      <td>BHK</td>\n",
       "      <td>0</td>\n",
       "      <td>0</td>\n",
       "      <td>0</td>\n",
       "      <td>10.442843</td>\n",
       "      <td>26.596657</td>\n",
       "      <td>18.542847</td>\n",
       "      <td>4.214693</td>\n",
       "      <td>1714.285714</td>\n",
       "    </tr>\n",
       "    <tr>\n",
       "      <th>390</th>\n",
       "      <td>Super built-up  Area</td>\n",
       "      <td>19-Jan</td>\n",
       "      <td>Rajaji Nagar</td>\n",
       "      <td>12000.0</td>\n",
       "      <td>6.0</td>\n",
       "      <td>3.0</td>\n",
       "      <td>2200.0</td>\n",
       "      <td>18.014228</td>\n",
       "      <td>79.552624</td>\n",
       "      <td>7</td>\n",
       "      <td>BHK</td>\n",
       "      <td>0</td>\n",
       "      <td>0</td>\n",
       "      <td>0</td>\n",
       "      <td>605.836888</td>\n",
       "      <td>570.567460</td>\n",
       "      <td>584.226120</td>\n",
       "      <td>598.963170</td>\n",
       "      <td>1714.285714</td>\n",
       "    </tr>\n",
       "    <tr>\n",
       "      <th>2489</th>\n",
       "      <td>Super built-up  Area</td>\n",
       "      <td>Ready To Move</td>\n",
       "      <td>Sathya Sai Layout</td>\n",
       "      <td>11338.0</td>\n",
       "      <td>9.0</td>\n",
       "      <td>1.0</td>\n",
       "      <td>1000.0</td>\n",
       "      <td>12.973461</td>\n",
       "      <td>77.751115</td>\n",
       "      <td>6</td>\n",
       "      <td>BHK</td>\n",
       "      <td>0</td>\n",
       "      <td>0</td>\n",
       "      <td>0</td>\n",
       "      <td>27.314817</td>\n",
       "      <td>25.510031</td>\n",
       "      <td>34.428233</td>\n",
       "      <td>17.431717</td>\n",
       "      <td>1889.666667</td>\n",
       "    </tr>\n",
       "  </tbody>\n",
       "</table>\n",
       "</div>"
      ],
      "text/plain": [
       "                  area_type   availability           location  total_sqft  \\\n",
       "1794             Plot  Area  Ready To Move        Nelamangala     52272.0   \n",
       "5121   Super built-up  Area  Ready To Move   Doddabommasandra     42000.0   \n",
       "5194   Super built-up  Area  Ready To Move             Ulsoor     36000.0   \n",
       "641          Built-up  Area  Ready To Move          Yelahanka     35000.0   \n",
       "12396            Plot  Area  Ready To Move   Dodsworth Layout     30400.0   \n",
       "6884             Plot  Area  Ready To Move          Yelahanka     26136.0   \n",
       "1173             Plot  Area  Ready To Move          Siddapura     14000.0   \n",
       "577    Super built-up  Area         19-Jan       Malleshwaram     12000.0   \n",
       "390    Super built-up  Area         19-Jan       Rajaji Nagar     12000.0   \n",
       "2489   Super built-up  Area  Ready To Move  Sathya Sai Layout     11338.0   \n",
       "\n",
       "       bath  balcony   price        lat        lon  qt_bedroom  \\\n",
       "1794    2.0      1.0   140.0  13.095302  77.396359           3   \n",
       "5121    8.0      3.0   175.0  13.064967  77.562966           9   \n",
       "5194    4.0      2.0   450.0  12.977879  77.624670           4   \n",
       "641     3.0      3.0   130.0  13.100698  77.596345           3   \n",
       "12396   4.0      2.0  1824.0  12.970770  77.744557           6   \n",
       "6884    1.0      0.0   150.0  13.100698  77.596345           1   \n",
       "1173    3.0      2.0   800.0  14.340956  74.892425           4   \n",
       "577     7.0      3.0  2200.0  13.002735  77.570325           7   \n",
       "390     6.0      3.0  2200.0  18.014228  79.552624           7   \n",
       "2489    9.0      1.0  1000.0  12.973461  77.751115           6   \n",
       "\n",
       "      size_bedroom_or_bhk  is_technology_center  near_the_airport  is_road  \\\n",
       "1794              Bedroom                     0                 0        0   \n",
       "5121                  BHK                     0                 0        0   \n",
       "5194                  BHK                     0                 0        0   \n",
       "641                   BHK                     0                 0        0   \n",
       "12396             Bedroom                     0                 0        0   \n",
       "6884              Bedroom                     0                 0        0   \n",
       "1173              Bedroom                     0                 0        0   \n",
       "577                   BHK                     0                 0        0   \n",
       "390                   BHK                     0                 0        0   \n",
       "2489                  BHK                     0                 0        0   \n",
       "\n",
       "       distance_bangalore_university  distance_airport  \\\n",
       "1794                       21.028336         35.892835   \n",
       "5121                       15.732873         21.848508   \n",
       "5194                       14.072908         26.311678   \n",
       "641                        20.920089         16.498904   \n",
       "12396                      26.568094         25.692160   \n",
       "6884                       20.920089         16.498904   \n",
       "1173                      322.323243        329.717028   \n",
       "577                        10.442843         26.596657   \n",
       "390                       605.836888        570.567460   \n",
       "2489                       27.314817         25.510031   \n",
       "\n",
       "       distance_hesaraghatta_lake  distance_center  sqft_per_bed  \n",
       "1794                    11.824671        25.195785  17424.000000  \n",
       "5121                    12.322476        10.945435   4666.666667  \n",
       "5194                    24.064122         3.823236   9000.000000  \n",
       "641                     12.754434        14.525884  11666.666667  \n",
       "12396                   34.021643        16.717528   5066.666667  \n",
       "6884                    12.754434        14.525884  26136.000000  \n",
       "1173                   310.242118       328.943158   3500.000000  \n",
       "577                     18.542847         4.214693   1714.285714  \n",
       "390                    584.226120       598.963170   1714.285714  \n",
       "2489                    34.428233        17.431717   1889.666667  "
      ]
     },
     "execution_count": 48,
     "metadata": {},
     "output_type": "execute_result"
    }
   ],
   "source": [
    "df4.sort_values('total_sqft', ascending=False).head(10)"
   ]
  },
  {
   "cell_type": "markdown",
   "id": "lyric-creator",
   "metadata": {
    "hidden": true
   },
   "source": [
    "**Notes:**\n",
    "1. **total_sqft**: apartamentos com 5, 11, 15, 45 total_sqft ?"
   ]
  },
  {
   "cell_type": "markdown",
   "id": "fleet-linux",
   "metadata": {
    "heading_collapsed": true,
    "hidden": true
   },
   "source": [
    "### bath"
   ]
  },
  {
   "cell_type": "code",
   "execution_count": 49,
   "id": "disabled-answer",
   "metadata": {
    "ExecuteTime": {
     "end_time": "2021-08-07T19:03:11.255874Z",
     "start_time": "2021-08-07T19:03:11.211531Z"
    },
    "hidden": true
   },
   "outputs": [
    {
     "data": {
      "text/html": [
       "<div>\n",
       "<style scoped>\n",
       "    .dataframe tbody tr th:only-of-type {\n",
       "        vertical-align: middle;\n",
       "    }\n",
       "\n",
       "    .dataframe tbody tr th {\n",
       "        vertical-align: top;\n",
       "    }\n",
       "\n",
       "    .dataframe thead th {\n",
       "        text-align: right;\n",
       "    }\n",
       "</style>\n",
       "<table border=\"1\" class=\"dataframe\">\n",
       "  <thead>\n",
       "    <tr style=\"text-align: right;\">\n",
       "      <th></th>\n",
       "      <th>area_type</th>\n",
       "      <th>availability</th>\n",
       "      <th>location</th>\n",
       "      <th>total_sqft</th>\n",
       "      <th>bath</th>\n",
       "      <th>balcony</th>\n",
       "      <th>price</th>\n",
       "      <th>lat</th>\n",
       "      <th>lon</th>\n",
       "      <th>qt_bedroom</th>\n",
       "      <th>size_bedroom_or_bhk</th>\n",
       "      <th>is_technology_center</th>\n",
       "      <th>near_the_airport</th>\n",
       "      <th>is_road</th>\n",
       "      <th>distance_bangalore_university</th>\n",
       "      <th>distance_airport</th>\n",
       "      <th>distance_hesaraghatta_lake</th>\n",
       "      <th>distance_center</th>\n",
       "      <th>sqft_per_bed</th>\n",
       "    </tr>\n",
       "  </thead>\n",
       "  <tbody>\n",
       "    <tr>\n",
       "      <th>1877</th>\n",
       "      <td>Plot  Area</td>\n",
       "      <td>Ready To Move</td>\n",
       "      <td>Hongasandra</td>\n",
       "      <td>990.0</td>\n",
       "      <td>12.0</td>\n",
       "      <td>0.0</td>\n",
       "      <td>120.0</td>\n",
       "      <td>12.901368</td>\n",
       "      <td>77.632057</td>\n",
       "      <td>8</td>\n",
       "      <td>Bedroom</td>\n",
       "      <td>0</td>\n",
       "      <td>0</td>\n",
       "      <td>0</td>\n",
       "      <td>14.639552</td>\n",
       "      <td>34.199629</td>\n",
       "      <td>31.641348</td>\n",
       "      <td>8.892508</td>\n",
       "      <td>123.750000</td>\n",
       "    </tr>\n",
       "    <tr>\n",
       "      <th>1681</th>\n",
       "      <td>Plot  Area</td>\n",
       "      <td>Ready To Move</td>\n",
       "      <td>1 Ramamurthy Nagar</td>\n",
       "      <td>1200.0</td>\n",
       "      <td>11.0</td>\n",
       "      <td>0.0</td>\n",
       "      <td>170.0</td>\n",
       "      <td>13.012022</td>\n",
       "      <td>77.677782</td>\n",
       "      <td>11</td>\n",
       "      <td>Bedroom</td>\n",
       "      <td>0</td>\n",
       "      <td>0</td>\n",
       "      <td>0</td>\n",
       "      <td>20.821178</td>\n",
       "      <td>21.125807</td>\n",
       "      <td>25.476453</td>\n",
       "      <td>10.560175</td>\n",
       "      <td>109.090909</td>\n",
       "    </tr>\n",
       "    <tr>\n",
       "      <th>5555</th>\n",
       "      <td>Super built-up  Area</td>\n",
       "      <td>Ready To Move</td>\n",
       "      <td>Vidyaranyapura</td>\n",
       "      <td>4700.0</td>\n",
       "      <td>10.0</td>\n",
       "      <td>3.0</td>\n",
       "      <td>130.0</td>\n",
       "      <td>13.406193</td>\n",
       "      <td>75.249867</td>\n",
       "      <td>9</td>\n",
       "      <td>BHK</td>\n",
       "      <td>0</td>\n",
       "      <td>0</td>\n",
       "      <td>0</td>\n",
       "      <td>249.354943</td>\n",
       "      <td>267.219384</td>\n",
       "      <td>244.099641</td>\n",
       "      <td>257.973221</td>\n",
       "      <td>522.222222</td>\n",
       "    </tr>\n",
       "    <tr>\n",
       "      <th>2072</th>\n",
       "      <td>Plot  Area</td>\n",
       "      <td>Ready To Move</td>\n",
       "      <td>NS Palya</td>\n",
       "      <td>1500.0</td>\n",
       "      <td>10.0</td>\n",
       "      <td>3.0</td>\n",
       "      <td>165.0</td>\n",
       "      <td>12.908793</td>\n",
       "      <td>77.604554</td>\n",
       "      <td>8</td>\n",
       "      <td>Bedroom</td>\n",
       "      <td>0</td>\n",
       "      <td>0</td>\n",
       "      <td>0</td>\n",
       "      <td>11.546386</td>\n",
       "      <td>34.275995</td>\n",
       "      <td>29.552849</td>\n",
       "      <td>7.000955</td>\n",
       "      <td>187.500000</td>\n",
       "    </tr>\n",
       "    <tr>\n",
       "      <th>6373</th>\n",
       "      <td>Plot  Area</td>\n",
       "      <td>Ready To Move</td>\n",
       "      <td>Kothanur</td>\n",
       "      <td>1020.0</td>\n",
       "      <td>10.0</td>\n",
       "      <td>0.0</td>\n",
       "      <td>155.0</td>\n",
       "      <td>12.580537</td>\n",
       "      <td>77.333067</td>\n",
       "      <td>8</td>\n",
       "      <td>Bedroom</td>\n",
       "      <td>0</td>\n",
       "      <td>0</td>\n",
       "      <td>0</td>\n",
       "      <td>43.620978</td>\n",
       "      <td>80.034913</td>\n",
       "      <td>65.566917</td>\n",
       "      <td>51.529952</td>\n",
       "      <td>127.500000</td>\n",
       "    </tr>\n",
       "    <tr>\n",
       "      <th>6211</th>\n",
       "      <td>Plot  Area</td>\n",
       "      <td>Ready To Move</td>\n",
       "      <td>Hoskote</td>\n",
       "      <td>1800.0</td>\n",
       "      <td>10.0</td>\n",
       "      <td>3.0</td>\n",
       "      <td>185.0</td>\n",
       "      <td>13.073014</td>\n",
       "      <td>77.792138</td>\n",
       "      <td>9</td>\n",
       "      <td>Bedroom</td>\n",
       "      <td>0</td>\n",
       "      <td>0</td>\n",
       "      <td>0</td>\n",
       "      <td>34.912258</td>\n",
       "      <td>16.621765</td>\n",
       "      <td>33.821706</td>\n",
       "      <td>24.676820</td>\n",
       "      <td>200.000000</td>\n",
       "    </tr>\n",
       "    <tr>\n",
       "      <th>11500</th>\n",
       "      <td>Plot  Area</td>\n",
       "      <td>Ready To Move</td>\n",
       "      <td>Rajaji Nagar</td>\n",
       "      <td>1200.0</td>\n",
       "      <td>10.0</td>\n",
       "      <td>2.0</td>\n",
       "      <td>180.0</td>\n",
       "      <td>18.014228</td>\n",
       "      <td>79.552624</td>\n",
       "      <td>8</td>\n",
       "      <td>Bedroom</td>\n",
       "      <td>0</td>\n",
       "      <td>0</td>\n",
       "      <td>0</td>\n",
       "      <td>605.836888</td>\n",
       "      <td>570.567460</td>\n",
       "      <td>584.226120</td>\n",
       "      <td>598.963170</td>\n",
       "      <td>150.000000</td>\n",
       "    </tr>\n",
       "    <tr>\n",
       "      <th>1836</th>\n",
       "      <td>Plot  Area</td>\n",
       "      <td>Ready To Move</td>\n",
       "      <td>Chikkasandra</td>\n",
       "      <td>1200.0</td>\n",
       "      <td>9.0</td>\n",
       "      <td>3.0</td>\n",
       "      <td>120.0</td>\n",
       "      <td>13.710558</td>\n",
       "      <td>76.844970</td>\n",
       "      <td>9</td>\n",
       "      <td>Bedroom</td>\n",
       "      <td>0</td>\n",
       "      <td>0</td>\n",
       "      <td>0</td>\n",
       "      <td>111.619990</td>\n",
       "      <td>109.474057</td>\n",
       "      <td>93.551989</td>\n",
       "      <td>115.237687</td>\n",
       "      <td>133.333333</td>\n",
       "    </tr>\n",
       "    <tr>\n",
       "      <th>733</th>\n",
       "      <td>Plot  Area</td>\n",
       "      <td>Ready To Move</td>\n",
       "      <td>Sector 3 HSR Layout</td>\n",
       "      <td>600.0</td>\n",
       "      <td>9.0</td>\n",
       "      <td>3.0</td>\n",
       "      <td>190.0</td>\n",
       "      <td>12.912736</td>\n",
       "      <td>77.638005</td>\n",
       "      <td>9</td>\n",
       "      <td>Bedroom</td>\n",
       "      <td>0</td>\n",
       "      <td>0</td>\n",
       "      <td>0</td>\n",
       "      <td>14.986828</td>\n",
       "      <td>32.817008</td>\n",
       "      <td>30.872650</td>\n",
       "      <td>8.220610</td>\n",
       "      <td>66.666667</td>\n",
       "    </tr>\n",
       "    <tr>\n",
       "      <th>2682</th>\n",
       "      <td>Built-up  Area</td>\n",
       "      <td>Ready To Move</td>\n",
       "      <td>Kadugodi</td>\n",
       "      <td>6200.0</td>\n",
       "      <td>9.0</td>\n",
       "      <td>0.0</td>\n",
       "      <td>200.0</td>\n",
       "      <td>12.998577</td>\n",
       "      <td>77.760972</td>\n",
       "      <td>9</td>\n",
       "      <td>Bedroom</td>\n",
       "      <td>0</td>\n",
       "      <td>0</td>\n",
       "      <td>0</td>\n",
       "      <td>28.905803</td>\n",
       "      <td>22.996982</td>\n",
       "      <td>33.836422</td>\n",
       "      <td>18.762297</td>\n",
       "      <td>688.888889</td>\n",
       "    </tr>\n",
       "  </tbody>\n",
       "</table>\n",
       "</div>"
      ],
      "text/plain": [
       "                  area_type   availability             location  total_sqft  \\\n",
       "1877             Plot  Area  Ready To Move          Hongasandra       990.0   \n",
       "1681             Plot  Area  Ready To Move   1 Ramamurthy Nagar      1200.0   \n",
       "5555   Super built-up  Area  Ready To Move       Vidyaranyapura      4700.0   \n",
       "2072             Plot  Area  Ready To Move             NS Palya      1500.0   \n",
       "6373             Plot  Area  Ready To Move             Kothanur      1020.0   \n",
       "6211             Plot  Area  Ready To Move              Hoskote      1800.0   \n",
       "11500            Plot  Area  Ready To Move         Rajaji Nagar      1200.0   \n",
       "1836             Plot  Area  Ready To Move         Chikkasandra      1200.0   \n",
       "733              Plot  Area  Ready To Move  Sector 3 HSR Layout       600.0   \n",
       "2682         Built-up  Area  Ready To Move             Kadugodi      6200.0   \n",
       "\n",
       "       bath  balcony  price        lat        lon  qt_bedroom  \\\n",
       "1877   12.0      0.0  120.0  12.901368  77.632057           8   \n",
       "1681   11.0      0.0  170.0  13.012022  77.677782          11   \n",
       "5555   10.0      3.0  130.0  13.406193  75.249867           9   \n",
       "2072   10.0      3.0  165.0  12.908793  77.604554           8   \n",
       "6373   10.0      0.0  155.0  12.580537  77.333067           8   \n",
       "6211   10.0      3.0  185.0  13.073014  77.792138           9   \n",
       "11500  10.0      2.0  180.0  18.014228  79.552624           8   \n",
       "1836    9.0      3.0  120.0  13.710558  76.844970           9   \n",
       "733     9.0      3.0  190.0  12.912736  77.638005           9   \n",
       "2682    9.0      0.0  200.0  12.998577  77.760972           9   \n",
       "\n",
       "      size_bedroom_or_bhk  is_technology_center  near_the_airport  is_road  \\\n",
       "1877              Bedroom                     0                 0        0   \n",
       "1681              Bedroom                     0                 0        0   \n",
       "5555                  BHK                     0                 0        0   \n",
       "2072              Bedroom                     0                 0        0   \n",
       "6373              Bedroom                     0                 0        0   \n",
       "6211              Bedroom                     0                 0        0   \n",
       "11500             Bedroom                     0                 0        0   \n",
       "1836              Bedroom                     0                 0        0   \n",
       "733               Bedroom                     0                 0        0   \n",
       "2682              Bedroom                     0                 0        0   \n",
       "\n",
       "       distance_bangalore_university  distance_airport  \\\n",
       "1877                       14.639552         34.199629   \n",
       "1681                       20.821178         21.125807   \n",
       "5555                      249.354943        267.219384   \n",
       "2072                       11.546386         34.275995   \n",
       "6373                       43.620978         80.034913   \n",
       "6211                       34.912258         16.621765   \n",
       "11500                     605.836888        570.567460   \n",
       "1836                      111.619990        109.474057   \n",
       "733                        14.986828         32.817008   \n",
       "2682                       28.905803         22.996982   \n",
       "\n",
       "       distance_hesaraghatta_lake  distance_center  sqft_per_bed  \n",
       "1877                    31.641348         8.892508    123.750000  \n",
       "1681                    25.476453        10.560175    109.090909  \n",
       "5555                   244.099641       257.973221    522.222222  \n",
       "2072                    29.552849         7.000955    187.500000  \n",
       "6373                    65.566917        51.529952    127.500000  \n",
       "6211                    33.821706        24.676820    200.000000  \n",
       "11500                  584.226120       598.963170    150.000000  \n",
       "1836                    93.551989       115.237687    133.333333  \n",
       "733                     30.872650         8.220610     66.666667  \n",
       "2682                    33.836422        18.762297    688.888889  "
      ]
     },
     "execution_count": 49,
     "metadata": {},
     "output_type": "execute_result"
    }
   ],
   "source": [
    "df4.sort_values('bath', ascending=False).head(10)"
   ]
  },
  {
   "cell_type": "markdown",
   "id": "necessary-calgary",
   "metadata": {
    "heading_collapsed": true,
    "hidden": true
   },
   "source": [
    "### balcony"
   ]
  },
  {
   "cell_type": "code",
   "execution_count": 50,
   "id": "novel-think",
   "metadata": {
    "ExecuteTime": {
     "end_time": "2021-08-07T19:03:11.272882Z",
     "start_time": "2021-08-07T19:03:11.259158Z"
    },
    "hidden": true
   },
   "outputs": [
    {
     "data": {
      "text/plain": [
       "2.0    4273\n",
       "1.0    4030\n",
       "3.0    1379\n",
       "0.0     739\n",
       "Name: balcony, dtype: int64"
      ]
     },
     "execution_count": 50,
     "metadata": {},
     "output_type": "execute_result"
    }
   ],
   "source": [
    "df4['balcony'].value_counts()"
   ]
  },
  {
   "cell_type": "markdown",
   "id": "pacific-albania",
   "metadata": {
    "heading_collapsed": true,
    "hidden": true
   },
   "source": [
    "### price"
   ]
  },
  {
   "cell_type": "code",
   "execution_count": 51,
   "id": "certified-handle",
   "metadata": {
    "ExecuteTime": {
     "end_time": "2021-08-07T19:03:11.317506Z",
     "start_time": "2021-08-07T19:03:11.275265Z"
    },
    "hidden": true
   },
   "outputs": [
    {
     "data": {
      "text/html": [
       "<div>\n",
       "<style scoped>\n",
       "    .dataframe tbody tr th:only-of-type {\n",
       "        vertical-align: middle;\n",
       "    }\n",
       "\n",
       "    .dataframe tbody tr th {\n",
       "        vertical-align: top;\n",
       "    }\n",
       "\n",
       "    .dataframe thead th {\n",
       "        text-align: right;\n",
       "    }\n",
       "</style>\n",
       "<table border=\"1\" class=\"dataframe\">\n",
       "  <thead>\n",
       "    <tr style=\"text-align: right;\">\n",
       "      <th></th>\n",
       "      <th>area_type</th>\n",
       "      <th>availability</th>\n",
       "      <th>location</th>\n",
       "      <th>total_sqft</th>\n",
       "      <th>bath</th>\n",
       "      <th>balcony</th>\n",
       "      <th>price</th>\n",
       "      <th>lat</th>\n",
       "      <th>lon</th>\n",
       "      <th>qt_bedroom</th>\n",
       "      <th>size_bedroom_or_bhk</th>\n",
       "      <th>is_technology_center</th>\n",
       "      <th>near_the_airport</th>\n",
       "      <th>is_road</th>\n",
       "      <th>distance_bangalore_university</th>\n",
       "      <th>distance_airport</th>\n",
       "      <th>distance_hesaraghatta_lake</th>\n",
       "      <th>distance_center</th>\n",
       "      <th>sqft_per_bed</th>\n",
       "    </tr>\n",
       "  </thead>\n",
       "  <tbody>\n",
       "    <tr>\n",
       "      <th>10558</th>\n",
       "      <td>Super built-up  Area</td>\n",
       "      <td>18-Jan</td>\n",
       "      <td>Ashok Nagar</td>\n",
       "      <td>8321.0</td>\n",
       "      <td>5.0</td>\n",
       "      <td>2.0</td>\n",
       "      <td>2912.0</td>\n",
       "      <td>13.040073</td>\n",
       "      <td>80.215925</td>\n",
       "      <td>4</td>\n",
       "      <td>BHK</td>\n",
       "      <td>0</td>\n",
       "      <td>0</td>\n",
       "      <td>0</td>\n",
       "      <td>294.288157</td>\n",
       "      <td>271.934855</td>\n",
       "      <td>295.478689</td>\n",
       "      <td>284.575065</td>\n",
       "      <td>2080.250000</td>\n",
       "    </tr>\n",
       "    <tr>\n",
       "      <th>12600</th>\n",
       "      <td>Plot  Area</td>\n",
       "      <td>Ready To Move</td>\n",
       "      <td>Defence Colony</td>\n",
       "      <td>8000.0</td>\n",
       "      <td>6.0</td>\n",
       "      <td>3.0</td>\n",
       "      <td>2800.0</td>\n",
       "      <td>34.011250</td>\n",
       "      <td>71.536452</td>\n",
       "      <td>6</td>\n",
       "      <td>Bedroom</td>\n",
       "      <td>0</td>\n",
       "      <td>0</td>\n",
       "      <td>0</td>\n",
       "      <td>2419.727021</td>\n",
       "      <td>2396.699545</td>\n",
       "      <td>2396.350943</td>\n",
       "      <td>2418.336727</td>\n",
       "      <td>1333.333333</td>\n",
       "    </tr>\n",
       "    <tr>\n",
       "      <th>11214</th>\n",
       "      <td>Plot  Area</td>\n",
       "      <td>Ready To Move</td>\n",
       "      <td>Sadashiva Nagar</td>\n",
       "      <td>9600.0</td>\n",
       "      <td>7.0</td>\n",
       "      <td>2.0</td>\n",
       "      <td>2736.0</td>\n",
       "      <td>15.331903</td>\n",
       "      <td>75.126470</td>\n",
       "      <td>5</td>\n",
       "      <td>Bedroom</td>\n",
       "      <td>0</td>\n",
       "      <td>0</td>\n",
       "      <td>0</td>\n",
       "      <td>369.508415</td>\n",
       "      <td>365.707151</td>\n",
       "      <td>351.772371</td>\n",
       "      <td>373.525481</td>\n",
       "      <td>1920.000000</td>\n",
       "    </tr>\n",
       "    <tr>\n",
       "      <th>9816</th>\n",
       "      <td>Plot  Area</td>\n",
       "      <td>Ready To Move</td>\n",
       "      <td>5th Block Jayanagar</td>\n",
       "      <td>10624.0</td>\n",
       "      <td>4.0</td>\n",
       "      <td>2.0</td>\n",
       "      <td>2340.0</td>\n",
       "      <td>12.929507</td>\n",
       "      <td>77.580165</td>\n",
       "      <td>4</td>\n",
       "      <td>Bedroom</td>\n",
       "      <td>0</td>\n",
       "      <td>0</td>\n",
       "      <td>0</td>\n",
       "      <td>8.517801</td>\n",
       "      <td>33.146607</td>\n",
       "      <td>26.391704</td>\n",
       "      <td>4.655440</td>\n",
       "      <td>2656.000000</td>\n",
       "    </tr>\n",
       "    <tr>\n",
       "      <th>6103</th>\n",
       "      <td>Plot  Area</td>\n",
       "      <td>18-Sep</td>\n",
       "      <td>Bommenahalli</td>\n",
       "      <td>2940.0</td>\n",
       "      <td>3.0</td>\n",
       "      <td>2.0</td>\n",
       "      <td>2250.0</td>\n",
       "      <td>13.268710</td>\n",
       "      <td>76.641051</td>\n",
       "      <td>4</td>\n",
       "      <td>Bedroom</td>\n",
       "      <td>0</td>\n",
       "      <td>0</td>\n",
       "      <td>0</td>\n",
       "      <td>100.278299</td>\n",
       "      <td>115.976416</td>\n",
       "      <td>92.844390</td>\n",
       "      <td>108.020498</td>\n",
       "      <td>735.000000</td>\n",
       "    </tr>\n",
       "    <tr>\n",
       "      <th>390</th>\n",
       "      <td>Super built-up  Area</td>\n",
       "      <td>19-Jan</td>\n",
       "      <td>Rajaji Nagar</td>\n",
       "      <td>12000.0</td>\n",
       "      <td>6.0</td>\n",
       "      <td>3.0</td>\n",
       "      <td>2200.0</td>\n",
       "      <td>18.014228</td>\n",
       "      <td>79.552624</td>\n",
       "      <td>7</td>\n",
       "      <td>BHK</td>\n",
       "      <td>0</td>\n",
       "      <td>0</td>\n",
       "      <td>0</td>\n",
       "      <td>605.836888</td>\n",
       "      <td>570.567460</td>\n",
       "      <td>584.226120</td>\n",
       "      <td>598.963170</td>\n",
       "      <td>1714.285714</td>\n",
       "    </tr>\n",
       "    <tr>\n",
       "      <th>577</th>\n",
       "      <td>Super built-up  Area</td>\n",
       "      <td>19-Jan</td>\n",
       "      <td>Malleshwaram</td>\n",
       "      <td>12000.0</td>\n",
       "      <td>7.0</td>\n",
       "      <td>3.0</td>\n",
       "      <td>2200.0</td>\n",
       "      <td>13.002735</td>\n",
       "      <td>77.570325</td>\n",
       "      <td>7</td>\n",
       "      <td>BHK</td>\n",
       "      <td>0</td>\n",
       "      <td>0</td>\n",
       "      <td>0</td>\n",
       "      <td>10.442843</td>\n",
       "      <td>26.596657</td>\n",
       "      <td>18.542847</td>\n",
       "      <td>4.214693</td>\n",
       "      <td>1714.285714</td>\n",
       "    </tr>\n",
       "    <tr>\n",
       "      <th>8119</th>\n",
       "      <td>Plot  Area</td>\n",
       "      <td>Ready To Move</td>\n",
       "      <td>Dollars Colony</td>\n",
       "      <td>7800.0</td>\n",
       "      <td>3.0</td>\n",
       "      <td>2.0</td>\n",
       "      <td>2000.0</td>\n",
       "      <td>15.346072</td>\n",
       "      <td>75.116714</td>\n",
       "      <td>3</td>\n",
       "      <td>Bedroom</td>\n",
       "      <td>0</td>\n",
       "      <td>0</td>\n",
       "      <td>0</td>\n",
       "      <td>371.367519</td>\n",
       "      <td>367.522493</td>\n",
       "      <td>353.614524</td>\n",
       "      <td>375.375167</td>\n",
       "      <td>2600.000000</td>\n",
       "    </tr>\n",
       "    <tr>\n",
       "      <th>6954</th>\n",
       "      <td>Plot  Area</td>\n",
       "      <td>18-Apr</td>\n",
       "      <td>Yemlur</td>\n",
       "      <td>11000.0</td>\n",
       "      <td>5.0</td>\n",
       "      <td>3.0</td>\n",
       "      <td>2000.0</td>\n",
       "      <td>12.946651</td>\n",
       "      <td>77.676065</td>\n",
       "      <td>4</td>\n",
       "      <td>Bedroom</td>\n",
       "      <td>0</td>\n",
       "      <td>0</td>\n",
       "      <td>0</td>\n",
       "      <td>18.906827</td>\n",
       "      <td>28.343324</td>\n",
       "      <td>30.290452</td>\n",
       "      <td>9.657920</td>\n",
       "      <td>2750.000000</td>\n",
       "    </tr>\n",
       "    <tr>\n",
       "      <th>12396</th>\n",
       "      <td>Plot  Area</td>\n",
       "      <td>Ready To Move</td>\n",
       "      <td>Dodsworth Layout</td>\n",
       "      <td>30400.0</td>\n",
       "      <td>4.0</td>\n",
       "      <td>2.0</td>\n",
       "      <td>1824.0</td>\n",
       "      <td>12.970770</td>\n",
       "      <td>77.744557</td>\n",
       "      <td>6</td>\n",
       "      <td>Bedroom</td>\n",
       "      <td>0</td>\n",
       "      <td>0</td>\n",
       "      <td>0</td>\n",
       "      <td>26.568094</td>\n",
       "      <td>25.692160</td>\n",
       "      <td>34.021643</td>\n",
       "      <td>16.717528</td>\n",
       "      <td>5066.666667</td>\n",
       "    </tr>\n",
       "  </tbody>\n",
       "</table>\n",
       "</div>"
      ],
      "text/plain": [
       "                  area_type   availability             location  total_sqft  \\\n",
       "10558  Super built-up  Area         18-Jan          Ashok Nagar      8321.0   \n",
       "12600            Plot  Area  Ready To Move       Defence Colony      8000.0   \n",
       "11214            Plot  Area  Ready To Move      Sadashiva Nagar      9600.0   \n",
       "9816             Plot  Area  Ready To Move  5th Block Jayanagar     10624.0   \n",
       "6103             Plot  Area         18-Sep         Bommenahalli      2940.0   \n",
       "390    Super built-up  Area         19-Jan         Rajaji Nagar     12000.0   \n",
       "577    Super built-up  Area         19-Jan         Malleshwaram     12000.0   \n",
       "8119             Plot  Area  Ready To Move       Dollars Colony      7800.0   \n",
       "6954             Plot  Area         18-Apr               Yemlur     11000.0   \n",
       "12396            Plot  Area  Ready To Move     Dodsworth Layout     30400.0   \n",
       "\n",
       "       bath  balcony   price        lat        lon  qt_bedroom  \\\n",
       "10558   5.0      2.0  2912.0  13.040073  80.215925           4   \n",
       "12600   6.0      3.0  2800.0  34.011250  71.536452           6   \n",
       "11214   7.0      2.0  2736.0  15.331903  75.126470           5   \n",
       "9816    4.0      2.0  2340.0  12.929507  77.580165           4   \n",
       "6103    3.0      2.0  2250.0  13.268710  76.641051           4   \n",
       "390     6.0      3.0  2200.0  18.014228  79.552624           7   \n",
       "577     7.0      3.0  2200.0  13.002735  77.570325           7   \n",
       "8119    3.0      2.0  2000.0  15.346072  75.116714           3   \n",
       "6954    5.0      3.0  2000.0  12.946651  77.676065           4   \n",
       "12396   4.0      2.0  1824.0  12.970770  77.744557           6   \n",
       "\n",
       "      size_bedroom_or_bhk  is_technology_center  near_the_airport  is_road  \\\n",
       "10558                 BHK                     0                 0        0   \n",
       "12600             Bedroom                     0                 0        0   \n",
       "11214             Bedroom                     0                 0        0   \n",
       "9816              Bedroom                     0                 0        0   \n",
       "6103              Bedroom                     0                 0        0   \n",
       "390                   BHK                     0                 0        0   \n",
       "577                   BHK                     0                 0        0   \n",
       "8119              Bedroom                     0                 0        0   \n",
       "6954              Bedroom                     0                 0        0   \n",
       "12396             Bedroom                     0                 0        0   \n",
       "\n",
       "       distance_bangalore_university  distance_airport  \\\n",
       "10558                     294.288157        271.934855   \n",
       "12600                    2419.727021       2396.699545   \n",
       "11214                     369.508415        365.707151   \n",
       "9816                        8.517801         33.146607   \n",
       "6103                      100.278299        115.976416   \n",
       "390                       605.836888        570.567460   \n",
       "577                        10.442843         26.596657   \n",
       "8119                      371.367519        367.522493   \n",
       "6954                       18.906827         28.343324   \n",
       "12396                      26.568094         25.692160   \n",
       "\n",
       "       distance_hesaraghatta_lake  distance_center  sqft_per_bed  \n",
       "10558                  295.478689       284.575065   2080.250000  \n",
       "12600                 2396.350943      2418.336727   1333.333333  \n",
       "11214                  351.772371       373.525481   1920.000000  \n",
       "9816                    26.391704         4.655440   2656.000000  \n",
       "6103                    92.844390       108.020498    735.000000  \n",
       "390                    584.226120       598.963170   1714.285714  \n",
       "577                     18.542847         4.214693   1714.285714  \n",
       "8119                   353.614524       375.375167   2600.000000  \n",
       "6954                    30.290452         9.657920   2750.000000  \n",
       "12396                   34.021643        16.717528   5066.666667  "
      ]
     },
     "execution_count": 51,
     "metadata": {},
     "output_type": "execute_result"
    }
   ],
   "source": [
    "df4.sort_values('price', ascending=False).head(10)"
   ]
  },
  {
   "cell_type": "code",
   "execution_count": 52,
   "id": "weird-denial",
   "metadata": {
    "ExecuteTime": {
     "end_time": "2021-08-07T19:03:11.363623Z",
     "start_time": "2021-08-07T19:03:11.320654Z"
    },
    "hidden": true
   },
   "outputs": [
    {
     "data": {
      "text/html": [
       "<div>\n",
       "<style scoped>\n",
       "    .dataframe tbody tr th:only-of-type {\n",
       "        vertical-align: middle;\n",
       "    }\n",
       "\n",
       "    .dataframe tbody tr th {\n",
       "        vertical-align: top;\n",
       "    }\n",
       "\n",
       "    .dataframe thead th {\n",
       "        text-align: right;\n",
       "    }\n",
       "</style>\n",
       "<table border=\"1\" class=\"dataframe\">\n",
       "  <thead>\n",
       "    <tr style=\"text-align: right;\">\n",
       "      <th></th>\n",
       "      <th>area_type</th>\n",
       "      <th>availability</th>\n",
       "      <th>location</th>\n",
       "      <th>total_sqft</th>\n",
       "      <th>bath</th>\n",
       "      <th>balcony</th>\n",
       "      <th>price</th>\n",
       "      <th>lat</th>\n",
       "      <th>lon</th>\n",
       "      <th>qt_bedroom</th>\n",
       "      <th>size_bedroom_or_bhk</th>\n",
       "      <th>is_technology_center</th>\n",
       "      <th>near_the_airport</th>\n",
       "      <th>is_road</th>\n",
       "      <th>distance_bangalore_university</th>\n",
       "      <th>distance_airport</th>\n",
       "      <th>distance_hesaraghatta_lake</th>\n",
       "      <th>distance_center</th>\n",
       "      <th>sqft_per_bed</th>\n",
       "    </tr>\n",
       "  </thead>\n",
       "  <tbody>\n",
       "    <tr>\n",
       "      <th>10029</th>\n",
       "      <td>Super built-up  Area</td>\n",
       "      <td>Ready To Move</td>\n",
       "      <td>Yelahanka New Town</td>\n",
       "      <td>284.0</td>\n",
       "      <td>1.0</td>\n",
       "      <td>1.0</td>\n",
       "      <td>8.00</td>\n",
       "      <td>13.097804</td>\n",
       "      <td>77.581189</td>\n",
       "      <td>1</td>\n",
       "      <td>BHK</td>\n",
       "      <td>0</td>\n",
       "      <td>0</td>\n",
       "      <td>0</td>\n",
       "      <td>19.877271</td>\n",
       "      <td>17.958764</td>\n",
       "      <td>11.454251</td>\n",
       "      <td>14.223291</td>\n",
       "      <td>284.0</td>\n",
       "    </tr>\n",
       "    <tr>\n",
       "      <th>8163</th>\n",
       "      <td>Built-up  Area</td>\n",
       "      <td>Ready To Move</td>\n",
       "      <td>Chandapura</td>\n",
       "      <td>450.0</td>\n",
       "      <td>1.0</td>\n",
       "      <td>1.0</td>\n",
       "      <td>9.00</td>\n",
       "      <td>17.443639</td>\n",
       "      <td>77.433391</td>\n",
       "      <td>1</td>\n",
       "      <td>BHK</td>\n",
       "      <td>0</td>\n",
       "      <td>0</td>\n",
       "      <td>0</td>\n",
       "      <td>501.215027</td>\n",
       "      <td>472.872567</td>\n",
       "      <td>477.470083</td>\n",
       "      <td>497.709220</td>\n",
       "      <td>450.0</td>\n",
       "    </tr>\n",
       "    <tr>\n",
       "      <th>7111</th>\n",
       "      <td>Super built-up  Area</td>\n",
       "      <td>Ready To Move</td>\n",
       "      <td>Alur</td>\n",
       "      <td>470.0</td>\n",
       "      <td>2.0</td>\n",
       "      <td>1.0</td>\n",
       "      <td>10.00</td>\n",
       "      <td>15.428596</td>\n",
       "      <td>77.261334</td>\n",
       "      <td>1</td>\n",
       "      <td>BHK</td>\n",
       "      <td>0</td>\n",
       "      <td>0</td>\n",
       "      <td>0</td>\n",
       "      <td>278.309091</td>\n",
       "      <td>252.549702</td>\n",
       "      <td>254.563727</td>\n",
       "      <td>275.651570</td>\n",
       "      <td>470.0</td>\n",
       "    </tr>\n",
       "    <tr>\n",
       "      <th>10569</th>\n",
       "      <td>Built-up  Area</td>\n",
       "      <td>Ready To Move</td>\n",
       "      <td>Attibele</td>\n",
       "      <td>410.0</td>\n",
       "      <td>1.0</td>\n",
       "      <td>1.0</td>\n",
       "      <td>10.00</td>\n",
       "      <td>12.778259</td>\n",
       "      <td>77.771283</td>\n",
       "      <td>1</td>\n",
       "      <td>BHK</td>\n",
       "      <td>0</td>\n",
       "      <td>0</td>\n",
       "      <td>0</td>\n",
       "      <td>34.099194</td>\n",
       "      <td>47.292867</td>\n",
       "      <td>51.358348</td>\n",
       "      <td>28.991247</td>\n",
       "      <td>410.0</td>\n",
       "    </tr>\n",
       "    <tr>\n",
       "      <th>5138</th>\n",
       "      <td>Super built-up  Area</td>\n",
       "      <td>Ready To Move</td>\n",
       "      <td>Attibele</td>\n",
       "      <td>400.0</td>\n",
       "      <td>1.0</td>\n",
       "      <td>1.0</td>\n",
       "      <td>10.00</td>\n",
       "      <td>12.778259</td>\n",
       "      <td>77.771283</td>\n",
       "      <td>1</td>\n",
       "      <td>BHK</td>\n",
       "      <td>0</td>\n",
       "      <td>0</td>\n",
       "      <td>0</td>\n",
       "      <td>34.099194</td>\n",
       "      <td>47.292867</td>\n",
       "      <td>51.358348</td>\n",
       "      <td>28.991247</td>\n",
       "      <td>400.0</td>\n",
       "    </tr>\n",
       "    <tr>\n",
       "      <th>12007</th>\n",
       "      <td>Super built-up  Area</td>\n",
       "      <td>Ready To Move</td>\n",
       "      <td>Chandapura</td>\n",
       "      <td>410.0</td>\n",
       "      <td>1.0</td>\n",
       "      <td>1.0</td>\n",
       "      <td>10.00</td>\n",
       "      <td>17.443639</td>\n",
       "      <td>77.433391</td>\n",
       "      <td>1</td>\n",
       "      <td>BHK</td>\n",
       "      <td>0</td>\n",
       "      <td>0</td>\n",
       "      <td>0</td>\n",
       "      <td>501.215027</td>\n",
       "      <td>472.872567</td>\n",
       "      <td>477.470083</td>\n",
       "      <td>497.709220</td>\n",
       "      <td>410.0</td>\n",
       "    </tr>\n",
       "    <tr>\n",
       "      <th>1396</th>\n",
       "      <td>Built-up  Area</td>\n",
       "      <td>18-Mar</td>\n",
       "      <td>Kengeri</td>\n",
       "      <td>340.0</td>\n",
       "      <td>1.0</td>\n",
       "      <td>1.0</td>\n",
       "      <td>10.00</td>\n",
       "      <td>12.917657</td>\n",
       "      <td>77.483757</td>\n",
       "      <td>1</td>\n",
       "      <td>BHK</td>\n",
       "      <td>0</td>\n",
       "      <td>0</td>\n",
       "      <td>0</td>\n",
       "      <td>2.881536</td>\n",
       "      <td>39.782110</td>\n",
       "      <td>25.844238</td>\n",
       "      <td>12.937820</td>\n",
       "      <td>340.0</td>\n",
       "    </tr>\n",
       "    <tr>\n",
       "      <th>11395</th>\n",
       "      <td>Super built-up  Area</td>\n",
       "      <td>Ready To Move</td>\n",
       "      <td>Attibele</td>\n",
       "      <td>400.0</td>\n",
       "      <td>1.0</td>\n",
       "      <td>1.0</td>\n",
       "      <td>10.25</td>\n",
       "      <td>12.778259</td>\n",
       "      <td>77.771283</td>\n",
       "      <td>1</td>\n",
       "      <td>BHK</td>\n",
       "      <td>0</td>\n",
       "      <td>0</td>\n",
       "      <td>0</td>\n",
       "      <td>34.099194</td>\n",
       "      <td>47.292867</td>\n",
       "      <td>51.358348</td>\n",
       "      <td>28.991247</td>\n",
       "      <td>400.0</td>\n",
       "    </tr>\n",
       "    <tr>\n",
       "      <th>2313</th>\n",
       "      <td>Built-up  Area</td>\n",
       "      <td>Ready To Move</td>\n",
       "      <td>Attibele</td>\n",
       "      <td>395.0</td>\n",
       "      <td>1.0</td>\n",
       "      <td>1.0</td>\n",
       "      <td>10.25</td>\n",
       "      <td>12.778259</td>\n",
       "      <td>77.771283</td>\n",
       "      <td>1</td>\n",
       "      <td>BHK</td>\n",
       "      <td>0</td>\n",
       "      <td>0</td>\n",
       "      <td>0</td>\n",
       "      <td>34.099194</td>\n",
       "      <td>47.292867</td>\n",
       "      <td>51.358348</td>\n",
       "      <td>28.991247</td>\n",
       "      <td>395.0</td>\n",
       "    </tr>\n",
       "    <tr>\n",
       "      <th>8217</th>\n",
       "      <td>Plot  Area</td>\n",
       "      <td>Ready To Move</td>\n",
       "      <td>Doddaballapur</td>\n",
       "      <td>640.0</td>\n",
       "      <td>1.0</td>\n",
       "      <td>0.0</td>\n",
       "      <td>10.50</td>\n",
       "      <td>13.292958</td>\n",
       "      <td>77.543146</td>\n",
       "      <td>2</td>\n",
       "      <td>Bedroom</td>\n",
       "      <td>0</td>\n",
       "      <td>0</td>\n",
       "      <td>0</td>\n",
       "      <td>39.876773</td>\n",
       "      <td>20.855693</td>\n",
       "      <td>16.905254</td>\n",
       "      <td>36.250458</td>\n",
       "      <td>320.0</td>\n",
       "    </tr>\n",
       "  </tbody>\n",
       "</table>\n",
       "</div>"
      ],
      "text/plain": [
       "                  area_type   availability            location  total_sqft  \\\n",
       "10029  Super built-up  Area  Ready To Move  Yelahanka New Town       284.0   \n",
       "8163         Built-up  Area  Ready To Move          Chandapura       450.0   \n",
       "7111   Super built-up  Area  Ready To Move                Alur       470.0   \n",
       "10569        Built-up  Area  Ready To Move            Attibele       410.0   \n",
       "5138   Super built-up  Area  Ready To Move            Attibele       400.0   \n",
       "12007  Super built-up  Area  Ready To Move          Chandapura       410.0   \n",
       "1396         Built-up  Area         18-Mar             Kengeri       340.0   \n",
       "11395  Super built-up  Area  Ready To Move            Attibele       400.0   \n",
       "2313         Built-up  Area  Ready To Move            Attibele       395.0   \n",
       "8217             Plot  Area  Ready To Move       Doddaballapur       640.0   \n",
       "\n",
       "       bath  balcony  price        lat        lon  qt_bedroom  \\\n",
       "10029   1.0      1.0   8.00  13.097804  77.581189           1   \n",
       "8163    1.0      1.0   9.00  17.443639  77.433391           1   \n",
       "7111    2.0      1.0  10.00  15.428596  77.261334           1   \n",
       "10569   1.0      1.0  10.00  12.778259  77.771283           1   \n",
       "5138    1.0      1.0  10.00  12.778259  77.771283           1   \n",
       "12007   1.0      1.0  10.00  17.443639  77.433391           1   \n",
       "1396    1.0      1.0  10.00  12.917657  77.483757           1   \n",
       "11395   1.0      1.0  10.25  12.778259  77.771283           1   \n",
       "2313    1.0      1.0  10.25  12.778259  77.771283           1   \n",
       "8217    1.0      0.0  10.50  13.292958  77.543146           2   \n",
       "\n",
       "      size_bedroom_or_bhk  is_technology_center  near_the_airport  is_road  \\\n",
       "10029                 BHK                     0                 0        0   \n",
       "8163                  BHK                     0                 0        0   \n",
       "7111                  BHK                     0                 0        0   \n",
       "10569                 BHK                     0                 0        0   \n",
       "5138                  BHK                     0                 0        0   \n",
       "12007                 BHK                     0                 0        0   \n",
       "1396                  BHK                     0                 0        0   \n",
       "11395                 BHK                     0                 0        0   \n",
       "2313                  BHK                     0                 0        0   \n",
       "8217              Bedroom                     0                 0        0   \n",
       "\n",
       "       distance_bangalore_university  distance_airport  \\\n",
       "10029                      19.877271         17.958764   \n",
       "8163                      501.215027        472.872567   \n",
       "7111                      278.309091        252.549702   \n",
       "10569                      34.099194         47.292867   \n",
       "5138                       34.099194         47.292867   \n",
       "12007                     501.215027        472.872567   \n",
       "1396                        2.881536         39.782110   \n",
       "11395                      34.099194         47.292867   \n",
       "2313                       34.099194         47.292867   \n",
       "8217                       39.876773         20.855693   \n",
       "\n",
       "       distance_hesaraghatta_lake  distance_center  sqft_per_bed  \n",
       "10029                   11.454251        14.223291         284.0  \n",
       "8163                   477.470083       497.709220         450.0  \n",
       "7111                   254.563727       275.651570         470.0  \n",
       "10569                   51.358348        28.991247         410.0  \n",
       "5138                    51.358348        28.991247         400.0  \n",
       "12007                  477.470083       497.709220         410.0  \n",
       "1396                    25.844238        12.937820         340.0  \n",
       "11395                   51.358348        28.991247         400.0  \n",
       "2313                    51.358348        28.991247         395.0  \n",
       "8217                    16.905254        36.250458         320.0  "
      ]
     },
     "execution_count": 52,
     "metadata": {},
     "output_type": "execute_result"
    }
   ],
   "source": [
    "df4.sort_values('price', ascending=True).head(10)"
   ]
  },
  {
   "cell_type": "markdown",
   "id": "turkish-distribution",
   "metadata": {
    "heading_collapsed": true
   },
   "source": [
    "# 5.0. Data Preparation"
   ]
  },
  {
   "cell_type": "code",
   "execution_count": 53,
   "id": "fluid-grant",
   "metadata": {
    "ExecuteTime": {
     "end_time": "2021-08-07T19:03:11.372353Z",
     "start_time": "2021-08-07T19:03:11.366458Z"
    },
    "hidden": true
   },
   "outputs": [],
   "source": [
    "df5 = df4.copy()"
   ]
  },
  {
   "cell_type": "markdown",
   "id": "heavy-leadership",
   "metadata": {
    "heading_collapsed": true,
    "hidden": true
   },
   "source": [
    "## 5.1. Standardization"
   ]
  },
  {
   "cell_type": "markdown",
   "id": "bored-spokesman",
   "metadata": {
    "heading_collapsed": true,
    "hidden": true
   },
   "source": [
    "## 5.2. Rescaling"
   ]
  },
  {
   "cell_type": "code",
   "execution_count": 54,
   "id": "local-antarctica",
   "metadata": {
    "ExecuteTime": {
     "end_time": "2021-08-07T19:03:11.382183Z",
     "start_time": "2021-08-07T19:03:11.375566Z"
    },
    "hidden": true
   },
   "outputs": [],
   "source": [
    "mms_total_sqft = pp.MinMaxScaler()\n",
    "mms_bath = pp.MinMaxScaler()\n",
    "mms_lat = pp.MinMaxScaler()\n",
    "mms_lon = pp.MinMaxScaler()\n",
    "mms_qt_bedroom = pp.MinMaxScaler()\n",
    "\n",
    "mms_distance_bangalore_university = pp.MinMaxScaler()\n",
    "mms_distance_airport = pp.MinMaxScaler()\n",
    "mms_distance_hesaraghatta_lake = pp.MinMaxScaler()\n",
    "mms_distance_center = pp.MinMaxScaler()"
   ]
  },
  {
   "cell_type": "code",
   "execution_count": 55,
   "id": "pleasant-clock",
   "metadata": {
    "ExecuteTime": {
     "end_time": "2021-08-07T19:03:11.466490Z",
     "start_time": "2021-08-07T19:03:11.385168Z"
    },
    "hidden": true
   },
   "outputs": [],
   "source": [
    "df5['total_sqft'] = mms_total_sqft.fit_transform(df5[['total_sqft']])\n",
    "df5['bath'] = mms_bath.fit_transform(df5[['bath']])\n",
    "df5['lat'] = mms_lat.fit_transform(df5[['lat']])\n",
    "df5['lon'] = mms_lon.fit_transform(df5[['lon']])\n",
    "df5['qt_bedroom'] = mms_qt_bedroom.fit_transform(df5[['qt_bedroom']])\n",
    "\n",
    "df5['distance_bangalore_university'] = mms_total_sqft.fit_transform(df5[['distance_bangalore_university']])\n",
    "df5['distance_airport'] = mms_distance_airport.fit_transform(df5[['distance_airport']])\n",
    "df5['distance_hesaraghatta_lake'] = mms_distance_hesaraghatta_lake.fit_transform(df5[['distance_hesaraghatta_lake']])\n",
    "df5['distance_center'] = mms_distance_center.fit_transform(df5[['distance_center']])"
   ]
  },
  {
   "cell_type": "markdown",
   "id": "mineral-dublin",
   "metadata": {
    "heading_collapsed": true,
    "hidden": true
   },
   "source": [
    "## 5.3. Encoding\n",
    "\n"
   ]
  },
  {
   "cell_type": "code",
   "execution_count": 56,
   "id": "moral-medicare",
   "metadata": {
    "ExecuteTime": {
     "end_time": "2021-08-07T19:03:11.477613Z",
     "start_time": "2021-08-07T19:03:11.468569Z"
    },
    "hidden": true
   },
   "outputs": [],
   "source": [
    "balcony_dict = dict(df5['balcony'].value_counts(normalize=True))\n",
    "df5['balcony'] = df5['balcony'].map(balcony_dict)"
   ]
  },
  {
   "cell_type": "code",
   "execution_count": 57,
   "id": "requested-mistress",
   "metadata": {
    "ExecuteTime": {
     "end_time": "2021-08-07T19:03:11.490433Z",
     "start_time": "2021-08-07T19:03:11.480756Z"
    },
    "hidden": true
   },
   "outputs": [],
   "source": [
    "# area_type\n",
    "le_area_type = pp.LabelEncoder()\n",
    "df5['area_type'] = le_area_type.fit_transform(df5[['area_type']].values.ravel())"
   ]
  },
  {
   "cell_type": "code",
   "execution_count": 58,
   "id": "heard-flour",
   "metadata": {
    "ExecuteTime": {
     "end_time": "2021-08-07T19:03:11.503474Z",
     "start_time": "2021-08-07T19:03:11.492340Z"
    },
    "hidden": true
   },
   "outputs": [],
   "source": [
    "# size_bedroom_or_bhk\n",
    "le_size_bedroom_or_bhk = pp.LabelEncoder()\n",
    "df5['size_bedroom_or_bhk'] = le_area_type.fit_transform(df5[['size_bedroom_or_bhk']].values.ravel())"
   ]
  },
  {
   "cell_type": "code",
   "execution_count": 59,
   "id": "thick-hawaiian",
   "metadata": {
    "ExecuteTime": {
     "end_time": "2021-08-07T19:03:11.515060Z",
     "start_time": "2021-08-07T19:03:11.505478Z"
    },
    "hidden": true
   },
   "outputs": [],
   "source": [
    "# area_type\n",
    "df5 = pd.get_dummies(df5, prefix='area_type', columns=['area_type'] )"
   ]
  },
  {
   "cell_type": "code",
   "execution_count": 60,
   "id": "respiratory-passage",
   "metadata": {
    "ExecuteTime": {
     "end_time": "2021-08-07T19:03:11.535160Z",
     "start_time": "2021-08-07T19:03:11.517038Z"
    },
    "hidden": true
   },
   "outputs": [],
   "source": [
    "# availability\n",
    "me_availability = dict(df5['availability'].value_counts(normalize=True))\n",
    "df5['availability'] = df5['availability'].map(me_availability)"
   ]
  },
  {
   "cell_type": "code",
   "execution_count": 61,
   "id": "weird-feelings",
   "metadata": {
    "ExecuteTime": {
     "end_time": "2021-08-07T19:03:11.557374Z",
     "start_time": "2021-08-07T19:03:11.538225Z"
    },
    "hidden": true
   },
   "outputs": [],
   "source": [
    "# location\n",
    "me_location = dict(df5['location'].value_counts(normalize=True))\n",
    "df5['location'] = df5['location'].map(me_location)"
   ]
  },
  {
   "cell_type": "code",
   "execution_count": 62,
   "id": "alone-shore",
   "metadata": {
    "ExecuteTime": {
     "end_time": "2021-08-07T19:03:11.587657Z",
     "start_time": "2021-08-07T19:03:11.559687Z"
    },
    "hidden": true
   },
   "outputs": [
    {
     "data": {
      "text/html": [
       "<div>\n",
       "<style scoped>\n",
       "    .dataframe tbody tr th:only-of-type {\n",
       "        vertical-align: middle;\n",
       "    }\n",
       "\n",
       "    .dataframe tbody tr th {\n",
       "        vertical-align: top;\n",
       "    }\n",
       "\n",
       "    .dataframe thead th {\n",
       "        text-align: right;\n",
       "    }\n",
       "</style>\n",
       "<table border=\"1\" class=\"dataframe\">\n",
       "  <thead>\n",
       "    <tr style=\"text-align: right;\">\n",
       "      <th></th>\n",
       "      <th>0</th>\n",
       "      <th>1</th>\n",
       "      <th>2</th>\n",
       "      <th>4</th>\n",
       "      <th>6</th>\n",
       "    </tr>\n",
       "  </thead>\n",
       "  <tbody>\n",
       "    <tr>\n",
       "      <th>availability</th>\n",
       "      <td>0.012955</td>\n",
       "      <td>0.807120</td>\n",
       "      <td>0.807120</td>\n",
       "      <td>0.807120</td>\n",
       "      <td>0.807120</td>\n",
       "    </tr>\n",
       "    <tr>\n",
       "      <th>location</th>\n",
       "      <td>0.012283</td>\n",
       "      <td>0.001343</td>\n",
       "      <td>0.017561</td>\n",
       "      <td>0.005662</td>\n",
       "      <td>0.015737</td>\n",
       "    </tr>\n",
       "    <tr>\n",
       "      <th>total_sqft</th>\n",
       "      <td>0.020108</td>\n",
       "      <td>0.049649</td>\n",
       "      <td>0.027455</td>\n",
       "      <td>0.022863</td>\n",
       "      <td>0.024968</td>\n",
       "    </tr>\n",
       "    <tr>\n",
       "      <th>bath</th>\n",
       "      <td>0.090909</td>\n",
       "      <td>0.363636</td>\n",
       "      <td>0.090909</td>\n",
       "      <td>0.090909</td>\n",
       "      <td>0.181818</td>\n",
       "    </tr>\n",
       "    <tr>\n",
       "      <th>balcony</th>\n",
       "      <td>0.386719</td>\n",
       "      <td>0.132329</td>\n",
       "      <td>0.132329</td>\n",
       "      <td>0.386719</td>\n",
       "      <td>0.386719</td>\n",
       "    </tr>\n",
       "    <tr>\n",
       "      <th>price</th>\n",
       "      <td>39.070000</td>\n",
       "      <td>120.000000</td>\n",
       "      <td>62.000000</td>\n",
       "      <td>51.000000</td>\n",
       "      <td>63.250000</td>\n",
       "    </tr>\n",
       "    <tr>\n",
       "      <th>lat</th>\n",
       "      <td>0.254096</td>\n",
       "      <td>0.254755</td>\n",
       "      <td>0.254887</td>\n",
       "      <td>0.250510</td>\n",
       "      <td>0.255556</td>\n",
       "    </tr>\n",
       "    <tr>\n",
       "      <th>lon</th>\n",
       "      <td>0.790671</td>\n",
       "      <td>0.792458</td>\n",
       "      <td>0.789437</td>\n",
       "      <td>0.787440</td>\n",
       "      <td>0.790873</td>\n",
       "    </tr>\n",
       "    <tr>\n",
       "      <th>qt_bedroom</th>\n",
       "      <td>0.090909</td>\n",
       "      <td>0.272727</td>\n",
       "      <td>0.181818</td>\n",
       "      <td>0.090909</td>\n",
       "      <td>0.181818</td>\n",
       "    </tr>\n",
       "    <tr>\n",
       "      <th>size_bedroom_or_bhk</th>\n",
       "      <td>0.000000</td>\n",
       "      <td>1.000000</td>\n",
       "      <td>0.000000</td>\n",
       "      <td>0.000000</td>\n",
       "      <td>0.000000</td>\n",
       "    </tr>\n",
       "    <tr>\n",
       "      <th>is_technology_center</th>\n",
       "      <td>1.000000</td>\n",
       "      <td>0.000000</td>\n",
       "      <td>0.000000</td>\n",
       "      <td>0.000000</td>\n",
       "      <td>0.000000</td>\n",
       "    </tr>\n",
       "    <tr>\n",
       "      <th>near_the_airport</th>\n",
       "      <td>0.000000</td>\n",
       "      <td>0.000000</td>\n",
       "      <td>0.000000</td>\n",
       "      <td>0.000000</td>\n",
       "      <td>0.000000</td>\n",
       "    </tr>\n",
       "    <tr>\n",
       "      <th>is_road</th>\n",
       "      <td>0.000000</td>\n",
       "      <td>0.000000</td>\n",
       "      <td>0.000000</td>\n",
       "      <td>0.000000</td>\n",
       "      <td>0.000000</td>\n",
       "    </tr>\n",
       "    <tr>\n",
       "      <th>distance_bangalore_university</th>\n",
       "      <td>0.002452</td>\n",
       "      <td>0.004602</td>\n",
       "      <td>0.000632</td>\n",
       "      <td>0.005043</td>\n",
       "      <td>0.002448</td>\n",
       "    </tr>\n",
       "    <tr>\n",
       "      <th>distance_airport</th>\n",
       "      <td>0.004098</td>\n",
       "      <td>0.003915</td>\n",
       "      <td>0.003848</td>\n",
       "      <td>0.008851</td>\n",
       "      <td>0.002674</td>\n",
       "    </tr>\n",
       "    <tr>\n",
       "      <th>distance_hesaraghatta_lake</th>\n",
       "      <td>0.003974</td>\n",
       "      <td>0.005186</td>\n",
       "      <td>0.002629</td>\n",
       "      <td>0.007046</td>\n",
       "      <td>0.003032</td>\n",
       "    </tr>\n",
       "    <tr>\n",
       "      <th>distance_center</th>\n",
       "      <td>0.001881</td>\n",
       "      <td>0.003574</td>\n",
       "      <td>0.000953</td>\n",
       "      <td>0.005956</td>\n",
       "      <td>0.001323</td>\n",
       "    </tr>\n",
       "    <tr>\n",
       "      <th>sqft_per_bed</th>\n",
       "      <td>528.000000</td>\n",
       "      <td>650.000000</td>\n",
       "      <td>480.000000</td>\n",
       "      <td>600.000000</td>\n",
       "      <td>436.666667</td>\n",
       "    </tr>\n",
       "    <tr>\n",
       "      <th>area_type_0</th>\n",
       "      <td>0.000000</td>\n",
       "      <td>0.000000</td>\n",
       "      <td>1.000000</td>\n",
       "      <td>0.000000</td>\n",
       "      <td>0.000000</td>\n",
       "    </tr>\n",
       "    <tr>\n",
       "      <th>area_type_1</th>\n",
       "      <td>0.000000</td>\n",
       "      <td>0.000000</td>\n",
       "      <td>0.000000</td>\n",
       "      <td>0.000000</td>\n",
       "      <td>0.000000</td>\n",
       "    </tr>\n",
       "    <tr>\n",
       "      <th>area_type_2</th>\n",
       "      <td>0.000000</td>\n",
       "      <td>1.000000</td>\n",
       "      <td>0.000000</td>\n",
       "      <td>0.000000</td>\n",
       "      <td>0.000000</td>\n",
       "    </tr>\n",
       "    <tr>\n",
       "      <th>area_type_3</th>\n",
       "      <td>1.000000</td>\n",
       "      <td>0.000000</td>\n",
       "      <td>0.000000</td>\n",
       "      <td>1.000000</td>\n",
       "      <td>1.000000</td>\n",
       "    </tr>\n",
       "  </tbody>\n",
       "</table>\n",
       "</div>"
      ],
      "text/plain": [
       "                                        0           1           2           4  \\\n",
       "availability                     0.012955    0.807120    0.807120    0.807120   \n",
       "location                         0.012283    0.001343    0.017561    0.005662   \n",
       "total_sqft                       0.020108    0.049649    0.027455    0.022863   \n",
       "bath                             0.090909    0.363636    0.090909    0.090909   \n",
       "balcony                          0.386719    0.132329    0.132329    0.386719   \n",
       "price                           39.070000  120.000000   62.000000   51.000000   \n",
       "lat                              0.254096    0.254755    0.254887    0.250510   \n",
       "lon                              0.790671    0.792458    0.789437    0.787440   \n",
       "qt_bedroom                       0.090909    0.272727    0.181818    0.090909   \n",
       "size_bedroom_or_bhk              0.000000    1.000000    0.000000    0.000000   \n",
       "is_technology_center             1.000000    0.000000    0.000000    0.000000   \n",
       "near_the_airport                 0.000000    0.000000    0.000000    0.000000   \n",
       "is_road                          0.000000    0.000000    0.000000    0.000000   \n",
       "distance_bangalore_university    0.002452    0.004602    0.000632    0.005043   \n",
       "distance_airport                 0.004098    0.003915    0.003848    0.008851   \n",
       "distance_hesaraghatta_lake       0.003974    0.005186    0.002629    0.007046   \n",
       "distance_center                  0.001881    0.003574    0.000953    0.005956   \n",
       "sqft_per_bed                   528.000000  650.000000  480.000000  600.000000   \n",
       "area_type_0                      0.000000    0.000000    1.000000    0.000000   \n",
       "area_type_1                      0.000000    0.000000    0.000000    0.000000   \n",
       "area_type_2                      0.000000    1.000000    0.000000    0.000000   \n",
       "area_type_3                      1.000000    0.000000    0.000000    1.000000   \n",
       "\n",
       "                                        6  \n",
       "availability                     0.807120  \n",
       "location                         0.015737  \n",
       "total_sqft                       0.024968  \n",
       "bath                             0.181818  \n",
       "balcony                          0.386719  \n",
       "price                           63.250000  \n",
       "lat                              0.255556  \n",
       "lon                              0.790873  \n",
       "qt_bedroom                       0.181818  \n",
       "size_bedroom_or_bhk              0.000000  \n",
       "is_technology_center             0.000000  \n",
       "near_the_airport                 0.000000  \n",
       "is_road                          0.000000  \n",
       "distance_bangalore_university    0.002448  \n",
       "distance_airport                 0.002674  \n",
       "distance_hesaraghatta_lake       0.003032  \n",
       "distance_center                  0.001323  \n",
       "sqft_per_bed                   436.666667  \n",
       "area_type_0                      0.000000  \n",
       "area_type_1                      0.000000  \n",
       "area_type_2                      0.000000  \n",
       "area_type_3                      1.000000  "
      ]
     },
     "execution_count": 62,
     "metadata": {},
     "output_type": "execute_result"
    }
   ],
   "source": [
    "df5.head().T"
   ]
  },
  {
   "cell_type": "markdown",
   "id": "pacific-argentina",
   "metadata": {
    "heading_collapsed": true
   },
   "source": [
    "# 6.0. Feature Selection"
   ]
  },
  {
   "cell_type": "code",
   "execution_count": 63,
   "id": "fabulous-semester",
   "metadata": {
    "ExecuteTime": {
     "end_time": "2021-08-07T19:03:11.595728Z",
     "start_time": "2021-08-07T19:03:11.590226Z"
    },
    "hidden": true
   },
   "outputs": [],
   "source": [
    "df6 = df5.copy()"
   ]
  },
  {
   "cell_type": "code",
   "execution_count": 64,
   "id": "overall-initial",
   "metadata": {
    "ExecuteTime": {
     "end_time": "2021-08-07T19:03:11.616356Z",
     "start_time": "2021-08-07T19:03:11.598334Z"
    },
    "hidden": true
   },
   "outputs": [],
   "source": [
    "X = df5.drop(['price',], axis=1)\n",
    "y = df5['price'].copy()\n",
    "\n",
    "x_training, x_validation, y_train, y_validation = ms.train_test_split(X, y, test_size=0.2, random_state=42)"
   ]
  },
  {
   "cell_type": "markdown",
   "id": "stretch-zambia",
   "metadata": {
    "heading_collapsed": true,
    "hidden": true
   },
   "source": [
    "## 6.1. Boruta as Feature Selection"
   ]
  },
  {
   "cell_type": "code",
   "execution_count": 65,
   "id": "signal-postage",
   "metadata": {
    "ExecuteTime": {
     "end_time": "2021-08-07T19:03:11.625086Z",
     "start_time": "2021-08-07T19:03:11.621009Z"
    },
    "hidden": true
   },
   "outputs": [],
   "source": [
    "# x_boruta = X.copy().values\n",
    "# y_boruta = y.ravel()\n",
    "\n",
    "# rf = en.RandomForestRegressor(n_estimators=300)\n",
    "\n",
    "# feat_selector_boruta = BorutaPy(rf, n_estimators='auto', verbose=2, random_state=42).fit(x_boruta, y_boruta)"
   ]
  },
  {
   "cell_type": "code",
   "execution_count": 66,
   "id": "august-exemption",
   "metadata": {
    "ExecuteTime": {
     "end_time": "2021-08-07T19:03:11.633122Z",
     "start_time": "2021-08-07T19:03:11.627964Z"
    },
    "hidden": true
   },
   "outputs": [],
   "source": [
    "# feat_ranking = feat_selector_boruta.ranking_\n",
    "# feat_selector = feat_selector_boruta.support_\n",
    "# columns_name = X.columns"
   ]
  },
  {
   "cell_type": "code",
   "execution_count": 67,
   "id": "valid-clerk",
   "metadata": {
    "ExecuteTime": {
     "end_time": "2021-08-07T19:03:11.658219Z",
     "start_time": "2021-08-07T19:03:11.637630Z"
    },
    "hidden": true
   },
   "outputs": [
    {
     "data": {
      "text/html": [
       "<div>\n",
       "<style scoped>\n",
       "    .dataframe tbody tr th:only-of-type {\n",
       "        vertical-align: middle;\n",
       "    }\n",
       "\n",
       "    .dataframe tbody tr th {\n",
       "        vertical-align: top;\n",
       "    }\n",
       "\n",
       "    .dataframe thead th {\n",
       "        text-align: right;\n",
       "    }\n",
       "</style>\n",
       "<table border=\"1\" class=\"dataframe\">\n",
       "  <thead>\n",
       "    <tr style=\"text-align: right;\">\n",
       "      <th></th>\n",
       "      <th>ranking</th>\n",
       "      <th>selected_boruta</th>\n",
       "    </tr>\n",
       "  </thead>\n",
       "  <tbody>\n",
       "    <tr>\n",
       "      <th>total_sqft</th>\n",
       "      <td>1</td>\n",
       "      <td>True</td>\n",
       "    </tr>\n",
       "    <tr>\n",
       "      <th>bath</th>\n",
       "      <td>1</td>\n",
       "      <td>True</td>\n",
       "    </tr>\n",
       "    <tr>\n",
       "      <th>lon</th>\n",
       "      <td>1</td>\n",
       "      <td>True</td>\n",
       "    </tr>\n",
       "    <tr>\n",
       "      <th>distance_center</th>\n",
       "      <td>1</td>\n",
       "      <td>True</td>\n",
       "    </tr>\n",
       "    <tr>\n",
       "      <th>lat</th>\n",
       "      <td>2</td>\n",
       "      <td>False</td>\n",
       "    </tr>\n",
       "    <tr>\n",
       "      <th>distance_airport</th>\n",
       "      <td>2</td>\n",
       "      <td>False</td>\n",
       "    </tr>\n",
       "    <tr>\n",
       "      <th>distance_hesaraghatta_lake</th>\n",
       "      <td>2</td>\n",
       "      <td>False</td>\n",
       "    </tr>\n",
       "    <tr>\n",
       "      <th>availability</th>\n",
       "      <td>3</td>\n",
       "      <td>False</td>\n",
       "    </tr>\n",
       "    <tr>\n",
       "      <th>distance_bangalore_university</th>\n",
       "      <td>4</td>\n",
       "      <td>False</td>\n",
       "    </tr>\n",
       "    <tr>\n",
       "      <th>area_type_2</th>\n",
       "      <td>5</td>\n",
       "      <td>False</td>\n",
       "    </tr>\n",
       "    <tr>\n",
       "      <th>location</th>\n",
       "      <td>6</td>\n",
       "      <td>False</td>\n",
       "    </tr>\n",
       "    <tr>\n",
       "      <th>qt_bedroom</th>\n",
       "      <td>7</td>\n",
       "      <td>False</td>\n",
       "    </tr>\n",
       "    <tr>\n",
       "      <th>size_bedroom_or_bhk</th>\n",
       "      <td>8</td>\n",
       "      <td>False</td>\n",
       "    </tr>\n",
       "    <tr>\n",
       "      <th>balcony</th>\n",
       "      <td>9</td>\n",
       "      <td>False</td>\n",
       "    </tr>\n",
       "    <tr>\n",
       "      <th>area_type_0</th>\n",
       "      <td>10</td>\n",
       "      <td>False</td>\n",
       "    </tr>\n",
       "    <tr>\n",
       "      <th>area_type_3</th>\n",
       "      <td>11</td>\n",
       "      <td>False</td>\n",
       "    </tr>\n",
       "    <tr>\n",
       "      <th>is_road</th>\n",
       "      <td>12</td>\n",
       "      <td>False</td>\n",
       "    </tr>\n",
       "    <tr>\n",
       "      <th>is_technology_center</th>\n",
       "      <td>13</td>\n",
       "      <td>False</td>\n",
       "    </tr>\n",
       "    <tr>\n",
       "      <th>near_the_airport</th>\n",
       "      <td>14</td>\n",
       "      <td>False</td>\n",
       "    </tr>\n",
       "    <tr>\n",
       "      <th>area_type_1</th>\n",
       "      <td>14</td>\n",
       "      <td>False</td>\n",
       "    </tr>\n",
       "  </tbody>\n",
       "</table>\n",
       "</div>"
      ],
      "text/plain": [
       "                               ranking  selected_boruta\n",
       "total_sqft                           1             True\n",
       "bath                                 1             True\n",
       "lon                                  1             True\n",
       "distance_center                      1             True\n",
       "lat                                  2            False\n",
       "distance_airport                     2            False\n",
       "distance_hesaraghatta_lake           2            False\n",
       "availability                         3            False\n",
       "distance_bangalore_university        4            False\n",
       "area_type_2                          5            False\n",
       "location                             6            False\n",
       "qt_bedroom                           7            False\n",
       "size_bedroom_or_bhk                  8            False\n",
       "balcony                              9            False\n",
       "area_type_0                         10            False\n",
       "area_type_3                         11            False\n",
       "is_road                             12            False\n",
       "is_technology_center                13            False\n",
       "near_the_airport                    14            False\n",
       "area_type_1                         14            False"
      ]
     },
     "execution_count": 67,
     "metadata": {},
     "output_type": "execute_result"
    }
   ],
   "source": [
    "feat_ranking = [ 3,  6,  1,  1,  9,  2,  1,  7,  8, 13, 14, 12,  4,  2,  2,  1, 10, 14,  5, 11]\n",
    "feat_selector = [False, False,  True,  True, False, False,  True, False, False,\n",
    "                 False, False, False, False, False, False,  True, False, False,False, False]\n",
    "columns_name = ['availability', 'location', 'total_sqft', 'bath', 'balcony', 'lat',\n",
    "                'lon', 'qt_bedroom', 'size_bedroom_or_bhk', 'is_technology_center',\n",
    "                'near_the_airport', 'is_road', 'distance_bangalore_university',\n",
    "                'distance_airport', 'distance_hesaraghatta_lake', 'distance_center',\n",
    "                'area_type_0', 'area_type_1', 'area_type_2', 'area_type_3']\n",
    "\n",
    "\n",
    "df_boruta_ranking = pd.DataFrame({'ranking': feat_ranking, \n",
    "                                   'selected_boruta':feat_selector}, \n",
    "                                    index=columns_name).sort_values('ranking')\n",
    "\n",
    "df_boruta_ranking"
   ]
  },
  {
   "cell_type": "markdown",
   "id": "undefined-matthew",
   "metadata": {
    "heading_collapsed": true,
    "hidden": true
   },
   "source": [
    "## 6.2. Feature Importance"
   ]
  },
  {
   "cell_type": "code",
   "execution_count": 68,
   "id": "saving-karaoke",
   "metadata": {
    "ExecuteTime": {
     "end_time": "2021-08-07T19:03:11.666636Z",
     "start_time": "2021-08-07T19:03:11.661141Z"
    },
    "hidden": true
   },
   "outputs": [],
   "source": [
    "# x_fi = X.copy().values\n",
    "# y_fi = y.ravel()\n",
    "\n",
    "# forest = en.RandomForestRegressor().fit(x_fi, y_fi)"
   ]
  },
  {
   "cell_type": "code",
   "execution_count": 69,
   "id": "accredited-citizenship",
   "metadata": {
    "ExecuteTime": {
     "end_time": "2021-08-07T19:03:11.672432Z",
     "start_time": "2021-08-07T19:03:11.670000Z"
    },
    "hidden": true
   },
   "outputs": [],
   "source": [
    "# feature_importances = forest.feature_importances_\n",
    "# columns_names = X.columns"
   ]
  },
  {
   "cell_type": "code",
   "execution_count": 70,
   "id": "injured-track",
   "metadata": {
    "ExecuteTime": {
     "end_time": "2021-08-07T19:03:11.697810Z",
     "start_time": "2021-08-07T19:03:11.680838Z"
    },
    "hidden": true
   },
   "outputs": [
    {
     "data": {
      "text/html": [
       "<div>\n",
       "<style scoped>\n",
       "    .dataframe tbody tr th:only-of-type {\n",
       "        vertical-align: middle;\n",
       "    }\n",
       "\n",
       "    .dataframe tbody tr th {\n",
       "        vertical-align: top;\n",
       "    }\n",
       "\n",
       "    .dataframe thead th {\n",
       "        text-align: right;\n",
       "    }\n",
       "</style>\n",
       "<table border=\"1\" class=\"dataframe\">\n",
       "  <thead>\n",
       "    <tr style=\"text-align: right;\">\n",
       "      <th></th>\n",
       "      <th>Feature Importance</th>\n",
       "    </tr>\n",
       "  </thead>\n",
       "  <tbody>\n",
       "    <tr>\n",
       "      <th>total_sqft</th>\n",
       "      <td>0.593243</td>\n",
       "    </tr>\n",
       "    <tr>\n",
       "      <th>distance_center</th>\n",
       "      <td>0.073336</td>\n",
       "    </tr>\n",
       "    <tr>\n",
       "      <th>bath</th>\n",
       "      <td>0.060506</td>\n",
       "    </tr>\n",
       "    <tr>\n",
       "      <th>distance_hesaraghatta_lake</th>\n",
       "      <td>0.039374</td>\n",
       "    </tr>\n",
       "    <tr>\n",
       "      <th>lon</th>\n",
       "      <td>0.031286</td>\n",
       "    </tr>\n",
       "    <tr>\n",
       "      <th>location</th>\n",
       "      <td>0.029224</td>\n",
       "    </tr>\n",
       "    <tr>\n",
       "      <th>availability</th>\n",
       "      <td>0.028395</td>\n",
       "    </tr>\n",
       "    <tr>\n",
       "      <th>lat</th>\n",
       "      <td>0.027841</td>\n",
       "    </tr>\n",
       "    <tr>\n",
       "      <th>distance_bangalore_university</th>\n",
       "      <td>0.027582</td>\n",
       "    </tr>\n",
       "    <tr>\n",
       "      <th>distance_airport</th>\n",
       "      <td>0.027336</td>\n",
       "    </tr>\n",
       "    <tr>\n",
       "      <th>qt_bedroom</th>\n",
       "      <td>0.019252</td>\n",
       "    </tr>\n",
       "    <tr>\n",
       "      <th>area_type_2</th>\n",
       "      <td>0.017101</td>\n",
       "    </tr>\n",
       "    <tr>\n",
       "      <th>balcony</th>\n",
       "      <td>0.011616</td>\n",
       "    </tr>\n",
       "    <tr>\n",
       "      <th>size_bedroom_or_bhk</th>\n",
       "      <td>0.006989</td>\n",
       "    </tr>\n",
       "    <tr>\n",
       "      <th>area_type_0</th>\n",
       "      <td>0.003560</td>\n",
       "    </tr>\n",
       "    <tr>\n",
       "      <th>area_type_3</th>\n",
       "      <td>0.001839</td>\n",
       "    </tr>\n",
       "    <tr>\n",
       "      <th>is_road</th>\n",
       "      <td>0.001182</td>\n",
       "    </tr>\n",
       "    <tr>\n",
       "      <th>near_the_airport</th>\n",
       "      <td>0.000168</td>\n",
       "    </tr>\n",
       "    <tr>\n",
       "      <th>is_technology_center</th>\n",
       "      <td>0.000121</td>\n",
       "    </tr>\n",
       "    <tr>\n",
       "      <th>area_type_1</th>\n",
       "      <td>0.000049</td>\n",
       "    </tr>\n",
       "  </tbody>\n",
       "</table>\n",
       "</div>"
      ],
      "text/plain": [
       "                               Feature Importance\n",
       "total_sqft                               0.593243\n",
       "distance_center                          0.073336\n",
       "bath                                     0.060506\n",
       "distance_hesaraghatta_lake               0.039374\n",
       "lon                                      0.031286\n",
       "location                                 0.029224\n",
       "availability                             0.028395\n",
       "lat                                      0.027841\n",
       "distance_bangalore_university            0.027582\n",
       "distance_airport                         0.027336\n",
       "qt_bedroom                               0.019252\n",
       "area_type_2                              0.017101\n",
       "balcony                                  0.011616\n",
       "size_bedroom_or_bhk                      0.006989\n",
       "area_type_0                              0.003560\n",
       "area_type_3                              0.001839\n",
       "is_road                                  0.001182\n",
       "near_the_airport                         0.000168\n",
       "is_technology_center                     0.000121\n",
       "area_type_1                              0.000049"
      ]
     },
     "execution_count": 70,
     "metadata": {},
     "output_type": "execute_result"
    }
   ],
   "source": [
    "feature_importances = [2.83948758e-02, 2.92242380e-02, 5.93242661e-01, 6.05061977e-02,\n",
    "                       1.16161054e-02, 2.78409536e-02, 3.12862980e-02, 1.92521651e-02,\n",
    "                       6.98896514e-03, 1.21222355e-04, 1.68048597e-04, 1.18157922e-03,\n",
    "                       2.75819747e-02, 2.73359672e-02, 3.93738080e-02, 7.33364147e-02,\n",
    "                       3.55987262e-03, 4.89581851e-05, 1.71008717e-02, 1.83882303e-03]\n",
    "columns_names = ['availability', 'location', 'total_sqft', 'bath', 'balcony', 'lat',\n",
    "                'lon', 'qt_bedroom', 'size_bedroom_or_bhk', 'is_technology_center',\n",
    "                'near_the_airport', 'is_road', 'distance_bangalore_university',\n",
    "                'distance_airport', 'distance_hesaraghatta_lake', 'distance_center',\n",
    "                'area_type_0', 'area_type_1', 'area_type_2', 'area_type_3']\n",
    "\n",
    "df_fi_ranking = pd.DataFrame({'Feature Importance': feature_importances}, \n",
    "                             index=columns_names).sort_values('Feature Importance', ascending=False)\n",
    "df_fi_ranking"
   ]
  },
  {
   "cell_type": "markdown",
   "id": "meaningful-soccer",
   "metadata": {
    "heading_collapsed": true,
    "hidden": true
   },
   "source": [
    "## 6.3. Manual Selection"
   ]
  },
  {
   "cell_type": "code",
   "execution_count": 71,
   "id": "attached-cemetery",
   "metadata": {
    "ExecuteTime": {
     "end_time": "2021-08-07T19:03:11.706196Z",
     "start_time": "2021-08-07T19:03:11.700271Z"
    },
    "hidden": true
   },
   "outputs": [],
   "source": [
    "cols_selected = ['availability',\n",
    "                 'total_sqft',\n",
    "                 'bath',\n",
    "                 'balcony',\n",
    "                 'lat',\n",
    "                 'lon',\n",
    "                 'location',\n",
    "                 'qt_bedroom',\n",
    "                 'size_bedroom_or_bhk',\n",
    "                 'is_technology_center',\n",
    "                 'near_the_airport',\n",
    "                 'is_road',\n",
    "                 'distance_bangalore_university',\n",
    "                 'distance_airport',\n",
    "                 'distance_hesaraghatta_lake',\n",
    "                 'distance_center',\n",
    "                 'area_type_0',\n",
    "                 'area_type_1',\n",
    "                 'area_type_2',\n",
    "                 'area_type_3',\n",
    "                 'sqft_per_bed']"
   ]
  },
  {
   "cell_type": "markdown",
   "id": "alien-sender",
   "metadata": {
    "heading_collapsed": true
   },
   "source": [
    "# 7.0. Model Training"
   ]
  },
  {
   "cell_type": "code",
   "execution_count": 72,
   "id": "fossil-syndicate",
   "metadata": {
    "ExecuteTime": {
     "end_time": "2021-08-07T19:03:11.722900Z",
     "start_time": "2021-08-07T19:03:11.708502Z"
    },
    "hidden": true
   },
   "outputs": [],
   "source": [
    "x_val = x_validation[cols_selected].copy()\n",
    "y_val = y_validation.copy()\n",
    "x_train = x_training[cols_selected].copy()\n",
    "\n",
    "X = X[cols_selected].copy()"
   ]
  },
  {
   "cell_type": "markdown",
   "id": "satisfactory-consideration",
   "metadata": {
    "heading_collapsed": true,
    "hidden": true
   },
   "source": [
    "## 7.1. Average Model"
   ]
  },
  {
   "cell_type": "code",
   "execution_count": 73,
   "id": "fantastic-mathematics",
   "metadata": {
    "ExecuteTime": {
     "end_time": "2021-08-07T19:03:11.737443Z",
     "start_time": "2021-08-07T19:03:11.726185Z"
    },
    "hidden": true
   },
   "outputs": [
    {
     "name": "stdout",
     "output_type": "stream",
     "text": [
      "MAE: 71.72002096537742 | MAPE: 0.8369691528243824 | RMSE: 162.87336198295392\n"
     ]
    }
   ],
   "source": [
    "# model definition and fit\n",
    "model_baseline = dummy.DummyRegressor(strategy='mean').fit(x_train, y_train)\n",
    "\n",
    "# model predict\n",
    "yhat_baseline = model_baseline.predict(x_val)\n",
    "\n",
    "# model perfomance\n",
    "mae = metrics.mean_absolute_error(y_val, yhat_baseline)\n",
    "mape = metrics.mean_absolute_percentage_error(y_val, yhat_baseline)\n",
    "rmse = np.sqrt(metrics.mean_squared_error(y_val, yhat_baseline))\n",
    "\n",
    "print('MAE: {} | MAPE: {} | RMSE: {}'.format(mae, mape, rmse))"
   ]
  },
  {
   "cell_type": "code",
   "execution_count": 74,
   "id": "changed-melissa",
   "metadata": {
    "ExecuteTime": {
     "end_time": "2021-08-07T19:03:11.743826Z",
     "start_time": "2021-08-07T19:03:11.740349Z"
    },
    "hidden": true
   },
   "outputs": [],
   "source": [
    "#1 MAE: 69.18655009838794 | MAPE: 0.9189057519989557 | RMSE: 130.53405853555498\n",
    "#2 MAE: 66.74150511881209 | MAPE: 0.8464271363888621 | RMSE: 134.87690120642173"
   ]
  },
  {
   "cell_type": "code",
   "execution_count": 75,
   "id": "demographic-amsterdam",
   "metadata": {
    "ExecuteTime": {
     "end_time": "2021-08-07T19:03:11.818696Z",
     "start_time": "2021-08-07T19:03:11.746459Z"
    },
    "hidden": true
   },
   "outputs": [
    {
     "data": {
      "text/html": [
       "<div>\n",
       "<style scoped>\n",
       "    .dataframe tbody tr th:only-of-type {\n",
       "        vertical-align: middle;\n",
       "    }\n",
       "\n",
       "    .dataframe tbody tr th {\n",
       "        vertical-align: top;\n",
       "    }\n",
       "\n",
       "    .dataframe thead th {\n",
       "        text-align: right;\n",
       "    }\n",
       "</style>\n",
       "<table border=\"1\" class=\"dataframe\">\n",
       "  <thead>\n",
       "    <tr style=\"text-align: right;\">\n",
       "      <th></th>\n",
       "      <th>Model</th>\n",
       "      <th>MAE</th>\n",
       "      <th>MAPE</th>\n",
       "      <th>RMSE</th>\n",
       "    </tr>\n",
       "  </thead>\n",
       "  <tbody>\n",
       "    <tr>\n",
       "      <th>0</th>\n",
       "      <td>Average Model</td>\n",
       "      <td>65.513  +/-  2.704</td>\n",
       "      <td>0.856 +/- 0.034</td>\n",
       "      <td>129.141 +/- 15.399</td>\n",
       "    </tr>\n",
       "  </tbody>\n",
       "</table>\n",
       "</div>"
      ],
      "text/plain": [
       "           Model                 MAE             MAPE                RMSE\n",
       "0  Average Model  65.513  +/-  2.704  0.856 +/- 0.034  129.141 +/- 15.399"
      ]
     },
     "execution_count": 75,
     "metadata": {},
     "output_type": "execute_result"
    }
   ],
   "source": [
    "result_baseline = metrics_cv(model_baseline, X, y, 'Average Model')\n",
    "result_baseline"
   ]
  },
  {
   "cell_type": "markdown",
   "id": "worse-exercise",
   "metadata": {
    "heading_collapsed": true,
    "hidden": true
   },
   "source": [
    "## 7.2. Linear Regression Model"
   ]
  },
  {
   "cell_type": "code",
   "execution_count": 76,
   "id": "parental-brave",
   "metadata": {
    "ExecuteTime": {
     "end_time": "2021-08-07T19:03:11.857347Z",
     "start_time": "2021-08-07T19:03:11.821303Z"
    },
    "hidden": true
   },
   "outputs": [
    {
     "name": "stdout",
     "output_type": "stream",
     "text": [
      "MAE: 45.476879794958975 | MAPE: 0.4058040433509121 | RMSE: 128.61604196415607\n"
     ]
    }
   ],
   "source": [
    "# model definition and fit\n",
    "model_lr = lm.LinearRegression().fit(x_train, y_train)\n",
    "\n",
    "# model predict\n",
    "yhat_lr = model_lr.predict(x_val)\n",
    "\n",
    "# model perfomance\n",
    "mae = metrics.mean_absolute_error(y_val, yhat_lr)\n",
    "mape = metrics.mean_absolute_percentage_error(y_val, yhat_lr)\n",
    "rmse = np.sqrt(metrics.mean_squared_error(y_val, yhat_lr))\n",
    "\n",
    "print('MAE: {} | MAPE: {} | RMSE: {}'.format(mae, mape, rmse))"
   ]
  },
  {
   "cell_type": "code",
   "execution_count": 77,
   "id": "metric-buffer",
   "metadata": {
    "ExecuteTime": {
     "end_time": "2021-08-07T19:03:11.865713Z",
     "start_time": "2021-08-07T19:03:11.861366Z"
    },
    "hidden": true
   },
   "outputs": [],
   "source": [
    "#1 MAE: 51.39237039425772 | MAPE: 0.5167872441161455 | RMSE: 113.84866787174654\n",
    "#2 MAE: 43.14026377555565 | MAPE: 0.4230519670345765 | RMSE: 121.40008663415217"
   ]
  },
  {
   "cell_type": "code",
   "execution_count": 78,
   "id": "downtown-pathology",
   "metadata": {
    "ExecuteTime": {
     "end_time": "2021-08-07T19:03:12.530933Z",
     "start_time": "2021-08-07T19:03:11.870841Z"
    },
    "hidden": true
   },
   "outputs": [
    {
     "data": {
      "text/html": [
       "<div>\n",
       "<style scoped>\n",
       "    .dataframe tbody tr th:only-of-type {\n",
       "        vertical-align: middle;\n",
       "    }\n",
       "\n",
       "    .dataframe tbody tr th {\n",
       "        vertical-align: top;\n",
       "    }\n",
       "\n",
       "    .dataframe thead th {\n",
       "        text-align: right;\n",
       "    }\n",
       "</style>\n",
       "<table border=\"1\" class=\"dataframe\">\n",
       "  <thead>\n",
       "    <tr style=\"text-align: right;\">\n",
       "      <th></th>\n",
       "      <th>Model</th>\n",
       "      <th>MAE</th>\n",
       "      <th>MAPE</th>\n",
       "      <th>RMSE</th>\n",
       "    </tr>\n",
       "  </thead>\n",
       "  <tbody>\n",
       "    <tr>\n",
       "      <th>0</th>\n",
       "      <td>LinearRegression</td>\n",
       "      <td>41.485  +/-  3.007</td>\n",
       "      <td>0.421 +/- 0.025</td>\n",
       "      <td>111.467 +/- 25.868</td>\n",
       "    </tr>\n",
       "  </tbody>\n",
       "</table>\n",
       "</div>"
      ],
      "text/plain": [
       "              Model                 MAE             MAPE                RMSE\n",
       "0  LinearRegression  41.485  +/-  3.007  0.421 +/- 0.025  111.467 +/- 25.868"
      ]
     },
     "execution_count": 78,
     "metadata": {},
     "output_type": "execute_result"
    }
   ],
   "source": [
    "result_lr = metrics_cv(model_lr, X, y, 'LinearRegression')\n",
    "result_lr"
   ]
  },
  {
   "cell_type": "markdown",
   "id": "binding-export",
   "metadata": {
    "heading_collapsed": true,
    "hidden": true
   },
   "source": [
    "## 7.3. Random Forest Model"
   ]
  },
  {
   "cell_type": "code",
   "execution_count": 79,
   "id": "aging-cursor",
   "metadata": {
    "ExecuteTime": {
     "end_time": "2021-08-07T19:03:17.582993Z",
     "start_time": "2021-08-07T19:03:12.535433Z"
    },
    "hidden": true
   },
   "outputs": [
    {
     "name": "stdout",
     "output_type": "stream",
     "text": [
      "MAE: 28.760997945246398 | MAPE: 0.22305503693158307 | RMSE: 91.5465573553158\n"
     ]
    }
   ],
   "source": [
    "# model definition and fit\n",
    "model_rf = en.RandomForestRegressor(n_estimators=100 ).fit(x_train, y_train)\n",
    "\n",
    "# model predict\n",
    "yhat_rf = model_rf.predict(x_val)\n",
    "\n",
    "# model perfomance\n",
    "mae = metrics.mean_absolute_error(y_val, yhat_rf)\n",
    "mape = metrics.mean_absolute_percentage_error(y_val, yhat_rf) \n",
    "rmse = np.sqrt(metrics.mean_squared_error(y_val, yhat_rf))\n",
    "\n",
    "print('MAE: {} | MAPE: {} | RMSE: {}'.format(mae, mape, rmse))"
   ]
  },
  {
   "cell_type": "code",
   "execution_count": 80,
   "id": "tamil-offer",
   "metadata": {
    "ExecuteTime": {
     "end_time": "2021-08-07T19:03:17.589082Z",
     "start_time": "2021-08-07T19:03:17.585822Z"
    },
    "hidden": true
   },
   "outputs": [],
   "source": [
    "#1 MAE: 39.84512783025325 | MAPE: 0.357494658863791 | RMSE: 103.6417705071636\n",
    "#2 MAE: 29.032647859198246 | MAPE: 0.2633721578886517 | RMSE: 80.29353829948478"
   ]
  },
  {
   "cell_type": "code",
   "execution_count": 81,
   "id": "ecological-dylan",
   "metadata": {
    "ExecuteTime": {
     "end_time": "2021-08-07T19:04:34.432117Z",
     "start_time": "2021-08-07T19:03:17.592840Z"
    },
    "hidden": true
   },
   "outputs": [
    {
     "data": {
      "text/html": [
       "<div>\n",
       "<style scoped>\n",
       "    .dataframe tbody tr th:only-of-type {\n",
       "        vertical-align: middle;\n",
       "    }\n",
       "\n",
       "    .dataframe tbody tr th {\n",
       "        vertical-align: top;\n",
       "    }\n",
       "\n",
       "    .dataframe thead th {\n",
       "        text-align: right;\n",
       "    }\n",
       "</style>\n",
       "<table border=\"1\" class=\"dataframe\">\n",
       "  <thead>\n",
       "    <tr style=\"text-align: right;\">\n",
       "      <th></th>\n",
       "      <th>Model</th>\n",
       "      <th>MAE</th>\n",
       "      <th>MAPE</th>\n",
       "      <th>RMSE</th>\n",
       "    </tr>\n",
       "  </thead>\n",
       "  <tbody>\n",
       "    <tr>\n",
       "      <th>0</th>\n",
       "      <td>RandomForestRegressor</td>\n",
       "      <td>25.525  +/-  0.537</td>\n",
       "      <td>0.228 +/- 0.008</td>\n",
       "      <td>71.985 +/- 7.52</td>\n",
       "    </tr>\n",
       "  </tbody>\n",
       "</table>\n",
       "</div>"
      ],
      "text/plain": [
       "                   Model                 MAE             MAPE             RMSE\n",
       "0  RandomForestRegressor  25.525  +/-  0.537  0.228 +/- 0.008  71.985 +/- 7.52"
      ]
     },
     "execution_count": 81,
     "metadata": {},
     "output_type": "execute_result"
    }
   ],
   "source": [
    "result_rf = metrics_cv(model_rf, X, y, 'RandomForestRegressor')\n",
    "result_rf"
   ]
  },
  {
   "cell_type": "markdown",
   "id": "diverse-japanese",
   "metadata": {
    "heading_collapsed": true,
    "hidden": true
   },
   "source": [
    "## 7.4. XGB Regression Model"
   ]
  },
  {
   "cell_type": "code",
   "execution_count": 82,
   "id": "engaging-pattern",
   "metadata": {
    "ExecuteTime": {
     "end_time": "2021-08-07T19:04:35.075324Z",
     "start_time": "2021-08-07T19:04:34.434639Z"
    },
    "hidden": true
   },
   "outputs": [
    {
     "name": "stdout",
     "output_type": "stream",
     "text": [
      "MAE: 32.79690777653756 | MAPE: 0.28495431345485484 | RMSE: 92.08131664949458\n"
     ]
    }
   ],
   "source": [
    "# model definition and fit\n",
    "model_xgb = xgb.XGBRegressor(objective='reg:squarederror').fit(x_train, y_train)\n",
    "\n",
    "# model predict\n",
    "yhat_xgb = model_xgb.predict(x_val)\n",
    "\n",
    "# model perfomance\n",
    "mae = metrics.mean_absolute_error(y_val, yhat_xgb)\n",
    "mape = metrics.mean_absolute_percentage_error(y_val, yhat_xgb) \n",
    "rmse = np.sqrt(metrics.mean_squared_error(y_val, yhat_xgb))\n",
    "\n",
    "print('MAE: {} | MAPE: {} | RMSE: {}'.format(mae, mape, rmse))"
   ]
  },
  {
   "cell_type": "code",
   "execution_count": 83,
   "id": "comprehensive-commission",
   "metadata": {
    "ExecuteTime": {
     "end_time": "2021-08-07T19:04:44.035583Z",
     "start_time": "2021-08-07T19:04:35.081412Z"
    },
    "hidden": true
   },
   "outputs": [
    {
     "data": {
      "text/html": [
       "<div>\n",
       "<style scoped>\n",
       "    .dataframe tbody tr th:only-of-type {\n",
       "        vertical-align: middle;\n",
       "    }\n",
       "\n",
       "    .dataframe tbody tr th {\n",
       "        vertical-align: top;\n",
       "    }\n",
       "\n",
       "    .dataframe thead th {\n",
       "        text-align: right;\n",
       "    }\n",
       "</style>\n",
       "<table border=\"1\" class=\"dataframe\">\n",
       "  <thead>\n",
       "    <tr style=\"text-align: right;\">\n",
       "      <th></th>\n",
       "      <th>Model</th>\n",
       "      <th>MAE</th>\n",
       "      <th>MAPE</th>\n",
       "      <th>RMSE</th>\n",
       "    </tr>\n",
       "  </thead>\n",
       "  <tbody>\n",
       "    <tr>\n",
       "      <th>0</th>\n",
       "      <td>XGB Regressor</td>\n",
       "      <td>29.252  +/-  0.599</td>\n",
       "      <td>0.283 +/- 0.009</td>\n",
       "      <td>72.592 +/- 9.73</td>\n",
       "    </tr>\n",
       "  </tbody>\n",
       "</table>\n",
       "</div>"
      ],
      "text/plain": [
       "           Model                 MAE             MAPE             RMSE\n",
       "0  XGB Regressor  29.252  +/-  0.599  0.283 +/- 0.009  72.592 +/- 9.73"
      ]
     },
     "execution_count": 83,
     "metadata": {},
     "output_type": "execute_result"
    }
   ],
   "source": [
    "result_xgb = metrics_cv(model_xgb, X, y, 'XGB Regressor')\n",
    "result_xgb"
   ]
  },
  {
   "cell_type": "markdown",
   "id": "vocal-precipitation",
   "metadata": {
    "heading_collapsed": true,
    "hidden": true
   },
   "source": [
    "## 7.5. Results"
   ]
  },
  {
   "cell_type": "code",
   "execution_count": 84,
   "id": "cordless-resort",
   "metadata": {
    "ExecuteTime": {
     "end_time": "2021-08-07T19:04:44.053018Z",
     "start_time": "2021-08-07T19:04:44.037727Z"
    },
    "hidden": true
   },
   "outputs": [
    {
     "data": {
      "text/html": [
       "<div>\n",
       "<style scoped>\n",
       "    .dataframe tbody tr th:only-of-type {\n",
       "        vertical-align: middle;\n",
       "    }\n",
       "\n",
       "    .dataframe tbody tr th {\n",
       "        vertical-align: top;\n",
       "    }\n",
       "\n",
       "    .dataframe thead th {\n",
       "        text-align: right;\n",
       "    }\n",
       "</style>\n",
       "<table border=\"1\" class=\"dataframe\">\n",
       "  <thead>\n",
       "    <tr style=\"text-align: right;\">\n",
       "      <th></th>\n",
       "      <th>Model</th>\n",
       "      <th>MAE</th>\n",
       "      <th>MAPE</th>\n",
       "      <th>RMSE</th>\n",
       "    </tr>\n",
       "  </thead>\n",
       "  <tbody>\n",
       "    <tr>\n",
       "      <th>0</th>\n",
       "      <td>Average Model</td>\n",
       "      <td>65.513  +/-  2.704</td>\n",
       "      <td>0.856 +/- 0.034</td>\n",
       "      <td>129.141 +/- 15.399</td>\n",
       "    </tr>\n",
       "    <tr>\n",
       "      <th>0</th>\n",
       "      <td>LinearRegression</td>\n",
       "      <td>41.485  +/-  3.007</td>\n",
       "      <td>0.421 +/- 0.025</td>\n",
       "      <td>111.467 +/- 25.868</td>\n",
       "    </tr>\n",
       "    <tr>\n",
       "      <th>0</th>\n",
       "      <td>RandomForestRegressor</td>\n",
       "      <td>25.525  +/-  0.537</td>\n",
       "      <td>0.228 +/- 0.008</td>\n",
       "      <td>71.985 +/- 7.52</td>\n",
       "    </tr>\n",
       "    <tr>\n",
       "      <th>0</th>\n",
       "      <td>XGB Regressor</td>\n",
       "      <td>29.252  +/-  0.599</td>\n",
       "      <td>0.283 +/- 0.009</td>\n",
       "      <td>72.592 +/- 9.73</td>\n",
       "    </tr>\n",
       "  </tbody>\n",
       "</table>\n",
       "</div>"
      ],
      "text/plain": [
       "                   Model                 MAE             MAPE  \\\n",
       "0          Average Model  65.513  +/-  2.704  0.856 +/- 0.034   \n",
       "0       LinearRegression  41.485  +/-  3.007  0.421 +/- 0.025   \n",
       "0  RandomForestRegressor  25.525  +/-  0.537  0.228 +/- 0.008   \n",
       "0          XGB Regressor  29.252  +/-  0.599  0.283 +/- 0.009   \n",
       "\n",
       "                 RMSE  \n",
       "0  129.141 +/- 15.399  \n",
       "0  111.467 +/- 25.868  \n",
       "0     71.985 +/- 7.52  \n",
       "0     72.592 +/- 9.73  "
      ]
     },
     "execution_count": 84,
     "metadata": {},
     "output_type": "execute_result"
    }
   ],
   "source": [
    "result = pd.concat([result_baseline, result_lr, result_rf, result_xgb])\n",
    "result"
   ]
  },
  {
   "cell_type": "markdown",
   "id": "nearby-talent",
   "metadata": {},
   "source": [
    "# 8.0. Hyperparameter Fine Tuning"
   ]
  },
  {
   "cell_type": "markdown",
   "id": "headed-minority",
   "metadata": {
    "heading_collapsed": true
   },
   "source": [
    "## 8.1.  Hyperparameter Tuning With Optuna"
   ]
  },
  {
   "cell_type": "markdown",
   "id": "handed-transport",
   "metadata": {
    "ExecuteTime": {
     "end_time": "2021-08-07T21:34:11.796958Z",
     "start_time": "2021-08-07T21:34:11.793245Z"
    },
    "hidden": true
   },
   "source": [
    "1. https://optuna.readthedocs.io/en/stable/index.html\n",
    "2. https://www.kaggle.com/bextuychiev/no-bs-guide-to-hyperparameter-tuning-with-optuna#End-to-end-example-with-GradientBoostingRegressor"
   ]
  },
  {
   "cell_type": "code",
   "execution_count": 87,
   "id": "neutral-beginning",
   "metadata": {
    "ExecuteTime": {
     "end_time": "2021-08-07T19:09:36.454355Z",
     "start_time": "2021-08-07T19:09:21.605844Z"
    },
    "hidden": true
   },
   "outputs": [],
   "source": [
    "kf = KFold( n_splits=5, shuffle=True, random_state=42 )\n",
    "scores = cross_validate( model_rf, X, y, cv=kf, scoring='neg_root_mean_squared_error', n_jobs=-1 )"
   ]
  },
  {
   "cell_type": "code",
   "execution_count": 139,
   "id": "aggregate-argument",
   "metadata": {
    "ExecuteTime": {
     "end_time": "2021-08-07T22:34:51.335697Z",
     "start_time": "2021-08-07T22:34:51.315529Z"
    },
    "hidden": true
   },
   "outputs": [
    {
     "data": {
      "text/plain": [
       "70.55109561893201"
      ]
     },
     "execution_count": 139,
     "metadata": {},
     "output_type": "execute_result"
    }
   ],
   "source": [
    "rmse_base = np.mean(-scores['test_score'])\n",
    "rmse_base"
   ]
  },
  {
   "cell_type": "code",
   "execution_count": 107,
   "id": "funny-nebraska",
   "metadata": {
    "ExecuteTime": {
     "end_time": "2021-08-07T19:18:20.339612Z",
     "start_time": "2021-08-07T19:18:20.334185Z"
    },
    "hidden": true
   },
   "outputs": [],
   "source": [
    "def objective(trial, X, y, cv, scoring):\n",
    "    params = {\n",
    "        \"n_estimators\": trial.suggest_int(\"n_estimators\", 100, 5000, step=100),\n",
    "        \"max_depth\": trial.suggest_int(\"max_depth\", 3, 9),\n",
    "        \"max_features\": trial.suggest_categorical(\n",
    "            \"max_features\", [\"auto\", \"sqrt\", \"log2\"]\n",
    "        ),\n",
    "        \"random_state\": 42,\n",
    "    }\n",
    "    # performance\n",
    "    rf = en.RandomForestRegressor(**params)\n",
    "    scores = cross_validate( rf, X, y, cv=cv, scoring=scoring, n_jobs=-1 )\n",
    "    \n",
    "    rmse = np.mean(-scores['test_score'])\n",
    "    return rmse"
   ]
  },
  {
   "cell_type": "code",
   "execution_count": 108,
   "id": "mineral-diagnosis",
   "metadata": {
    "ExecuteTime": {
     "end_time": "2021-08-07T21:34:11.768873Z",
     "start_time": "2021-08-07T19:18:21.517748Z"
    },
    "hidden": true
   },
   "outputs": [
    {
     "name": "stderr",
     "output_type": "stream",
     "text": [
      "\u001b[32m[I 2021-08-07 16:18:21,519]\u001b[0m A new study created in memory with name: no-name-12b9c153-058c-411e-90d5-29e1415eff9c\u001b[0m\n",
      "\u001b[32m[I 2021-08-07 16:20:51,179]\u001b[0m Trial 0 finished with value: 71.56830841475548 and parameters: {'n_estimators': 2000, 'max_depth': 9, 'max_features': 'auto'}. Best is trial 0 with value: 71.56830841475548.\u001b[0m\n",
      "\u001b[32m[I 2021-08-07 16:21:26,170]\u001b[0m Trial 1 finished with value: 74.67957874921933 and parameters: {'n_estimators': 2100, 'max_depth': 7, 'max_features': 'sqrt'}. Best is trial 0 with value: 71.56830841475548.\u001b[0m\n",
      "\u001b[32m[I 2021-08-07 16:21:41,416]\u001b[0m Trial 2 finished with value: 83.9802226431822 and parameters: {'n_estimators': 1200, 'max_depth': 4, 'max_features': 'sqrt'}. Best is trial 0 with value: 71.56830841475548.\u001b[0m\n",
      "\u001b[32m[I 2021-08-07 16:21:49,408]\u001b[0m Trial 3 finished with value: 76.80287660718686 and parameters: {'n_estimators': 500, 'max_depth': 6, 'max_features': 'log2'}. Best is trial 0 with value: 71.56830841475548.\u001b[0m\n",
      "\u001b[32m[I 2021-08-07 16:23:18,497]\u001b[0m Trial 4 finished with value: 71.50570854713933 and parameters: {'n_estimators': 4500, 'max_depth': 9, 'max_features': 'log2'}. Best is trial 4 with value: 71.50570854713933.\u001b[0m\n",
      "\u001b[32m[I 2021-08-07 16:25:10,297]\u001b[0m Trial 5 finished with value: 84.2182201580171 and parameters: {'n_estimators': 4100, 'max_depth': 3, 'max_features': 'auto'}. Best is trial 4 with value: 71.50570854713933.\u001b[0m\n",
      "\u001b[32m[I 2021-08-07 16:27:20,926]\u001b[0m Trial 6 finished with value: 71.59124983518387 and parameters: {'n_estimators': 1800, 'max_depth': 9, 'max_features': 'auto'}. Best is trial 4 with value: 71.50570854713933.\u001b[0m\n",
      "\u001b[32m[I 2021-08-07 16:29:26,570]\u001b[0m Trial 7 finished with value: 84.20183768613283 and parameters: {'n_estimators': 4800, 'max_depth': 3, 'max_features': 'auto'}. Best is trial 4 with value: 71.50570854713933.\u001b[0m\n",
      "\u001b[32m[I 2021-08-07 16:30:07,461]\u001b[0m Trial 8 finished with value: 74.65585709639227 and parameters: {'n_estimators': 2600, 'max_depth': 7, 'max_features': 'log2'}. Best is trial 4 with value: 71.50570854713933.\u001b[0m\n",
      "\u001b[32m[I 2021-08-07 16:30:24,262]\u001b[0m Trial 9 finished with value: 76.81388613448743 and parameters: {'n_estimators': 1200, 'max_depth': 6, 'max_features': 'sqrt'}. Best is trial 4 with value: 71.50570854713933.\u001b[0m\n",
      "\u001b[32m[I 2021-08-07 16:31:17,697]\u001b[0m Trial 10 finished with value: 72.79101002116394 and parameters: {'n_estimators': 3300, 'max_depth': 8, 'max_features': 'log2'}. Best is trial 4 with value: 71.50570854713933.\u001b[0m\n",
      "\u001b[32m[I 2021-08-07 16:34:51,817]\u001b[0m Trial 11 finished with value: 71.6432109148822 and parameters: {'n_estimators': 3200, 'max_depth': 9, 'max_features': 'auto'}. Best is trial 4 with value: 71.50570854713933.\u001b[0m\n",
      "\u001b[32m[I 2021-08-07 16:36:12,801]\u001b[0m Trial 12 finished with value: 71.50927551978386 and parameters: {'n_estimators': 4400, 'max_depth': 9, 'max_features': 'log2'}. Best is trial 4 with value: 71.50570854713933.\u001b[0m\n",
      "\u001b[32m[I 2021-08-07 16:37:41,702]\u001b[0m Trial 13 finished with value: 72.80098682429458 and parameters: {'n_estimators': 5000, 'max_depth': 8, 'max_features': 'log2'}. Best is trial 4 with value: 71.50570854713933.\u001b[0m\n",
      "\u001b[32m[I 2021-08-07 16:38:54,358]\u001b[0m Trial 14 finished with value: 72.79641589641956 and parameters: {'n_estimators': 4300, 'max_depth': 8, 'max_features': 'log2'}. Best is trial 4 with value: 71.50570854713933.\u001b[0m\n",
      "\u001b[32m[I 2021-08-07 16:39:51,629]\u001b[0m Trial 15 finished with value: 74.57887379481676 and parameters: {'n_estimators': 3800, 'max_depth': 7, 'max_features': 'log2'}. Best is trial 4 with value: 71.50570854713933.\u001b[0m\n",
      "\u001b[32m[I 2021-08-07 16:40:33,941]\u001b[0m Trial 16 finished with value: 79.80340126346029 and parameters: {'n_estimators': 3500, 'max_depth': 5, 'max_features': 'log2'}. Best is trial 4 with value: 71.50570854713933.\u001b[0m\n",
      "\u001b[32m[I 2021-08-07 16:42:04,123]\u001b[0m Trial 17 finished with value: 71.50570854713933 and parameters: {'n_estimators': 4500, 'max_depth': 9, 'max_features': 'log2'}. Best is trial 4 with value: 71.50570854713933.\u001b[0m\n",
      "\u001b[32m[I 2021-08-07 16:42:56,628]\u001b[0m Trial 18 finished with value: 72.79131095388182 and parameters: {'n_estimators': 2900, 'max_depth': 8, 'max_features': 'log2'}. Best is trial 4 with value: 71.50570854713933.\u001b[0m\n",
      "\u001b[32m[I 2021-08-07 16:44:22,012]\u001b[0m Trial 19 finished with value: 76.75604318992953 and parameters: {'n_estimators': 4600, 'max_depth': 6, 'max_features': 'log2'}. Best is trial 4 with value: 71.50570854713933.\u001b[0m\n",
      "\u001b[32m[I 2021-08-07 16:45:28,744]\u001b[0m Trial 20 finished with value: 79.82770492544186 and parameters: {'n_estimators': 3900, 'max_depth': 5, 'max_features': 'sqrt'}. Best is trial 4 with value: 71.50570854713933.\u001b[0m\n",
      "\u001b[32m[I 2021-08-07 16:47:18,736]\u001b[0m Trial 21 finished with value: 71.50927551978386 and parameters: {'n_estimators': 4400, 'max_depth': 9, 'max_features': 'log2'}. Best is trial 4 with value: 71.50570854713933.\u001b[0m\n",
      "\u001b[32m[I 2021-08-07 16:49:15,656]\u001b[0m Trial 22 finished with value: 71.49634673237887 and parameters: {'n_estimators': 4900, 'max_depth': 9, 'max_features': 'log2'}. Best is trial 22 with value: 71.49634673237887.\u001b[0m\n",
      "\u001b[32m[I 2021-08-07 16:51:04,148]\u001b[0m Trial 23 finished with value: 72.80098682429458 and parameters: {'n_estimators': 5000, 'max_depth': 8, 'max_features': 'log2'}. Best is trial 22 with value: 71.49634673237887.\u001b[0m\n",
      "\u001b[32m[I 2021-08-07 16:52:36,176]\u001b[0m Trial 24 finished with value: 71.50740995959629 and parameters: {'n_estimators': 4600, 'max_depth': 9, 'max_features': 'log2'}. Best is trial 22 with value: 71.49634673237887.\u001b[0m\n",
      "\u001b[32m[I 2021-08-07 16:53:31,569]\u001b[0m Trial 25 finished with value: 74.57887379481676 and parameters: {'n_estimators': 3800, 'max_depth': 7, 'max_features': 'log2'}. Best is trial 22 with value: 71.49634673237887.\u001b[0m\n",
      "\u001b[32m[I 2021-08-07 16:54:37,900]\u001b[0m Trial 26 finished with value: 72.78842477561254 and parameters: {'n_estimators': 4100, 'max_depth': 8, 'max_features': 'log2'}. Best is trial 22 with value: 71.49634673237887.\u001b[0m\n",
      "\u001b[32m[I 2021-08-07 16:56:05,866]\u001b[0m Trial 27 finished with value: 71.50926453722666 and parameters: {'n_estimators': 5000, 'max_depth': 9, 'max_features': 'log2'}. Best is trial 22 with value: 71.49634673237887.\u001b[0m\n",
      "\u001b[32m[I 2021-08-07 16:57:02,418]\u001b[0m Trial 28 finished with value: 72.77355164491968 and parameters: {'n_estimators': 3500, 'max_depth': 8, 'max_features': 'sqrt'}. Best is trial 22 with value: 71.49634673237887.\u001b[0m\n",
      "\u001b[32m[I 2021-08-07 16:58:23,505]\u001b[0m Trial 29 finished with value: 71.50740995959629 and parameters: {'n_estimators': 4600, 'max_depth': 9, 'max_features': 'log2'}. Best is trial 22 with value: 71.49634673237887.\u001b[0m\n",
      "\u001b[32m[I 2021-08-07 17:01:32,480]\u001b[0m Trial 30 finished with value: 71.67092880343188 and parameters: {'n_estimators': 2900, 'max_depth': 9, 'max_features': 'auto'}. Best is trial 22 with value: 71.49634673237887.\u001b[0m\n",
      "\u001b[32m[I 2021-08-07 17:02:54,287]\u001b[0m Trial 31 finished with value: 71.50740995959629 and parameters: {'n_estimators': 4600, 'max_depth': 9, 'max_features': 'log2'}. Best is trial 22 with value: 71.49634673237887.\u001b[0m\n",
      "\u001b[32m[I 2021-08-07 17:04:09,199]\u001b[0m Trial 32 finished with value: 71.52082354768974 and parameters: {'n_estimators': 4200, 'max_depth': 9, 'max_features': 'log2'}. Best is trial 22 with value: 71.49634673237887.\u001b[0m\n",
      "\u001b[32m[I 2021-08-07 17:05:23,832]\u001b[0m Trial 33 finished with value: 72.81172516685449 and parameters: {'n_estimators': 4600, 'max_depth': 8, 'max_features': 'log2'}. Best is trial 22 with value: 71.49634673237887.\u001b[0m\n",
      "\u001b[32m[I 2021-08-07 17:06:51,326]\u001b[0m Trial 34 finished with value: 74.57147421021457 and parameters: {'n_estimators': 3900, 'max_depth': 7, 'max_features': 'log2'}. Best is trial 22 with value: 71.49634673237887.\u001b[0m\n",
      "\u001b[32m[I 2021-08-07 17:09:21,064]\u001b[0m Trial 35 finished with value: 71.50824539020746 and parameters: {'n_estimators': 4800, 'max_depth': 9, 'max_features': 'sqrt'}. Best is trial 22 with value: 71.49634673237887.\u001b[0m\n",
      "\u001b[32m[I 2021-08-07 17:09:27,594]\u001b[0m Trial 36 finished with value: 72.27288154152346 and parameters: {'n_estimators': 200, 'max_depth': 9, 'max_features': 'log2'}. Best is trial 22 with value: 71.49634673237887.\u001b[0m\n",
      "\u001b[32m[I 2021-08-07 17:10:17,222]\u001b[0m Trial 37 finished with value: 72.82061220933494 and parameters: {'n_estimators': 1700, 'max_depth': 8, 'max_features': 'log2'}. Best is trial 22 with value: 71.49634673237887.\u001b[0m\n"
     ]
    },
    {
     "name": "stderr",
     "output_type": "stream",
     "text": [
      "\u001b[32m[I 2021-08-07 17:13:46,177]\u001b[0m Trial 38 finished with value: 78.41277325875582 and parameters: {'n_estimators': 4800, 'max_depth': 4, 'max_features': 'auto'}. Best is trial 22 with value: 71.49634673237887.\u001b[0m\n",
      "\u001b[32m[I 2021-08-07 17:14:27,339]\u001b[0m Trial 39 finished with value: 71.63795942847723 and parameters: {'n_estimators': 2300, 'max_depth': 9, 'max_features': 'sqrt'}. Best is trial 22 with value: 71.49634673237887.\u001b[0m\n",
      "\u001b[32m[I 2021-08-07 17:15:20,591]\u001b[0m Trial 40 finished with value: 74.5848686075465 and parameters: {'n_estimators': 3600, 'max_depth': 7, 'max_features': 'log2'}. Best is trial 22 with value: 71.49634673237887.\u001b[0m\n",
      "\u001b[32m[I 2021-08-07 17:16:39,897]\u001b[0m Trial 41 finished with value: 71.50570854713933 and parameters: {'n_estimators': 4500, 'max_depth': 9, 'max_features': 'log2'}. Best is trial 22 with value: 71.49634673237887.\u001b[0m\n",
      "\u001b[32m[I 2021-08-07 17:17:51,997]\u001b[0m Trial 42 finished with value: 71.50207843232583 and parameters: {'n_estimators': 4100, 'max_depth': 9, 'max_features': 'log2'}. Best is trial 22 with value: 71.49634673237887.\u001b[0m\n",
      "\u001b[32m[I 2021-08-07 17:19:00,010]\u001b[0m Trial 43 finished with value: 72.80708469428005 and parameters: {'n_estimators': 4200, 'max_depth': 8, 'max_features': 'log2'}. Best is trial 22 with value: 71.49634673237887.\u001b[0m\n",
      "\u001b[32m[I 2021-08-07 17:20:10,617]\u001b[0m Trial 44 finished with value: 71.50266394907672 and parameters: {'n_estimators': 4000, 'max_depth': 9, 'max_features': 'log2'}. Best is trial 22 with value: 71.49634673237887.\u001b[0m\n",
      "\u001b[32m[I 2021-08-07 17:24:25,170]\u001b[0m Trial 45 finished with value: 71.69184541674669 and parameters: {'n_estimators': 3900, 'max_depth': 9, 'max_f"
     ]
    },
    {
     "data": {
      "text/html": [
       "<b>limit_output extension: Maximum message size of 10000 exceeded with 10071 characters</b>"
      ]
     },
     "metadata": {},
     "output_type": "display_data"
    }
   ],
   "source": [
    "study = optuna.create_study(direction='minimize')\n",
    "\n",
    "kf = KFold(n_splits=5, shuffle=True, random_state=42)\n",
    "\n",
    "func = lambda trial: objective(trial, X, y, cv=kf, scoring='neg_root_mean_squared_error')\n",
    "\n",
    "study.optimize(func, n_trials=100)"
   ]
  },
  {
   "cell_type": "code",
   "execution_count": 128,
   "id": "rising-guinea",
   "metadata": {
    "ExecuteTime": {
     "end_time": "2021-08-07T22:15:40.628793Z",
     "start_time": "2021-08-07T22:15:40.614688Z"
    },
    "hidden": true
   },
   "outputs": [
    {
     "name": "stdout",
     "output_type": "stream",
     "text": [
      "Base RMSE:      70.551\n",
      "Optimized RMSE: 71.486\n",
      "\n",
      "Best Params: {'n_estimators': 3700, 'max_depth': 9, 'max_features': 'log2'}\n"
     ]
    }
   ],
   "source": [
    "print( 'Base RMSE:      {}'.format( round(rmse_base, 3) ) )\n",
    "print( 'Optimized RMSE: {}'.format( round(study.best_value, 3) ) )\n",
    "\n",
    "print( '\\nBest Params: {}'.format( study.best_params) )"
   ]
  },
  {
   "cell_type": "markdown",
   "id": "unavailable-collective",
   "metadata": {
    "heading_collapsed": true,
    "hidden": true
   },
   "source": [
    "### 8.1.1. Hyperparameter Importances"
   ]
  },
  {
   "cell_type": "code",
   "execution_count": 117,
   "id": "decreased-advantage",
   "metadata": {
    "ExecuteTime": {
     "end_time": "2021-08-07T22:10:21.797408Z",
     "start_time": "2021-08-07T22:10:19.204230Z"
    },
    "hidden": true
   },
   "outputs": [
    {
     "data": {
      "application/vnd.plotly.v1+json": {
       "config": {
        "plotlyServerURL": "https://plot.ly"
       },
       "data": [
        {
         "cliponaxis": false,
         "hovertemplate": [
          "max_features (CategoricalDistribution): 0.014556523731854535<extra></extra>",
          "n_estimators (IntUniformDistribution): 0.020737637316276092<extra></extra>",
          "max_depth (IntUniformDistribution): 0.9647058389518693<extra></extra>"
         ],
         "marker": {
          "color": "rgb(66,146,198)"
         },
         "orientation": "h",
         "text": [
          "0.014556523731854535",
          "0.020737637316276092",
          "0.9647058389518693"
         ],
         "textposition": "outside",
         "texttemplate": "%{text:.2f}",
         "type": "bar",
         "x": [
          0.014556523731854535,
          0.020737637316276092,
          0.9647058389518693
         ],
         "y": [
          "max_features",
          "n_estimators",
          "max_depth"
         ]
        }
       ],
       "layout": {
        "showlegend": false,
        "template": {
         "data": {
          "bar": [
           {
            "error_x": {
             "color": "#2a3f5f"
            },
            "error_y": {
             "color": "#2a3f5f"
            },
            "marker": {
             "line": {
              "color": "#E5ECF6",
              "width": 0.5
             }
            },
            "type": "bar"
           }
          ],
          "barpolar": [
           {
            "marker": {
             "line": {
              "color": "#E5ECF6",
              "width": 0.5
             }
            },
            "type": "barpolar"
           }
          ],
          "carpet": [
           {
            "aaxis": {
             "endlinecolor": "#2a3f5f",
             "gridcolor": "white",
             "linecolor": "white",
             "minorgridcolor": "white",
             "startlinecolor": "#2a3f5f"
            },
            "baxis": {
             "endlinecolor": "#2a3f5f",
             "gridcolor": "white",
             "linecolor": "white",
             "minorgridcolor": "white",
             "startlinecolor": "#2a3f5f"
            },
            "type": "carpet"
           }
          ],
          "choropleth": [
           {
            "colorbar": {
             "outlinewidth": 0,
             "ticks": ""
            },
            "type": "choropleth"
           }
          ],
          "contour": [
           {
            "colorbar": {
             "outlinewidth": 0,
             "ticks": ""
            },
            "colorscale": [
             [
              0,
              "#0d0887"
             ],
             [
              0.1111111111111111,
              "#46039f"
             ],
             [
              0.2222222222222222,
              "#7201a8"
             ],
             [
              0.3333333333333333,
              "#9c179e"
             ],
             [
              0.4444444444444444,
              "#bd3786"
             ],
             [
              0.5555555555555556,
              "#d8576b"
             ],
             [
              0.6666666666666666,
              "#ed7953"
             ],
             [
              0.7777777777777778,
              "#fb9f3a"
             ],
             [
              0.8888888888888888,
              "#fdca26"
             ],
             [
              1,
              "#f0f921"
             ]
            ],
            "type": "contour"
           }
          ],
          "contourcarpet": [
           {
            "colorbar": {
             "outlinewidth": 0,
             "ticks": ""
            },
            "type": "contourcarpet"
           }
          ],
          "heatmap": [
           {
            "colorbar": {
             "outlinewidth": 0,
             "ticks": ""
            },
            "colorscale": [
             [
              0,
              "#0d0887"
             ],
             [
              0.1111111111111111,
              "#46039f"
             ],
             [
              0.2222222222222222,
              "#7201a8"
             ],
             [
              0.3333333333333333,
              "#9c179e"
             ],
             [
              0.4444444444444444,
              "#bd3786"
             ],
             [
              0.5555555555555556,
              "#d8576b"
             ],
             [
              0.6666666666666666,
              "#ed7953"
             ],
             [
              0.7777777777777778,
              "#fb9f3a"
             ],
             [
              0.8888888888888888,
              "#fdca26"
             ],
             [
              1,
              "#f0f921"
             ]
            ],
            "type": "heatmap"
           }
          ],
          "heatmapgl": [
           {
            "colorbar": {
             "outlinewidth": 0,
             "ticks": ""
            },
            "colorscale": [
             [
              0,
              "#0d0887"
             ],
             [
              0.1111111111111111,
              "#46039f"
             ],
             [
              0.2222222222222222,
              "#7201a8"
             ],
             [
              0.3333333333333333,
              "#9c179e"
             ],
             [
              0.4444444444444444,
              "#bd3786"
             ],
             [
              0.5555555555555556,
              "#d8576b"
             ],
             [
              0.6666666666666666,
              "#ed7953"
             ],
             [
              0.7777777777777778,
              "#fb9f3a"
             ],
             [
              0.8888888888888888,
              "#fdca26"
             ],
             [
              1,
              "#f0f921"
             ]
            ],
            "type": "heatmapgl"
           }
          ],
          "histogram": [
           {
            "marker": {
             "colorbar": {
              "outlinewidth": 0,
              "ticks": ""
             }
            },
            "type": "histogram"
           }
          ],
          "histogram2d": [
           {
            "colorbar": {
             "outlinewidth": 0,
             "ticks": ""
            },
            "colorscale": [
             [
              0,
              "#0d0887"
             ],
             [
              0.1111111111111111,
              "#46039f"
             ],
             [
              0.2222222222222222,
              "#7201a8"
             ],
             [
              0.3333333333333333,
              "#9c179e"
             ],
             [
              0.4444444444444444,
              "#bd3786"
             ],
             [
              0.5555555555555556,
              "#d8576b"
             ],
             [
              0.6666666666666666,
              "#ed7953"
             ],
             [
              0.7777777777777778,
              "#fb9f3a"
             ],
             [
              0.8888888888888888,
              "#fdca26"
             ],
             [
              1,
              "#f0f921"
             ]
            ],
            "type": "histogram2d"
           }
          ],
          "histogram2dcontour": [
           {
            "colorbar": {
             "outlinewidth": 0,
             "ticks": ""
            },
            "colorscale": [
             [
              0,
              "#0d0887"
             ],
             [
              0.1111111111111111,
              "#46039f"
             ],
             [
              0.2222222222222222,
              "#7201a8"
             ],
             [
              0.3333333333333333,
              "#9c179e"
             ],
             [
              0.4444444444444444,
              "#bd3786"
             ],
             [
              0.5555555555555556,
              "#d8576b"
             ],
             [
              0.6666666666666666,
              "#ed7953"
             ],
             [
              0.7777777777777778,
              "#fb9f3a"
             ],
             [
              0.8888888888888888,
              "#fdca26"
             ],
             [
              1,
              "#f0f921"
             ]
            ],
            "type": "histogram2dcontour"
           }
          ],
          "mesh3d": [
           {
            "colorbar": {
             "outlinewidth": 0,
             "ticks": ""
            },
            "type": "mesh3d"
           }
          ],
          "parcoords": [
           {
            "line": {
             "colorbar": {
              "outlinewidth": 0,
              "ticks": ""
             }
            },
            "type": "parcoords"
           }
          ],
          "pie": [
           {
            "automargin": true,
            "type": "pie"
           }
          ],
          "scatter": [
           {
            "marker": {
             "colorbar": {
              "outlinewidth": 0,
              "ticks": ""
             }
            },
            "type": "scatter"
           }
          ],
          "scatter3d": [
           {
            "line": {
             "colorbar": {
              "outlinewidth": 0,
              "ticks": ""
             }
            },
            "marker": {
             "colorbar": {
              "outlinewidth": 0,
              "ticks": ""
             }
            },
            "type": "scatter3d"
           }
          ],
          "scattercarpet": [
           {
            "marker": {
             "colorbar": {
              "outlinewidth": 0,
              "ticks": ""
             }
            },
            "type": "scattercarpet"
           }
          ],
          "scattergeo": [
           {
            "marker": {
             "colorbar": {
              "outlinewidth": 0,
              "ticks": ""
             }
            },
            "type": "scattergeo"
           }
          ],
          "scattergl": [
           {
            "marker": {
             "colorbar": {
              "outlinewidth": 0,
              "ticks": ""
             }
            },
            "type": "scattergl"
           }
          ],
          "scattermapbox": [
           {
            "marker": {
             "colorbar": {
              "outlinewidth": 0,
              "ticks": ""
             }
            },
            "type": "scattermapbox"
           }
          ],
          "scatterpolar": [
           {
            "marker": {
             "colorbar": {
              "outlinewidth": 0,
              "ticks": ""
             }
            },
            "type": "scatterpolar"
           }
          ],
          "scatterpolargl": [
           {
            "marker": {
             "colorbar": {
              "outlinewidth": 0,
              "ticks": ""
             }
            },
            "type": "scatterpolargl"
           }
          ],
          "scatterternary": [
           {
            "marker": {
             "colorbar": {
              "outlinewidth": 0,
              "ticks": ""
             }
            },
            "type": "scatterternary"
           }
          ],
          "surface": [
           {
            "colorbar": {
             "outlinewidth": 0,
             "ticks": ""
            },
            "colorscale": [
             [
              0,
              "#0d0887"
             ],
             [
              0.1111111111111111,
              "#46039f"
             ],
             [
              0.2222222222222222,
              "#7201a8"
             ],
             [
              0.3333333333333333,
              "#9c179e"
             ],
             [
              0.4444444444444444,
              "#bd3786"
             ],
             [
              0.5555555555555556,
              "#d8576b"
             ],
             [
              0.6666666666666666,
              "#ed7953"
             ],
             [
              0.7777777777777778,
              "#fb9f3a"
             ],
             [
              0.8888888888888888,
              "#fdca26"
             ],
             [
              1,
              "#f0f921"
             ]
            ],
            "type": "surface"
           }
          ],
          "table": [
           {
            "cells": {
             "fill": {
              "color": "#EBF0F8"
             },
             "line": {
              "color": "white"
             }
            },
            "header": {
             "fill": {
              "color": "#C8D4E3"
             },
             "line": {
              "color": "white"
             }
            },
            "type": "table"
           }
          ]
         },
         "layout": {
          "annotationdefaults": {
           "arrowcolor": "#2a3f5f",
           "arrowhead": 0,
           "arrowwidth": 1
          },
          "autotypenumbers": "strict",
          "coloraxis": {
           "colorbar": {
            "outlinewidth": 0,
            "ticks": ""
           }
          },
          "colorscale": {
           "diverging": [
            [
             0,
             "#8e0152"
            ],
            [
             0.1,
             "#c51b7d"
            ],
            [
             0.2,
             "#de77ae"
            ],
            [
             0.3,
             "#f1b6da"
            ],
            [
             0.4,
             "#fde0ef"
            ],
            [
             0.5,
             "#f7f7f7"
            ],
            [
             0.6,
             "#e6f5d0"
            ],
            [
             0.7,
             "#b8e186"
            ],
            [
             0.8,
             "#7fbc41"
            ],
            [
             0.9,
             "#4d9221"
            ],
            [
             1,
             "#276419"
            ]
           ],
           "sequential": [
            [
             0,
             "#0d0887"
            ],
            [
             0.1111111111111111,
             "#46039f"
            ],
            [
             0.2222222222222222,
             "#7201a8"
            ],
            [
             0.3333333333333333,
             "#9c179e"
            ],
            [
             0.4444444444444444,
             "#bd3786"
            ],
            [
             0.5555555555555556,
             "#d8576b"
            ],
            [
             0.6666666666666666,
             "#ed7953"
            ],
            [
             0.7777777777777778,
             "#fb9f3a"
            ],
            [
             0.8888888888888888,
             "#fdca26"
            ],
            [
             1,
             "#f0f921"
            ]
           ],
           "sequentialminus": [
            [
             0,
             "#0d0887"
            ],
            [
             0.1111111111111111,
             "#46039f"
            ],
            [
             0.2222222222222222,
             "#7201a8"
            ],
            [
             0.3333333333333333,
             "#9c179e"
            ],
            [
             0.4444444444444444,
             "#bd3786"
            ],
            [
             0.5555555555555556,
             "#d8576b"
            ],
            [
             0.6666666666666666,
             "#ed7953"
            ],
            [
             0.7777777777777778,
             "#fb9f3a"
            ],
            [
             0.8888888888888888,
             "#fdca26"
            ],
            [
             1,
             "#f0f921"
            ]
           ]
          },
          "colorway": [
           "#636efa",
           "#EF553B",
           "#00cc96",
           "#ab63fa",
           "#FFA15A",
           "#19d3f3",
           "#FF6692",
           "#B6E880",
           "#FF97FF",
           "#FECB52"
          ],
          "font": {
           "color": "#2a3f5f"
          },
          "geo": {
           "bgcolor": "white",
           "lakecolor": "white",
           "landcolor": "#E5ECF6",
           "showlakes": true,
           "showland": true,
           "subunitcolor": "white"
          },
          "hoverlabel": {
           "align": "left"
          },
          "hovermode": "closest",
          "mapbox": {
           "style": "light"
          },
          "paper_bgcolor": "white",
          "plot_bgcolor": "#E5ECF6",
          "polar": {
           "angularaxis": {
            "gridcolor": "white",
            "linecolor": "white",
            "ticks": ""
           },
           "bgcolor": "#E5ECF6",
           "radialaxis": {
            "gridcolor": "white",
            "linecolor": "white",
            "ticks": ""
           }
          },
          "scene": {
           "xaxis": {
            "backgroundcolor": "#E5ECF6",
            "gridcolor": "white",
            "gridwidth": 2,
            "linecolor": "white",
            "showbackground": true,
            "ticks": "",
            "zerolinecolor": "white"
           },
           "yaxis": {
            "backgroundcolor": "#E5ECF6",
            "gridcolor": "white",
            "gridwidth": 2,
            "linecolor": "white",
            "showbackground": true,
            "ticks": "",
            "zerolinecolor": "white"
           },
           "zaxis": {
            "backgroundcolor": "#E5ECF6",
            "gridcolor": "white",
            "gridwidth": 2,
            "linecolor": "white",
            "showbackground": true,
            "ticks": "",
            "zerolinecolor": "white"
           }
          },
          "shapedefaults": {
           "line": {
            "color": "#2a3f5f"
           }
          },
          "ternary": {
           "aaxis": {
            "gridcolor": "white",
            "linecolor": "white",
            "ticks": ""
           },
           "baxis": {
            "gridcolor": "white",
            "linecolor": "white",
            "ticks": ""
           },
           "bgcolor": "#E5ECF6",
           "caxis": {
            "gridcolor": "white",
            "linecolor": "white",
            "ticks": ""
           }
          },
          "title": {
           "x": 0.05
          },
          "xaxis": {
           "automargin": true,
           "gridcolor": "white",
           "linecolor": "white",
           "ticks": "",
           "title": {
            "standoff": 15
           },
           "zerolinecolor": "white",
           "zerolinewidth": 2
          },
          "yaxis": {
           "automargin": true,
           "gridcolor": "white",
           "linecolor": "white",
           "ticks": "",
           "title": {
            "standoff": 15
           },
           "zerolinecolor": "white",
           "zerolinewidth": 2
          }
         }
        },
        "title": {
         "text": "Hyperparameter Importances"
        },
        "xaxis": {
         "title": {
          "text": "Importance for Objective Value"
         }
        },
        "yaxis": {
         "title": {
          "text": "Hyperparameter"
         }
        }
       }
      },
      "text/html": [
       "<div>                            <div id=\"9b739c75-aff6-4f3c-ad06-45b7f3417514\" class=\"plotly-graph-div\" style=\"height:525px; width:100%;\"></div>            <script type=\"text/javascript\">                require([\"plotly\"], function(Plotly) {                    window.PLOTLYENV=window.PLOTLYENV || {};                                    if (document.getElementById(\"9b739c75-aff6-4f3c-ad06-45b7f3417514\")) {                    Plotly.newPlot(                        \"9b739c75-aff6-4f3c-ad06-45b7f3417514\",                        [{\"cliponaxis\": false, \"hovertemplate\": [\"max_features (CategoricalDistribution): 0.014556523731854535<extra></extra>\", \"n_estimators (IntUniformDistribution): 0.020737637316276092<extra></extra>\", \"max_depth (IntUniformDistribution): 0.9647058389518693<extra></extra>\"], \"marker\": {\"color\": \"rgb(66,146,198)\"}, \"orientation\": \"h\", \"text\": [\"0.014556523731854535\", \"0.020737637316276092\", \"0.9647058389518693\"], \"textposition\": \"outside\", \"texttemplate\": \"%{text:.2f}\", \"type\": \"bar\", \"x\": [0.014556523731854535, 0.020737637316276092, 0.9647058389518693], \"y\": [\"max_features\", \"n_estimators\", \"max_depth\"]}],                        {\"showlegend\": false, \"template\": {\"data\": {\"bar\": [{\"error_x\": {\"color\": \"#2a3f5f\"}, \"error_y\": {\"color\": \"#2a3f5f\"}, \"marker\": {\"line\": {\"color\": \"#E5ECF6\", \"width\": 0.5}}, \"type\": \"bar\"}], \"barpolar\": [{\"marker\": {\"line\": {\"color\": \"#E5ECF6\", \"width\": 0.5}}, \"type\": \"barpolar\"}], \"carpet\": [{\"aaxis\": {\"endlinecolor\": \"#2a3f5f\", \"gridcolor\": \"white\", \"linecolor\": \"white\", \"minorgridcolor\": \"white\", \"startlinecolor\": \"#2a3f5f\"}, \"baxis\": {\"endlinecolor\": \"#2a3f5f\", \"gridcolor\": \"white\", \"linecolor\": \"white\", \"minorgridcolor\": \"white\", \"startlinecolor\": \"#2a3f5f\"}, \"type\": \"carpet\"}], \"choropleth\": [{\"colorbar\": {\"outlinewidth\": 0, \"ticks\": \"\"}, \"type\": \"choropleth\"}], \"contour\": [{\"colorbar\": {\"outlinewidth\": 0, \"ticks\": \"\"}, \"colorscale\": [[0.0, \"#0d0887\"], [0.1111111111111111, \"#46039f\"], [0.2222222222222222, \"#7201a8\"], [0.3333333333333333, \"#9c179e\"], [0.4444444444444444, \"#bd3786\"], [0.5555555555555556, \"#d8576b\"], [0.6666666666666666, \"#ed7953\"], [0.7777777777777778, \"#fb9f3a\"], [0.8888888888888888, \"#fdca26\"], [1.0, \"#f0f921\"]], \"type\": \"contour\"}], \"contourcarpet\": [{\"colorbar\": {\"outlinewidth\": 0, \"ticks\": \"\"}, \"type\": \"contourcarpet\"}], \"heatmap\": [{\"colorbar\": {\"outlinewidth\": 0, \"ticks\": \"\"}, \"colorscale\": [[0.0, \"#0d0887\"], [0.1111111111111111, \"#46039f\"], [0.2222222222222222, \"#7201a8\"], [0.3333333333333333, \"#9c179e\"], [0.4444444444444444, \"#bd3786\"], [0.5555555555555556, \"#d8576b\"], [0.6666666666666666, \"#ed7953\"], [0.7777777777777778, \"#fb9f3a\"], [0.8888888888888888, \"#fdca26\"], [1.0, \"#f0f921\"]], \"type\": \"heatmap\"}], \"heatmapgl\": [{\"colorbar\": {\"outlinewidth\": 0, \"ticks\": \"\"}, \"colorscale\": [[0.0, \"#0d0887\"], [0.1111111111111111, \"#46039f\"], [0.2222222222222222, \"#7201a8\"], [0.3333333333333333, \"#9c179e\"], [0.4444444444444444, \"#bd3786\"], [0.5555555555555556, \"#d8576b\"], [0.6666666666666666, \"#ed7953\"], [0.7777777777777778, \"#fb9f3a\"], [0.8888888888888888, \"#fdca26\"], [1.0, \"#f0f921\"]], \"type\": \"heatmapgl\"}], \"histogram\": [{\"marker\": {\"colorbar\": {\"outlinewidth\": 0, \"ticks\": \"\"}}, \"type\": \"histogram\"}], \"histogram2d\": [{\"colorbar\": {\"outlinewidth\": 0, \"ticks\": \"\"}, \"colorscale\": [[0.0, \"#0d0887\"], [0.1111111111111111, \"#46039f\"], [0.2222222222222222, \"#7201a8\"], [0.3333333333333333, \"#9c179e\"], [0.4444444444444444, \"#bd3786\"], [0.5555555555555556, \"#d8576b\"], [0.6666666666666666, \"#ed7953\"], [0.7777777777777778, \"#fb9f3a\"], [0.8888888888888888, \"#fdca26\"], [1.0, \"#f0f921\"]], \"type\": \"histogram2d\"}], \"histogram2dcontour\": [{\"colorbar\": {\"outlinewidth\": 0, \"ticks\": \"\"}, \"colorscale\": [[0.0, \"#0d0887\"], [0.1111111111111111, \"#46039f\"], [0.2222222222222222, \"#7201a8\"], [0.3333333333333333, \"#9c179e\"], [0.4444444444444444, \"#bd3786\"], [0.5555555555555556, \"#d8576b\"], [0.6666666666666666, \"#ed7953\"], [0.7777777777777778, \"#fb9f3a\"], [0.8888888888888888, \"#fdca26\"], [1.0, \"#f0f921\"]], \"type\": \"histogram2dcontour\"}], \"mesh3d\": [{\"colorbar\": {\"outlinewidth\": 0, \"ticks\": \"\"}, \"type\": \"mesh3d\"}], \"parcoords\": [{\"line\": {\"colorbar\": {\"outlinewidth\": 0, \"ticks\": \"\"}}, \"type\": \"parcoords\"}], \"pie\": [{\"automargin\": true, \"type\": \"pie\"}], \"scatter\": [{\"marker\": {\"colorbar\": {\"outlinewidth\": 0, \"ticks\": \"\"}}, \"type\": \"scatter\"}], \"scatter3d\": [{\"line\": {\"colorbar\": {\"outlinewidth\": 0, \"ticks\": \"\"}}, \"marker\": {\"colorbar\": {\"outlinewidth\": 0, \"ticks\": \"\"}}, \"type\": \"scatter3d\"}], \"scattercarpet\": [{\"marker\": {\"colorbar\": {\"outlinewidth\": 0, \"ticks\": \"\"}}, \"type\": \"scattercarpet\"}], \"scattergeo\": [{\"marker\": {\"colorbar\": {\"outlinewidth\": 0, \"ticks\": \"\"}}, \"type\": \"scattergeo\"}], \"scattergl\": [{\"marker\": {\"colorbar\": {\"outlinewidth\": 0, \"ticks\": \"\"}}, \"type\": \"scattergl\"}], \"scattermapbox\": [{\"marker\": {\"colorbar\": {\"outlinewidth\": 0, \"ticks\": \"\"}}, \"type\": \"scattermapbox\"}], \"scatterpolar\": [{\"marker\": {\"colorbar\": {\"outlinewidth\": 0, \"ticks\": \"\"}}, \"type\": \"scatterpolar\"}], \"scatterpolargl\": [{\"marker\": {\"colorbar\": {\"outlinewidth\": 0, \"ticks\": \"\"}}, \"type\": \"scatterpolargl\"}], \"scatterternary\": [{\"marker\": {\"colorbar\": {\"outlinewidth\": 0, \"ticks\": \"\"}}, \"type\": \"scatterternary\"}], \"surface\": [{\"colorbar\": {\"outlinewidth\": 0, \"ticks\": \"\"}, \"colorscale\": [[0.0, \"#0d0887\"], [0.1111111111111111, \"#46039f\"], [0.2222222222222222, \"#7201a8\"], [0.3333333333333333, \"#9c179e\"], [0.4444444444444444, \"#bd3786\"], [0.5555555555555556, \"#d8576b\"], [0.6666666666666666, \"#ed7953\"], [0.7777777777777778, \"#fb9f3a\"], [0.8888888888888888, \"#fdca26\"], [1.0, \"#f0f921\"]], \"type\": \"surface\"}], \"table\": [{\"cells\": {\"fill\": {\"color\": \"#EBF0F8\"}, \"line\": {\"color\": \"white\"}}, \"header\": {\"fill\": {\"color\": \"#C8D4E3\"}, \"line\": {\"color\": \"white\"}}, \"type\": \"table\"}]}, \"layout\": {\"annotationdefaults\": {\"arrowcolor\": \"#2a3f5f\", \"arrowhead\": 0, \"arrowwidth\": 1}, \"autotypenumbers\": \"strict\", \"coloraxis\": {\"colorbar\": {\"outlinewidth\": 0, \"ticks\": \"\"}}, \"colorscale\": {\"diverging\": [[0, \"#8e0152\"], [0.1, \"#c51b7d\"], [0.2, \"#de77ae\"], [0.3, \"#f1b6da\"], [0.4, \"#fde0ef\"], [0.5, \"#f7f7f7\"], [0.6, \"#e6f5d0\"], [0.7, \"#b8e186\"], [0.8, \"#7fbc41\"], [0.9, \"#4d9221\"], [1, \"#276419\"]], \"sequential\": [[0.0, \"#0d0887\"], [0.1111111111111111, \"#46039f\"], [0.2222222222222222, \"#7201a8\"], [0.3333333333333333, \"#9c179e\"], [0.4444444444444444, \"#bd3786\"], [0.5555555555555556, \"#d8576b\"], [0.6666666666666666, \"#ed7953\"], [0.7777777777777778, \"#fb9f3a\"], [0.8888888888888888, \"#fdca26\"], [1.0, \"#f0f921\"]], \"sequentialminus\": [[0.0, \"#0d0887\"], [0.1111111111111111, \"#46039f\"], [0.2222222222222222, \"#7201a8\"], [0.3333333333333333, \"#9c179e\"], [0.4444444444444444, \"#bd3786\"], [0.5555555555555556, \"#d8576b\"], [0.6666666666666666, \"#ed7953\"], [0.7777777777777778, \"#fb9f3a\"], [0.8888888888888888, \"#fdca26\"], [1.0, \"#f0f921\"]]}, \"colorway\": [\"#636efa\", \"#EF553B\", \"#00cc96\", \"#ab63fa\", \"#FFA15A\", \"#19d3f3\", \"#FF6692\", \"#B6E880\", \"#FF97FF\", \"#FECB52\"], \"font\": {\"color\": \"#2a3f5f\"}, \"geo\": {\"bgcolor\": \"white\", \"lakecolor\": \"white\", \"landcolor\": \"#E5ECF6\", \"showlakes\": true, \"showland\": true, \"subunitcolor\": \"white\"}, \"hoverlabel\": {\"align\": \"left\"}, \"hovermode\": \"closest\", \"mapbox\": {\"style\": \"light\"}, \"paper_bgcolor\": \"white\", \"plot_bgcolor\": \"#E5ECF6\", \"polar\": {\"angularaxis\": {\"gridcolor\": \"white\", \"linecolor\": \"white\", \"ticks\": \"\"}, \"bgcolor\": \"#E5ECF6\", \"radialaxis\": {\"gridcolor\": \"white\", \"linecolor\": \"white\", \"ticks\": \"\"}}, \"scene\": {\"xaxis\": {\"backgroundcolor\": \"#E5ECF6\", \"gridcolor\": \"white\", \"gridwidth\": 2, \"linecolor\": \"white\", \"showbackground\": true, \"ticks\": \"\", \"zerolinecolor\": \"white\"}, \"yaxis\": {\"backgroundcolor\": \"#E5ECF6\", \"gridcolor\": \"white\", \"gridwidth\": 2, \"linecolor\": \"white\", \"showbackground\": true, \"ticks\": \"\", \"zerolinecolor\": \"white\"}, \"zaxis\": {\"backgroundcolor\": \"#E5ECF6\", \"gridcolor\": \"white\", \"gridwidth\": 2, \"linecolor\": \"white\", \"showbackground\": true, \"ticks\": \"\", \"zerolinecolor\": \"white\"}}, \"shapedefaults\": {\"line\": {\"color\": \"#2a3f5f\"}}, \"ternary\": {\"aaxis\": {\"gridcolor\": \"white\", \"linecolor\": \"white\", \"ticks\": \"\"}, \"baxis\": {\"gridcolor\": \"white\", \"linecolor\": \"white\", \"ticks\": \"\"}, \"bgcolor\": \"#E5ECF6\", \"caxis\": {\"gridcolor\": \"white\", \"linecolor\": \"white\", \"ticks\": \"\"}}, \"title\": {\"x\": 0.05}, \"xaxis\": {\"automargin\": true, \"gridcolor\": \"white\", \"linecolor\": \"white\", \"ticks\": \"\", \"title\": {\"standoff\": 15}, \"zerolinecolor\": \"white\", \"zerolinewidth\": 2}, \"yaxis\": {\"automargin\": true, \"gridcolor\": \"white\", \"linecolor\": \"white\", \"ticks\": \"\", \"title\": {\"standoff\": 15}, \"zerolinecolor\": \"white\", \"zerolinewidth\": 2}}}, \"title\": {\"text\": \"Hyperparameter Importances\"}, \"xaxis\": {\"title\": {\"text\": \"Importance for Objective Value\"}}, \"yaxis\": {\"title\": {\"text\": \"Hyperparameter\"}}},                        {\"responsive\": true}                    ).then(function(){\n",
       "                            \n",
       "var gd = document.getElementById('9b739c75-aff6-4f3c-ad06-45b7f3417514');\n",
       "var x = new MutationObserver(function (mutations, observer) {{\n",
       "        var display = window.getComputedStyle(gd).display;\n",
       "        if (!display || display === 'none') {{\n",
       "            console.log([gd, 'removed!']);\n",
       "            Plotly.purge(gd);\n",
       "            observer.disconnect();\n",
       "        }}\n",
       "}});\n",
       "\n",
       "// Listen for the removal of the full notebook cells\n",
       "var notebookContainer = gd.closest('#notebook-container');\n",
       "if (notebookContainer) {{\n",
       "    x.observe(notebookContainer, {childList: true});\n",
       "}}\n",
       "\n",
       "// Listen for the clearing of the current output cell\n",
       "var outputEl = gd.closest('.output');\n",
       "if (outputEl) {{\n",
       "    x.observe(outputEl, {childList: true});\n",
       "}}\n",
       "\n",
       "                        })                };                });            </script>        </div>"
      ]
     },
     "metadata": {},
     "output_type": "display_data"
    }
   ],
   "source": [
    "fig = plot_param_importances(study)\n",
    "fig.show()"
   ]
  },
  {
   "cell_type": "markdown",
   "id": "placed-cooperative",
   "metadata": {
    "heading_collapsed": true
   },
   "source": [
    "## 8.2. Final Model"
   ]
  },
  {
   "cell_type": "code",
   "execution_count": 136,
   "id": "unlikely-louisiana",
   "metadata": {
    "ExecuteTime": {
     "end_time": "2021-08-07T22:19:12.622178Z",
     "start_time": "2021-08-07T22:19:12.615663Z"
    },
    "hidden": true
   },
   "outputs": [],
   "source": [
    "best_params: {'n_estimators': 3700, 'max_depth': 9, 'max_features': 'log2'}"
   ]
  },
  {
   "cell_type": "code",
   "execution_count": 138,
   "id": "removable-slave",
   "metadata": {
    "ExecuteTime": {
     "end_time": "2021-08-07T22:34:51.303557Z",
     "start_time": "2021-08-07T22:19:19.680118Z"
    },
    "hidden": true
   },
   "outputs": [
    {
     "data": {
      "text/html": [
       "<div>\n",
       "<style scoped>\n",
       "    .dataframe tbody tr th:only-of-type {\n",
       "        vertical-align: middle;\n",
       "    }\n",
       "\n",
       "    .dataframe tbody tr th {\n",
       "        vertical-align: top;\n",
       "    }\n",
       "\n",
       "    .dataframe thead th {\n",
       "        text-align: right;\n",
       "    }\n",
       "</style>\n",
       "<table border=\"1\" class=\"dataframe\">\n",
       "  <thead>\n",
       "    <tr style=\"text-align: right;\">\n",
       "      <th></th>\n",
       "      <th>Model</th>\n",
       "      <th>MAE</th>\n",
       "      <th>MAPE</th>\n",
       "      <th>RMSE</th>\n",
       "    </tr>\n",
       "  </thead>\n",
       "  <tbody>\n",
       "    <tr>\n",
       "      <th>0</th>\n",
       "      <td>RandomForestRegressor</td>\n",
       "      <td>24.703  +/-  0.709</td>\n",
       "      <td>0.225 +/- 0.009</td>\n",
       "      <td>69.052 +/- 11.13</td>\n",
       "    </tr>\n",
       "  </tbody>\n",
       "</table>\n",
       "</div>"
      ],
      "text/plain": [
       "                   Model                 MAE             MAPE  \\\n",
       "0  RandomForestRegressor  24.703  +/-  0.709  0.225 +/- 0.009   \n",
       "\n",
       "               RMSE  \n",
       "0  69.052 +/- 11.13  "
      ]
     },
     "execution_count": 138,
     "metadata": {},
     "output_type": "execute_result"
    }
   ],
   "source": [
    "# model definition\n",
    "model_rf = en.RandomForestRegressor(n_estimators=best_params['n_estimators'],\n",
    "                                    max_depth=best_params['n_estimators'],\n",
    "                                    max_features=best_params['max_features'],\n",
    "                                    random_state=42)\n",
    "\n",
    "# Fit\n",
    "model_rf.fit(x_train, y_train)\n",
    "\n",
    "# model predict\n",
    "yhat_rf = model_rf.predict(x_val)\n",
    "\n",
    "# perfomance\n",
    "result = metrics_cv(model_rf, X, y, 'RandomForestRegressor')\n",
    "result"
   ]
  },
  {
   "cell_type": "markdown",
   "id": "consecutive-neutral",
   "metadata": {
    "heading_collapsed": true
   },
   "source": [
    "# 9.0. Model Perfomance"
   ]
  },
  {
   "cell_type": "markdown",
   "id": "transparent-disco",
   "metadata": {},
   "source": [
    "# 10.0. Deploy to Product"
   ]
  }
 ],
 "metadata": {
  "kernelspec": {
   "display_name": "Python 3",
   "language": "python",
   "name": "python3"
  },
  "language_info": {
   "codemirror_mode": {
    "name": "ipython",
    "version": 3
   },
   "file_extension": ".py",
   "mimetype": "text/x-python",
   "name": "python",
   "nbconvert_exporter": "python",
   "pygments_lexer": "ipython3",
   "version": "3.8.0"
  }
 },
 "nbformat": 4,
 "nbformat_minor": 5
}
