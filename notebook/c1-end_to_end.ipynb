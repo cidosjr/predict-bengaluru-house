{
 "cells": [
  {
   "cell_type": "markdown",
   "id": "narrow-frank",
   "metadata": {
    "heading_collapsed": true
   },
   "source": [
    "# 0.0. Imports"
   ]
  },
  {
   "cell_type": "code",
   "execution_count": 1,
   "id": "enormous-failure",
   "metadata": {
    "ExecuteTime": {
     "end_time": "2021-08-04T21:44:51.243263Z",
     "start_time": "2021-08-04T21:44:49.064278Z"
    },
    "hidden": true
   },
   "outputs": [],
   "source": [
    "import re\n",
    "import pandas as pd\n",
    "import numpy as np\n",
    "\n",
    "from geopy.geocoders import Nominatim\n",
    "\n",
    "from sklearn import model_selection as ms\n",
    "from sklearn import preprocessing as pp\n",
    "from sklearn import dummy\n",
    "from sklearn import metrics\n",
    "from sklearn import linear_model as lm\n",
    "from sklearn import ensemble as en"
   ]
  },
  {
   "cell_type": "markdown",
   "id": "norman-darkness",
   "metadata": {
    "heading_collapsed": true,
    "hidden": true
   },
   "source": [
    "## 0.1. Helper Function"
   ]
  },
  {
   "cell_type": "markdown",
   "id": "accurate-median",
   "metadata": {
    "heading_collapsed": true,
    "hidden": true
   },
   "source": [
    "## 0.2. Load Data"
   ]
  },
  {
   "cell_type": "code",
   "execution_count": 2,
   "id": "focal-independence",
   "metadata": {
    "ExecuteTime": {
     "end_time": "2021-08-04T21:44:51.284497Z",
     "start_time": "2021-08-04T21:44:51.246115Z"
    },
    "hidden": true
   },
   "outputs": [],
   "source": [
    "df_raw = pd.read_csv('../data/Bengaluru_House_Data.csv')"
   ]
  },
  {
   "cell_type": "markdown",
   "id": "together-introduction",
   "metadata": {
    "heading_collapsed": true
   },
   "source": [
    "# 1.0. Data Description"
   ]
  },
  {
   "cell_type": "code",
   "execution_count": 282,
   "id": "breeding-consistency",
   "metadata": {
    "ExecuteTime": {
     "end_time": "2021-08-04T20:45:58.273005Z",
     "start_time": "2021-08-04T20:45:58.267524Z"
    },
    "hidden": true
   },
   "outputs": [],
   "source": [
    "df1 = df_raw.copy()"
   ]
  },
  {
   "cell_type": "code",
   "execution_count": 281,
   "id": "neutral-january",
   "metadata": {
    "ExecuteTime": {
     "end_time": "2021-08-04T20:45:32.465594Z",
     "start_time": "2021-08-04T20:45:32.433184Z"
    },
    "hidden": true,
    "scrolled": true
   },
   "outputs": [
    {
     "data": {
      "text/plain": [
       "area_type       0.000000\n",
       "availability    0.000000\n",
       "location        0.000075\n",
       "size            0.001201\n",
       "society         0.413063\n",
       "total_sqft      0.000000\n",
       "bath            0.005480\n",
       "balcony         0.045721\n",
       "price           0.000000\n",
       "lat             0.000000\n",
       "lon             0.000000\n",
       "qt_bedroom      0.000000\n",
       "dtype: float64"
      ]
     },
     "execution_count": 281,
     "metadata": {},
     "output_type": "execute_result"
    }
   ],
   "source": [
    "df2.isna().mean()"
   ]
  },
  {
   "cell_type": "code",
   "execution_count": 284,
   "id": "designed-victory",
   "metadata": {
    "ExecuteTime": {
     "end_time": "2021-08-04T20:47:47.802316Z",
     "start_time": "2021-08-04T20:47:47.683627Z"
    },
    "hidden": true
   },
   "outputs": [
    {
     "data": {
      "text/html": [
       "<div>\n",
       "<style scoped>\n",
       "    .dataframe tbody tr th:only-of-type {\n",
       "        vertical-align: middle;\n",
       "    }\n",
       "\n",
       "    .dataframe tbody tr th {\n",
       "        vertical-align: top;\n",
       "    }\n",
       "\n",
       "    .dataframe thead th {\n",
       "        text-align: right;\n",
       "    }\n",
       "</style>\n",
       "<table border=\"1\" class=\"dataframe\">\n",
       "  <thead>\n",
       "    <tr style=\"text-align: right;\">\n",
       "      <th></th>\n",
       "      <th>area_type</th>\n",
       "      <th>availability</th>\n",
       "      <th>location</th>\n",
       "      <th>size</th>\n",
       "      <th>society</th>\n",
       "      <th>total_sqft</th>\n",
       "    </tr>\n",
       "  </thead>\n",
       "  <tbody>\n",
       "    <tr>\n",
       "      <th>count</th>\n",
       "      <td>13320</td>\n",
       "      <td>13320</td>\n",
       "      <td>13319</td>\n",
       "      <td>13304</td>\n",
       "      <td>7818</td>\n",
       "      <td>13320</td>\n",
       "    </tr>\n",
       "    <tr>\n",
       "      <th>unique</th>\n",
       "      <td>4</td>\n",
       "      <td>81</td>\n",
       "      <td>1305</td>\n",
       "      <td>31</td>\n",
       "      <td>2688</td>\n",
       "      <td>2117</td>\n",
       "    </tr>\n",
       "    <tr>\n",
       "      <th>top</th>\n",
       "      <td>Super built-up  Area</td>\n",
       "      <td>Ready To Move</td>\n",
       "      <td>Whitefield</td>\n",
       "      <td>2 BHK</td>\n",
       "      <td>GrrvaGr</td>\n",
       "      <td>1200</td>\n",
       "    </tr>\n",
       "    <tr>\n",
       "      <th>freq</th>\n",
       "      <td>8790</td>\n",
       "      <td>10581</td>\n",
       "      <td>540</td>\n",
       "      <td>5199</td>\n",
       "      <td>80</td>\n",
       "      <td>843</td>\n",
       "    </tr>\n",
       "  </tbody>\n",
       "</table>\n",
       "</div>"
      ],
      "text/plain": [
       "                   area_type   availability    location   size  society  \\\n",
       "count                  13320          13320       13319  13304     7818   \n",
       "unique                     4             81        1305     31     2688   \n",
       "top     Super built-up  Area  Ready To Move  Whitefield  2 BHK  GrrvaGr   \n",
       "freq                    8790          10581         540   5199       80   \n",
       "\n",
       "       total_sqft  \n",
       "count       13320  \n",
       "unique       2117  \n",
       "top          1200  \n",
       "freq          843  "
      ]
     },
     "execution_count": 284,
     "metadata": {},
     "output_type": "execute_result"
    }
   ],
   "source": [
    "df1.describe(include=[object])"
   ]
  },
  {
   "cell_type": "markdown",
   "id": "logical-retention",
   "metadata": {
    "heading_collapsed": true
   },
   "source": [
    "# 2.0. Feature Engineering"
   ]
  },
  {
   "cell_type": "code",
   "execution_count": 245,
   "id": "together-bermuda",
   "metadata": {
    "ExecuteTime": {
     "end_time": "2021-08-04T20:29:26.728342Z",
     "start_time": "2021-08-04T20:29:26.722890Z"
    },
    "hidden": true
   },
   "outputs": [],
   "source": [
    "df2 = df1.copy()"
   ]
  },
  {
   "cell_type": "code",
   "execution_count": 81,
   "id": "impressive-sculpture",
   "metadata": {
    "ExecuteTime": {
     "end_time": "2021-08-04T15:28:25.365343Z",
     "start_time": "2021-08-04T11:57:34.022418Z"
    },
    "hidden": true
   },
   "outputs": [],
   "source": [
    "# geolocator = Nominatim(user_agent=\"geoapiExercises\")\n",
    "\n",
    "# def location_lat(x):\n",
    "#     if geolocator.geocode(x, timeout=None):\n",
    "#         return geolocator.geocode(x, timeout=None).raw['lat']\n",
    "#     else: \n",
    "#         return x\n",
    "\n",
    "# df2['lat'] = df2['location'].apply(location_lat)\n",
    "\n",
    "# def location_lon(x):\n",
    "#     if geolocator.geocode(x, timeout=None):\n",
    "#         return geolocator.geocode(x, timeout=None).raw['lon']\n",
    "#     else: \n",
    "#         return x\n",
    "\n",
    "# df2['lon'] = df2['location'].apply(location_lon)\n",
    "\n",
    "# df2.to_csv('add_lat_and_lon_Bengaluru_House_Data.csv', index=False)"
   ]
  },
  {
   "cell_type": "code",
   "execution_count": 3,
   "id": "tropical-classics",
   "metadata": {
    "ExecuteTime": {
     "end_time": "2021-08-04T21:45:16.781526Z",
     "start_time": "2021-08-04T21:45:16.736418Z"
    },
    "hidden": true
   },
   "outputs": [],
   "source": [
    "df2 = pd.read_csv('../data/add_lat_and_lon_Bengaluru_House_Data.csv')"
   ]
  },
  {
   "cell_type": "code",
   "execution_count": 280,
   "id": "literary-respect",
   "metadata": {
    "ExecuteTime": {
     "end_time": "2021-08-04T20:45:23.970777Z",
     "start_time": "2021-08-04T20:45:23.934342Z"
    },
    "hidden": true
   },
   "outputs": [],
   "source": [
    "# size\n",
    "df2['qt_bedroom'] = df2['size'].apply(lambda x: str(x).split()[0])"
   ]
  },
  {
   "cell_type": "code",
   "execution_count": null,
   "id": "viral-settle",
   "metadata": {
    "hidden": true
   },
   "outputs": [],
   "source": [
    "'size', 'bath'"
   ]
  },
  {
   "cell_type": "markdown",
   "id": "excess-council",
   "metadata": {
    "heading_collapsed": true
   },
   "source": [
    "# 3.0. Data Filtering"
   ]
  },
  {
   "cell_type": "code",
   "execution_count": 303,
   "id": "bored-reason",
   "metadata": {
    "ExecuteTime": {
     "end_time": "2021-08-04T20:57:40.438346Z",
     "start_time": "2021-08-04T20:57:40.427714Z"
    },
    "hidden": true
   },
   "outputs": [],
   "source": [
    "df3 = df2.copy()"
   ]
  },
  {
   "cell_type": "markdown",
   "id": "becoming-trade",
   "metadata": {
    "hidden": true
   },
   "source": [
    "## 3.1. Filter Rows"
   ]
  },
  {
   "cell_type": "code",
   "execution_count": 304,
   "id": "adult-inspiration",
   "metadata": {
    "ExecuteTime": {
     "end_time": "2021-08-04T20:57:40.855673Z",
     "start_time": "2021-08-04T20:57:40.699509Z"
    },
    "hidden": true
   },
   "outputs": [],
   "source": [
    "# filter float\n",
    "df3_lat_lon_float = df3.loc[df3['lat'].apply(lambda x: bool(re.search('^[0-9-][0-9][\\.]+', x))), :]\n",
    "df3_lat_lon_float.loc[:, 'lat'] = df3_lat_lon_float.loc[:, 'lat'].astype(float)\n",
    "\n",
    "df3_lat_lon_str = df3.loc[~df3['lat'].apply(lambda x: bool(re.search('^[0-9-][0-9][\\.]+', x))), :]\n",
    "df3_lat_lon_float.loc[:, 'lon'] = df3_lat_lon_float.loc[:, 'lon'].astype(float)"
   ]
  },
  {
   "cell_type": "code",
   "execution_count": 305,
   "id": "amino-zambia",
   "metadata": {
    "ExecuteTime": {
     "end_time": "2021-08-04T20:57:40.867307Z",
     "start_time": "2021-08-04T20:57:40.862031Z"
    },
    "hidden": true
   },
   "outputs": [],
   "source": [
    "df3 = df3_lat_lon_float.copy()"
   ]
  },
  {
   "cell_type": "markdown",
   "id": "automotive-facial",
   "metadata": {
    "hidden": true
   },
   "source": [
    "## 3.2. Filter Columns"
   ]
  },
  {
   "cell_type": "code",
   "execution_count": 306,
   "id": "higher-lewis",
   "metadata": {
    "ExecuteTime": {
     "end_time": "2021-08-04T20:57:41.507761Z",
     "start_time": "2021-08-04T20:57:41.496147Z"
    },
    "hidden": true
   },
   "outputs": [],
   "source": [
    "drop_cols = ['location', 'society', 'size']\n",
    "df3 = df3.drop(drop_cols, axis=1)"
   ]
  },
  {
   "cell_type": "code",
   "execution_count": 307,
   "id": "tamil-escape",
   "metadata": {
    "ExecuteTime": {
     "end_time": "2021-08-04T20:57:41.936391Z",
     "start_time": "2021-08-04T20:57:41.908120Z"
    },
    "hidden": true
   },
   "outputs": [
    {
     "data": {
      "text/plain": [
       "area_type       0.000000\n",
       "availability    0.000000\n",
       "total_sqft      0.000000\n",
       "bath            0.005830\n",
       "balcony         0.046557\n",
       "price           0.000000\n",
       "lat             0.000000\n",
       "lon             0.000000\n",
       "qt_bedroom      0.000000\n",
       "dtype: float64"
      ]
     },
     "execution_count": 307,
     "metadata": {},
     "output_type": "execute_result"
    }
   ],
   "source": [
    "df3.isna().mean()"
   ]
  },
  {
   "cell_type": "code",
   "execution_count": 309,
   "id": "copyrighted-southwest",
   "metadata": {
    "ExecuteTime": {
     "end_time": "2021-08-04T20:58:12.166791Z",
     "start_time": "2021-08-04T20:58:12.144194Z"
    },
    "hidden": true
   },
   "outputs": [],
   "source": [
    "df3 = df3.dropna()"
   ]
  },
  {
   "cell_type": "code",
   "execution_count": 310,
   "id": "aquatic-willow",
   "metadata": {
    "ExecuteTime": {
     "end_time": "2021-08-04T20:58:12.675561Z",
     "start_time": "2021-08-04T20:58:12.645850Z"
    },
    "hidden": true
   },
   "outputs": [
    {
     "data": {
      "text/plain": [
       "area_type       0.0\n",
       "availability    0.0\n",
       "total_sqft      0.0\n",
       "bath            0.0\n",
       "balcony         0.0\n",
       "price           0.0\n",
       "lat             0.0\n",
       "lon             0.0\n",
       "qt_bedroom      0.0\n",
       "dtype: float64"
      ]
     },
     "execution_count": 310,
     "metadata": {},
     "output_type": "execute_result"
    }
   ],
   "source": [
    "df3.isna().mean()"
   ]
  },
  {
   "cell_type": "markdown",
   "id": "atlantic-encyclopedia",
   "metadata": {
    "heading_collapsed": true
   },
   "source": [
    "# 4.0. EDA"
   ]
  },
  {
   "cell_type": "code",
   "execution_count": 312,
   "id": "respiratory-madagascar",
   "metadata": {
    "ExecuteTime": {
     "end_time": "2021-08-04T20:58:24.737142Z",
     "start_time": "2021-08-04T20:58:24.731346Z"
    },
    "hidden": true
   },
   "outputs": [],
   "source": [
    "df4 = df3.copy()"
   ]
  },
  {
   "cell_type": "markdown",
   "id": "turkish-distribution",
   "metadata": {
    "heading_collapsed": true
   },
   "source": [
    "# 5.0. Data Preparation"
   ]
  },
  {
   "cell_type": "code",
   "execution_count": 313,
   "id": "fluid-grant",
   "metadata": {
    "ExecuteTime": {
     "end_time": "2021-08-04T20:58:25.104400Z",
     "start_time": "2021-08-04T20:58:25.088486Z"
    },
    "hidden": true
   },
   "outputs": [],
   "source": [
    "df5 = df4.copy()"
   ]
  },
  {
   "cell_type": "markdown",
   "id": "heavy-leadership",
   "metadata": {
    "heading_collapsed": true,
    "hidden": true
   },
   "source": [
    "## 5.1. Standardization"
   ]
  },
  {
   "cell_type": "markdown",
   "id": "bored-spokesman",
   "metadata": {
    "hidden": true
   },
   "source": [
    "## 5.2. Rescaling"
   ]
  },
  {
   "cell_type": "markdown",
   "id": "mineral-dublin",
   "metadata": {
    "heading_collapsed": true,
    "hidden": true
   },
   "source": [
    "## 5.3. Encoding\n",
    "\n"
   ]
  },
  {
   "cell_type": "code",
   "execution_count": 319,
   "id": "ongoing-stick",
   "metadata": {
    "ExecuteTime": {
     "end_time": "2021-08-04T21:01:23.381272Z",
     "start_time": "2021-08-04T21:01:23.349954Z"
    },
    "hidden": true
   },
   "outputs": [
    {
     "name": "stderr",
     "output_type": "stream",
     "text": [
      "/home/cid/.pyenv/versions/3.8.0/envs/local/lib/python3.8/site-packages/sklearn/utils/validation.py:63: DataConversionWarning: A column-vector y was passed when a 1d array was expected. Please change the shape of y to (n_samples, ), for example using ravel().\n",
      "  return f(*args, **kwargs)\n"
     ]
    }
   ],
   "source": [
    "le = pp.LabelEncoder()\n",
    "df5['area_type'] = le.fit_transform(df5[['area_type']])\n",
    "df5['availability'] = le.fit_transform(df5[['availability']])"
   ]
  },
  {
   "cell_type": "code",
   "execution_count": 320,
   "id": "analyzed-approval",
   "metadata": {
    "ExecuteTime": {
     "end_time": "2021-08-04T21:01:27.336448Z",
     "start_time": "2021-08-04T21:01:27.303204Z"
    },
    "hidden": true
   },
   "outputs": [
    {
     "data": {
      "text/html": [
       "<div>\n",
       "<style scoped>\n",
       "    .dataframe tbody tr th:only-of-type {\n",
       "        vertical-align: middle;\n",
       "    }\n",
       "\n",
       "    .dataframe tbody tr th {\n",
       "        vertical-align: top;\n",
       "    }\n",
       "\n",
       "    .dataframe thead th {\n",
       "        text-align: right;\n",
       "    }\n",
       "</style>\n",
       "<table border=\"1\" class=\"dataframe\">\n",
       "  <thead>\n",
       "    <tr style=\"text-align: right;\">\n",
       "      <th></th>\n",
       "      <th>area_type</th>\n",
       "      <th>availability</th>\n",
       "      <th>total_sqft</th>\n",
       "      <th>bath</th>\n",
       "      <th>balcony</th>\n",
       "      <th>price</th>\n",
       "      <th>lat</th>\n",
       "      <th>lon</th>\n",
       "      <th>qt_bedroom</th>\n",
       "    </tr>\n",
       "  </thead>\n",
       "  <tbody>\n",
       "    <tr>\n",
       "      <th>0</th>\n",
       "      <td>3</td>\n",
       "      <td>38</td>\n",
       "      <td>1056</td>\n",
       "      <td>2.0</td>\n",
       "      <td>1.0</td>\n",
       "      <td>39.07</td>\n",
       "      <td>12.846854</td>\n",
       "      <td>77.676927</td>\n",
       "      <td>2</td>\n",
       "    </tr>\n",
       "    <tr>\n",
       "      <th>1</th>\n",
       "      <td>2</td>\n",
       "      <td>77</td>\n",
       "      <td>2600</td>\n",
       "      <td>5.0</td>\n",
       "      <td>3.0</td>\n",
       "      <td>120.00</td>\n",
       "      <td>12.895768</td>\n",
       "      <td>77.867101</td>\n",
       "      <td>4</td>\n",
       "    </tr>\n",
       "    <tr>\n",
       "      <th>2</th>\n",
       "      <td>0</td>\n",
       "      <td>77</td>\n",
       "      <td>1440</td>\n",
       "      <td>2.0</td>\n",
       "      <td>3.0</td>\n",
       "      <td>62.00</td>\n",
       "      <td>12.905568</td>\n",
       "      <td>77.545544</td>\n",
       "      <td>3</td>\n",
       "    </tr>\n",
       "    <tr>\n",
       "      <th>4</th>\n",
       "      <td>3</td>\n",
       "      <td>77</td>\n",
       "      <td>1200</td>\n",
       "      <td>2.0</td>\n",
       "      <td>1.0</td>\n",
       "      <td>51.00</td>\n",
       "      <td>12.580537</td>\n",
       "      <td>77.333067</td>\n",
       "      <td>2</td>\n",
       "    </tr>\n",
       "    <tr>\n",
       "      <th>5</th>\n",
       "      <td>3</td>\n",
       "      <td>77</td>\n",
       "      <td>1170</td>\n",
       "      <td>2.0</td>\n",
       "      <td>1.0</td>\n",
       "      <td>38.00</td>\n",
       "      <td>44.373058</td>\n",
       "      <td>-71.611858</td>\n",
       "      <td>2</td>\n",
       "    </tr>\n",
       "  </tbody>\n",
       "</table>\n",
       "</div>"
      ],
      "text/plain": [
       "   area_type  availability total_sqft  bath  balcony   price        lat  \\\n",
       "0          3            38       1056   2.0      1.0   39.07  12.846854   \n",
       "1          2            77       2600   5.0      3.0  120.00  12.895768   \n",
       "2          0            77       1440   2.0      3.0   62.00  12.905568   \n",
       "4          3            77       1200   2.0      1.0   51.00  12.580537   \n",
       "5          3            77       1170   2.0      1.0   38.00  44.373058   \n",
       "\n",
       "         lon qt_bedroom  \n",
       "0  77.676927          2  \n",
       "1  77.867101          4  \n",
       "2  77.545544          3  \n",
       "4  77.333067          2  \n",
       "5 -71.611858          2  "
      ]
     },
     "execution_count": 320,
     "metadata": {},
     "output_type": "execute_result"
    }
   ],
   "source": [
    "df5.head()"
   ]
  },
  {
   "cell_type": "markdown",
   "id": "pacific-argentina",
   "metadata": {
    "heading_collapsed": true
   },
   "source": [
    "# 6.0. Feature Selection"
   ]
  },
  {
   "cell_type": "code",
   "execution_count": 341,
   "id": "fabulous-semester",
   "metadata": {
    "ExecuteTime": {
     "end_time": "2021-08-04T21:17:16.227091Z",
     "start_time": "2021-08-04T21:17:16.220388Z"
    },
    "hidden": true
   },
   "outputs": [],
   "source": [
    "df6 = df5.copy()"
   ]
  },
  {
   "cell_type": "code",
   "execution_count": 342,
   "id": "overall-initial",
   "metadata": {
    "ExecuteTime": {
     "end_time": "2021-08-04T21:17:16.444002Z",
     "start_time": "2021-08-04T21:17:16.415373Z"
    },
    "hidden": true
   },
   "outputs": [],
   "source": [
    "X = df5.drop(['price', 'total_sqft'], axis=1)\n",
    "y = df5['price'].copy()\n",
    "\n",
    "x_train, x_val, y_train, y_val = ms.train_test_split(X, y, test_size=0.2, random_state=42)"
   ]
  },
  {
   "cell_type": "markdown",
   "id": "southeast-processing",
   "metadata": {
    "heading_collapsed": true
   },
   "source": [
    "# 7.0. Model Training"
   ]
  },
  {
   "cell_type": "code",
   "execution_count": null,
   "id": "pacific-monster",
   "metadata": {
    "hidden": true
   },
   "outputs": [],
   "source": []
  },
  {
   "cell_type": "markdown",
   "id": "satisfactory-consideration",
   "metadata": {
    "heading_collapsed": true,
    "hidden": true
   },
   "source": [
    "## 7.1. Average Model"
   ]
  },
  {
   "cell_type": "code",
   "execution_count": 347,
   "id": "fantastic-mathematics",
   "metadata": {
    "ExecuteTime": {
     "end_time": "2021-08-04T21:18:12.672655Z",
     "start_time": "2021-08-04T21:18:12.652097Z"
    },
    "hidden": true
   },
   "outputs": [
    {
     "name": "stdout",
     "output_type": "stream",
     "text": [
      "MAE: 69.18655009838794 | MAPE: 0.9189057519989557 | RMSE: 130.53405853555498\n"
     ]
    }
   ],
   "source": [
    "# model definition and fit\n",
    "model_baseline = dummy.DummyRegressor(strategy='mean').fit(x_train, y_train)\n",
    "\n",
    "# model predict\n",
    "yhat_baseline = model_baseline.predict(x_val)\n",
    "\n",
    "# model perfomance\n",
    "mae = metrics.mean_absolute_error(y_val, yhat_baseline)\n",
    "mape = metrics.mean_absolute_percentage_error(y_val, yhat_baseline)\n",
    "rmse = np.sqrt(metrics.mean_squared_error(y_val, yhat_baseline))\n",
    "\n",
    "print('MAE: {} | MAPE: {} | RMSE: {}'.format(mae, mape, rmse))"
   ]
  },
  {
   "cell_type": "markdown",
   "id": "worse-exercise",
   "metadata": {
    "heading_collapsed": true,
    "hidden": true
   },
   "source": [
    "## 7.2. Linear Regression Model"
   ]
  },
  {
   "cell_type": "code",
   "execution_count": 345,
   "id": "parental-brave",
   "metadata": {
    "ExecuteTime": {
     "end_time": "2021-08-04T21:17:21.456765Z",
     "start_time": "2021-08-04T21:17:21.361588Z"
    },
    "hidden": true
   },
   "outputs": [
    {
     "name": "stdout",
     "output_type": "stream",
     "text": [
      "MAE: 51.39237039425772 | MAPE: 0.5167872441161455 | RMSE: 113.84866787174654\n"
     ]
    }
   ],
   "source": [
    "# model definition and fit\n",
    "model_lr = lm.LinearRegression().fit(x_train, y_train)\n",
    "\n",
    "# model predict\n",
    "yhat_lr = model_lr.predict(x_val)\n",
    "\n",
    "# model perfomance\n",
    "mae = metrics.mean_absolute_error(y_val, yhat_lr)\n",
    "mape = metrics.mean_absolute_percentage_error(y_val, yhat_lr)\n",
    "rmse = np.sqrt(metrics.mean_squared_error(y_val, yhat_lr))\n",
    "\n",
    "print('MAE: {} | MAPE: {} | RMSE: {}'.format(mae, mape, rmse))"
   ]
  },
  {
   "cell_type": "markdown",
   "id": "binding-export",
   "metadata": {
    "heading_collapsed": true,
    "hidden": true
   },
   "source": [
    "## 7.3. Random Forest Model"
   ]
  },
  {
   "cell_type": "code",
   "execution_count": 361,
   "id": "aging-cursor",
   "metadata": {
    "ExecuteTime": {
     "end_time": "2021-08-04T21:28:17.470902Z",
     "start_time": "2021-08-04T21:28:15.244299Z"
    },
    "hidden": true
   },
   "outputs": [
    {
     "name": "stdout",
     "output_type": "stream",
     "text": [
      "MAE: 39.84512783025325 | MAPE: 0.357494658863791 | RMSE: 103.6417705071636\n"
     ]
    }
   ],
   "source": [
    "# model definition and fit\n",
    "model_rf = en.RandomForestRegressor().fit(x_train, y_train)\n",
    "\n",
    "# model predict\n",
    "yhat_rf = model_rf.predict(x_val)\n",
    "\n",
    "# model perfomance\n",
    "mae = metrics.mean_absolute_error(y_val, yhat_rf)\n",
    "mape = metrics.mean_absolute_percentage_error(y_val, yhat_rf) \n",
    "rmse = np.sqrt(metrics.mean_squared_error(y_val, yhat_rf))\n",
    "\n",
    "print('MAE: {} | MAPE: {} | RMSE: {}'.format(mae, mape, rmse))"
   ]
  },
  {
   "cell_type": "markdown",
   "id": "nearby-talent",
   "metadata": {
    "heading_collapsed": true
   },
   "source": [
    "# 8.0. Hyperparameter Fine Tuning"
   ]
  },
  {
   "cell_type": "markdown",
   "id": "consecutive-neutral",
   "metadata": {},
   "source": [
    "# 9.0. Model Perfomance"
   ]
  },
  {
   "cell_type": "markdown",
   "id": "transparent-disco",
   "metadata": {},
   "source": [
    "# 10.0. Deploy to Product"
   ]
  }
 ],
 "metadata": {
  "kernelspec": {
   "display_name": "Python 3",
   "language": "python",
   "name": "python3"
  },
  "language_info": {
   "codemirror_mode": {
    "name": "ipython",
    "version": 3
   },
   "file_extension": ".py",
   "mimetype": "text/x-python",
   "name": "python",
   "nbconvert_exporter": "python",
   "pygments_lexer": "ipython3",
   "version": "3.8.0"
  }
 },
 "nbformat": 4,
 "nbformat_minor": 5
}
