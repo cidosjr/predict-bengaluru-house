{
 "cells": [
  {
   "cell_type": "markdown",
   "id": "genuine-groove",
   "metadata": {
    "heading_collapsed": true
   },
   "source": [
    "# <font color='Blue'> Planejamento da Solução </font>"
   ]
  },
  {
   "cell_type": "markdown",
   "id": "rational-fabric",
   "metadata": {
    "heading_collapsed": true,
    "hidden": true
   },
   "source": [
    "## Input - Entrada\n",
    "### Problema de Negócio\n",
    "1. Quais são as coisas que um potencial comprador de imóvel residencial considera antes de comprar uma casa?\n",
    "(A localização, o tamanho da propriedade, a proximidade de escritórios, escolas, parques, restaurantes, hospitais ou preço ) \n",
    "2. Conjunto de dados que descrevem imóveis em Bengaluru.\n",
    "\n",
    "## Output - Saída\n",
    "\n",
    "1. Grafico(s) demostrando as features mais importantes para comprar um imóveis\n",
    "2. Modelo para prever o preço das casas em Bengaluru.\n",
    "\n",
    "## Task - Processos\n",
    "\n",
    "1. Quais são as coisas que um potencial comprador de imóvel residencial considera antes de comprar uma casa?\n",
    "* Limpar os dados\n",
    "* Criar features\n",
    "* Criar hipoteses de negocio em relação as features\n",
    "* Fazer EDA validando / refutando as hipoteses de negocio.\n",
    "\n",
    "\n",
    "\n",
    "\n"
   ]
  },
  {
   "cell_type": "markdown",
   "id": "narrow-frank",
   "metadata": {
    "heading_collapsed": true
   },
   "source": [
    "# 0.0. Imports"
   ]
  },
  {
   "cell_type": "code",
   "execution_count": 3,
   "id": "enormous-failure",
   "metadata": {
    "ExecuteTime": {
     "end_time": "2021-08-04T21:47:07.213670Z",
     "start_time": "2021-08-04T21:47:05.753751Z"
    },
    "hidden": true
   },
   "outputs": [],
   "source": [
    "import re\n",
    "import pandas as pd\n",
    "import numpy as np\n",
    "\n",
    "from geopy.geocoders import Nominatim\n",
    "\n",
    "from sklearn import model_selection as ms\n",
    "from sklearn import preprocessing as pp\n",
    "from sklearn import dummy\n",
    "from sklearn import metrics\n",
    "from sklearn import linear_model as lm\n",
    "from sklearn import ensemble as en"
   ]
  },
  {
   "cell_type": "markdown",
   "id": "norman-darkness",
   "metadata": {
    "hidden": true
   },
   "source": [
    "## 0.1. Helper Function"
   ]
  },
  {
   "cell_type": "code",
   "execution_count": 345,
   "id": "lesser-afghanistan",
   "metadata": {
    "ExecuteTime": {
     "end_time": "2021-08-04T22:59:30.097404Z",
     "start_time": "2021-08-04T22:59:30.090037Z"
    },
    "hidden": true
   },
   "outputs": [],
   "source": [
    "def descriptive_statistics(num_attr):\n",
    "    # Central Tendency: mean, median\n",
    "    c1 = pd.DataFrame(num_attr.apply(np.mean))\n",
    "    c2 = pd.DataFrame(num_attr.apply(np.median))\n",
    "\n",
    "    # Dispension: min, max, range, std, skew, kurtosis\n",
    "    d1 = pd.DataFrame(num_attr.apply(min))\n",
    "    d2 = pd.DataFrame(num_attr.apply(max))\n",
    "    d3 = pd.DataFrame(num_attr.apply(lambda x: x.max() - x.min()))\n",
    "    d4 = pd.DataFrame(num_attr.apply(lambda x: x.std()))\n",
    "    \n",
    "    # Measures of Shape\n",
    "    s1 = pd.DataFrame(num_attr.apply(lambda x: x.skew()))\n",
    "    s2 = pd.DataFrame(num_attr.apply(lambda x: x.kurtosis()))\n",
    "\n",
    "    # concat\n",
    "    m = pd.concat([d1,d2,d3,c1,c2,d4,s1,s2], axis=1).reset_index()\n",
    "    m.columns = ['attributes', 'min', 'max', 'range', 'mean', 'median', 'std', 'skew', 'kurtosis']\n",
    "    return m\n"
   ]
  },
  {
   "cell_type": "markdown",
   "id": "accurate-median",
   "metadata": {
    "heading_collapsed": true,
    "hidden": true
   },
   "source": [
    "## 0.2. Load Data"
   ]
  },
  {
   "cell_type": "code",
   "execution_count": 285,
   "id": "focal-independence",
   "metadata": {
    "ExecuteTime": {
     "end_time": "2021-08-04T22:43:56.296042Z",
     "start_time": "2021-08-04T22:43:56.270540Z"
    },
    "hidden": true
   },
   "outputs": [],
   "source": [
    "df_raw = pd.read_csv('../data/Bengaluru_House_Data.csv')"
   ]
  },
  {
   "cell_type": "markdown",
   "id": "together-introduction",
   "metadata": {
    "heading_collapsed": true
   },
   "source": [
    "# 1.0. Data Description"
   ]
  },
  {
   "cell_type": "code",
   "execution_count": 286,
   "id": "breeding-consistency",
   "metadata": {
    "ExecuteTime": {
     "end_time": "2021-08-04T22:43:56.541822Z",
     "start_time": "2021-08-04T22:43:56.537620Z"
    },
    "hidden": true
   },
   "outputs": [],
   "source": [
    "df1 = df_raw.copy()"
   ]
  },
  {
   "cell_type": "markdown",
   "id": "waiting-plastic",
   "metadata": {
    "ExecuteTime": {
     "end_time": "2021-08-05T06:19:15.080301Z",
     "start_time": "2021-08-05T06:19:15.066336Z"
    },
    "hidden": true
   },
   "source": [
    "*  **Area_type** - describes the area \n",
    "*  **Availability** - when it can be possessed or when it is ready(categorical and time-series) \n",
    "*  **Location** - where it is located in Bengaluru \n",
    "*  **Price** - Value of the property in lakhs(INR) M\n",
    "*  **Size** - in BHK or Bedroom (1-10 or more) \n",
    "*  **Society** - to which society it belongs \n",
    "*  **Total_sqft** - size of the property in sq.ft \n",
    "*  **Bath** - No. of bathrooms \n",
    "*  **Balcony** - No. of the balcony "
   ]
  },
  {
   "cell_type": "markdown",
   "id": "standing-comment",
   "metadata": {
    "heading_collapsed": true,
    "hidden": true
   },
   "source": [
    "## 1.1. Data dimensions"
   ]
  },
  {
   "cell_type": "code",
   "execution_count": 287,
   "id": "lovely-generation",
   "metadata": {
    "ExecuteTime": {
     "end_time": "2021-08-04T22:43:56.822769Z",
     "start_time": "2021-08-04T22:43:56.817946Z"
    },
    "hidden": true
   },
   "outputs": [
    {
     "name": "stdout",
     "output_type": "stream",
     "text": [
      "Number of Rows: 13320\n",
      "Number of Columns: 9\n"
     ]
    }
   ],
   "source": [
    "print('Number of Rows: {}'.format(df1.shape[0]))\n",
    "print('Number of Columns: {}'.format(df1.shape[1]))"
   ]
  },
  {
   "cell_type": "markdown",
   "id": "progressive-offense",
   "metadata": {
    "heading_collapsed": true,
    "hidden": true
   },
   "source": [
    "## 1.2. Data Types"
   ]
  },
  {
   "cell_type": "code",
   "execution_count": 288,
   "id": "informative-operation",
   "metadata": {
    "ExecuteTime": {
     "end_time": "2021-08-04T22:43:57.120029Z",
     "start_time": "2021-08-04T22:43:57.113190Z"
    },
    "hidden": true
   },
   "outputs": [
    {
     "data": {
      "text/plain": [
       "area_type        object\n",
       "availability     object\n",
       "location         object\n",
       "size             object\n",
       "society          object\n",
       "total_sqft       object\n",
       "bath            float64\n",
       "balcony         float64\n",
       "price           float64\n",
       "dtype: object"
      ]
     },
     "execution_count": 288,
     "metadata": {},
     "output_type": "execute_result"
    }
   ],
   "source": [
    "df1.dtypes"
   ]
  },
  {
   "cell_type": "markdown",
   "id": "applied-emphasis",
   "metadata": {
    "heading_collapsed": true,
    "hidden": true
   },
   "source": [
    "## 1.3. Check NA"
   ]
  },
  {
   "cell_type": "code",
   "execution_count": 289,
   "id": "british-robertson",
   "metadata": {
    "ExecuteTime": {
     "end_time": "2021-08-04T22:43:57.417248Z",
     "start_time": "2021-08-04T22:43:57.401636Z"
    },
    "hidden": true
   },
   "outputs": [
    {
     "data": {
      "text/plain": [
       "area_type        0.000000\n",
       "availability     0.000000\n",
       "location         0.007508\n",
       "size             0.120120\n",
       "society         41.306306\n",
       "total_sqft       0.000000\n",
       "bath             0.548048\n",
       "balcony          4.572072\n",
       "price            0.000000\n",
       "dtype: float64"
      ]
     },
     "execution_count": 289,
     "metadata": {},
     "output_type": "execute_result"
    }
   ],
   "source": [
    "df1.isna().mean() *100"
   ]
  },
  {
   "cell_type": "markdown",
   "id": "roman-inflation",
   "metadata": {
    "heading_collapsed": true,
    "hidden": true
   },
   "source": [
    "## 1.4. Replace NA"
   ]
  },
  {
   "cell_type": "code",
   "execution_count": 290,
   "id": "nervous-newsletter",
   "metadata": {
    "ExecuteTime": {
     "end_time": "2021-08-04T22:43:57.724126Z",
     "start_time": "2021-08-04T22:43:57.706698Z"
    },
    "hidden": true
   },
   "outputs": [],
   "source": [
    "# drop features\n",
    "# remove: balcony, 4% ?\n",
    "df1 = df1.dropna(subset=['size', 'location', 'bath', 'balcony'])"
   ]
  },
  {
   "cell_type": "markdown",
   "id": "informal-recognition",
   "metadata": {
    "heading_collapsed": true,
    "hidden": true
   },
   "source": [
    "## 1.5. Change Dtypes"
   ]
  },
  {
   "cell_type": "code",
   "execution_count": 344,
   "id": "explicit-wellington",
   "metadata": {
    "ExecuteTime": {
     "end_time": "2021-08-04T22:57:54.283362Z",
     "start_time": "2021-08-04T22:57:54.276782Z"
    },
    "hidden": true
   },
   "outputs": [
    {
     "data": {
      "text/plain": [
       "area_type        object\n",
       "availability     object\n",
       "location         object\n",
       "size             object\n",
       "society          object\n",
       "total_sqft       object\n",
       "bath            float64\n",
       "balcony         float64\n",
       "price           float64\n",
       "dtype: object"
      ]
     },
     "execution_count": 344,
     "metadata": {},
     "output_type": "execute_result"
    }
   ],
   "source": [
    "df1.dtypes"
   ]
  },
  {
   "cell_type": "markdown",
   "id": "mighty-princeton",
   "metadata": {
    "heading_collapsed": true,
    "hidden": true
   },
   "source": [
    "## 1.6. Descriptive Statistics"
   ]
  },
  {
   "cell_type": "code",
   "execution_count": 346,
   "id": "stainless-yacht",
   "metadata": {
    "ExecuteTime": {
     "end_time": "2021-08-04T23:00:38.435259Z",
     "start_time": "2021-08-04T23:00:38.419143Z"
    },
    "hidden": true
   },
   "outputs": [],
   "source": [
    "num_att = df1.select_dtypes(include=['int64', 'float64'])\n",
    "cat_att = df1.select_dtypes(exclude=['int64', 'float64'])"
   ]
  },
  {
   "cell_type": "markdown",
   "id": "homeless-chest",
   "metadata": {
    "heading_collapsed": true,
    "hidden": true
   },
   "source": [
    "### 1.6.1. Numerical Attributes"
   ]
  },
  {
   "cell_type": "code",
   "execution_count": 347,
   "id": "junior-arbor",
   "metadata": {
    "ExecuteTime": {
     "end_time": "2021-08-04T23:00:59.196815Z",
     "start_time": "2021-08-04T23:00:59.117363Z"
    },
    "hidden": true
   },
   "outputs": [
    {
     "data": {
      "text/html": [
       "<div>\n",
       "<style scoped>\n",
       "    .dataframe tbody tr th:only-of-type {\n",
       "        vertical-align: middle;\n",
       "    }\n",
       "\n",
       "    .dataframe tbody tr th {\n",
       "        vertical-align: top;\n",
       "    }\n",
       "\n",
       "    .dataframe thead th {\n",
       "        text-align: right;\n",
       "    }\n",
       "</style>\n",
       "<table border=\"1\" class=\"dataframe\">\n",
       "  <thead>\n",
       "    <tr style=\"text-align: right;\">\n",
       "      <th></th>\n",
       "      <th>attributes</th>\n",
       "      <th>min</th>\n",
       "      <th>max</th>\n",
       "      <th>range</th>\n",
       "      <th>mean</th>\n",
       "      <th>median</th>\n",
       "      <th>std</th>\n",
       "      <th>skew</th>\n",
       "      <th>kurtosis</th>\n",
       "    </tr>\n",
       "  </thead>\n",
       "  <tbody>\n",
       "    <tr>\n",
       "      <th>0</th>\n",
       "      <td>bath</td>\n",
       "      <td>1.0</td>\n",
       "      <td>40.0</td>\n",
       "      <td>39.0</td>\n",
       "      <td>2.617309</td>\n",
       "      <td>2.0</td>\n",
       "      <td>1.226000</td>\n",
       "      <td>4.590497</td>\n",
       "      <td>85.455663</td>\n",
       "    </tr>\n",
       "    <tr>\n",
       "      <th>1</th>\n",
       "      <td>balcony</td>\n",
       "      <td>0.0</td>\n",
       "      <td>3.0</td>\n",
       "      <td>3.0</td>\n",
       "      <td>1.584343</td>\n",
       "      <td>2.0</td>\n",
       "      <td>0.817287</td>\n",
       "      <td>0.005966</td>\n",
       "      <td>-0.544247</td>\n",
       "    </tr>\n",
       "    <tr>\n",
       "      <th>2</th>\n",
       "      <td>price</td>\n",
       "      <td>8.0</td>\n",
       "      <td>2912.0</td>\n",
       "      <td>2904.0</td>\n",
       "      <td>106.060778</td>\n",
       "      <td>70.0</td>\n",
       "      <td>131.766089</td>\n",
       "      <td>7.875011</td>\n",
       "      <td>107.376164</td>\n",
       "    </tr>\n",
       "  </tbody>\n",
       "</table>\n",
       "</div>"
      ],
      "text/plain": [
       "  attributes  min     max   range        mean  median         std      skew  \\\n",
       "0       bath  1.0    40.0    39.0    2.617309     2.0    1.226000  4.590497   \n",
       "1    balcony  0.0     3.0     3.0    1.584343     2.0    0.817287  0.005966   \n",
       "2      price  8.0  2912.0  2904.0  106.060778    70.0  131.766089  7.875011   \n",
       "\n",
       "     kurtosis  \n",
       "0   85.455663  \n",
       "1   -0.544247  \n",
       "2  107.376164  "
      ]
     },
     "execution_count": 347,
     "metadata": {},
     "output_type": "execute_result"
    }
   ],
   "source": [
    "descriptive_statistics(num_att)"
   ]
  },
  {
   "cell_type": "markdown",
   "id": "technical-enterprise",
   "metadata": {
    "hidden": true
   },
   "source": [
    "**Note:**\n",
    "1. bath: 40 banheiros? "
   ]
  },
  {
   "cell_type": "markdown",
   "id": "binding-pipeline",
   "metadata": {
    "heading_collapsed": true,
    "hidden": true
   },
   "source": [
    "### 1.6.2. Categorical Attributes"
   ]
  },
  {
   "cell_type": "code",
   "execution_count": 348,
   "id": "light-butter",
   "metadata": {
    "ExecuteTime": {
     "end_time": "2021-08-04T23:03:37.867092Z",
     "start_time": "2021-08-04T23:03:37.783998Z"
    },
    "hidden": true
   },
   "outputs": [
    {
     "data": {
      "text/html": [
       "<div>\n",
       "<style scoped>\n",
       "    .dataframe tbody tr th:only-of-type {\n",
       "        vertical-align: middle;\n",
       "    }\n",
       "\n",
       "    .dataframe tbody tr th {\n",
       "        vertical-align: top;\n",
       "    }\n",
       "\n",
       "    .dataframe thead th {\n",
       "        text-align: right;\n",
       "    }\n",
       "</style>\n",
       "<table border=\"1\" class=\"dataframe\">\n",
       "  <thead>\n",
       "    <tr style=\"text-align: right;\">\n",
       "      <th></th>\n",
       "      <th>area_type</th>\n",
       "      <th>availability</th>\n",
       "      <th>location</th>\n",
       "      <th>size</th>\n",
       "      <th>society</th>\n",
       "      <th>total_sqft</th>\n",
       "    </tr>\n",
       "  </thead>\n",
       "  <tbody>\n",
       "    <tr>\n",
       "      <th>count</th>\n",
       "      <td>12710</td>\n",
       "      <td>12710</td>\n",
       "      <td>12710</td>\n",
       "      <td>12710</td>\n",
       "      <td>7496</td>\n",
       "      <td>12710</td>\n",
       "    </tr>\n",
       "    <tr>\n",
       "      <th>unique</th>\n",
       "      <td>4</td>\n",
       "      <td>78</td>\n",
       "      <td>1265</td>\n",
       "      <td>27</td>\n",
       "      <td>2592</td>\n",
       "      <td>1976</td>\n",
       "    </tr>\n",
       "    <tr>\n",
       "      <th>top</th>\n",
       "      <td>Super built-up  Area</td>\n",
       "      <td>Ready To Move</td>\n",
       "      <td>Whitefield</td>\n",
       "      <td>2 BHK</td>\n",
       "      <td>GrrvaGr</td>\n",
       "      <td>1200</td>\n",
       "    </tr>\n",
       "    <tr>\n",
       "      <th>freq</th>\n",
       "      <td>8481</td>\n",
       "      <td>10077</td>\n",
       "      <td>514</td>\n",
       "      <td>5152</td>\n",
       "      <td>80</td>\n",
       "      <td>788</td>\n",
       "    </tr>\n",
       "  </tbody>\n",
       "</table>\n",
       "</div>"
      ],
      "text/plain": [
       "                   area_type   availability    location   size  society  \\\n",
       "count                  12710          12710       12710  12710     7496   \n",
       "unique                     4             78        1265     27     2592   \n",
       "top     Super built-up  Area  Ready To Move  Whitefield  2 BHK  GrrvaGr   \n",
       "freq                    8481          10077         514   5152       80   \n",
       "\n",
       "       total_sqft  \n",
       "count       12710  \n",
       "unique       1976  \n",
       "top          1200  \n",
       "freq          788  "
      ]
     },
     "execution_count": 348,
     "metadata": {},
     "output_type": "execute_result"
    }
   ],
   "source": [
    "cat_att.describe(include=['object'])"
   ]
  },
  {
   "cell_type": "code",
   "execution_count": 349,
   "id": "weekly-seating",
   "metadata": {
    "ExecuteTime": {
     "end_time": "2021-08-04T23:05:00.275194Z",
     "start_time": "2021-08-04T23:05:00.265269Z"
    },
    "hidden": true
   },
   "outputs": [
    {
     "data": {
      "text/plain": [
       "Super built-up  Area    0.667270\n",
       "Built-up  Area          0.181747\n",
       "Plot  Area              0.144532\n",
       "Carpet  Area            0.006452\n",
       "Name: area_type, dtype: float64"
      ]
     },
     "execution_count": 349,
     "metadata": {},
     "output_type": "execute_result"
    }
   ],
   "source": [
    "cat_att['area_type'].value_counts(normalize=True)"
   ]
  },
  {
   "cell_type": "code",
   "execution_count": 353,
   "id": "announced-howard",
   "metadata": {
    "ExecuteTime": {
     "end_time": "2021-08-04T23:05:59.808559Z",
     "start_time": "2021-08-04T23:05:59.798727Z"
    },
    "hidden": true
   },
   "outputs": [
    {
     "data": {
      "text/plain": [
       "Ready To Move    0.792840\n",
       "18-Dec           0.022895\n",
       "18-May           0.022187\n",
       "18-Apr           0.020535\n",
       "18-Aug           0.015736\n",
       "19-Dec           0.014319\n",
       "18-Jul           0.011015\n",
       "18-Mar           0.009284\n",
       "20-Dec           0.007710\n",
       "18-Jun           0.007553\n",
       "Name: availability, dtype: float64"
      ]
     },
     "execution_count": 353,
     "metadata": {},
     "output_type": "execute_result"
    }
   ],
   "source": [
    "cat_att['availability'].value_counts(normalize=True).head(10)"
   ]
  },
  {
   "cell_type": "code",
   "execution_count": 354,
   "id": "differential-element",
   "metadata": {
    "ExecuteTime": {
     "end_time": "2021-08-04T23:06:15.701276Z",
     "start_time": "2021-08-04T23:06:15.686569Z"
    },
    "hidden": true
   },
   "outputs": [
    {
     "data": {
      "text/plain": [
       "Whitefield               0.040441\n",
       "Sarjapur  Road           0.029268\n",
       "Electronic City          0.023603\n",
       "Kanakpura Road           0.020535\n",
       "Thanisandra              0.018175\n",
       "Yelahanka                0.016208\n",
       "Uttarahalli              0.014634\n",
       "Hebbal                   0.013611\n",
       "Raja Rajeshwari Nagar    0.013218\n",
       "Marathahalli             0.012903\n",
       "Name: location, dtype: float64"
      ]
     },
     "execution_count": 354,
     "metadata": {},
     "output_type": "execute_result"
    }
   ],
   "source": [
    "cat_att['location'].value_counts(normalize=True).head(10)"
   ]
  },
  {
   "cell_type": "code",
   "execution_count": 355,
   "id": "distinguished-planet",
   "metadata": {
    "ExecuteTime": {
     "end_time": "2021-08-04T23:06:41.992694Z",
     "start_time": "2021-08-04T23:06:41.983195Z"
    },
    "hidden": true
   },
   "outputs": [
    {
     "data": {
      "text/plain": [
       "2 BHK        0.405350\n",
       "3 BHK        0.324784\n",
       "4 Bedroom    0.058930\n",
       "1 BHK        0.041699\n",
       "3 Bedroom    0.041463\n",
       "4 BHK        0.038474\n",
       "2 Bedroom    0.025806\n",
       "5 Bedroom    0.020692\n",
       "6 Bedroom    0.013297\n",
       "1 Bedroom    0.008261\n",
       "Name: size, dtype: float64"
      ]
     },
     "execution_count": 355,
     "metadata": {},
     "output_type": "execute_result"
    }
   ],
   "source": [
    "cat_att['size'].value_counts(normalize=True).head(10)"
   ]
  },
  {
   "cell_type": "code",
   "execution_count": 364,
   "id": "active-basic",
   "metadata": {
    "ExecuteTime": {
     "end_time": "2021-08-04T23:09:10.489712Z",
     "start_time": "2021-08-04T23:09:10.453267Z"
    },
    "hidden": true
   },
   "outputs": [
    {
     "data": {
      "text/plain": [
       "272"
      ]
     },
     "execution_count": 364,
     "metadata": {},
     "output_type": "execute_result"
    }
   ],
   "source": [
    "dirt = df1.loc[~df1['total_sqft'].apply(lambda x: bool(re.search(   '^([0-9]+)$', x    ))), 'total_sqft']\n",
    "\n",
    "len(dirt)"
   ]
  },
  {
   "cell_type": "code",
   "execution_count": 367,
   "id": "fossil-novelty",
   "metadata": {
    "ExecuteTime": {
     "end_time": "2021-08-04T23:10:02.571897Z",
     "start_time": "2021-08-04T23:10:02.567054Z"
    },
    "hidden": true
   },
   "outputs": [
    {
     "data": {
      "text/plain": [
       "['2100 - 2850',\n",
       " '1330.74',\n",
       " '3067 - 8156',\n",
       " '1042 - 1105',\n",
       " '1563.05',\n",
       " '1145 - 1340',\n",
       " '1015 - 1540',\n",
       " '2023.71',\n",
       " '1113.27',\n",
       " '34.46Sq. Meter']"
      ]
     },
     "execution_count": 367,
     "metadata": {},
     "output_type": "execute_result"
    }
   ],
   "source": [
    "dirt.tolist()[:10]"
   ]
  },
  {
   "cell_type": "markdown",
   "id": "buried-landscape",
   "metadata": {
    "hidden": true
   },
   "source": [
    "**Note**:\n",
    "\n",
    "1. availability: coluna categoricas 78 variavéis categoricas (Ready To Move 79 %)\n",
    "2. location - capturar lat e long e deletar variavel.\n",
    "3. size: Limpar variavel e transformar em inteira.\n",
    "4. society: remover, pouca informação.\n",
    "5. total_sqft: 272 itens que não são somente números."
   ]
  },
  {
   "cell_type": "markdown",
   "id": "logical-retention",
   "metadata": {
    "heading_collapsed": true
   },
   "source": [
    "# 2.0. Feature Engineering"
   ]
  },
  {
   "cell_type": "code",
   "execution_count": 370,
   "id": "together-bermuda",
   "metadata": {
    "ExecuteTime": {
     "end_time": "2021-08-04T23:30:39.951694Z",
     "start_time": "2021-08-04T23:30:39.944336Z"
    },
    "hidden": true
   },
   "outputs": [],
   "source": [
    "# df2 = df1.copy()"
   ]
  },
  {
   "cell_type": "markdown",
   "id": "excited-helping",
   "metadata": {
    "hidden": true
   },
   "source": [
    "## 2.1. Feature Creation"
   ]
  },
  {
   "cell_type": "code",
   "execution_count": 392,
   "id": "impressive-sculpture",
   "metadata": {
    "ExecuteTime": {
     "end_time": "2021-08-05T10:52:40.997991Z",
     "start_time": "2021-08-05T10:52:40.966490Z"
    },
    "hidden": true
   },
   "outputs": [],
   "source": [
    "# %%time \n",
    "\n",
    "# location -> lat and lon\n",
    "\n",
    "# geolocator = Nominatim(user_agent=\"geoapiExercises\")\n",
    "\n",
    "# def location_lat(x):\n",
    "#     if geolocator.geocode(x, timeout=None):\n",
    "#         return geolocator.geocode(x, timeout=None).raw['lat']\n",
    "#     else: \n",
    "#         return x\n",
    "\n",
    "# df2['lat'] = df2['location'].apply(location_lat)\n",
    "\n",
    "# def location_lon(x):\n",
    "#     if geolocator.geocode(x, timeout=None):\n",
    "#         return geolocator.geocode(x, timeout=None).raw['lon']\n",
    "#     else: \n",
    "#         return x\n",
    "\n",
    "# df2['lon'] = df2['location'].apply(location_lon)\n",
    "\n",
    "# df2.to_csv('bengaluru_house_data_lat_lon.csv', index=False)\n",
    "\n",
    "df2 = pd.read_csv('../data/bengaluru_house_data_lat_lon.csv')"
   ]
  },
  {
   "cell_type": "code",
   "execution_count": 405,
   "id": "related-kruger",
   "metadata": {
    "ExecuteTime": {
     "end_time": "2021-08-05T10:57:21.021836Z",
     "start_time": "2021-08-05T10:57:21.005564Z"
    },
    "hidden": true
   },
   "outputs": [],
   "source": [
    "# size -> qt_bedroom\n",
    "\n",
    "df2['qt_bedroom'] = df2['size'].apply(lambda x: str(x).split()[0]).astype(int)"
   ]
  },
  {
   "cell_type": "markdown",
   "id": "excess-council",
   "metadata": {
    "heading_collapsed": true
   },
   "source": [
    "# 3.0. Data Filtering"
   ]
  },
  {
   "cell_type": "code",
   "execution_count": 414,
   "id": "bored-reason",
   "metadata": {
    "ExecuteTime": {
     "end_time": "2021-08-05T11:00:39.191868Z",
     "start_time": "2021-08-05T11:00:39.188331Z"
    },
    "hidden": true
   },
   "outputs": [],
   "source": [
    "df3 = df2.copy()"
   ]
  },
  {
   "cell_type": "markdown",
   "id": "becoming-trade",
   "metadata": {
    "heading_collapsed": true,
    "hidden": true
   },
   "source": [
    "## 3.1. Filter Rows"
   ]
  },
  {
   "cell_type": "code",
   "execution_count": 415,
   "id": "spanish-conference",
   "metadata": {
    "ExecuteTime": {
     "end_time": "2021-08-05T11:00:39.831306Z",
     "start_time": "2021-08-05T11:00:39.703989Z"
    },
    "hidden": true
   },
   "outputs": [],
   "source": [
    "# lat and lon\n",
    "df3_lat_dirt = df3.loc[~df3['lat'].apply(lambda x: bool(re.search('^[0-9-][0-9][\\.]+', x))), :]\n",
    "df3_lon_dirt = df3.loc[~df3['lon'].apply(lambda x: bool(re.search('^[0-9-][0-9][\\.]+', x))), :]\n",
    "\n",
    "df3['lat'] = df3.loc[df3['lat'].apply(lambda x: bool(re.search('^[0-9-][0-9][\\.]+', x))), 'lat'].astype(float)\n",
    "df3['lon'] = df3.loc[df3['lon'].apply(lambda x: bool(re.search('^[0-9-][0-9][\\.]+', x))), 'lon'].astype(float)"
   ]
  },
  {
   "cell_type": "code",
   "execution_count": 416,
   "id": "advance-madagascar",
   "metadata": {
    "ExecuteTime": {
     "end_time": "2021-08-05T11:00:39.900298Z",
     "start_time": "2021-08-05T11:00:39.863714Z"
    },
    "hidden": true
   },
   "outputs": [],
   "source": [
    "# total_sqft_dirt = \n",
    "df3_total_sqft_dirt = df3.loc[~df3['total_sqft'].apply(lambda x: bool(re.search(r'^([\\s\\d]+)$', x))), :]"
   ]
  },
  {
   "cell_type": "code",
   "execution_count": 417,
   "id": "cardiac-victory",
   "metadata": {
    "ExecuteTime": {
     "end_time": "2021-08-05T11:00:40.118994Z",
     "start_time": "2021-08-05T11:00:40.044443Z"
    },
    "hidden": true
   },
   "outputs": [],
   "source": [
    "# total_sqft\n",
    "df3_total_sqft_dirt = df3.loc[~df3['total_sqft'].apply(lambda x: bool(re.search(r'^([\\s\\d]+)$', x)) ), :]\n",
    "\n",
    "df3['total_sqft'] = df3.loc[df3['total_sqft'].apply(lambda x: bool(re.search(r'^([\\s\\d]+)$', x))), 'total_sqft'].astype(int)"
   ]
  },
  {
   "cell_type": "markdown",
   "id": "automotive-facial",
   "metadata": {
    "hidden": true
   },
   "source": [
    "## 3.2. Filter Columns"
   ]
  },
  {
   "cell_type": "code",
   "execution_count": 418,
   "id": "visible-freight",
   "metadata": {
    "ExecuteTime": {
     "end_time": "2021-08-05T11:00:40.778526Z",
     "start_time": "2021-08-05T11:00:40.752756Z"
    },
    "hidden": true
   },
   "outputs": [
    {
     "data": {
      "text/html": [
       "<div>\n",
       "<style scoped>\n",
       "    .dataframe tbody tr th:only-of-type {\n",
       "        vertical-align: middle;\n",
       "    }\n",
       "\n",
       "    .dataframe tbody tr th {\n",
       "        vertical-align: top;\n",
       "    }\n",
       "\n",
       "    .dataframe thead th {\n",
       "        text-align: right;\n",
       "    }\n",
       "</style>\n",
       "<table border=\"1\" class=\"dataframe\">\n",
       "  <thead>\n",
       "    <tr style=\"text-align: right;\">\n",
       "      <th></th>\n",
       "      <th>area_type</th>\n",
       "      <th>availability</th>\n",
       "      <th>location</th>\n",
       "      <th>size</th>\n",
       "      <th>society</th>\n",
       "      <th>total_sqft</th>\n",
       "      <th>bath</th>\n",
       "      <th>balcony</th>\n",
       "      <th>price</th>\n",
       "      <th>lat</th>\n",
       "      <th>lon</th>\n",
       "      <th>qt_bedroom</th>\n",
       "    </tr>\n",
       "  </thead>\n",
       "  <tbody>\n",
       "    <tr>\n",
       "      <th>0</th>\n",
       "      <td>Super built-up  Area</td>\n",
       "      <td>19-Dec</td>\n",
       "      <td>Electronic City Phase II</td>\n",
       "      <td>2 BHK</td>\n",
       "      <td>Coomee</td>\n",
       "      <td>1056.0</td>\n",
       "      <td>2.0</td>\n",
       "      <td>1.0</td>\n",
       "      <td>39.07</td>\n",
       "      <td>12.846854</td>\n",
       "      <td>77.676927</td>\n",
       "      <td>2</td>\n",
       "    </tr>\n",
       "    <tr>\n",
       "      <th>1</th>\n",
       "      <td>Plot  Area</td>\n",
       "      <td>Ready To Move</td>\n",
       "      <td>Chikka Tirupathi</td>\n",
       "      <td>4 Bedroom</td>\n",
       "      <td>Theanmp</td>\n",
       "      <td>2600.0</td>\n",
       "      <td>5.0</td>\n",
       "      <td>3.0</td>\n",
       "      <td>120.00</td>\n",
       "      <td>12.895768</td>\n",
       "      <td>77.867101</td>\n",
       "      <td>4</td>\n",
       "    </tr>\n",
       "    <tr>\n",
       "      <th>2</th>\n",
       "      <td>Built-up  Area</td>\n",
       "      <td>Ready To Move</td>\n",
       "      <td>Uttarahalli</td>\n",
       "      <td>3 BHK</td>\n",
       "      <td>NaN</td>\n",
       "      <td>1440.0</td>\n",
       "      <td>2.0</td>\n",
       "      <td>3.0</td>\n",
       "      <td>62.00</td>\n",
       "      <td>12.905568</td>\n",
       "      <td>77.545544</td>\n",
       "      <td>3</td>\n",
       "    </tr>\n",
       "    <tr>\n",
       "      <th>3</th>\n",
       "      <td>Super built-up  Area</td>\n",
       "      <td>Ready To Move</td>\n",
       "      <td>Lingadheeranahalli</td>\n",
       "      <td>3 BHK</td>\n",
       "      <td>Soiewre</td>\n",
       "      <td>1521.0</td>\n",
       "      <td>3.0</td>\n",
       "      <td>1.0</td>\n",
       "      <td>95.00</td>\n",
       "      <td>NaN</td>\n",
       "      <td>NaN</td>\n",
       "      <td>3</td>\n",
       "    </tr>\n",
       "    <tr>\n",
       "      <th>4</th>\n",
       "      <td>Super built-up  Area</td>\n",
       "      <td>Ready To Move</td>\n",
       "      <td>Kothanur</td>\n",
       "      <td>2 BHK</td>\n",
       "      <td>NaN</td>\n",
       "      <td>1200.0</td>\n",
       "      <td>2.0</td>\n",
       "      <td>1.0</td>\n",
       "      <td>51.00</td>\n",
       "      <td>12.580537</td>\n",
       "      <td>77.333067</td>\n",
       "      <td>2</td>\n",
       "    </tr>\n",
       "  </tbody>\n",
       "</table>\n",
       "</div>"
      ],
      "text/plain": [
       "              area_type   availability                  location       size  \\\n",
       "0  Super built-up  Area         19-Dec  Electronic City Phase II      2 BHK   \n",
       "1            Plot  Area  Ready To Move          Chikka Tirupathi  4 Bedroom   \n",
       "2        Built-up  Area  Ready To Move               Uttarahalli      3 BHK   \n",
       "3  Super built-up  Area  Ready To Move        Lingadheeranahalli      3 BHK   \n",
       "4  Super built-up  Area  Ready To Move                  Kothanur      2 BHK   \n",
       "\n",
       "   society  total_sqft  bath  balcony   price        lat        lon  \\\n",
       "0  Coomee       1056.0   2.0      1.0   39.07  12.846854  77.676927   \n",
       "1  Theanmp      2600.0   5.0      3.0  120.00  12.895768  77.867101   \n",
       "2      NaN      1440.0   2.0      3.0   62.00  12.905568  77.545544   \n",
       "3  Soiewre      1521.0   3.0      1.0   95.00        NaN        NaN   \n",
       "4      NaN      1200.0   2.0      1.0   51.00  12.580537  77.333067   \n",
       "\n",
       "   qt_bedroom  \n",
       "0           2  \n",
       "1           4  \n",
       "2           3  \n",
       "3           3  \n",
       "4           2  "
      ]
     },
     "execution_count": 418,
     "metadata": {},
     "output_type": "execute_result"
    }
   ],
   "source": [
    "df3.head()"
   ]
  },
  {
   "cell_type": "code",
   "execution_count": 419,
   "id": "higher-lewis",
   "metadata": {
    "ExecuteTime": {
     "end_time": "2021-08-05T11:00:43.788127Z",
     "start_time": "2021-08-05T11:00:43.775532Z"
    },
    "hidden": true
   },
   "outputs": [],
   "source": [
    "drop_cols = ['location', 'society', 'size']\n",
    "df3 = df3.drop(drop_cols, axis=1)\n",
    "df3.isna().mean()"
   ]
  },
  {
   "cell_type": "code",
   "execution_count": 421,
   "id": "tamil-escape",
   "metadata": {
    "ExecuteTime": {
     "end_time": "2021-08-05T11:01:49.562821Z",
     "start_time": "2021-08-05T11:01:49.548493Z"
    },
    "hidden": true
   },
   "outputs": [
    {
     "data": {
      "text/plain": [
       "area_type       0.000000\n",
       "availability    0.000000\n",
       "total_sqft      0.021400\n",
       "bath            0.000000\n",
       "balcony         0.000000\n",
       "price           0.000000\n",
       "lat             0.112274\n",
       "lon             0.189142\n",
       "qt_bedroom      0.000000\n",
       "dtype: float64"
      ]
     },
     "execution_count": 421,
     "metadata": {},
     "output_type": "execute_result"
    }
   ],
   "source": [
    "df3.isna().mean()"
   ]
  },
  {
   "cell_type": "code",
   "execution_count": 422,
   "id": "copyrighted-southwest",
   "metadata": {
    "ExecuteTime": {
     "end_time": "2021-08-05T11:01:49.761557Z",
     "start_time": "2021-08-05T11:01:49.736182Z"
    },
    "hidden": true
   },
   "outputs": [
    {
     "data": {
      "text/plain": [
       "area_type       0.0\n",
       "availability    0.0\n",
       "total_sqft      0.0\n",
       "bath            0.0\n",
       "balcony         0.0\n",
       "price           0.0\n",
       "lat             0.0\n",
       "lon             0.0\n",
       "qt_bedroom      0.0\n",
       "dtype: float64"
      ]
     },
     "execution_count": 422,
     "metadata": {},
     "output_type": "execute_result"
    }
   ],
   "source": [
    "df3 = df3.dropna()\n",
    "df3.isna().mean()"
   ]
  },
  {
   "cell_type": "code",
   "execution_count": 449,
   "id": "elegant-granny",
   "metadata": {
    "ExecuteTime": {
     "end_time": "2021-08-05T11:08:46.448590Z",
     "start_time": "2021-08-05T11:08:46.443218Z"
    },
    "hidden": true
   },
   "outputs": [
    {
     "data": {
      "text/plain": [
       "24.53"
      ]
     },
     "execution_count": 449,
     "metadata": {},
     "output_type": "execute_result"
    }
   ],
   "source": [
    "round((1 - (df3.shape[0] / df_raw.shape[0])) * 100, 2)"
   ]
  },
  {
   "cell_type": "markdown",
   "id": "atlantic-encyclopedia",
   "metadata": {
    "heading_collapsed": true
   },
   "source": [
    "# 4.0. EDA"
   ]
  },
  {
   "cell_type": "code",
   "execution_count": 424,
   "id": "respiratory-madagascar",
   "metadata": {
    "ExecuteTime": {
     "end_time": "2021-08-05T11:02:23.921445Z",
     "start_time": "2021-08-05T11:02:23.917871Z"
    },
    "hidden": true
   },
   "outputs": [],
   "source": [
    "df4 = df3.copy()"
   ]
  },
  {
   "cell_type": "markdown",
   "id": "turkish-distribution",
   "metadata": {
    "heading_collapsed": true
   },
   "source": [
    "# 5.0. Data Preparation"
   ]
  },
  {
   "cell_type": "code",
   "execution_count": 425,
   "id": "fluid-grant",
   "metadata": {
    "ExecuteTime": {
     "end_time": "2021-08-05T11:02:24.665762Z",
     "start_time": "2021-08-05T11:02:24.662623Z"
    },
    "hidden": true
   },
   "outputs": [],
   "source": [
    "df5 = df4.copy()"
   ]
  },
  {
   "cell_type": "markdown",
   "id": "heavy-leadership",
   "metadata": {
    "heading_collapsed": true,
    "hidden": true
   },
   "source": [
    "## 5.1. Standardization"
   ]
  },
  {
   "cell_type": "markdown",
   "id": "bored-spokesman",
   "metadata": {
    "hidden": true
   },
   "source": [
    "## 5.2. Rescaling"
   ]
  },
  {
   "cell_type": "markdown",
   "id": "mineral-dublin",
   "metadata": {
    "heading_collapsed": true,
    "hidden": true
   },
   "source": [
    "## 5.3. Encoding\n",
    "\n"
   ]
  },
  {
   "cell_type": "code",
   "execution_count": 427,
   "id": "ongoing-stick",
   "metadata": {
    "ExecuteTime": {
     "end_time": "2021-08-05T11:02:46.322599Z",
     "start_time": "2021-08-05T11:02:46.300887Z"
    },
    "hidden": true
   },
   "outputs": [
    {
     "name": "stderr",
     "output_type": "stream",
     "text": [
      "/home/cid/.pyenv/versions/3.8.0/envs/local/lib/python3.8/site-packages/sklearn/utils/validation.py:63: DataConversionWarning: A column-vector y was passed when a 1d array was expected. Please change the shape of y to (n_samples, ), for example using ravel().\n",
      "  return f(*args, **kwargs)\n"
     ]
    }
   ],
   "source": [
    "le = pp.LabelEncoder()\n",
    "df5['area_type'] = le.fit_transform(df5[['area_type']])\n",
    "df5['availability'] = le.fit_transform(df5[['availability']])"
   ]
  },
  {
   "cell_type": "code",
   "execution_count": 428,
   "id": "analyzed-approval",
   "metadata": {
    "ExecuteTime": {
     "end_time": "2021-08-05T11:02:47.014184Z",
     "start_time": "2021-08-05T11:02:46.985167Z"
    },
    "hidden": true
   },
   "outputs": [
    {
     "data": {
      "text/html": [
       "<div>\n",
       "<style scoped>\n",
       "    .dataframe tbody tr th:only-of-type {\n",
       "        vertical-align: middle;\n",
       "    }\n",
       "\n",
       "    .dataframe tbody tr th {\n",
       "        vertical-align: top;\n",
       "    }\n",
       "\n",
       "    .dataframe thead th {\n",
       "        text-align: right;\n",
       "    }\n",
       "</style>\n",
       "<table border=\"1\" class=\"dataframe\">\n",
       "  <thead>\n",
       "    <tr style=\"text-align: right;\">\n",
       "      <th></th>\n",
       "      <th>area_type</th>\n",
       "      <th>availability</th>\n",
       "      <th>total_sqft</th>\n",
       "      <th>bath</th>\n",
       "      <th>balcony</th>\n",
       "      <th>price</th>\n",
       "      <th>lat</th>\n",
       "      <th>lon</th>\n",
       "      <th>qt_bedroom</th>\n",
       "    </tr>\n",
       "  </thead>\n",
       "  <tbody>\n",
       "    <tr>\n",
       "      <th>0</th>\n",
       "      <td>3</td>\n",
       "      <td>37</td>\n",
       "      <td>1056.0</td>\n",
       "      <td>2.0</td>\n",
       "      <td>1.0</td>\n",
       "      <td>39.07</td>\n",
       "      <td>12.846854</td>\n",
       "      <td>77.676927</td>\n",
       "      <td>2</td>\n",
       "    </tr>\n",
       "    <tr>\n",
       "      <th>1</th>\n",
       "      <td>2</td>\n",
       "      <td>74</td>\n",
       "      <td>2600.0</td>\n",
       "      <td>5.0</td>\n",
       "      <td>3.0</td>\n",
       "      <td>120.00</td>\n",
       "      <td>12.895768</td>\n",
       "      <td>77.867101</td>\n",
       "      <td>4</td>\n",
       "    </tr>\n",
       "    <tr>\n",
       "      <th>2</th>\n",
       "      <td>0</td>\n",
       "      <td>74</td>\n",
       "      <td>1440.0</td>\n",
       "      <td>2.0</td>\n",
       "      <td>3.0</td>\n",
       "      <td>62.00</td>\n",
       "      <td>12.905568</td>\n",
       "      <td>77.545544</td>\n",
       "      <td>3</td>\n",
       "    </tr>\n",
       "    <tr>\n",
       "      <th>4</th>\n",
       "      <td>3</td>\n",
       "      <td>74</td>\n",
       "      <td>1200.0</td>\n",
       "      <td>2.0</td>\n",
       "      <td>1.0</td>\n",
       "      <td>51.00</td>\n",
       "      <td>12.580537</td>\n",
       "      <td>77.333067</td>\n",
       "      <td>2</td>\n",
       "    </tr>\n",
       "    <tr>\n",
       "      <th>6</th>\n",
       "      <td>3</td>\n",
       "      <td>74</td>\n",
       "      <td>1310.0</td>\n",
       "      <td>3.0</td>\n",
       "      <td>1.0</td>\n",
       "      <td>63.25</td>\n",
       "      <td>12.955257</td>\n",
       "      <td>77.698416</td>\n",
       "      <td>3</td>\n",
       "    </tr>\n",
       "  </tbody>\n",
       "</table>\n",
       "</div>"
      ],
      "text/plain": [
       "   area_type  availability  total_sqft  bath  balcony   price        lat  \\\n",
       "0          3            37      1056.0   2.0      1.0   39.07  12.846854   \n",
       "1          2            74      2600.0   5.0      3.0  120.00  12.895768   \n",
       "2          0            74      1440.0   2.0      3.0   62.00  12.905568   \n",
       "4          3            74      1200.0   2.0      1.0   51.00  12.580537   \n",
       "6          3            74      1310.0   3.0      1.0   63.25  12.955257   \n",
       "\n",
       "         lon  qt_bedroom  \n",
       "0  77.676927           2  \n",
       "1  77.867101           4  \n",
       "2  77.545544           3  \n",
       "4  77.333067           2  \n",
       "6  77.698416           3  "
      ]
     },
     "execution_count": 428,
     "metadata": {},
     "output_type": "execute_result"
    }
   ],
   "source": [
    "df5.head()"
   ]
  },
  {
   "cell_type": "markdown",
   "id": "pacific-argentina",
   "metadata": {
    "heading_collapsed": true
   },
   "source": [
    "# 6.0. Feature Selection"
   ]
  },
  {
   "cell_type": "code",
   "execution_count": 437,
   "id": "fabulous-semester",
   "metadata": {
    "ExecuteTime": {
     "end_time": "2021-08-05T11:05:19.578514Z",
     "start_time": "2021-08-05T11:05:19.574429Z"
    },
    "hidden": true
   },
   "outputs": [],
   "source": [
    "df6 = df5.copy()"
   ]
  },
  {
   "cell_type": "code",
   "execution_count": 438,
   "id": "overall-initial",
   "metadata": {
    "ExecuteTime": {
     "end_time": "2021-08-05T11:05:19.828598Z",
     "start_time": "2021-08-05T11:05:19.815640Z"
    },
    "hidden": true
   },
   "outputs": [],
   "source": [
    "X = df5.drop(['price',], axis=1)\n",
    "y = df5['price'].copy()\n",
    "\n",
    "x_train, x_val, y_train, y_val = ms.train_test_split(X, y, test_size=0.2, random_state=42)"
   ]
  },
  {
   "cell_type": "markdown",
   "id": "southeast-processing",
   "metadata": {
    "heading_collapsed": true
   },
   "source": [
    "# 7.0. Model Training"
   ]
  },
  {
   "cell_type": "code",
   "execution_count": null,
   "id": "pacific-monster",
   "metadata": {
    "hidden": true
   },
   "outputs": [],
   "source": []
  },
  {
   "cell_type": "markdown",
   "id": "satisfactory-consideration",
   "metadata": {
    "heading_collapsed": true,
    "hidden": true
   },
   "source": [
    "## 7.1. Average Model"
   ]
  },
  {
   "cell_type": "code",
   "execution_count": 439,
   "id": "fantastic-mathematics",
   "metadata": {
    "ExecuteTime": {
     "end_time": "2021-08-05T11:05:21.270996Z",
     "start_time": "2021-08-05T11:05:21.257255Z"
    },
    "hidden": true
   },
   "outputs": [
    {
     "name": "stdout",
     "output_type": "stream",
     "text": [
      "MAE: 66.74150511881209 | MAPE: 0.8464271363888621 | RMSE: 134.87690120642173\n"
     ]
    }
   ],
   "source": [
    "# model definition and fit\n",
    "model_baseline = dummy.DummyRegressor(strategy='mean').fit(x_train, y_train)\n",
    "\n",
    "# model predict\n",
    "yhat_baseline = model_baseline.predict(x_val)\n",
    "\n",
    "# model perfomance\n",
    "mae = metrics.mean_absolute_error(y_val, yhat_baseline)\n",
    "mape = metrics.mean_absolute_percentage_error(y_val, yhat_baseline)\n",
    "rmse = np.sqrt(metrics.mean_squared_error(y_val, yhat_baseline))\n",
    "\n",
    "print('MAE: {} | MAPE: {} | RMSE: {}'.format(mae, mape, rmse))"
   ]
  },
  {
   "cell_type": "code",
   "execution_count": 440,
   "id": "changed-melissa",
   "metadata": {
    "ExecuteTime": {
     "end_time": "2021-08-05T11:05:21.804174Z",
     "start_time": "2021-08-05T11:05:21.801153Z"
    },
    "hidden": true
   },
   "outputs": [],
   "source": [
    "# MAE: 69.18655009838794 | MAPE: 0.9189057519989557 | RMSE: 130.53405853555498"
   ]
  },
  {
   "cell_type": "markdown",
   "id": "worse-exercise",
   "metadata": {
    "heading_collapsed": true,
    "hidden": true
   },
   "source": [
    "## 7.2. Linear Regression Model"
   ]
  },
  {
   "cell_type": "code",
   "execution_count": 441,
   "id": "parental-brave",
   "metadata": {
    "ExecuteTime": {
     "end_time": "2021-08-05T11:05:25.640879Z",
     "start_time": "2021-08-05T11:05:25.622772Z"
    },
    "hidden": true
   },
   "outputs": [
    {
     "name": "stdout",
     "output_type": "stream",
     "text": [
      "MAE: 43.14026377555565 | MAPE: 0.4230519670345765 | RMSE: 121.40008663415217\n"
     ]
    }
   ],
   "source": [
    "# model definition and fit\n",
    "model_lr = lm.LinearRegression().fit(x_train, y_train)\n",
    "\n",
    "# model predict\n",
    "yhat_lr = model_lr.predict(x_val)\n",
    "\n",
    "# model perfomance\n",
    "mae = metrics.mean_absolute_error(y_val, yhat_lr)\n",
    "mape = metrics.mean_absolute_percentage_error(y_val, yhat_lr)\n",
    "rmse = np.sqrt(metrics.mean_squared_error(y_val, yhat_lr))\n",
    "\n",
    "print('MAE: {} | MAPE: {} | RMSE: {}'.format(mae, mape, rmse))"
   ]
  },
  {
   "cell_type": "code",
   "execution_count": 433,
   "id": "metric-buffer",
   "metadata": {
    "ExecuteTime": {
     "end_time": "2021-08-05T11:03:35.064586Z",
     "start_time": "2021-08-05T11:03:35.062008Z"
    },
    "hidden": true
   },
   "outputs": [],
   "source": [
    "# MAE: 51.39237039425772 | MAPE: 0.5167872441161455 | RMSE: 113.84866787174654"
   ]
  },
  {
   "cell_type": "markdown",
   "id": "binding-export",
   "metadata": {
    "heading_collapsed": true,
    "hidden": true
   },
   "source": [
    "## 7.3. Random Forest Model"
   ]
  },
  {
   "cell_type": "code",
   "execution_count": 442,
   "id": "aging-cursor",
   "metadata": {
    "ExecuteTime": {
     "end_time": "2021-08-05T11:05:39.433509Z",
     "start_time": "2021-08-05T11:05:37.188807Z"
    },
    "hidden": true
   },
   "outputs": [
    {
     "name": "stdout",
     "output_type": "stream",
     "text": [
      "MAE: 29.132230679434105 | MAPE: 0.25975983068544 | RMSE: 80.2922239930206\n"
     ]
    }
   ],
   "source": [
    "# model definition and fit\n",
    "model_rf = en.RandomForestRegressor().fit(x_train, y_train)\n",
    "\n",
    "# model predict\n",
    "yhat_rf = model_rf.predict(x_val)\n",
    "\n",
    "# model perfomance\n",
    "mae = metrics.mean_absolute_error(y_val, yhat_rf)\n",
    "mape = metrics.mean_absolute_percentage_error(y_val, yhat_rf) \n",
    "rmse = np.sqrt(metrics.mean_squared_error(y_val, yhat_rf))\n",
    "\n",
    "print('MAE: {} | MAPE: {} | RMSE: {}'.format(mae, mape, rmse))"
   ]
  },
  {
   "cell_type": "code",
   "execution_count": 435,
   "id": "tamil-offer",
   "metadata": {
    "ExecuteTime": {
     "end_time": "2021-08-05T11:03:59.142223Z",
     "start_time": "2021-08-05T11:03:59.139164Z"
    },
    "hidden": true
   },
   "outputs": [],
   "source": [
    "# MAE: 39.84512783025325 | MAPE: 0.357494658863791 | RMSE: 103.6417705071636"
   ]
  },
  {
   "cell_type": "markdown",
   "id": "nearby-talent",
   "metadata": {},
   "source": [
    "# 8.0. Hyperparameter Fine Tuning"
   ]
  },
  {
   "cell_type": "markdown",
   "id": "consecutive-neutral",
   "metadata": {},
   "source": [
    "# 9.0. Model Perfomance"
   ]
  },
  {
   "cell_type": "markdown",
   "id": "transparent-disco",
   "metadata": {},
   "source": [
    "# 10.0. Deploy to Product"
   ]
  }
 ],
 "metadata": {
  "kernelspec": {
   "display_name": "Python 3",
   "language": "python",
   "name": "python3"
  },
  "language_info": {
   "codemirror_mode": {
    "name": "ipython",
    "version": 3
   },
   "file_extension": ".py",
   "mimetype": "text/x-python",
   "name": "python",
   "nbconvert_exporter": "python",
   "pygments_lexer": "ipython3",
   "version": "3.8.0"
  }
 },
 "nbformat": 4,
 "nbformat_minor": 5
}
